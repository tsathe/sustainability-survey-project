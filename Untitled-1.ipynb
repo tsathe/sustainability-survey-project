{
 "cells": [
  {
   "cell_type": "markdown",
   "metadata": {},
   "source": [
    "Import Necessary Libraries"
   ]
  },
  {
   "cell_type": "code",
   "execution_count": 604,
   "metadata": {},
   "outputs": [],
   "source": [
    "import pandas as pd\n",
    "import plotly.express as px\n",
    "import sklearn\n",
    "from factor_analyzer import FactorAnalyzer\n",
    "from factor_analyzer.factor_analyzer import calculate_bartlett_sphericity\n",
    "from factor_analyzer.factor_analyzer import calculate_kmo\n",
    "\n",
    "from sklearn.cluster import KMeans\n",
    "from sklearn.preprocessing import StandardScaler\n",
    "import matplotlib.pyplot as plt\n",
    "\n",
    "from sklearn.preprocessing import StandardScaler\n",
    "from sklearn.cluster import KMeans\n",
    "from sklearn.metrics import silhouette_score\n",
    "import matplotlib.pyplot as plt\n",
    "import numpy as np\n",
    "\n",
    "\n",
    "from scipy.stats import f_oneway\n",
    "import numpy as np"
   ]
  },
  {
   "cell_type": "markdown",
   "metadata": {},
   "source": [
    "Data Preparation and Cleaning"
   ]
  },
  {
   "cell_type": "code",
   "execution_count": 605,
   "metadata": {},
   "outputs": [],
   "source": [
    "## Read in the data. We conducted a survey that asked people about their attitudes towards sustainability.\n",
    "## Some of the questions are Likert Scale Questions that have both numerical and text responses\n",
    "## The data is downloaded from Qualtrics so here we will provide two files\n",
    "## 'rawdata_choice.csv' is the raw data file that contains the text responses\n",
    "## 'rawdata_numbers.csv' is the raw data file that contains the numerical responses\n",
    "## We will merge these two files together into one dataframe\n",
    "\n",
    "df_choice = pd.read_csv('rawdata_choice.csv')\n",
    "df_numbers = pd.read_csv('rawdata_numbers.csv')"
   ]
  },
  {
   "cell_type": "code",
   "execution_count": 606,
   "metadata": {},
   "outputs": [],
   "source": [
    "## For each dataframe, the column names are question ID. The first index is the question text.\n",
    "## Let us map each question ID to question text where the key is the question ID and the value is the question text\n",
    "\n",
    "question_dict = {}\n",
    "\n",
    "for col in df_choice.columns:\n",
    "    question_dict[col] = df_choice[col][0]"
   ]
  },
  {
   "cell_type": "code",
   "execution_count": 607,
   "metadata": {},
   "outputs": [],
   "source": [
    "## Import CSV mapping institutions to regions and containing sample size for each institution\n",
    "## This was manually provided to us\n",
    "df_institutions = pd.read_csv('institution_map.csv')\n",
    "\n",
    "## Classify sample size as an integer\n",
    "df_institutions['sample_size'] = df_institutions['sample_size'].astype(int)"
   ]
  },
  {
   "cell_type": "code",
   "execution_count": 608,
   "metadata": {},
   "outputs": [],
   "source": [
    "# Merge institution data into both dataframes using the distribution column\n",
    "\n",
    "df_choice = pd.merge(df_choice, df_institutions, on='distribution')\n",
    "df_numbers = pd.merge(df_numbers, df_institutions, on='distribution')"
   ]
  },
  {
   "cell_type": "code",
   "execution_count": 609,
   "metadata": {},
   "outputs": [],
   "source": [
    "## Import CSV mapping questions to full question text and category for factor analysis\n",
    "## We are creating this map for easier to use columns later on\n",
    "df_questions = pd.read_csv('question_map.csv')\n",
    "df_questions['display_name'] = df_questions['question_category'] + '_' + df_questions['question_keyword']"
   ]
  },
  {
   "cell_type": "code",
   "execution_count": 610,
   "metadata": {},
   "outputs": [],
   "source": [
    "## Return a subset of df_questions if df_questions['display_name'] contains one of a list of strings\n",
    "def subset_questions(df, strings):\n",
    "    return df[df['display_name'].str.contains('|'.join(strings), na=False)]['display_name'].to_list()\n",
    "\n",
    "## Let's first capture only the Likert columns to convert them to ints (not including response_id or distribution)\n",
    "likert_only = subset_questions(df_questions, ['attitude', 'education', 'barriers', 'willingness', 'incentive'])\n",
    "\n",
    "## Now we will capture likert and demographic columns for analysis\n",
    "likert_cols = subset_questions(df_questions, ['distribution', 'response_id', 'attitude', 'education', 'barriers', 'willingness', 'incentive'])\n",
    "demo_cols = subset_questions(df_questions, ['demographic', 'response_id'])"
   ]
  },
  {
   "cell_type": "markdown",
   "metadata": {},
   "source": [
    "### Filter Dataframe\n",
    "We need to filter the initial dataframe to only include rows from approved institutions and further filter only survey responses that are complete. Then we will melt both dataframes into vertical orientation."
   ]
  },
  {
   "cell_type": "code",
   "execution_count": 611,
   "metadata": {},
   "outputs": [],
   "source": [
    "## Let's write a method to filter each dataframe to remove non-valid responses\n",
    "\n",
    "## We want to only include resposnes that have the following attributes:\n",
    "## 1. distribution must be one of the institutions in institution_map\n",
    "## 2. 'Progress' should be 100\n",
    "## 3. Q5.5 should not be null\n",
    "## 4. 'Q_UnansweredQuestions' is a list and the length of that list should be less than 5\n",
    "## 'Q6.1' the free choice text response should not contain the string 'test'\n",
    "\n",
    "def filter_dataframe(df):\n",
    "\n",
    "    df = df.copy()\n",
    "    \n",
    "    ## Change column names to the corresponding display_name in df_questions\n",
    "    df.columns = df.columns.copy().to_series().map(df_questions.set_index('question_id')['display_name'])\n",
    "    \n",
    "    ## What is the length of raw data\n",
    "    print('Raw Data: ' + str(len(df)))\n",
    "\n",
    "    ## Filter out any responses that are not in the institution_map\n",
    "    df = df[df['demographic_distribution'].isin(df_institutions['distribution'])].copy()\n",
    "    print('Including Valid Institutions: ' + str(len(df)))\n",
    " \n",
    "    ## Filter out any responses that are not complete\n",
    "    df['survey_info_progress'] = df['survey_info_progress'].astype(int)\n",
    "    df = df[df['survey_info_progress'] == 100].copy()\n",
    "    print('Including Complete Responses: ' + str(len(df)))\n",
    "    \n",
    "    ##  Split practice list into a list of practices\n",
    "    ## Create a new column capturing the length of the split list\n",
    "    ## Filter out any responses with no practices indicated\n",
    "    df['demographic_practice_list'] = df['demographic_practice_list'].str.split(',')\n",
    "    df['demographic_practice_list_length'] = df['demographic_practice_list'].str.len()\n",
    "    df = df[df['demographic_practice_list_length'] > 0].copy()\n",
    "    print('Including Responses with Some Specialty indicated: ' + str(len(df)))\n",
    "\n",
    "    ## Drop demographic_practice_list_length column\n",
    "    df = df.drop(columns=['demographic_practice_list_length'])\n",
    "\n",
    "    ## Split the unanswered questions into a list\n",
    "    ## Create a new column capturing the length of the split list\n",
    "    ## Filter out any responses with more than 5 unanswered questions\n",
    "    df['quality_unanswered_questions'] = df['quality_unanswered_questions'].str.split(',')\n",
    "    df['quality_unanswered_length'] = df['quality_unanswered_questions'].str.len()\n",
    "    df = df[df['quality_unanswered_length'] < 5].copy()\n",
    "    print('Including Responses with Fewer than 5 Unanswered Questions: ' + str(len(df)))\n",
    "\n",
    "    ## Filter out any responses that have the string 'test' in the comments_text column if 'test' is not null\n",
    "    df = df[~df['comments_text'].str.contains('test', na=False)]\n",
    "    print('Including Non-Test Responses: ' + str(len(df)))\n",
    "\n",
    "    ## Keep only responses with no missing data in the Likert Columns specified in likert_cols\n",
    "    df = df.dropna(subset=likert_cols)\n",
    "    print('Including Responses with No Missing Likert Data: ' + str(len(df)))\n",
    "\n",
    "    ## Remove duplicates in the survey_info_response_id column\n",
    "    df = df.drop_duplicates(subset='survey_info_response_id')\n",
    "    print('Removing duplicates: ' + str(len(df)))\n",
    "\n",
    "    ## Type Casting\n",
    "    \n",
    "    ## Turn demographic_acs_trauma_region into a string\n",
    "    df['demographic_acs_trauma_region'] = df['demographic_acs_trauma_region'].astype(str)\n",
    "\n",
    "    ## turn demographic_years_in_practice into an int\n",
    "    df['demographic_years_in_practice'] = df['demographic_years_in_practice'].astype(int, errors='ignore')\n",
    "\n",
    "    ## turn likert_only columns into ints\n",
    "    df[likert_only] = df[likert_only].astype(int, errors='ignore')\n",
    "\n",
    "    ## print a blank line\n",
    "    print('')\n",
    "    \n",
    "    return df\n"
   ]
  },
  {
   "cell_type": "code",
   "execution_count": 612,
   "metadata": {},
   "outputs": [
    {
     "name": "stdout",
     "output_type": "stream",
     "text": [
      "Raw Data: 328\n",
      "Including Valid Institutions: 328\n",
      "Including Complete Responses: 258\n",
      "Including Responses with Some Specialty indicated: 252\n",
      "Including Responses with Fewer than 5 Unanswered Questions: 252\n",
      "Including Non-Test Responses: 252\n",
      "Including Responses with No Missing Likert Data: 247\n",
      "Removing duplicates: 247\n",
      "\n",
      "Raw Data: 328\n",
      "Including Valid Institutions: 328\n",
      "Including Complete Responses: 258\n",
      "Including Responses with Some Specialty indicated: 252\n",
      "Including Responses with Fewer than 5 Unanswered Questions: 252\n",
      "Including Non-Test Responses: 252\n",
      "Including Responses with No Missing Likert Data: 247\n",
      "Removing duplicates: 247\n",
      "\n"
     ]
    }
   ],
   "source": [
    "df_choice_filtered = filter_dataframe(df_choice)\n",
    "df_numbers_filtered = filter_dataframe(df_numbers)"
   ]
  },
  {
   "cell_type": "code",
   "execution_count": 613,
   "metadata": {},
   "outputs": [
    {
     "name": "stdout",
     "output_type": "stream",
     "text": [
      "                       demographic_practice_list  count  total        pct\n",
      "1   Acute Care Surgery/Emergency General Surgery     77    247  31.174089\n",
      "0                  Abdominal Wall/Hernia Surgery     74    247  29.959514\n",
      "14                  Trauma Surgery/Critical Care     56    247  22.672065\n",
      "5                       Colon and Rectal Surgery     45    247  18.218623\n",
      "2           Bariatric/Minimally Invasive Surgery     31    247  12.550607\n"
     ]
    },
    {
     "data": {
      "application/vnd.plotly.v1+json": {
       "config": {
        "plotlyServerURL": "https://plot.ly"
       },
       "data": [
        {
         "alignmentgroup": "True",
         "hovertemplate": "demographic_practice_list=%{x}<br>pct=%{y}<extra></extra>",
         "legendgroup": "",
         "marker": {
          "color": "#636efa",
          "pattern": {
           "shape": ""
          }
         },
         "name": "",
         "offsetgroup": "",
         "orientation": "v",
         "showlegend": false,
         "textposition": "auto",
         "type": "bar",
         "x": [
          "Acute Care Surgery/Emergency General Surgery",
          "Abdominal Wall/Hernia Surgery",
          "Trauma Surgery/Critical Care",
          "Colon and Rectal Surgery",
          "Bariatric/Minimally Invasive Surgery",
          "Hepatopancreaticobiliary Surgery",
          "Vascular Surgery",
          "Pediatric Surgery",
          "Endocrine Surgery",
          "Breast Surgery",
          "Surgical Oncology",
          "Other",
          "Thoracic Surgery",
          "Transplant Surgery",
          "Plastics Surgery",
          "Cardiac Surgery"
         ],
         "xaxis": "x",
         "y": [
          31.17408906882591,
          29.959514170040485,
          22.672064777327936,
          18.218623481781375,
          12.550607287449392,
          10.931174089068826,
          10.121457489878543,
          9.7165991902834,
          8.906882591093117,
          8.097165991902834,
          7.6923076923076925,
          5.668016194331984,
          4.4534412955465585,
          4.4534412955465585,
          3.2388663967611335,
          2.834008097165992
         ],
         "yaxis": "y"
        }
       ],
       "layout": {
        "barmode": "relative",
        "font": {
         "family": "Inter",
         "size": 14
        },
        "legend": {
         "tracegroupgap": 0
        },
        "margin": {
         "t": 60
        },
        "template": {
         "data": {
          "bar": [
           {
            "error_x": {
             "color": "#2a3f5f"
            },
            "error_y": {
             "color": "#2a3f5f"
            },
            "marker": {
             "line": {
              "color": "#E5ECF6",
              "width": 0.5
             },
             "pattern": {
              "fillmode": "overlay",
              "size": 10,
              "solidity": 0.2
             }
            },
            "type": "bar"
           }
          ],
          "barpolar": [
           {
            "marker": {
             "line": {
              "color": "#E5ECF6",
              "width": 0.5
             },
             "pattern": {
              "fillmode": "overlay",
              "size": 10,
              "solidity": 0.2
             }
            },
            "type": "barpolar"
           }
          ],
          "carpet": [
           {
            "aaxis": {
             "endlinecolor": "#2a3f5f",
             "gridcolor": "white",
             "linecolor": "white",
             "minorgridcolor": "white",
             "startlinecolor": "#2a3f5f"
            },
            "baxis": {
             "endlinecolor": "#2a3f5f",
             "gridcolor": "white",
             "linecolor": "white",
             "minorgridcolor": "white",
             "startlinecolor": "#2a3f5f"
            },
            "type": "carpet"
           }
          ],
          "choropleth": [
           {
            "colorbar": {
             "outlinewidth": 0,
             "ticks": ""
            },
            "type": "choropleth"
           }
          ],
          "contour": [
           {
            "colorbar": {
             "outlinewidth": 0,
             "ticks": ""
            },
            "colorscale": [
             [
              0,
              "#0d0887"
             ],
             [
              0.1111111111111111,
              "#46039f"
             ],
             [
              0.2222222222222222,
              "#7201a8"
             ],
             [
              0.3333333333333333,
              "#9c179e"
             ],
             [
              0.4444444444444444,
              "#bd3786"
             ],
             [
              0.5555555555555556,
              "#d8576b"
             ],
             [
              0.6666666666666666,
              "#ed7953"
             ],
             [
              0.7777777777777778,
              "#fb9f3a"
             ],
             [
              0.8888888888888888,
              "#fdca26"
             ],
             [
              1,
              "#f0f921"
             ]
            ],
            "type": "contour"
           }
          ],
          "contourcarpet": [
           {
            "colorbar": {
             "outlinewidth": 0,
             "ticks": ""
            },
            "type": "contourcarpet"
           }
          ],
          "heatmap": [
           {
            "colorbar": {
             "outlinewidth": 0,
             "ticks": ""
            },
            "colorscale": [
             [
              0,
              "#0d0887"
             ],
             [
              0.1111111111111111,
              "#46039f"
             ],
             [
              0.2222222222222222,
              "#7201a8"
             ],
             [
              0.3333333333333333,
              "#9c179e"
             ],
             [
              0.4444444444444444,
              "#bd3786"
             ],
             [
              0.5555555555555556,
              "#d8576b"
             ],
             [
              0.6666666666666666,
              "#ed7953"
             ],
             [
              0.7777777777777778,
              "#fb9f3a"
             ],
             [
              0.8888888888888888,
              "#fdca26"
             ],
             [
              1,
              "#f0f921"
             ]
            ],
            "type": "heatmap"
           }
          ],
          "heatmapgl": [
           {
            "colorbar": {
             "outlinewidth": 0,
             "ticks": ""
            },
            "colorscale": [
             [
              0,
              "#0d0887"
             ],
             [
              0.1111111111111111,
              "#46039f"
             ],
             [
              0.2222222222222222,
              "#7201a8"
             ],
             [
              0.3333333333333333,
              "#9c179e"
             ],
             [
              0.4444444444444444,
              "#bd3786"
             ],
             [
              0.5555555555555556,
              "#d8576b"
             ],
             [
              0.6666666666666666,
              "#ed7953"
             ],
             [
              0.7777777777777778,
              "#fb9f3a"
             ],
             [
              0.8888888888888888,
              "#fdca26"
             ],
             [
              1,
              "#f0f921"
             ]
            ],
            "type": "heatmapgl"
           }
          ],
          "histogram": [
           {
            "marker": {
             "pattern": {
              "fillmode": "overlay",
              "size": 10,
              "solidity": 0.2
             }
            },
            "type": "histogram"
           }
          ],
          "histogram2d": [
           {
            "colorbar": {
             "outlinewidth": 0,
             "ticks": ""
            },
            "colorscale": [
             [
              0,
              "#0d0887"
             ],
             [
              0.1111111111111111,
              "#46039f"
             ],
             [
              0.2222222222222222,
              "#7201a8"
             ],
             [
              0.3333333333333333,
              "#9c179e"
             ],
             [
              0.4444444444444444,
              "#bd3786"
             ],
             [
              0.5555555555555556,
              "#d8576b"
             ],
             [
              0.6666666666666666,
              "#ed7953"
             ],
             [
              0.7777777777777778,
              "#fb9f3a"
             ],
             [
              0.8888888888888888,
              "#fdca26"
             ],
             [
              1,
              "#f0f921"
             ]
            ],
            "type": "histogram2d"
           }
          ],
          "histogram2dcontour": [
           {
            "colorbar": {
             "outlinewidth": 0,
             "ticks": ""
            },
            "colorscale": [
             [
              0,
              "#0d0887"
             ],
             [
              0.1111111111111111,
              "#46039f"
             ],
             [
              0.2222222222222222,
              "#7201a8"
             ],
             [
              0.3333333333333333,
              "#9c179e"
             ],
             [
              0.4444444444444444,
              "#bd3786"
             ],
             [
              0.5555555555555556,
              "#d8576b"
             ],
             [
              0.6666666666666666,
              "#ed7953"
             ],
             [
              0.7777777777777778,
              "#fb9f3a"
             ],
             [
              0.8888888888888888,
              "#fdca26"
             ],
             [
              1,
              "#f0f921"
             ]
            ],
            "type": "histogram2dcontour"
           }
          ],
          "mesh3d": [
           {
            "colorbar": {
             "outlinewidth": 0,
             "ticks": ""
            },
            "type": "mesh3d"
           }
          ],
          "parcoords": [
           {
            "line": {
             "colorbar": {
              "outlinewidth": 0,
              "ticks": ""
             }
            },
            "type": "parcoords"
           }
          ],
          "pie": [
           {
            "automargin": true,
            "type": "pie"
           }
          ],
          "scatter": [
           {
            "fillpattern": {
             "fillmode": "overlay",
             "size": 10,
             "solidity": 0.2
            },
            "type": "scatter"
           }
          ],
          "scatter3d": [
           {
            "line": {
             "colorbar": {
              "outlinewidth": 0,
              "ticks": ""
             }
            },
            "marker": {
             "colorbar": {
              "outlinewidth": 0,
              "ticks": ""
             }
            },
            "type": "scatter3d"
           }
          ],
          "scattercarpet": [
           {
            "marker": {
             "colorbar": {
              "outlinewidth": 0,
              "ticks": ""
             }
            },
            "type": "scattercarpet"
           }
          ],
          "scattergeo": [
           {
            "marker": {
             "colorbar": {
              "outlinewidth": 0,
              "ticks": ""
             }
            },
            "type": "scattergeo"
           }
          ],
          "scattergl": [
           {
            "marker": {
             "colorbar": {
              "outlinewidth": 0,
              "ticks": ""
             }
            },
            "type": "scattergl"
           }
          ],
          "scattermapbox": [
           {
            "marker": {
             "colorbar": {
              "outlinewidth": 0,
              "ticks": ""
             }
            },
            "type": "scattermapbox"
           }
          ],
          "scatterpolar": [
           {
            "marker": {
             "colorbar": {
              "outlinewidth": 0,
              "ticks": ""
             }
            },
            "type": "scatterpolar"
           }
          ],
          "scatterpolargl": [
           {
            "marker": {
             "colorbar": {
              "outlinewidth": 0,
              "ticks": ""
             }
            },
            "type": "scatterpolargl"
           }
          ],
          "scatterternary": [
           {
            "marker": {
             "colorbar": {
              "outlinewidth": 0,
              "ticks": ""
             }
            },
            "type": "scatterternary"
           }
          ],
          "surface": [
           {
            "colorbar": {
             "outlinewidth": 0,
             "ticks": ""
            },
            "colorscale": [
             [
              0,
              "#0d0887"
             ],
             [
              0.1111111111111111,
              "#46039f"
             ],
             [
              0.2222222222222222,
              "#7201a8"
             ],
             [
              0.3333333333333333,
              "#9c179e"
             ],
             [
              0.4444444444444444,
              "#bd3786"
             ],
             [
              0.5555555555555556,
              "#d8576b"
             ],
             [
              0.6666666666666666,
              "#ed7953"
             ],
             [
              0.7777777777777778,
              "#fb9f3a"
             ],
             [
              0.8888888888888888,
              "#fdca26"
             ],
             [
              1,
              "#f0f921"
             ]
            ],
            "type": "surface"
           }
          ],
          "table": [
           {
            "cells": {
             "fill": {
              "color": "#EBF0F8"
             },
             "line": {
              "color": "white"
             }
            },
            "header": {
             "fill": {
              "color": "#C8D4E3"
             },
             "line": {
              "color": "white"
             }
            },
            "type": "table"
           }
          ]
         },
         "layout": {
          "annotationdefaults": {
           "arrowcolor": "#2a3f5f",
           "arrowhead": 0,
           "arrowwidth": 1
          },
          "autotypenumbers": "strict",
          "coloraxis": {
           "colorbar": {
            "outlinewidth": 0,
            "ticks": ""
           }
          },
          "colorscale": {
           "diverging": [
            [
             0,
             "#8e0152"
            ],
            [
             0.1,
             "#c51b7d"
            ],
            [
             0.2,
             "#de77ae"
            ],
            [
             0.3,
             "#f1b6da"
            ],
            [
             0.4,
             "#fde0ef"
            ],
            [
             0.5,
             "#f7f7f7"
            ],
            [
             0.6,
             "#e6f5d0"
            ],
            [
             0.7,
             "#b8e186"
            ],
            [
             0.8,
             "#7fbc41"
            ],
            [
             0.9,
             "#4d9221"
            ],
            [
             1,
             "#276419"
            ]
           ],
           "sequential": [
            [
             0,
             "#0d0887"
            ],
            [
             0.1111111111111111,
             "#46039f"
            ],
            [
             0.2222222222222222,
             "#7201a8"
            ],
            [
             0.3333333333333333,
             "#9c179e"
            ],
            [
             0.4444444444444444,
             "#bd3786"
            ],
            [
             0.5555555555555556,
             "#d8576b"
            ],
            [
             0.6666666666666666,
             "#ed7953"
            ],
            [
             0.7777777777777778,
             "#fb9f3a"
            ],
            [
             0.8888888888888888,
             "#fdca26"
            ],
            [
             1,
             "#f0f921"
            ]
           ],
           "sequentialminus": [
            [
             0,
             "#0d0887"
            ],
            [
             0.1111111111111111,
             "#46039f"
            ],
            [
             0.2222222222222222,
             "#7201a8"
            ],
            [
             0.3333333333333333,
             "#9c179e"
            ],
            [
             0.4444444444444444,
             "#bd3786"
            ],
            [
             0.5555555555555556,
             "#d8576b"
            ],
            [
             0.6666666666666666,
             "#ed7953"
            ],
            [
             0.7777777777777778,
             "#fb9f3a"
            ],
            [
             0.8888888888888888,
             "#fdca26"
            ],
            [
             1,
             "#f0f921"
            ]
           ]
          },
          "colorway": [
           "#636efa",
           "#EF553B",
           "#00cc96",
           "#ab63fa",
           "#FFA15A",
           "#19d3f3",
           "#FF6692",
           "#B6E880",
           "#FF97FF",
           "#FECB52"
          ],
          "font": {
           "color": "#2a3f5f"
          },
          "geo": {
           "bgcolor": "white",
           "lakecolor": "white",
           "landcolor": "#E5ECF6",
           "showlakes": true,
           "showland": true,
           "subunitcolor": "white"
          },
          "hoverlabel": {
           "align": "left"
          },
          "hovermode": "closest",
          "mapbox": {
           "style": "light"
          },
          "paper_bgcolor": "white",
          "plot_bgcolor": "#E5ECF6",
          "polar": {
           "angularaxis": {
            "gridcolor": "white",
            "linecolor": "white",
            "ticks": ""
           },
           "bgcolor": "#E5ECF6",
           "radialaxis": {
            "gridcolor": "white",
            "linecolor": "white",
            "ticks": ""
           }
          },
          "scene": {
           "xaxis": {
            "backgroundcolor": "#E5ECF6",
            "gridcolor": "white",
            "gridwidth": 2,
            "linecolor": "white",
            "showbackground": true,
            "ticks": "",
            "zerolinecolor": "white"
           },
           "yaxis": {
            "backgroundcolor": "#E5ECF6",
            "gridcolor": "white",
            "gridwidth": 2,
            "linecolor": "white",
            "showbackground": true,
            "ticks": "",
            "zerolinecolor": "white"
           },
           "zaxis": {
            "backgroundcolor": "#E5ECF6",
            "gridcolor": "white",
            "gridwidth": 2,
            "linecolor": "white",
            "showbackground": true,
            "ticks": "",
            "zerolinecolor": "white"
           }
          },
          "shapedefaults": {
           "line": {
            "color": "#2a3f5f"
           }
          },
          "ternary": {
           "aaxis": {
            "gridcolor": "white",
            "linecolor": "white",
            "ticks": ""
           },
           "baxis": {
            "gridcolor": "white",
            "linecolor": "white",
            "ticks": ""
           },
           "bgcolor": "#E5ECF6",
           "caxis": {
            "gridcolor": "white",
            "linecolor": "white",
            "ticks": ""
           }
          },
          "title": {
           "x": 0.05
          },
          "xaxis": {
           "automargin": true,
           "gridcolor": "white",
           "linecolor": "white",
           "ticks": "",
           "title": {
            "standoff": 15
           },
           "zerolinecolor": "white",
           "zerolinewidth": 2
          },
          "yaxis": {
           "automargin": true,
           "gridcolor": "white",
           "linecolor": "white",
           "ticks": "",
           "title": {
            "standoff": 15
           },
           "zerolinecolor": "white",
           "zerolinewidth": 2
          }
         }
        },
        "title": {
         "text": "demographic_practice_list"
        },
        "xaxis": {
         "anchor": "y",
         "domain": [
          0,
          1
         ],
         "title": {
          "text": "Institution"
         }
        },
        "yaxis": {
         "anchor": "x",
         "domain": [
          0,
          1
         ],
         "tickformat": ",.0f",
         "title": {
          "text": "Percentage of Responses"
         }
        }
       }
      }
     },
     "metadata": {},
     "output_type": "display_data"
    },
    {
     "name": "stdout",
     "output_type": "stream",
     "text": [
      "                               demographic_role_list  count  total        pct\n",
      "2   Program Director (or Assistant Program Director)     65    247  26.315789\n",
      "0                                   Department Chair     17    247   6.882591\n",
      "1  Department Chair,Program Director (or Assistan...      2    247   0.809717\n",
      "3           Sustainability Director (or Coordinator)      2    247   0.809717\n"
     ]
    },
    {
     "data": {
      "application/vnd.plotly.v1+json": {
       "config": {
        "plotlyServerURL": "https://plot.ly"
       },
       "data": [
        {
         "alignmentgroup": "True",
         "hovertemplate": "demographic_role_list=%{x}<br>pct=%{y}<extra></extra>",
         "legendgroup": "",
         "marker": {
          "color": "#636efa",
          "pattern": {
           "shape": ""
          }
         },
         "name": "",
         "offsetgroup": "",
         "orientation": "v",
         "showlegend": false,
         "textposition": "auto",
         "type": "bar",
         "x": [
          "Program Director (or Assistant Program Director)",
          "Department Chair",
          "Department Chair,Program Director (or Assistant Program Director)",
          "Sustainability Director (or Coordinator)"
         ],
         "xaxis": "x",
         "y": [
          26.31578947368421,
          6.882591093117409,
          0.8097165991902834,
          0.8097165991902834
         ],
         "yaxis": "y"
        }
       ],
       "layout": {
        "barmode": "relative",
        "font": {
         "family": "Inter",
         "size": 14
        },
        "legend": {
         "tracegroupgap": 0
        },
        "margin": {
         "t": 60
        },
        "template": {
         "data": {
          "bar": [
           {
            "error_x": {
             "color": "#2a3f5f"
            },
            "error_y": {
             "color": "#2a3f5f"
            },
            "marker": {
             "line": {
              "color": "#E5ECF6",
              "width": 0.5
             },
             "pattern": {
              "fillmode": "overlay",
              "size": 10,
              "solidity": 0.2
             }
            },
            "type": "bar"
           }
          ],
          "barpolar": [
           {
            "marker": {
             "line": {
              "color": "#E5ECF6",
              "width": 0.5
             },
             "pattern": {
              "fillmode": "overlay",
              "size": 10,
              "solidity": 0.2
             }
            },
            "type": "barpolar"
           }
          ],
          "carpet": [
           {
            "aaxis": {
             "endlinecolor": "#2a3f5f",
             "gridcolor": "white",
             "linecolor": "white",
             "minorgridcolor": "white",
             "startlinecolor": "#2a3f5f"
            },
            "baxis": {
             "endlinecolor": "#2a3f5f",
             "gridcolor": "white",
             "linecolor": "white",
             "minorgridcolor": "white",
             "startlinecolor": "#2a3f5f"
            },
            "type": "carpet"
           }
          ],
          "choropleth": [
           {
            "colorbar": {
             "outlinewidth": 0,
             "ticks": ""
            },
            "type": "choropleth"
           }
          ],
          "contour": [
           {
            "colorbar": {
             "outlinewidth": 0,
             "ticks": ""
            },
            "colorscale": [
             [
              0,
              "#0d0887"
             ],
             [
              0.1111111111111111,
              "#46039f"
             ],
             [
              0.2222222222222222,
              "#7201a8"
             ],
             [
              0.3333333333333333,
              "#9c179e"
             ],
             [
              0.4444444444444444,
              "#bd3786"
             ],
             [
              0.5555555555555556,
              "#d8576b"
             ],
             [
              0.6666666666666666,
              "#ed7953"
             ],
             [
              0.7777777777777778,
              "#fb9f3a"
             ],
             [
              0.8888888888888888,
              "#fdca26"
             ],
             [
              1,
              "#f0f921"
             ]
            ],
            "type": "contour"
           }
          ],
          "contourcarpet": [
           {
            "colorbar": {
             "outlinewidth": 0,
             "ticks": ""
            },
            "type": "contourcarpet"
           }
          ],
          "heatmap": [
           {
            "colorbar": {
             "outlinewidth": 0,
             "ticks": ""
            },
            "colorscale": [
             [
              0,
              "#0d0887"
             ],
             [
              0.1111111111111111,
              "#46039f"
             ],
             [
              0.2222222222222222,
              "#7201a8"
             ],
             [
              0.3333333333333333,
              "#9c179e"
             ],
             [
              0.4444444444444444,
              "#bd3786"
             ],
             [
              0.5555555555555556,
              "#d8576b"
             ],
             [
              0.6666666666666666,
              "#ed7953"
             ],
             [
              0.7777777777777778,
              "#fb9f3a"
             ],
             [
              0.8888888888888888,
              "#fdca26"
             ],
             [
              1,
              "#f0f921"
             ]
            ],
            "type": "heatmap"
           }
          ],
          "heatmapgl": [
           {
            "colorbar": {
             "outlinewidth": 0,
             "ticks": ""
            },
            "colorscale": [
             [
              0,
              "#0d0887"
             ],
             [
              0.1111111111111111,
              "#46039f"
             ],
             [
              0.2222222222222222,
              "#7201a8"
             ],
             [
              0.3333333333333333,
              "#9c179e"
             ],
             [
              0.4444444444444444,
              "#bd3786"
             ],
             [
              0.5555555555555556,
              "#d8576b"
             ],
             [
              0.6666666666666666,
              "#ed7953"
             ],
             [
              0.7777777777777778,
              "#fb9f3a"
             ],
             [
              0.8888888888888888,
              "#fdca26"
             ],
             [
              1,
              "#f0f921"
             ]
            ],
            "type": "heatmapgl"
           }
          ],
          "histogram": [
           {
            "marker": {
             "pattern": {
              "fillmode": "overlay",
              "size": 10,
              "solidity": 0.2
             }
            },
            "type": "histogram"
           }
          ],
          "histogram2d": [
           {
            "colorbar": {
             "outlinewidth": 0,
             "ticks": ""
            },
            "colorscale": [
             [
              0,
              "#0d0887"
             ],
             [
              0.1111111111111111,
              "#46039f"
             ],
             [
              0.2222222222222222,
              "#7201a8"
             ],
             [
              0.3333333333333333,
              "#9c179e"
             ],
             [
              0.4444444444444444,
              "#bd3786"
             ],
             [
              0.5555555555555556,
              "#d8576b"
             ],
             [
              0.6666666666666666,
              "#ed7953"
             ],
             [
              0.7777777777777778,
              "#fb9f3a"
             ],
             [
              0.8888888888888888,
              "#fdca26"
             ],
             [
              1,
              "#f0f921"
             ]
            ],
            "type": "histogram2d"
           }
          ],
          "histogram2dcontour": [
           {
            "colorbar": {
             "outlinewidth": 0,
             "ticks": ""
            },
            "colorscale": [
             [
              0,
              "#0d0887"
             ],
             [
              0.1111111111111111,
              "#46039f"
             ],
             [
              0.2222222222222222,
              "#7201a8"
             ],
             [
              0.3333333333333333,
              "#9c179e"
             ],
             [
              0.4444444444444444,
              "#bd3786"
             ],
             [
              0.5555555555555556,
              "#d8576b"
             ],
             [
              0.6666666666666666,
              "#ed7953"
             ],
             [
              0.7777777777777778,
              "#fb9f3a"
             ],
             [
              0.8888888888888888,
              "#fdca26"
             ],
             [
              1,
              "#f0f921"
             ]
            ],
            "type": "histogram2dcontour"
           }
          ],
          "mesh3d": [
           {
            "colorbar": {
             "outlinewidth": 0,
             "ticks": ""
            },
            "type": "mesh3d"
           }
          ],
          "parcoords": [
           {
            "line": {
             "colorbar": {
              "outlinewidth": 0,
              "ticks": ""
             }
            },
            "type": "parcoords"
           }
          ],
          "pie": [
           {
            "automargin": true,
            "type": "pie"
           }
          ],
          "scatter": [
           {
            "fillpattern": {
             "fillmode": "overlay",
             "size": 10,
             "solidity": 0.2
            },
            "type": "scatter"
           }
          ],
          "scatter3d": [
           {
            "line": {
             "colorbar": {
              "outlinewidth": 0,
              "ticks": ""
             }
            },
            "marker": {
             "colorbar": {
              "outlinewidth": 0,
              "ticks": ""
             }
            },
            "type": "scatter3d"
           }
          ],
          "scattercarpet": [
           {
            "marker": {
             "colorbar": {
              "outlinewidth": 0,
              "ticks": ""
             }
            },
            "type": "scattercarpet"
           }
          ],
          "scattergeo": [
           {
            "marker": {
             "colorbar": {
              "outlinewidth": 0,
              "ticks": ""
             }
            },
            "type": "scattergeo"
           }
          ],
          "scattergl": [
           {
            "marker": {
             "colorbar": {
              "outlinewidth": 0,
              "ticks": ""
             }
            },
            "type": "scattergl"
           }
          ],
          "scattermapbox": [
           {
            "marker": {
             "colorbar": {
              "outlinewidth": 0,
              "ticks": ""
             }
            },
            "type": "scattermapbox"
           }
          ],
          "scatterpolar": [
           {
            "marker": {
             "colorbar": {
              "outlinewidth": 0,
              "ticks": ""
             }
            },
            "type": "scatterpolar"
           }
          ],
          "scatterpolargl": [
           {
            "marker": {
             "colorbar": {
              "outlinewidth": 0,
              "ticks": ""
             }
            },
            "type": "scatterpolargl"
           }
          ],
          "scatterternary": [
           {
            "marker": {
             "colorbar": {
              "outlinewidth": 0,
              "ticks": ""
             }
            },
            "type": "scatterternary"
           }
          ],
          "surface": [
           {
            "colorbar": {
             "outlinewidth": 0,
             "ticks": ""
            },
            "colorscale": [
             [
              0,
              "#0d0887"
             ],
             [
              0.1111111111111111,
              "#46039f"
             ],
             [
              0.2222222222222222,
              "#7201a8"
             ],
             [
              0.3333333333333333,
              "#9c179e"
             ],
             [
              0.4444444444444444,
              "#bd3786"
             ],
             [
              0.5555555555555556,
              "#d8576b"
             ],
             [
              0.6666666666666666,
              "#ed7953"
             ],
             [
              0.7777777777777778,
              "#fb9f3a"
             ],
             [
              0.8888888888888888,
              "#fdca26"
             ],
             [
              1,
              "#f0f921"
             ]
            ],
            "type": "surface"
           }
          ],
          "table": [
           {
            "cells": {
             "fill": {
              "color": "#EBF0F8"
             },
             "line": {
              "color": "white"
             }
            },
            "header": {
             "fill": {
              "color": "#C8D4E3"
             },
             "line": {
              "color": "white"
             }
            },
            "type": "table"
           }
          ]
         },
         "layout": {
          "annotationdefaults": {
           "arrowcolor": "#2a3f5f",
           "arrowhead": 0,
           "arrowwidth": 1
          },
          "autotypenumbers": "strict",
          "coloraxis": {
           "colorbar": {
            "outlinewidth": 0,
            "ticks": ""
           }
          },
          "colorscale": {
           "diverging": [
            [
             0,
             "#8e0152"
            ],
            [
             0.1,
             "#c51b7d"
            ],
            [
             0.2,
             "#de77ae"
            ],
            [
             0.3,
             "#f1b6da"
            ],
            [
             0.4,
             "#fde0ef"
            ],
            [
             0.5,
             "#f7f7f7"
            ],
            [
             0.6,
             "#e6f5d0"
            ],
            [
             0.7,
             "#b8e186"
            ],
            [
             0.8,
             "#7fbc41"
            ],
            [
             0.9,
             "#4d9221"
            ],
            [
             1,
             "#276419"
            ]
           ],
           "sequential": [
            [
             0,
             "#0d0887"
            ],
            [
             0.1111111111111111,
             "#46039f"
            ],
            [
             0.2222222222222222,
             "#7201a8"
            ],
            [
             0.3333333333333333,
             "#9c179e"
            ],
            [
             0.4444444444444444,
             "#bd3786"
            ],
            [
             0.5555555555555556,
             "#d8576b"
            ],
            [
             0.6666666666666666,
             "#ed7953"
            ],
            [
             0.7777777777777778,
             "#fb9f3a"
            ],
            [
             0.8888888888888888,
             "#fdca26"
            ],
            [
             1,
             "#f0f921"
            ]
           ],
           "sequentialminus": [
            [
             0,
             "#0d0887"
            ],
            [
             0.1111111111111111,
             "#46039f"
            ],
            [
             0.2222222222222222,
             "#7201a8"
            ],
            [
             0.3333333333333333,
             "#9c179e"
            ],
            [
             0.4444444444444444,
             "#bd3786"
            ],
            [
             0.5555555555555556,
             "#d8576b"
            ],
            [
             0.6666666666666666,
             "#ed7953"
            ],
            [
             0.7777777777777778,
             "#fb9f3a"
            ],
            [
             0.8888888888888888,
             "#fdca26"
            ],
            [
             1,
             "#f0f921"
            ]
           ]
          },
          "colorway": [
           "#636efa",
           "#EF553B",
           "#00cc96",
           "#ab63fa",
           "#FFA15A",
           "#19d3f3",
           "#FF6692",
           "#B6E880",
           "#FF97FF",
           "#FECB52"
          ],
          "font": {
           "color": "#2a3f5f"
          },
          "geo": {
           "bgcolor": "white",
           "lakecolor": "white",
           "landcolor": "#E5ECF6",
           "showlakes": true,
           "showland": true,
           "subunitcolor": "white"
          },
          "hoverlabel": {
           "align": "left"
          },
          "hovermode": "closest",
          "mapbox": {
           "style": "light"
          },
          "paper_bgcolor": "white",
          "plot_bgcolor": "#E5ECF6",
          "polar": {
           "angularaxis": {
            "gridcolor": "white",
            "linecolor": "white",
            "ticks": ""
           },
           "bgcolor": "#E5ECF6",
           "radialaxis": {
            "gridcolor": "white",
            "linecolor": "white",
            "ticks": ""
           }
          },
          "scene": {
           "xaxis": {
            "backgroundcolor": "#E5ECF6",
            "gridcolor": "white",
            "gridwidth": 2,
            "linecolor": "white",
            "showbackground": true,
            "ticks": "",
            "zerolinecolor": "white"
           },
           "yaxis": {
            "backgroundcolor": "#E5ECF6",
            "gridcolor": "white",
            "gridwidth": 2,
            "linecolor": "white",
            "showbackground": true,
            "ticks": "",
            "zerolinecolor": "white"
           },
           "zaxis": {
            "backgroundcolor": "#E5ECF6",
            "gridcolor": "white",
            "gridwidth": 2,
            "linecolor": "white",
            "showbackground": true,
            "ticks": "",
            "zerolinecolor": "white"
           }
          },
          "shapedefaults": {
           "line": {
            "color": "#2a3f5f"
           }
          },
          "ternary": {
           "aaxis": {
            "gridcolor": "white",
            "linecolor": "white",
            "ticks": ""
           },
           "baxis": {
            "gridcolor": "white",
            "linecolor": "white",
            "ticks": ""
           },
           "bgcolor": "#E5ECF6",
           "caxis": {
            "gridcolor": "white",
            "linecolor": "white",
            "ticks": ""
           }
          },
          "title": {
           "x": 0.05
          },
          "xaxis": {
           "automargin": true,
           "gridcolor": "white",
           "linecolor": "white",
           "ticks": "",
           "title": {
            "standoff": 15
           },
           "zerolinecolor": "white",
           "zerolinewidth": 2
          },
          "yaxis": {
           "automargin": true,
           "gridcolor": "white",
           "linecolor": "white",
           "ticks": "",
           "title": {
            "standoff": 15
           },
           "zerolinecolor": "white",
           "zerolinewidth": 2
          }
         }
        },
        "title": {
         "text": "demographic_role_list"
        },
        "xaxis": {
         "anchor": "y",
         "domain": [
          0,
          1
         ],
         "title": {
          "text": "Institution"
         }
        },
        "yaxis": {
         "anchor": "x",
         "domain": [
          0,
          1
         ],
         "tickformat": ",.0f",
         "title": {
          "text": "Percentage of Responses"
         }
        }
       }
      }
     },
     "metadata": {},
     "output_type": "display_data"
    },
    {
     "name": "stdout",
     "output_type": "stream",
     "text": [
      "  survey_info_response_id  demographic_years_in_practice\n",
      "0       R_1dMlSI0KXyxsTZn                           16.0\n",
      "1       R_7QYh6bTyOmOQo3D                            1.0\n",
      "4       R_25RsYOfgaO79uts                           15.0\n",
      "5       R_22qNtCIlTv6yOWH                            1.0\n",
      "6       R_25uoAdxWGbbGHRo                           17.0\n"
     ]
    },
    {
     "data": {
      "application/vnd.plotly.v1+json": {
       "config": {
        "plotlyServerURL": "https://plot.ly"
       },
       "data": [
        {
         "alignmentgroup": "True",
         "bingroup": "x",
         "hovertemplate": "demographic_years_in_practice=%{x}<br>count=%{y}<extra></extra>",
         "legendgroup": "",
         "marker": {
          "color": "#636efa",
          "pattern": {
           "shape": ""
          }
         },
         "name": "",
         "offsetgroup": "",
         "orientation": "v",
         "showlegend": false,
         "type": "histogram",
         "x": [
          16,
          1,
          15,
          1,
          17,
          16,
          15,
          37,
          18,
          25,
          28,
          11,
          28,
          8,
          20,
          10,
          9,
          23,
          32,
          6,
          15,
          22,
          3,
          15,
          35,
          30,
          25,
          12,
          3,
          20,
          30,
          10,
          3,
          1,
          17,
          8,
          5,
          2,
          20,
          32,
          7,
          5,
          8,
          4,
          23,
          5,
          28,
          26,
          10,
          11,
          46,
          23,
          25,
          21,
          20,
          5,
          40,
          20,
          5,
          14,
          7,
          10,
          31,
          16,
          1,
          20,
          23,
          2,
          3,
          30,
          21,
          14,
          1,
          18,
          16,
          25,
          12,
          11,
          2,
          15,
          25,
          3,
          17,
          10,
          33,
          3,
          6,
          1,
          6,
          22,
          23,
          1,
          6,
          26,
          32,
          20,
          21,
          16,
          15,
          44,
          24,
          7,
          3,
          16,
          4,
          20,
          2,
          5,
          15,
          1,
          5,
          18,
          30,
          10,
          40,
          15,
          22,
          7,
          2,
          2,
          25,
          5,
          14,
          8,
          29,
          23,
          12,
          30,
          7,
          7,
          4,
          10,
          8,
          1,
          35,
          4,
          18,
          17,
          5,
          9,
          1,
          15,
          10,
          3,
          21,
          27,
          3,
          9,
          15,
          40,
          25,
          11,
          30,
          22,
          20,
          0.15,
          13,
          30,
          33,
          18,
          21,
          39,
          19,
          15,
          19,
          3,
          4,
          31,
          7,
          22,
          6,
          17,
          20,
          21,
          18,
          4,
          11,
          4,
          10,
          5,
          12,
          35,
          33,
          1,
          1,
          26,
          22,
          35,
          1,
          15,
          16,
          30,
          12,
          5,
          38,
          30,
          35,
          5,
          13,
          22,
          22,
          13,
          25,
          13,
          20,
          20,
          8,
          12,
          32,
          31,
          6,
          30,
          32,
          23,
          1,
          2,
          32,
          3,
          10,
          15,
          25,
          11,
          7,
          28,
          22,
          12,
          2.5,
          4,
          23
         ],
         "xaxis": "x",
         "yaxis": "y"
        }
       ],
       "layout": {
        "barmode": "relative",
        "font": {
         "family": "Inter",
         "size": 14
        },
        "legend": {
         "tracegroupgap": 0
        },
        "margin": {
         "t": 60
        },
        "template": {
         "data": {
          "bar": [
           {
            "error_x": {
             "color": "#2a3f5f"
            },
            "error_y": {
             "color": "#2a3f5f"
            },
            "marker": {
             "line": {
              "color": "#E5ECF6",
              "width": 0.5
             },
             "pattern": {
              "fillmode": "overlay",
              "size": 10,
              "solidity": 0.2
             }
            },
            "type": "bar"
           }
          ],
          "barpolar": [
           {
            "marker": {
             "line": {
              "color": "#E5ECF6",
              "width": 0.5
             },
             "pattern": {
              "fillmode": "overlay",
              "size": 10,
              "solidity": 0.2
             }
            },
            "type": "barpolar"
           }
          ],
          "carpet": [
           {
            "aaxis": {
             "endlinecolor": "#2a3f5f",
             "gridcolor": "white",
             "linecolor": "white",
             "minorgridcolor": "white",
             "startlinecolor": "#2a3f5f"
            },
            "baxis": {
             "endlinecolor": "#2a3f5f",
             "gridcolor": "white",
             "linecolor": "white",
             "minorgridcolor": "white",
             "startlinecolor": "#2a3f5f"
            },
            "type": "carpet"
           }
          ],
          "choropleth": [
           {
            "colorbar": {
             "outlinewidth": 0,
             "ticks": ""
            },
            "type": "choropleth"
           }
          ],
          "contour": [
           {
            "colorbar": {
             "outlinewidth": 0,
             "ticks": ""
            },
            "colorscale": [
             [
              0,
              "#0d0887"
             ],
             [
              0.1111111111111111,
              "#46039f"
             ],
             [
              0.2222222222222222,
              "#7201a8"
             ],
             [
              0.3333333333333333,
              "#9c179e"
             ],
             [
              0.4444444444444444,
              "#bd3786"
             ],
             [
              0.5555555555555556,
              "#d8576b"
             ],
             [
              0.6666666666666666,
              "#ed7953"
             ],
             [
              0.7777777777777778,
              "#fb9f3a"
             ],
             [
              0.8888888888888888,
              "#fdca26"
             ],
             [
              1,
              "#f0f921"
             ]
            ],
            "type": "contour"
           }
          ],
          "contourcarpet": [
           {
            "colorbar": {
             "outlinewidth": 0,
             "ticks": ""
            },
            "type": "contourcarpet"
           }
          ],
          "heatmap": [
           {
            "colorbar": {
             "outlinewidth": 0,
             "ticks": ""
            },
            "colorscale": [
             [
              0,
              "#0d0887"
             ],
             [
              0.1111111111111111,
              "#46039f"
             ],
             [
              0.2222222222222222,
              "#7201a8"
             ],
             [
              0.3333333333333333,
              "#9c179e"
             ],
             [
              0.4444444444444444,
              "#bd3786"
             ],
             [
              0.5555555555555556,
              "#d8576b"
             ],
             [
              0.6666666666666666,
              "#ed7953"
             ],
             [
              0.7777777777777778,
              "#fb9f3a"
             ],
             [
              0.8888888888888888,
              "#fdca26"
             ],
             [
              1,
              "#f0f921"
             ]
            ],
            "type": "heatmap"
           }
          ],
          "heatmapgl": [
           {
            "colorbar": {
             "outlinewidth": 0,
             "ticks": ""
            },
            "colorscale": [
             [
              0,
              "#0d0887"
             ],
             [
              0.1111111111111111,
              "#46039f"
             ],
             [
              0.2222222222222222,
              "#7201a8"
             ],
             [
              0.3333333333333333,
              "#9c179e"
             ],
             [
              0.4444444444444444,
              "#bd3786"
             ],
             [
              0.5555555555555556,
              "#d8576b"
             ],
             [
              0.6666666666666666,
              "#ed7953"
             ],
             [
              0.7777777777777778,
              "#fb9f3a"
             ],
             [
              0.8888888888888888,
              "#fdca26"
             ],
             [
              1,
              "#f0f921"
             ]
            ],
            "type": "heatmapgl"
           }
          ],
          "histogram": [
           {
            "marker": {
             "pattern": {
              "fillmode": "overlay",
              "size": 10,
              "solidity": 0.2
             }
            },
            "type": "histogram"
           }
          ],
          "histogram2d": [
           {
            "colorbar": {
             "outlinewidth": 0,
             "ticks": ""
            },
            "colorscale": [
             [
              0,
              "#0d0887"
             ],
             [
              0.1111111111111111,
              "#46039f"
             ],
             [
              0.2222222222222222,
              "#7201a8"
             ],
             [
              0.3333333333333333,
              "#9c179e"
             ],
             [
              0.4444444444444444,
              "#bd3786"
             ],
             [
              0.5555555555555556,
              "#d8576b"
             ],
             [
              0.6666666666666666,
              "#ed7953"
             ],
             [
              0.7777777777777778,
              "#fb9f3a"
             ],
             [
              0.8888888888888888,
              "#fdca26"
             ],
             [
              1,
              "#f0f921"
             ]
            ],
            "type": "histogram2d"
           }
          ],
          "histogram2dcontour": [
           {
            "colorbar": {
             "outlinewidth": 0,
             "ticks": ""
            },
            "colorscale": [
             [
              0,
              "#0d0887"
             ],
             [
              0.1111111111111111,
              "#46039f"
             ],
             [
              0.2222222222222222,
              "#7201a8"
             ],
             [
              0.3333333333333333,
              "#9c179e"
             ],
             [
              0.4444444444444444,
              "#bd3786"
             ],
             [
              0.5555555555555556,
              "#d8576b"
             ],
             [
              0.6666666666666666,
              "#ed7953"
             ],
             [
              0.7777777777777778,
              "#fb9f3a"
             ],
             [
              0.8888888888888888,
              "#fdca26"
             ],
             [
              1,
              "#f0f921"
             ]
            ],
            "type": "histogram2dcontour"
           }
          ],
          "mesh3d": [
           {
            "colorbar": {
             "outlinewidth": 0,
             "ticks": ""
            },
            "type": "mesh3d"
           }
          ],
          "parcoords": [
           {
            "line": {
             "colorbar": {
              "outlinewidth": 0,
              "ticks": ""
             }
            },
            "type": "parcoords"
           }
          ],
          "pie": [
           {
            "automargin": true,
            "type": "pie"
           }
          ],
          "scatter": [
           {
            "fillpattern": {
             "fillmode": "overlay",
             "size": 10,
             "solidity": 0.2
            },
            "type": "scatter"
           }
          ],
          "scatter3d": [
           {
            "line": {
             "colorbar": {
              "outlinewidth": 0,
              "ticks": ""
             }
            },
            "marker": {
             "colorbar": {
              "outlinewidth": 0,
              "ticks": ""
             }
            },
            "type": "scatter3d"
           }
          ],
          "scattercarpet": [
           {
            "marker": {
             "colorbar": {
              "outlinewidth": 0,
              "ticks": ""
             }
            },
            "type": "scattercarpet"
           }
          ],
          "scattergeo": [
           {
            "marker": {
             "colorbar": {
              "outlinewidth": 0,
              "ticks": ""
             }
            },
            "type": "scattergeo"
           }
          ],
          "scattergl": [
           {
            "marker": {
             "colorbar": {
              "outlinewidth": 0,
              "ticks": ""
             }
            },
            "type": "scattergl"
           }
          ],
          "scattermapbox": [
           {
            "marker": {
             "colorbar": {
              "outlinewidth": 0,
              "ticks": ""
             }
            },
            "type": "scattermapbox"
           }
          ],
          "scatterpolar": [
           {
            "marker": {
             "colorbar": {
              "outlinewidth": 0,
              "ticks": ""
             }
            },
            "type": "scatterpolar"
           }
          ],
          "scatterpolargl": [
           {
            "marker": {
             "colorbar": {
              "outlinewidth": 0,
              "ticks": ""
             }
            },
            "type": "scatterpolargl"
           }
          ],
          "scatterternary": [
           {
            "marker": {
             "colorbar": {
              "outlinewidth": 0,
              "ticks": ""
             }
            },
            "type": "scatterternary"
           }
          ],
          "surface": [
           {
            "colorbar": {
             "outlinewidth": 0,
             "ticks": ""
            },
            "colorscale": [
             [
              0,
              "#0d0887"
             ],
             [
              0.1111111111111111,
              "#46039f"
             ],
             [
              0.2222222222222222,
              "#7201a8"
             ],
             [
              0.3333333333333333,
              "#9c179e"
             ],
             [
              0.4444444444444444,
              "#bd3786"
             ],
             [
              0.5555555555555556,
              "#d8576b"
             ],
             [
              0.6666666666666666,
              "#ed7953"
             ],
             [
              0.7777777777777778,
              "#fb9f3a"
             ],
             [
              0.8888888888888888,
              "#fdca26"
             ],
             [
              1,
              "#f0f921"
             ]
            ],
            "type": "surface"
           }
          ],
          "table": [
           {
            "cells": {
             "fill": {
              "color": "#EBF0F8"
             },
             "line": {
              "color": "white"
             }
            },
            "header": {
             "fill": {
              "color": "#C8D4E3"
             },
             "line": {
              "color": "white"
             }
            },
            "type": "table"
           }
          ]
         },
         "layout": {
          "annotationdefaults": {
           "arrowcolor": "#2a3f5f",
           "arrowhead": 0,
           "arrowwidth": 1
          },
          "autotypenumbers": "strict",
          "coloraxis": {
           "colorbar": {
            "outlinewidth": 0,
            "ticks": ""
           }
          },
          "colorscale": {
           "diverging": [
            [
             0,
             "#8e0152"
            ],
            [
             0.1,
             "#c51b7d"
            ],
            [
             0.2,
             "#de77ae"
            ],
            [
             0.3,
             "#f1b6da"
            ],
            [
             0.4,
             "#fde0ef"
            ],
            [
             0.5,
             "#f7f7f7"
            ],
            [
             0.6,
             "#e6f5d0"
            ],
            [
             0.7,
             "#b8e186"
            ],
            [
             0.8,
             "#7fbc41"
            ],
            [
             0.9,
             "#4d9221"
            ],
            [
             1,
             "#276419"
            ]
           ],
           "sequential": [
            [
             0,
             "#0d0887"
            ],
            [
             0.1111111111111111,
             "#46039f"
            ],
            [
             0.2222222222222222,
             "#7201a8"
            ],
            [
             0.3333333333333333,
             "#9c179e"
            ],
            [
             0.4444444444444444,
             "#bd3786"
            ],
            [
             0.5555555555555556,
             "#d8576b"
            ],
            [
             0.6666666666666666,
             "#ed7953"
            ],
            [
             0.7777777777777778,
             "#fb9f3a"
            ],
            [
             0.8888888888888888,
             "#fdca26"
            ],
            [
             1,
             "#f0f921"
            ]
           ],
           "sequentialminus": [
            [
             0,
             "#0d0887"
            ],
            [
             0.1111111111111111,
             "#46039f"
            ],
            [
             0.2222222222222222,
             "#7201a8"
            ],
            [
             0.3333333333333333,
             "#9c179e"
            ],
            [
             0.4444444444444444,
             "#bd3786"
            ],
            [
             0.5555555555555556,
             "#d8576b"
            ],
            [
             0.6666666666666666,
             "#ed7953"
            ],
            [
             0.7777777777777778,
             "#fb9f3a"
            ],
            [
             0.8888888888888888,
             "#fdca26"
            ],
            [
             1,
             "#f0f921"
            ]
           ]
          },
          "colorway": [
           "#636efa",
           "#EF553B",
           "#00cc96",
           "#ab63fa",
           "#FFA15A",
           "#19d3f3",
           "#FF6692",
           "#B6E880",
           "#FF97FF",
           "#FECB52"
          ],
          "font": {
           "color": "#2a3f5f"
          },
          "geo": {
           "bgcolor": "white",
           "lakecolor": "white",
           "landcolor": "#E5ECF6",
           "showlakes": true,
           "showland": true,
           "subunitcolor": "white"
          },
          "hoverlabel": {
           "align": "left"
          },
          "hovermode": "closest",
          "mapbox": {
           "style": "light"
          },
          "paper_bgcolor": "white",
          "plot_bgcolor": "#E5ECF6",
          "polar": {
           "angularaxis": {
            "gridcolor": "white",
            "linecolor": "white",
            "ticks": ""
           },
           "bgcolor": "#E5ECF6",
           "radialaxis": {
            "gridcolor": "white",
            "linecolor": "white",
            "ticks": ""
           }
          },
          "scene": {
           "xaxis": {
            "backgroundcolor": "#E5ECF6",
            "gridcolor": "white",
            "gridwidth": 2,
            "linecolor": "white",
            "showbackground": true,
            "ticks": "",
            "zerolinecolor": "white"
           },
           "yaxis": {
            "backgroundcolor": "#E5ECF6",
            "gridcolor": "white",
            "gridwidth": 2,
            "linecolor": "white",
            "showbackground": true,
            "ticks": "",
            "zerolinecolor": "white"
           },
           "zaxis": {
            "backgroundcolor": "#E5ECF6",
            "gridcolor": "white",
            "gridwidth": 2,
            "linecolor": "white",
            "showbackground": true,
            "ticks": "",
            "zerolinecolor": "white"
           }
          },
          "shapedefaults": {
           "line": {
            "color": "#2a3f5f"
           }
          },
          "ternary": {
           "aaxis": {
            "gridcolor": "white",
            "linecolor": "white",
            "ticks": ""
           },
           "baxis": {
            "gridcolor": "white",
            "linecolor": "white",
            "ticks": ""
           },
           "bgcolor": "#E5ECF6",
           "caxis": {
            "gridcolor": "white",
            "linecolor": "white",
            "ticks": ""
           }
          },
          "title": {
           "x": 0.05
          },
          "xaxis": {
           "automargin": true,
           "gridcolor": "white",
           "linecolor": "white",
           "ticks": "",
           "title": {
            "standoff": 15
           },
           "zerolinecolor": "white",
           "zerolinewidth": 2
          },
          "yaxis": {
           "automargin": true,
           "gridcolor": "white",
           "linecolor": "white",
           "ticks": "",
           "title": {
            "standoff": 15
           },
           "zerolinecolor": "white",
           "zerolinewidth": 2
          }
         }
        },
        "title": {
         "text": "demographic_years_in_practice"
        },
        "xaxis": {
         "anchor": "y",
         "domain": [
          0,
          1
         ],
         "title": {
          "text": "Institution"
         }
        },
        "yaxis": {
         "anchor": "x",
         "domain": [
          0,
          1
         ],
         "tickformat": ",.0f",
         "title": {
          "text": "Percentage of Responses"
         }
        }
       }
      }
     },
     "metadata": {},
     "output_type": "display_data"
    },
    {
     "name": "stdout",
     "output_type": "stream",
     "text": [
      "  demographic_distribution  count  total        pct\n",
      "9                    washu     61    247  24.696356\n",
      "5                     ucsf     40    247  16.194332\n",
      "7               vanderbilt     33    247  13.360324\n",
      "1                    lahey     25    247  10.121457\n",
      "0                  cornell     20    247   8.097166\n"
     ]
    },
    {
     "data": {
      "application/vnd.plotly.v1+json": {
       "config": {
        "plotlyServerURL": "https://plot.ly"
       },
       "data": [
        {
         "alignmentgroup": "True",
         "hovertemplate": "demographic_distribution=%{x}<br>pct=%{y}<extra></extra>",
         "legendgroup": "",
         "marker": {
          "color": "#636efa",
          "pattern": {
           "shape": ""
          }
         },
         "name": "",
         "offsetgroup": "",
         "orientation": "v",
         "showlegend": false,
         "textposition": "auto",
         "type": "bar",
         "x": [
          "washu",
          "ucsf",
          "vanderbilt",
          "lahey",
          "cornell",
          "lehigh",
          "northwestern",
          "texastech",
          "virginiamason",
          "und"
         ],
         "xaxis": "x",
         "y": [
          24.696356275303643,
          16.194331983805668,
          13.360323886639677,
          10.121457489878543,
          8.097165991902834,
          7.6923076923076925,
          7.6923076923076925,
          5.263157894736842,
          4.4534412955465585,
          2.42914979757085
         ],
         "yaxis": "y"
        }
       ],
       "layout": {
        "barmode": "relative",
        "font": {
         "family": "Inter",
         "size": 14
        },
        "legend": {
         "tracegroupgap": 0
        },
        "margin": {
         "t": 60
        },
        "template": {
         "data": {
          "bar": [
           {
            "error_x": {
             "color": "#2a3f5f"
            },
            "error_y": {
             "color": "#2a3f5f"
            },
            "marker": {
             "line": {
              "color": "#E5ECF6",
              "width": 0.5
             },
             "pattern": {
              "fillmode": "overlay",
              "size": 10,
              "solidity": 0.2
             }
            },
            "type": "bar"
           }
          ],
          "barpolar": [
           {
            "marker": {
             "line": {
              "color": "#E5ECF6",
              "width": 0.5
             },
             "pattern": {
              "fillmode": "overlay",
              "size": 10,
              "solidity": 0.2
             }
            },
            "type": "barpolar"
           }
          ],
          "carpet": [
           {
            "aaxis": {
             "endlinecolor": "#2a3f5f",
             "gridcolor": "white",
             "linecolor": "white",
             "minorgridcolor": "white",
             "startlinecolor": "#2a3f5f"
            },
            "baxis": {
             "endlinecolor": "#2a3f5f",
             "gridcolor": "white",
             "linecolor": "white",
             "minorgridcolor": "white",
             "startlinecolor": "#2a3f5f"
            },
            "type": "carpet"
           }
          ],
          "choropleth": [
           {
            "colorbar": {
             "outlinewidth": 0,
             "ticks": ""
            },
            "type": "choropleth"
           }
          ],
          "contour": [
           {
            "colorbar": {
             "outlinewidth": 0,
             "ticks": ""
            },
            "colorscale": [
             [
              0,
              "#0d0887"
             ],
             [
              0.1111111111111111,
              "#46039f"
             ],
             [
              0.2222222222222222,
              "#7201a8"
             ],
             [
              0.3333333333333333,
              "#9c179e"
             ],
             [
              0.4444444444444444,
              "#bd3786"
             ],
             [
              0.5555555555555556,
              "#d8576b"
             ],
             [
              0.6666666666666666,
              "#ed7953"
             ],
             [
              0.7777777777777778,
              "#fb9f3a"
             ],
             [
              0.8888888888888888,
              "#fdca26"
             ],
             [
              1,
              "#f0f921"
             ]
            ],
            "type": "contour"
           }
          ],
          "contourcarpet": [
           {
            "colorbar": {
             "outlinewidth": 0,
             "ticks": ""
            },
            "type": "contourcarpet"
           }
          ],
          "heatmap": [
           {
            "colorbar": {
             "outlinewidth": 0,
             "ticks": ""
            },
            "colorscale": [
             [
              0,
              "#0d0887"
             ],
             [
              0.1111111111111111,
              "#46039f"
             ],
             [
              0.2222222222222222,
              "#7201a8"
             ],
             [
              0.3333333333333333,
              "#9c179e"
             ],
             [
              0.4444444444444444,
              "#bd3786"
             ],
             [
              0.5555555555555556,
              "#d8576b"
             ],
             [
              0.6666666666666666,
              "#ed7953"
             ],
             [
              0.7777777777777778,
              "#fb9f3a"
             ],
             [
              0.8888888888888888,
              "#fdca26"
             ],
             [
              1,
              "#f0f921"
             ]
            ],
            "type": "heatmap"
           }
          ],
          "heatmapgl": [
           {
            "colorbar": {
             "outlinewidth": 0,
             "ticks": ""
            },
            "colorscale": [
             [
              0,
              "#0d0887"
             ],
             [
              0.1111111111111111,
              "#46039f"
             ],
             [
              0.2222222222222222,
              "#7201a8"
             ],
             [
              0.3333333333333333,
              "#9c179e"
             ],
             [
              0.4444444444444444,
              "#bd3786"
             ],
             [
              0.5555555555555556,
              "#d8576b"
             ],
             [
              0.6666666666666666,
              "#ed7953"
             ],
             [
              0.7777777777777778,
              "#fb9f3a"
             ],
             [
              0.8888888888888888,
              "#fdca26"
             ],
             [
              1,
              "#f0f921"
             ]
            ],
            "type": "heatmapgl"
           }
          ],
          "histogram": [
           {
            "marker": {
             "pattern": {
              "fillmode": "overlay",
              "size": 10,
              "solidity": 0.2
             }
            },
            "type": "histogram"
           }
          ],
          "histogram2d": [
           {
            "colorbar": {
             "outlinewidth": 0,
             "ticks": ""
            },
            "colorscale": [
             [
              0,
              "#0d0887"
             ],
             [
              0.1111111111111111,
              "#46039f"
             ],
             [
              0.2222222222222222,
              "#7201a8"
             ],
             [
              0.3333333333333333,
              "#9c179e"
             ],
             [
              0.4444444444444444,
              "#bd3786"
             ],
             [
              0.5555555555555556,
              "#d8576b"
             ],
             [
              0.6666666666666666,
              "#ed7953"
             ],
             [
              0.7777777777777778,
              "#fb9f3a"
             ],
             [
              0.8888888888888888,
              "#fdca26"
             ],
             [
              1,
              "#f0f921"
             ]
            ],
            "type": "histogram2d"
           }
          ],
          "histogram2dcontour": [
           {
            "colorbar": {
             "outlinewidth": 0,
             "ticks": ""
            },
            "colorscale": [
             [
              0,
              "#0d0887"
             ],
             [
              0.1111111111111111,
              "#46039f"
             ],
             [
              0.2222222222222222,
              "#7201a8"
             ],
             [
              0.3333333333333333,
              "#9c179e"
             ],
             [
              0.4444444444444444,
              "#bd3786"
             ],
             [
              0.5555555555555556,
              "#d8576b"
             ],
             [
              0.6666666666666666,
              "#ed7953"
             ],
             [
              0.7777777777777778,
              "#fb9f3a"
             ],
             [
              0.8888888888888888,
              "#fdca26"
             ],
             [
              1,
              "#f0f921"
             ]
            ],
            "type": "histogram2dcontour"
           }
          ],
          "mesh3d": [
           {
            "colorbar": {
             "outlinewidth": 0,
             "ticks": ""
            },
            "type": "mesh3d"
           }
          ],
          "parcoords": [
           {
            "line": {
             "colorbar": {
              "outlinewidth": 0,
              "ticks": ""
             }
            },
            "type": "parcoords"
           }
          ],
          "pie": [
           {
            "automargin": true,
            "type": "pie"
           }
          ],
          "scatter": [
           {
            "fillpattern": {
             "fillmode": "overlay",
             "size": 10,
             "solidity": 0.2
            },
            "type": "scatter"
           }
          ],
          "scatter3d": [
           {
            "line": {
             "colorbar": {
              "outlinewidth": 0,
              "ticks": ""
             }
            },
            "marker": {
             "colorbar": {
              "outlinewidth": 0,
              "ticks": ""
             }
            },
            "type": "scatter3d"
           }
          ],
          "scattercarpet": [
           {
            "marker": {
             "colorbar": {
              "outlinewidth": 0,
              "ticks": ""
             }
            },
            "type": "scattercarpet"
           }
          ],
          "scattergeo": [
           {
            "marker": {
             "colorbar": {
              "outlinewidth": 0,
              "ticks": ""
             }
            },
            "type": "scattergeo"
           }
          ],
          "scattergl": [
           {
            "marker": {
             "colorbar": {
              "outlinewidth": 0,
              "ticks": ""
             }
            },
            "type": "scattergl"
           }
          ],
          "scattermapbox": [
           {
            "marker": {
             "colorbar": {
              "outlinewidth": 0,
              "ticks": ""
             }
            },
            "type": "scattermapbox"
           }
          ],
          "scatterpolar": [
           {
            "marker": {
             "colorbar": {
              "outlinewidth": 0,
              "ticks": ""
             }
            },
            "type": "scatterpolar"
           }
          ],
          "scatterpolargl": [
           {
            "marker": {
             "colorbar": {
              "outlinewidth": 0,
              "ticks": ""
             }
            },
            "type": "scatterpolargl"
           }
          ],
          "scatterternary": [
           {
            "marker": {
             "colorbar": {
              "outlinewidth": 0,
              "ticks": ""
             }
            },
            "type": "scatterternary"
           }
          ],
          "surface": [
           {
            "colorbar": {
             "outlinewidth": 0,
             "ticks": ""
            },
            "colorscale": [
             [
              0,
              "#0d0887"
             ],
             [
              0.1111111111111111,
              "#46039f"
             ],
             [
              0.2222222222222222,
              "#7201a8"
             ],
             [
              0.3333333333333333,
              "#9c179e"
             ],
             [
              0.4444444444444444,
              "#bd3786"
             ],
             [
              0.5555555555555556,
              "#d8576b"
             ],
             [
              0.6666666666666666,
              "#ed7953"
             ],
             [
              0.7777777777777778,
              "#fb9f3a"
             ],
             [
              0.8888888888888888,
              "#fdca26"
             ],
             [
              1,
              "#f0f921"
             ]
            ],
            "type": "surface"
           }
          ],
          "table": [
           {
            "cells": {
             "fill": {
              "color": "#EBF0F8"
             },
             "line": {
              "color": "white"
             }
            },
            "header": {
             "fill": {
              "color": "#C8D4E3"
             },
             "line": {
              "color": "white"
             }
            },
            "type": "table"
           }
          ]
         },
         "layout": {
          "annotationdefaults": {
           "arrowcolor": "#2a3f5f",
           "arrowhead": 0,
           "arrowwidth": 1
          },
          "autotypenumbers": "strict",
          "coloraxis": {
           "colorbar": {
            "outlinewidth": 0,
            "ticks": ""
           }
          },
          "colorscale": {
           "diverging": [
            [
             0,
             "#8e0152"
            ],
            [
             0.1,
             "#c51b7d"
            ],
            [
             0.2,
             "#de77ae"
            ],
            [
             0.3,
             "#f1b6da"
            ],
            [
             0.4,
             "#fde0ef"
            ],
            [
             0.5,
             "#f7f7f7"
            ],
            [
             0.6,
             "#e6f5d0"
            ],
            [
             0.7,
             "#b8e186"
            ],
            [
             0.8,
             "#7fbc41"
            ],
            [
             0.9,
             "#4d9221"
            ],
            [
             1,
             "#276419"
            ]
           ],
           "sequential": [
            [
             0,
             "#0d0887"
            ],
            [
             0.1111111111111111,
             "#46039f"
            ],
            [
             0.2222222222222222,
             "#7201a8"
            ],
            [
             0.3333333333333333,
             "#9c179e"
            ],
            [
             0.4444444444444444,
             "#bd3786"
            ],
            [
             0.5555555555555556,
             "#d8576b"
            ],
            [
             0.6666666666666666,
             "#ed7953"
            ],
            [
             0.7777777777777778,
             "#fb9f3a"
            ],
            [
             0.8888888888888888,
             "#fdca26"
            ],
            [
             1,
             "#f0f921"
            ]
           ],
           "sequentialminus": [
            [
             0,
             "#0d0887"
            ],
            [
             0.1111111111111111,
             "#46039f"
            ],
            [
             0.2222222222222222,
             "#7201a8"
            ],
            [
             0.3333333333333333,
             "#9c179e"
            ],
            [
             0.4444444444444444,
             "#bd3786"
            ],
            [
             0.5555555555555556,
             "#d8576b"
            ],
            [
             0.6666666666666666,
             "#ed7953"
            ],
            [
             0.7777777777777778,
             "#fb9f3a"
            ],
            [
             0.8888888888888888,
             "#fdca26"
            ],
            [
             1,
             "#f0f921"
            ]
           ]
          },
          "colorway": [
           "#636efa",
           "#EF553B",
           "#00cc96",
           "#ab63fa",
           "#FFA15A",
           "#19d3f3",
           "#FF6692",
           "#B6E880",
           "#FF97FF",
           "#FECB52"
          ],
          "font": {
           "color": "#2a3f5f"
          },
          "geo": {
           "bgcolor": "white",
           "lakecolor": "white",
           "landcolor": "#E5ECF6",
           "showlakes": true,
           "showland": true,
           "subunitcolor": "white"
          },
          "hoverlabel": {
           "align": "left"
          },
          "hovermode": "closest",
          "mapbox": {
           "style": "light"
          },
          "paper_bgcolor": "white",
          "plot_bgcolor": "#E5ECF6",
          "polar": {
           "angularaxis": {
            "gridcolor": "white",
            "linecolor": "white",
            "ticks": ""
           },
           "bgcolor": "#E5ECF6",
           "radialaxis": {
            "gridcolor": "white",
            "linecolor": "white",
            "ticks": ""
           }
          },
          "scene": {
           "xaxis": {
            "backgroundcolor": "#E5ECF6",
            "gridcolor": "white",
            "gridwidth": 2,
            "linecolor": "white",
            "showbackground": true,
            "ticks": "",
            "zerolinecolor": "white"
           },
           "yaxis": {
            "backgroundcolor": "#E5ECF6",
            "gridcolor": "white",
            "gridwidth": 2,
            "linecolor": "white",
            "showbackground": true,
            "ticks": "",
            "zerolinecolor": "white"
           },
           "zaxis": {
            "backgroundcolor": "#E5ECF6",
            "gridcolor": "white",
            "gridwidth": 2,
            "linecolor": "white",
            "showbackground": true,
            "ticks": "",
            "zerolinecolor": "white"
           }
          },
          "shapedefaults": {
           "line": {
            "color": "#2a3f5f"
           }
          },
          "ternary": {
           "aaxis": {
            "gridcolor": "white",
            "linecolor": "white",
            "ticks": ""
           },
           "baxis": {
            "gridcolor": "white",
            "linecolor": "white",
            "ticks": ""
           },
           "bgcolor": "#E5ECF6",
           "caxis": {
            "gridcolor": "white",
            "linecolor": "white",
            "ticks": ""
           }
          },
          "title": {
           "x": 0.05
          },
          "xaxis": {
           "automargin": true,
           "gridcolor": "white",
           "linecolor": "white",
           "ticks": "",
           "title": {
            "standoff": 15
           },
           "zerolinecolor": "white",
           "zerolinewidth": 2
          },
          "yaxis": {
           "automargin": true,
           "gridcolor": "white",
           "linecolor": "white",
           "ticks": "",
           "title": {
            "standoff": 15
           },
           "zerolinecolor": "white",
           "zerolinewidth": 2
          }
         }
        },
        "title": {
         "text": "demographic_distribution"
        },
        "xaxis": {
         "anchor": "y",
         "domain": [
          0,
          1
         ],
         "title": {
          "text": "Institution"
         }
        },
        "yaxis": {
         "anchor": "x",
         "domain": [
          0,
          1
         ],
         "tickformat": ",.0f",
         "title": {
          "text": "Percentage of Responses"
         }
        }
       }
      }
     },
     "metadata": {},
     "output_type": "display_data"
    },
    {
     "name": "stdout",
     "output_type": "stream",
     "text": [
      "  demographic_us_region  count  total        pct\n",
      "0               Midwest     86    247  34.817814\n",
      "1             Northeast     64    247  25.910931\n",
      "4                  West     51    247  20.647773\n",
      "2             Southeast     33    247  13.360324\n",
      "3             Southwest     13    247   5.263158\n"
     ]
    },
    {
     "data": {
      "application/vnd.plotly.v1+json": {
       "config": {
        "plotlyServerURL": "https://plot.ly"
       },
       "data": [
        {
         "alignmentgroup": "True",
         "hovertemplate": "demographic_us_region=%{x}<br>pct=%{y}<extra></extra>",
         "legendgroup": "",
         "marker": {
          "color": "#636efa",
          "pattern": {
           "shape": ""
          }
         },
         "name": "",
         "offsetgroup": "",
         "orientation": "v",
         "showlegend": false,
         "textposition": "auto",
         "type": "bar",
         "x": [
          "Midwest",
          "Northeast",
          "West",
          "Southeast",
          "Southwest"
         ],
         "xaxis": "x",
         "y": [
          34.81781376518219,
          25.910931174089068,
          20.647773279352226,
          13.360323886639677,
          5.263157894736842
         ],
         "yaxis": "y"
        }
       ],
       "layout": {
        "barmode": "relative",
        "font": {
         "family": "Inter",
         "size": 14
        },
        "legend": {
         "tracegroupgap": 0
        },
        "margin": {
         "t": 60
        },
        "template": {
         "data": {
          "bar": [
           {
            "error_x": {
             "color": "#2a3f5f"
            },
            "error_y": {
             "color": "#2a3f5f"
            },
            "marker": {
             "line": {
              "color": "#E5ECF6",
              "width": 0.5
             },
             "pattern": {
              "fillmode": "overlay",
              "size": 10,
              "solidity": 0.2
             }
            },
            "type": "bar"
           }
          ],
          "barpolar": [
           {
            "marker": {
             "line": {
              "color": "#E5ECF6",
              "width": 0.5
             },
             "pattern": {
              "fillmode": "overlay",
              "size": 10,
              "solidity": 0.2
             }
            },
            "type": "barpolar"
           }
          ],
          "carpet": [
           {
            "aaxis": {
             "endlinecolor": "#2a3f5f",
             "gridcolor": "white",
             "linecolor": "white",
             "minorgridcolor": "white",
             "startlinecolor": "#2a3f5f"
            },
            "baxis": {
             "endlinecolor": "#2a3f5f",
             "gridcolor": "white",
             "linecolor": "white",
             "minorgridcolor": "white",
             "startlinecolor": "#2a3f5f"
            },
            "type": "carpet"
           }
          ],
          "choropleth": [
           {
            "colorbar": {
             "outlinewidth": 0,
             "ticks": ""
            },
            "type": "choropleth"
           }
          ],
          "contour": [
           {
            "colorbar": {
             "outlinewidth": 0,
             "ticks": ""
            },
            "colorscale": [
             [
              0,
              "#0d0887"
             ],
             [
              0.1111111111111111,
              "#46039f"
             ],
             [
              0.2222222222222222,
              "#7201a8"
             ],
             [
              0.3333333333333333,
              "#9c179e"
             ],
             [
              0.4444444444444444,
              "#bd3786"
             ],
             [
              0.5555555555555556,
              "#d8576b"
             ],
             [
              0.6666666666666666,
              "#ed7953"
             ],
             [
              0.7777777777777778,
              "#fb9f3a"
             ],
             [
              0.8888888888888888,
              "#fdca26"
             ],
             [
              1,
              "#f0f921"
             ]
            ],
            "type": "contour"
           }
          ],
          "contourcarpet": [
           {
            "colorbar": {
             "outlinewidth": 0,
             "ticks": ""
            },
            "type": "contourcarpet"
           }
          ],
          "heatmap": [
           {
            "colorbar": {
             "outlinewidth": 0,
             "ticks": ""
            },
            "colorscale": [
             [
              0,
              "#0d0887"
             ],
             [
              0.1111111111111111,
              "#46039f"
             ],
             [
              0.2222222222222222,
              "#7201a8"
             ],
             [
              0.3333333333333333,
              "#9c179e"
             ],
             [
              0.4444444444444444,
              "#bd3786"
             ],
             [
              0.5555555555555556,
              "#d8576b"
             ],
             [
              0.6666666666666666,
              "#ed7953"
             ],
             [
              0.7777777777777778,
              "#fb9f3a"
             ],
             [
              0.8888888888888888,
              "#fdca26"
             ],
             [
              1,
              "#f0f921"
             ]
            ],
            "type": "heatmap"
           }
          ],
          "heatmapgl": [
           {
            "colorbar": {
             "outlinewidth": 0,
             "ticks": ""
            },
            "colorscale": [
             [
              0,
              "#0d0887"
             ],
             [
              0.1111111111111111,
              "#46039f"
             ],
             [
              0.2222222222222222,
              "#7201a8"
             ],
             [
              0.3333333333333333,
              "#9c179e"
             ],
             [
              0.4444444444444444,
              "#bd3786"
             ],
             [
              0.5555555555555556,
              "#d8576b"
             ],
             [
              0.6666666666666666,
              "#ed7953"
             ],
             [
              0.7777777777777778,
              "#fb9f3a"
             ],
             [
              0.8888888888888888,
              "#fdca26"
             ],
             [
              1,
              "#f0f921"
             ]
            ],
            "type": "heatmapgl"
           }
          ],
          "histogram": [
           {
            "marker": {
             "pattern": {
              "fillmode": "overlay",
              "size": 10,
              "solidity": 0.2
             }
            },
            "type": "histogram"
           }
          ],
          "histogram2d": [
           {
            "colorbar": {
             "outlinewidth": 0,
             "ticks": ""
            },
            "colorscale": [
             [
              0,
              "#0d0887"
             ],
             [
              0.1111111111111111,
              "#46039f"
             ],
             [
              0.2222222222222222,
              "#7201a8"
             ],
             [
              0.3333333333333333,
              "#9c179e"
             ],
             [
              0.4444444444444444,
              "#bd3786"
             ],
             [
              0.5555555555555556,
              "#d8576b"
             ],
             [
              0.6666666666666666,
              "#ed7953"
             ],
             [
              0.7777777777777778,
              "#fb9f3a"
             ],
             [
              0.8888888888888888,
              "#fdca26"
             ],
             [
              1,
              "#f0f921"
             ]
            ],
            "type": "histogram2d"
           }
          ],
          "histogram2dcontour": [
           {
            "colorbar": {
             "outlinewidth": 0,
             "ticks": ""
            },
            "colorscale": [
             [
              0,
              "#0d0887"
             ],
             [
              0.1111111111111111,
              "#46039f"
             ],
             [
              0.2222222222222222,
              "#7201a8"
             ],
             [
              0.3333333333333333,
              "#9c179e"
             ],
             [
              0.4444444444444444,
              "#bd3786"
             ],
             [
              0.5555555555555556,
              "#d8576b"
             ],
             [
              0.6666666666666666,
              "#ed7953"
             ],
             [
              0.7777777777777778,
              "#fb9f3a"
             ],
             [
              0.8888888888888888,
              "#fdca26"
             ],
             [
              1,
              "#f0f921"
             ]
            ],
            "type": "histogram2dcontour"
           }
          ],
          "mesh3d": [
           {
            "colorbar": {
             "outlinewidth": 0,
             "ticks": ""
            },
            "type": "mesh3d"
           }
          ],
          "parcoords": [
           {
            "line": {
             "colorbar": {
              "outlinewidth": 0,
              "ticks": ""
             }
            },
            "type": "parcoords"
           }
          ],
          "pie": [
           {
            "automargin": true,
            "type": "pie"
           }
          ],
          "scatter": [
           {
            "fillpattern": {
             "fillmode": "overlay",
             "size": 10,
             "solidity": 0.2
            },
            "type": "scatter"
           }
          ],
          "scatter3d": [
           {
            "line": {
             "colorbar": {
              "outlinewidth": 0,
              "ticks": ""
             }
            },
            "marker": {
             "colorbar": {
              "outlinewidth": 0,
              "ticks": ""
             }
            },
            "type": "scatter3d"
           }
          ],
          "scattercarpet": [
           {
            "marker": {
             "colorbar": {
              "outlinewidth": 0,
              "ticks": ""
             }
            },
            "type": "scattercarpet"
           }
          ],
          "scattergeo": [
           {
            "marker": {
             "colorbar": {
              "outlinewidth": 0,
              "ticks": ""
             }
            },
            "type": "scattergeo"
           }
          ],
          "scattergl": [
           {
            "marker": {
             "colorbar": {
              "outlinewidth": 0,
              "ticks": ""
             }
            },
            "type": "scattergl"
           }
          ],
          "scattermapbox": [
           {
            "marker": {
             "colorbar": {
              "outlinewidth": 0,
              "ticks": ""
             }
            },
            "type": "scattermapbox"
           }
          ],
          "scatterpolar": [
           {
            "marker": {
             "colorbar": {
              "outlinewidth": 0,
              "ticks": ""
             }
            },
            "type": "scatterpolar"
           }
          ],
          "scatterpolargl": [
           {
            "marker": {
             "colorbar": {
              "outlinewidth": 0,
              "ticks": ""
             }
            },
            "type": "scatterpolargl"
           }
          ],
          "scatterternary": [
           {
            "marker": {
             "colorbar": {
              "outlinewidth": 0,
              "ticks": ""
             }
            },
            "type": "scatterternary"
           }
          ],
          "surface": [
           {
            "colorbar": {
             "outlinewidth": 0,
             "ticks": ""
            },
            "colorscale": [
             [
              0,
              "#0d0887"
             ],
             [
              0.1111111111111111,
              "#46039f"
             ],
             [
              0.2222222222222222,
              "#7201a8"
             ],
             [
              0.3333333333333333,
              "#9c179e"
             ],
             [
              0.4444444444444444,
              "#bd3786"
             ],
             [
              0.5555555555555556,
              "#d8576b"
             ],
             [
              0.6666666666666666,
              "#ed7953"
             ],
             [
              0.7777777777777778,
              "#fb9f3a"
             ],
             [
              0.8888888888888888,
              "#fdca26"
             ],
             [
              1,
              "#f0f921"
             ]
            ],
            "type": "surface"
           }
          ],
          "table": [
           {
            "cells": {
             "fill": {
              "color": "#EBF0F8"
             },
             "line": {
              "color": "white"
             }
            },
            "header": {
             "fill": {
              "color": "#C8D4E3"
             },
             "line": {
              "color": "white"
             }
            },
            "type": "table"
           }
          ]
         },
         "layout": {
          "annotationdefaults": {
           "arrowcolor": "#2a3f5f",
           "arrowhead": 0,
           "arrowwidth": 1
          },
          "autotypenumbers": "strict",
          "coloraxis": {
           "colorbar": {
            "outlinewidth": 0,
            "ticks": ""
           }
          },
          "colorscale": {
           "diverging": [
            [
             0,
             "#8e0152"
            ],
            [
             0.1,
             "#c51b7d"
            ],
            [
             0.2,
             "#de77ae"
            ],
            [
             0.3,
             "#f1b6da"
            ],
            [
             0.4,
             "#fde0ef"
            ],
            [
             0.5,
             "#f7f7f7"
            ],
            [
             0.6,
             "#e6f5d0"
            ],
            [
             0.7,
             "#b8e186"
            ],
            [
             0.8,
             "#7fbc41"
            ],
            [
             0.9,
             "#4d9221"
            ],
            [
             1,
             "#276419"
            ]
           ],
           "sequential": [
            [
             0,
             "#0d0887"
            ],
            [
             0.1111111111111111,
             "#46039f"
            ],
            [
             0.2222222222222222,
             "#7201a8"
            ],
            [
             0.3333333333333333,
             "#9c179e"
            ],
            [
             0.4444444444444444,
             "#bd3786"
            ],
            [
             0.5555555555555556,
             "#d8576b"
            ],
            [
             0.6666666666666666,
             "#ed7953"
            ],
            [
             0.7777777777777778,
             "#fb9f3a"
            ],
            [
             0.8888888888888888,
             "#fdca26"
            ],
            [
             1,
             "#f0f921"
            ]
           ],
           "sequentialminus": [
            [
             0,
             "#0d0887"
            ],
            [
             0.1111111111111111,
             "#46039f"
            ],
            [
             0.2222222222222222,
             "#7201a8"
            ],
            [
             0.3333333333333333,
             "#9c179e"
            ],
            [
             0.4444444444444444,
             "#bd3786"
            ],
            [
             0.5555555555555556,
             "#d8576b"
            ],
            [
             0.6666666666666666,
             "#ed7953"
            ],
            [
             0.7777777777777778,
             "#fb9f3a"
            ],
            [
             0.8888888888888888,
             "#fdca26"
            ],
            [
             1,
             "#f0f921"
            ]
           ]
          },
          "colorway": [
           "#636efa",
           "#EF553B",
           "#00cc96",
           "#ab63fa",
           "#FFA15A",
           "#19d3f3",
           "#FF6692",
           "#B6E880",
           "#FF97FF",
           "#FECB52"
          ],
          "font": {
           "color": "#2a3f5f"
          },
          "geo": {
           "bgcolor": "white",
           "lakecolor": "white",
           "landcolor": "#E5ECF6",
           "showlakes": true,
           "showland": true,
           "subunitcolor": "white"
          },
          "hoverlabel": {
           "align": "left"
          },
          "hovermode": "closest",
          "mapbox": {
           "style": "light"
          },
          "paper_bgcolor": "white",
          "plot_bgcolor": "#E5ECF6",
          "polar": {
           "angularaxis": {
            "gridcolor": "white",
            "linecolor": "white",
            "ticks": ""
           },
           "bgcolor": "#E5ECF6",
           "radialaxis": {
            "gridcolor": "white",
            "linecolor": "white",
            "ticks": ""
           }
          },
          "scene": {
           "xaxis": {
            "backgroundcolor": "#E5ECF6",
            "gridcolor": "white",
            "gridwidth": 2,
            "linecolor": "white",
            "showbackground": true,
            "ticks": "",
            "zerolinecolor": "white"
           },
           "yaxis": {
            "backgroundcolor": "#E5ECF6",
            "gridcolor": "white",
            "gridwidth": 2,
            "linecolor": "white",
            "showbackground": true,
            "ticks": "",
            "zerolinecolor": "white"
           },
           "zaxis": {
            "backgroundcolor": "#E5ECF6",
            "gridcolor": "white",
            "gridwidth": 2,
            "linecolor": "white",
            "showbackground": true,
            "ticks": "",
            "zerolinecolor": "white"
           }
          },
          "shapedefaults": {
           "line": {
            "color": "#2a3f5f"
           }
          },
          "ternary": {
           "aaxis": {
            "gridcolor": "white",
            "linecolor": "white",
            "ticks": ""
           },
           "baxis": {
            "gridcolor": "white",
            "linecolor": "white",
            "ticks": ""
           },
           "bgcolor": "#E5ECF6",
           "caxis": {
            "gridcolor": "white",
            "linecolor": "white",
            "ticks": ""
           }
          },
          "title": {
           "x": 0.05
          },
          "xaxis": {
           "automargin": true,
           "gridcolor": "white",
           "linecolor": "white",
           "ticks": "",
           "title": {
            "standoff": 15
           },
           "zerolinecolor": "white",
           "zerolinewidth": 2
          },
          "yaxis": {
           "automargin": true,
           "gridcolor": "white",
           "linecolor": "white",
           "ticks": "",
           "title": {
            "standoff": 15
           },
           "zerolinecolor": "white",
           "zerolinewidth": 2
          }
         }
        },
        "title": {
         "text": "demographic_us_region"
        },
        "xaxis": {
         "anchor": "y",
         "domain": [
          0,
          1
         ],
         "title": {
          "text": "Institution"
         }
        },
        "yaxis": {
         "anchor": "x",
         "domain": [
          0,
          1
         ],
         "tickformat": ",.0f",
         "title": {
          "text": "Percentage of Responses"
         }
        }
       }
      }
     },
     "metadata": {},
     "output_type": "display_data"
    },
    {
     "name": "stdout",
     "output_type": "stream",
     "text": [
      "  demographic_acs_trauma_region  count  total        pct\n",
      "7                             7     61    247  24.696356\n",
      "9                             9     40    247  16.194332\n",
      "4                             4     33    247  13.360324\n",
      "0                             1     25    247  10.121457\n",
      "2                             2     20    247   8.097166\n"
     ]
    },
    {
     "data": {
      "application/vnd.plotly.v1+json": {
       "config": {
        "plotlyServerURL": "https://plot.ly"
       },
       "data": [
        {
         "alignmentgroup": "True",
         "hovertemplate": "demographic_acs_trauma_region=%{x}<br>pct=%{y}<extra></extra>",
         "legendgroup": "",
         "marker": {
          "color": "#636efa",
          "pattern": {
           "shape": ""
          }
         },
         "name": "",
         "offsetgroup": "",
         "orientation": "v",
         "showlegend": false,
         "textposition": "auto",
         "type": "bar",
         "x": [
          "7",
          "9",
          "4",
          "1",
          "2",
          "3",
          "5",
          "6",
          "10",
          "8"
         ],
         "xaxis": "x",
         "y": [
          24.696356275303643,
          16.194331983805668,
          13.360323886639677,
          10.121457489878543,
          8.097165991902834,
          7.6923076923076925,
          7.6923076923076925,
          5.263157894736842,
          4.4534412955465585,
          2.42914979757085
         ],
         "yaxis": "y"
        }
       ],
       "layout": {
        "barmode": "relative",
        "font": {
         "family": "Inter",
         "size": 14
        },
        "legend": {
         "tracegroupgap": 0
        },
        "margin": {
         "t": 60
        },
        "template": {
         "data": {
          "bar": [
           {
            "error_x": {
             "color": "#2a3f5f"
            },
            "error_y": {
             "color": "#2a3f5f"
            },
            "marker": {
             "line": {
              "color": "#E5ECF6",
              "width": 0.5
             },
             "pattern": {
              "fillmode": "overlay",
              "size": 10,
              "solidity": 0.2
             }
            },
            "type": "bar"
           }
          ],
          "barpolar": [
           {
            "marker": {
             "line": {
              "color": "#E5ECF6",
              "width": 0.5
             },
             "pattern": {
              "fillmode": "overlay",
              "size": 10,
              "solidity": 0.2
             }
            },
            "type": "barpolar"
           }
          ],
          "carpet": [
           {
            "aaxis": {
             "endlinecolor": "#2a3f5f",
             "gridcolor": "white",
             "linecolor": "white",
             "minorgridcolor": "white",
             "startlinecolor": "#2a3f5f"
            },
            "baxis": {
             "endlinecolor": "#2a3f5f",
             "gridcolor": "white",
             "linecolor": "white",
             "minorgridcolor": "white",
             "startlinecolor": "#2a3f5f"
            },
            "type": "carpet"
           }
          ],
          "choropleth": [
           {
            "colorbar": {
             "outlinewidth": 0,
             "ticks": ""
            },
            "type": "choropleth"
           }
          ],
          "contour": [
           {
            "colorbar": {
             "outlinewidth": 0,
             "ticks": ""
            },
            "colorscale": [
             [
              0,
              "#0d0887"
             ],
             [
              0.1111111111111111,
              "#46039f"
             ],
             [
              0.2222222222222222,
              "#7201a8"
             ],
             [
              0.3333333333333333,
              "#9c179e"
             ],
             [
              0.4444444444444444,
              "#bd3786"
             ],
             [
              0.5555555555555556,
              "#d8576b"
             ],
             [
              0.6666666666666666,
              "#ed7953"
             ],
             [
              0.7777777777777778,
              "#fb9f3a"
             ],
             [
              0.8888888888888888,
              "#fdca26"
             ],
             [
              1,
              "#f0f921"
             ]
            ],
            "type": "contour"
           }
          ],
          "contourcarpet": [
           {
            "colorbar": {
             "outlinewidth": 0,
             "ticks": ""
            },
            "type": "contourcarpet"
           }
          ],
          "heatmap": [
           {
            "colorbar": {
             "outlinewidth": 0,
             "ticks": ""
            },
            "colorscale": [
             [
              0,
              "#0d0887"
             ],
             [
              0.1111111111111111,
              "#46039f"
             ],
             [
              0.2222222222222222,
              "#7201a8"
             ],
             [
              0.3333333333333333,
              "#9c179e"
             ],
             [
              0.4444444444444444,
              "#bd3786"
             ],
             [
              0.5555555555555556,
              "#d8576b"
             ],
             [
              0.6666666666666666,
              "#ed7953"
             ],
             [
              0.7777777777777778,
              "#fb9f3a"
             ],
             [
              0.8888888888888888,
              "#fdca26"
             ],
             [
              1,
              "#f0f921"
             ]
            ],
            "type": "heatmap"
           }
          ],
          "heatmapgl": [
           {
            "colorbar": {
             "outlinewidth": 0,
             "ticks": ""
            },
            "colorscale": [
             [
              0,
              "#0d0887"
             ],
             [
              0.1111111111111111,
              "#46039f"
             ],
             [
              0.2222222222222222,
              "#7201a8"
             ],
             [
              0.3333333333333333,
              "#9c179e"
             ],
             [
              0.4444444444444444,
              "#bd3786"
             ],
             [
              0.5555555555555556,
              "#d8576b"
             ],
             [
              0.6666666666666666,
              "#ed7953"
             ],
             [
              0.7777777777777778,
              "#fb9f3a"
             ],
             [
              0.8888888888888888,
              "#fdca26"
             ],
             [
              1,
              "#f0f921"
             ]
            ],
            "type": "heatmapgl"
           }
          ],
          "histogram": [
           {
            "marker": {
             "pattern": {
              "fillmode": "overlay",
              "size": 10,
              "solidity": 0.2
             }
            },
            "type": "histogram"
           }
          ],
          "histogram2d": [
           {
            "colorbar": {
             "outlinewidth": 0,
             "ticks": ""
            },
            "colorscale": [
             [
              0,
              "#0d0887"
             ],
             [
              0.1111111111111111,
              "#46039f"
             ],
             [
              0.2222222222222222,
              "#7201a8"
             ],
             [
              0.3333333333333333,
              "#9c179e"
             ],
             [
              0.4444444444444444,
              "#bd3786"
             ],
             [
              0.5555555555555556,
              "#d8576b"
             ],
             [
              0.6666666666666666,
              "#ed7953"
             ],
             [
              0.7777777777777778,
              "#fb9f3a"
             ],
             [
              0.8888888888888888,
              "#fdca26"
             ],
             [
              1,
              "#f0f921"
             ]
            ],
            "type": "histogram2d"
           }
          ],
          "histogram2dcontour": [
           {
            "colorbar": {
             "outlinewidth": 0,
             "ticks": ""
            },
            "colorscale": [
             [
              0,
              "#0d0887"
             ],
             [
              0.1111111111111111,
              "#46039f"
             ],
             [
              0.2222222222222222,
              "#7201a8"
             ],
             [
              0.3333333333333333,
              "#9c179e"
             ],
             [
              0.4444444444444444,
              "#bd3786"
             ],
             [
              0.5555555555555556,
              "#d8576b"
             ],
             [
              0.6666666666666666,
              "#ed7953"
             ],
             [
              0.7777777777777778,
              "#fb9f3a"
             ],
             [
              0.8888888888888888,
              "#fdca26"
             ],
             [
              1,
              "#f0f921"
             ]
            ],
            "type": "histogram2dcontour"
           }
          ],
          "mesh3d": [
           {
            "colorbar": {
             "outlinewidth": 0,
             "ticks": ""
            },
            "type": "mesh3d"
           }
          ],
          "parcoords": [
           {
            "line": {
             "colorbar": {
              "outlinewidth": 0,
              "ticks": ""
             }
            },
            "type": "parcoords"
           }
          ],
          "pie": [
           {
            "automargin": true,
            "type": "pie"
           }
          ],
          "scatter": [
           {
            "fillpattern": {
             "fillmode": "overlay",
             "size": 10,
             "solidity": 0.2
            },
            "type": "scatter"
           }
          ],
          "scatter3d": [
           {
            "line": {
             "colorbar": {
              "outlinewidth": 0,
              "ticks": ""
             }
            },
            "marker": {
             "colorbar": {
              "outlinewidth": 0,
              "ticks": ""
             }
            },
            "type": "scatter3d"
           }
          ],
          "scattercarpet": [
           {
            "marker": {
             "colorbar": {
              "outlinewidth": 0,
              "ticks": ""
             }
            },
            "type": "scattercarpet"
           }
          ],
          "scattergeo": [
           {
            "marker": {
             "colorbar": {
              "outlinewidth": 0,
              "ticks": ""
             }
            },
            "type": "scattergeo"
           }
          ],
          "scattergl": [
           {
            "marker": {
             "colorbar": {
              "outlinewidth": 0,
              "ticks": ""
             }
            },
            "type": "scattergl"
           }
          ],
          "scattermapbox": [
           {
            "marker": {
             "colorbar": {
              "outlinewidth": 0,
              "ticks": ""
             }
            },
            "type": "scattermapbox"
           }
          ],
          "scatterpolar": [
           {
            "marker": {
             "colorbar": {
              "outlinewidth": 0,
              "ticks": ""
             }
            },
            "type": "scatterpolar"
           }
          ],
          "scatterpolargl": [
           {
            "marker": {
             "colorbar": {
              "outlinewidth": 0,
              "ticks": ""
             }
            },
            "type": "scatterpolargl"
           }
          ],
          "scatterternary": [
           {
            "marker": {
             "colorbar": {
              "outlinewidth": 0,
              "ticks": ""
             }
            },
            "type": "scatterternary"
           }
          ],
          "surface": [
           {
            "colorbar": {
             "outlinewidth": 0,
             "ticks": ""
            },
            "colorscale": [
             [
              0,
              "#0d0887"
             ],
             [
              0.1111111111111111,
              "#46039f"
             ],
             [
              0.2222222222222222,
              "#7201a8"
             ],
             [
              0.3333333333333333,
              "#9c179e"
             ],
             [
              0.4444444444444444,
              "#bd3786"
             ],
             [
              0.5555555555555556,
              "#d8576b"
             ],
             [
              0.6666666666666666,
              "#ed7953"
             ],
             [
              0.7777777777777778,
              "#fb9f3a"
             ],
             [
              0.8888888888888888,
              "#fdca26"
             ],
             [
              1,
              "#f0f921"
             ]
            ],
            "type": "surface"
           }
          ],
          "table": [
           {
            "cells": {
             "fill": {
              "color": "#EBF0F8"
             },
             "line": {
              "color": "white"
             }
            },
            "header": {
             "fill": {
              "color": "#C8D4E3"
             },
             "line": {
              "color": "white"
             }
            },
            "type": "table"
           }
          ]
         },
         "layout": {
          "annotationdefaults": {
           "arrowcolor": "#2a3f5f",
           "arrowhead": 0,
           "arrowwidth": 1
          },
          "autotypenumbers": "strict",
          "coloraxis": {
           "colorbar": {
            "outlinewidth": 0,
            "ticks": ""
           }
          },
          "colorscale": {
           "diverging": [
            [
             0,
             "#8e0152"
            ],
            [
             0.1,
             "#c51b7d"
            ],
            [
             0.2,
             "#de77ae"
            ],
            [
             0.3,
             "#f1b6da"
            ],
            [
             0.4,
             "#fde0ef"
            ],
            [
             0.5,
             "#f7f7f7"
            ],
            [
             0.6,
             "#e6f5d0"
            ],
            [
             0.7,
             "#b8e186"
            ],
            [
             0.8,
             "#7fbc41"
            ],
            [
             0.9,
             "#4d9221"
            ],
            [
             1,
             "#276419"
            ]
           ],
           "sequential": [
            [
             0,
             "#0d0887"
            ],
            [
             0.1111111111111111,
             "#46039f"
            ],
            [
             0.2222222222222222,
             "#7201a8"
            ],
            [
             0.3333333333333333,
             "#9c179e"
            ],
            [
             0.4444444444444444,
             "#bd3786"
            ],
            [
             0.5555555555555556,
             "#d8576b"
            ],
            [
             0.6666666666666666,
             "#ed7953"
            ],
            [
             0.7777777777777778,
             "#fb9f3a"
            ],
            [
             0.8888888888888888,
             "#fdca26"
            ],
            [
             1,
             "#f0f921"
            ]
           ],
           "sequentialminus": [
            [
             0,
             "#0d0887"
            ],
            [
             0.1111111111111111,
             "#46039f"
            ],
            [
             0.2222222222222222,
             "#7201a8"
            ],
            [
             0.3333333333333333,
             "#9c179e"
            ],
            [
             0.4444444444444444,
             "#bd3786"
            ],
            [
             0.5555555555555556,
             "#d8576b"
            ],
            [
             0.6666666666666666,
             "#ed7953"
            ],
            [
             0.7777777777777778,
             "#fb9f3a"
            ],
            [
             0.8888888888888888,
             "#fdca26"
            ],
            [
             1,
             "#f0f921"
            ]
           ]
          },
          "colorway": [
           "#636efa",
           "#EF553B",
           "#00cc96",
           "#ab63fa",
           "#FFA15A",
           "#19d3f3",
           "#FF6692",
           "#B6E880",
           "#FF97FF",
           "#FECB52"
          ],
          "font": {
           "color": "#2a3f5f"
          },
          "geo": {
           "bgcolor": "white",
           "lakecolor": "white",
           "landcolor": "#E5ECF6",
           "showlakes": true,
           "showland": true,
           "subunitcolor": "white"
          },
          "hoverlabel": {
           "align": "left"
          },
          "hovermode": "closest",
          "mapbox": {
           "style": "light"
          },
          "paper_bgcolor": "white",
          "plot_bgcolor": "#E5ECF6",
          "polar": {
           "angularaxis": {
            "gridcolor": "white",
            "linecolor": "white",
            "ticks": ""
           },
           "bgcolor": "#E5ECF6",
           "radialaxis": {
            "gridcolor": "white",
            "linecolor": "white",
            "ticks": ""
           }
          },
          "scene": {
           "xaxis": {
            "backgroundcolor": "#E5ECF6",
            "gridcolor": "white",
            "gridwidth": 2,
            "linecolor": "white",
            "showbackground": true,
            "ticks": "",
            "zerolinecolor": "white"
           },
           "yaxis": {
            "backgroundcolor": "#E5ECF6",
            "gridcolor": "white",
            "gridwidth": 2,
            "linecolor": "white",
            "showbackground": true,
            "ticks": "",
            "zerolinecolor": "white"
           },
           "zaxis": {
            "backgroundcolor": "#E5ECF6",
            "gridcolor": "white",
            "gridwidth": 2,
            "linecolor": "white",
            "showbackground": true,
            "ticks": "",
            "zerolinecolor": "white"
           }
          },
          "shapedefaults": {
           "line": {
            "color": "#2a3f5f"
           }
          },
          "ternary": {
           "aaxis": {
            "gridcolor": "white",
            "linecolor": "white",
            "ticks": ""
           },
           "baxis": {
            "gridcolor": "white",
            "linecolor": "white",
            "ticks": ""
           },
           "bgcolor": "#E5ECF6",
           "caxis": {
            "gridcolor": "white",
            "linecolor": "white",
            "ticks": ""
           }
          },
          "title": {
           "x": 0.05
          },
          "xaxis": {
           "automargin": true,
           "gridcolor": "white",
           "linecolor": "white",
           "ticks": "",
           "title": {
            "standoff": 15
           },
           "zerolinecolor": "white",
           "zerolinewidth": 2
          },
          "yaxis": {
           "automargin": true,
           "gridcolor": "white",
           "linecolor": "white",
           "ticks": "",
           "title": {
            "standoff": 15
           },
           "zerolinecolor": "white",
           "zerolinewidth": 2
          }
         }
        },
        "title": {
         "text": "demographic_acs_trauma_region"
        },
        "xaxis": {
         "anchor": "y",
         "domain": [
          0,
          1
         ],
         "title": {
          "text": "Institution"
         }
        },
        "yaxis": {
         "anchor": "x",
         "domain": [
          0,
          1
         ],
         "tickformat": ",.0f",
         "title": {
          "text": "Percentage of Responses"
         }
        }
       }
      }
     },
     "metadata": {},
     "output_type": "display_data"
    },
    {
     "name": "stdout",
     "output_type": "stream",
     "text": [
      "  survey_info_response_id  demographic_sample_size\n",
      "0       R_1dMlSI0KXyxsTZn                    123.0\n",
      "1       R_7QYh6bTyOmOQo3D                    123.0\n",
      "3       R_6tYa59Tv4zOhQgp                    123.0\n",
      "4       R_25RsYOfgaO79uts                    123.0\n",
      "5       R_22qNtCIlTv6yOWH                    123.0\n"
     ]
    },
    {
     "data": {
      "application/vnd.plotly.v1+json": {
       "config": {
        "plotlyServerURL": "https://plot.ly"
       },
       "data": [
        {
         "alignmentgroup": "True",
         "bingroup": "x",
         "hovertemplate": "demographic_sample_size=%{x}<br>count=%{y}<extra></extra>",
         "legendgroup": "",
         "marker": {
          "color": "#636efa",
          "pattern": {
           "shape": ""
          }
         },
         "name": "",
         "offsetgroup": "",
         "orientation": "v",
         "showlegend": false,
         "type": "histogram",
         "x": [
          123,
          123,
          123,
          123,
          123,
          123,
          123,
          123,
          123,
          123,
          123,
          123,
          123,
          123,
          123,
          123,
          11,
          123,
          123,
          38,
          38,
          38,
          38,
          38,
          38,
          123,
          38,
          38,
          38,
          38,
          38,
          99,
          38,
          38,
          38,
          99,
          99,
          99,
          99,
          99,
          99,
          99,
          99,
          99,
          99,
          99,
          99,
          99,
          99,
          99,
          99,
          99,
          99,
          123,
          123,
          123,
          99,
          99,
          123,
          123,
          123,
          123,
          99,
          123,
          99,
          99,
          38,
          38,
          123,
          99,
          99,
          99,
          123,
          123,
          11,
          55,
          55,
          55,
          55,
          55,
          55,
          55,
          55,
          55,
          55,
          55,
          99,
          55,
          99,
          99,
          99,
          99,
          99,
          99,
          99,
          99,
          99,
          99,
          99,
          99,
          99,
          99,
          99,
          99,
          123,
          123,
          123,
          27,
          27,
          123,
          27,
          99,
          99,
          123,
          123,
          27,
          27,
          27,
          123,
          99,
          99,
          88,
          88,
          88,
          88,
          88,
          88,
          88,
          88,
          88,
          88,
          88,
          88,
          88,
          88,
          88,
          11,
          11,
          88,
          88,
          88,
          88,
          88,
          88,
          88,
          88,
          55,
          88,
          88,
          11,
          88,
          27,
          11,
          27,
          27,
          88,
          27,
          38,
          38,
          88,
          38,
          38,
          88,
          38,
          88,
          88,
          49,
          49,
          49,
          49,
          49,
          49,
          49,
          49,
          49,
          27,
          88,
          49,
          38,
          49,
          49,
          49,
          49,
          49,
          123,
          123,
          99,
          99,
          99,
          99,
          99,
          99,
          99,
          99,
          27,
          38,
          99,
          99,
          99,
          38,
          38,
          99,
          49,
          49,
          49,
          49,
          58,
          49,
          24,
          24,
          24,
          27,
          24,
          88,
          24,
          123,
          99,
          58,
          58,
          58,
          58,
          58,
          58,
          58,
          58,
          58,
          58,
          58,
          58,
          58,
          58,
          58,
          24,
          24,
          24,
          24,
          24,
          55,
          55,
          55,
          55,
          24,
          55,
          55,
          58,
          58,
          58
         ],
         "xaxis": "x",
         "yaxis": "y"
        }
       ],
       "layout": {
        "barmode": "relative",
        "font": {
         "family": "Inter",
         "size": 14
        },
        "legend": {
         "tracegroupgap": 0
        },
        "margin": {
         "t": 60
        },
        "template": {
         "data": {
          "bar": [
           {
            "error_x": {
             "color": "#2a3f5f"
            },
            "error_y": {
             "color": "#2a3f5f"
            },
            "marker": {
             "line": {
              "color": "#E5ECF6",
              "width": 0.5
             },
             "pattern": {
              "fillmode": "overlay",
              "size": 10,
              "solidity": 0.2
             }
            },
            "type": "bar"
           }
          ],
          "barpolar": [
           {
            "marker": {
             "line": {
              "color": "#E5ECF6",
              "width": 0.5
             },
             "pattern": {
              "fillmode": "overlay",
              "size": 10,
              "solidity": 0.2
             }
            },
            "type": "barpolar"
           }
          ],
          "carpet": [
           {
            "aaxis": {
             "endlinecolor": "#2a3f5f",
             "gridcolor": "white",
             "linecolor": "white",
             "minorgridcolor": "white",
             "startlinecolor": "#2a3f5f"
            },
            "baxis": {
             "endlinecolor": "#2a3f5f",
             "gridcolor": "white",
             "linecolor": "white",
             "minorgridcolor": "white",
             "startlinecolor": "#2a3f5f"
            },
            "type": "carpet"
           }
          ],
          "choropleth": [
           {
            "colorbar": {
             "outlinewidth": 0,
             "ticks": ""
            },
            "type": "choropleth"
           }
          ],
          "contour": [
           {
            "colorbar": {
             "outlinewidth": 0,
             "ticks": ""
            },
            "colorscale": [
             [
              0,
              "#0d0887"
             ],
             [
              0.1111111111111111,
              "#46039f"
             ],
             [
              0.2222222222222222,
              "#7201a8"
             ],
             [
              0.3333333333333333,
              "#9c179e"
             ],
             [
              0.4444444444444444,
              "#bd3786"
             ],
             [
              0.5555555555555556,
              "#d8576b"
             ],
             [
              0.6666666666666666,
              "#ed7953"
             ],
             [
              0.7777777777777778,
              "#fb9f3a"
             ],
             [
              0.8888888888888888,
              "#fdca26"
             ],
             [
              1,
              "#f0f921"
             ]
            ],
            "type": "contour"
           }
          ],
          "contourcarpet": [
           {
            "colorbar": {
             "outlinewidth": 0,
             "ticks": ""
            },
            "type": "contourcarpet"
           }
          ],
          "heatmap": [
           {
            "colorbar": {
             "outlinewidth": 0,
             "ticks": ""
            },
            "colorscale": [
             [
              0,
              "#0d0887"
             ],
             [
              0.1111111111111111,
              "#46039f"
             ],
             [
              0.2222222222222222,
              "#7201a8"
             ],
             [
              0.3333333333333333,
              "#9c179e"
             ],
             [
              0.4444444444444444,
              "#bd3786"
             ],
             [
              0.5555555555555556,
              "#d8576b"
             ],
             [
              0.6666666666666666,
              "#ed7953"
             ],
             [
              0.7777777777777778,
              "#fb9f3a"
             ],
             [
              0.8888888888888888,
              "#fdca26"
             ],
             [
              1,
              "#f0f921"
             ]
            ],
            "type": "heatmap"
           }
          ],
          "heatmapgl": [
           {
            "colorbar": {
             "outlinewidth": 0,
             "ticks": ""
            },
            "colorscale": [
             [
              0,
              "#0d0887"
             ],
             [
              0.1111111111111111,
              "#46039f"
             ],
             [
              0.2222222222222222,
              "#7201a8"
             ],
             [
              0.3333333333333333,
              "#9c179e"
             ],
             [
              0.4444444444444444,
              "#bd3786"
             ],
             [
              0.5555555555555556,
              "#d8576b"
             ],
             [
              0.6666666666666666,
              "#ed7953"
             ],
             [
              0.7777777777777778,
              "#fb9f3a"
             ],
             [
              0.8888888888888888,
              "#fdca26"
             ],
             [
              1,
              "#f0f921"
             ]
            ],
            "type": "heatmapgl"
           }
          ],
          "histogram": [
           {
            "marker": {
             "pattern": {
              "fillmode": "overlay",
              "size": 10,
              "solidity": 0.2
             }
            },
            "type": "histogram"
           }
          ],
          "histogram2d": [
           {
            "colorbar": {
             "outlinewidth": 0,
             "ticks": ""
            },
            "colorscale": [
             [
              0,
              "#0d0887"
             ],
             [
              0.1111111111111111,
              "#46039f"
             ],
             [
              0.2222222222222222,
              "#7201a8"
             ],
             [
              0.3333333333333333,
              "#9c179e"
             ],
             [
              0.4444444444444444,
              "#bd3786"
             ],
             [
              0.5555555555555556,
              "#d8576b"
             ],
             [
              0.6666666666666666,
              "#ed7953"
             ],
             [
              0.7777777777777778,
              "#fb9f3a"
             ],
             [
              0.8888888888888888,
              "#fdca26"
             ],
             [
              1,
              "#f0f921"
             ]
            ],
            "type": "histogram2d"
           }
          ],
          "histogram2dcontour": [
           {
            "colorbar": {
             "outlinewidth": 0,
             "ticks": ""
            },
            "colorscale": [
             [
              0,
              "#0d0887"
             ],
             [
              0.1111111111111111,
              "#46039f"
             ],
             [
              0.2222222222222222,
              "#7201a8"
             ],
             [
              0.3333333333333333,
              "#9c179e"
             ],
             [
              0.4444444444444444,
              "#bd3786"
             ],
             [
              0.5555555555555556,
              "#d8576b"
             ],
             [
              0.6666666666666666,
              "#ed7953"
             ],
             [
              0.7777777777777778,
              "#fb9f3a"
             ],
             [
              0.8888888888888888,
              "#fdca26"
             ],
             [
              1,
              "#f0f921"
             ]
            ],
            "type": "histogram2dcontour"
           }
          ],
          "mesh3d": [
           {
            "colorbar": {
             "outlinewidth": 0,
             "ticks": ""
            },
            "type": "mesh3d"
           }
          ],
          "parcoords": [
           {
            "line": {
             "colorbar": {
              "outlinewidth": 0,
              "ticks": ""
             }
            },
            "type": "parcoords"
           }
          ],
          "pie": [
           {
            "automargin": true,
            "type": "pie"
           }
          ],
          "scatter": [
           {
            "fillpattern": {
             "fillmode": "overlay",
             "size": 10,
             "solidity": 0.2
            },
            "type": "scatter"
           }
          ],
          "scatter3d": [
           {
            "line": {
             "colorbar": {
              "outlinewidth": 0,
              "ticks": ""
             }
            },
            "marker": {
             "colorbar": {
              "outlinewidth": 0,
              "ticks": ""
             }
            },
            "type": "scatter3d"
           }
          ],
          "scattercarpet": [
           {
            "marker": {
             "colorbar": {
              "outlinewidth": 0,
              "ticks": ""
             }
            },
            "type": "scattercarpet"
           }
          ],
          "scattergeo": [
           {
            "marker": {
             "colorbar": {
              "outlinewidth": 0,
              "ticks": ""
             }
            },
            "type": "scattergeo"
           }
          ],
          "scattergl": [
           {
            "marker": {
             "colorbar": {
              "outlinewidth": 0,
              "ticks": ""
             }
            },
            "type": "scattergl"
           }
          ],
          "scattermapbox": [
           {
            "marker": {
             "colorbar": {
              "outlinewidth": 0,
              "ticks": ""
             }
            },
            "type": "scattermapbox"
           }
          ],
          "scatterpolar": [
           {
            "marker": {
             "colorbar": {
              "outlinewidth": 0,
              "ticks": ""
             }
            },
            "type": "scatterpolar"
           }
          ],
          "scatterpolargl": [
           {
            "marker": {
             "colorbar": {
              "outlinewidth": 0,
              "ticks": ""
             }
            },
            "type": "scatterpolargl"
           }
          ],
          "scatterternary": [
           {
            "marker": {
             "colorbar": {
              "outlinewidth": 0,
              "ticks": ""
             }
            },
            "type": "scatterternary"
           }
          ],
          "surface": [
           {
            "colorbar": {
             "outlinewidth": 0,
             "ticks": ""
            },
            "colorscale": [
             [
              0,
              "#0d0887"
             ],
             [
              0.1111111111111111,
              "#46039f"
             ],
             [
              0.2222222222222222,
              "#7201a8"
             ],
             [
              0.3333333333333333,
              "#9c179e"
             ],
             [
              0.4444444444444444,
              "#bd3786"
             ],
             [
              0.5555555555555556,
              "#d8576b"
             ],
             [
              0.6666666666666666,
              "#ed7953"
             ],
             [
              0.7777777777777778,
              "#fb9f3a"
             ],
             [
              0.8888888888888888,
              "#fdca26"
             ],
             [
              1,
              "#f0f921"
             ]
            ],
            "type": "surface"
           }
          ],
          "table": [
           {
            "cells": {
             "fill": {
              "color": "#EBF0F8"
             },
             "line": {
              "color": "white"
             }
            },
            "header": {
             "fill": {
              "color": "#C8D4E3"
             },
             "line": {
              "color": "white"
             }
            },
            "type": "table"
           }
          ]
         },
         "layout": {
          "annotationdefaults": {
           "arrowcolor": "#2a3f5f",
           "arrowhead": 0,
           "arrowwidth": 1
          },
          "autotypenumbers": "strict",
          "coloraxis": {
           "colorbar": {
            "outlinewidth": 0,
            "ticks": ""
           }
          },
          "colorscale": {
           "diverging": [
            [
             0,
             "#8e0152"
            ],
            [
             0.1,
             "#c51b7d"
            ],
            [
             0.2,
             "#de77ae"
            ],
            [
             0.3,
             "#f1b6da"
            ],
            [
             0.4,
             "#fde0ef"
            ],
            [
             0.5,
             "#f7f7f7"
            ],
            [
             0.6,
             "#e6f5d0"
            ],
            [
             0.7,
             "#b8e186"
            ],
            [
             0.8,
             "#7fbc41"
            ],
            [
             0.9,
             "#4d9221"
            ],
            [
             1,
             "#276419"
            ]
           ],
           "sequential": [
            [
             0,
             "#0d0887"
            ],
            [
             0.1111111111111111,
             "#46039f"
            ],
            [
             0.2222222222222222,
             "#7201a8"
            ],
            [
             0.3333333333333333,
             "#9c179e"
            ],
            [
             0.4444444444444444,
             "#bd3786"
            ],
            [
             0.5555555555555556,
             "#d8576b"
            ],
            [
             0.6666666666666666,
             "#ed7953"
            ],
            [
             0.7777777777777778,
             "#fb9f3a"
            ],
            [
             0.8888888888888888,
             "#fdca26"
            ],
            [
             1,
             "#f0f921"
            ]
           ],
           "sequentialminus": [
            [
             0,
             "#0d0887"
            ],
            [
             0.1111111111111111,
             "#46039f"
            ],
            [
             0.2222222222222222,
             "#7201a8"
            ],
            [
             0.3333333333333333,
             "#9c179e"
            ],
            [
             0.4444444444444444,
             "#bd3786"
            ],
            [
             0.5555555555555556,
             "#d8576b"
            ],
            [
             0.6666666666666666,
             "#ed7953"
            ],
            [
             0.7777777777777778,
             "#fb9f3a"
            ],
            [
             0.8888888888888888,
             "#fdca26"
            ],
            [
             1,
             "#f0f921"
            ]
           ]
          },
          "colorway": [
           "#636efa",
           "#EF553B",
           "#00cc96",
           "#ab63fa",
           "#FFA15A",
           "#19d3f3",
           "#FF6692",
           "#B6E880",
           "#FF97FF",
           "#FECB52"
          ],
          "font": {
           "color": "#2a3f5f"
          },
          "geo": {
           "bgcolor": "white",
           "lakecolor": "white",
           "landcolor": "#E5ECF6",
           "showlakes": true,
           "showland": true,
           "subunitcolor": "white"
          },
          "hoverlabel": {
           "align": "left"
          },
          "hovermode": "closest",
          "mapbox": {
           "style": "light"
          },
          "paper_bgcolor": "white",
          "plot_bgcolor": "#E5ECF6",
          "polar": {
           "angularaxis": {
            "gridcolor": "white",
            "linecolor": "white",
            "ticks": ""
           },
           "bgcolor": "#E5ECF6",
           "radialaxis": {
            "gridcolor": "white",
            "linecolor": "white",
            "ticks": ""
           }
          },
          "scene": {
           "xaxis": {
            "backgroundcolor": "#E5ECF6",
            "gridcolor": "white",
            "gridwidth": 2,
            "linecolor": "white",
            "showbackground": true,
            "ticks": "",
            "zerolinecolor": "white"
           },
           "yaxis": {
            "backgroundcolor": "#E5ECF6",
            "gridcolor": "white",
            "gridwidth": 2,
            "linecolor": "white",
            "showbackground": true,
            "ticks": "",
            "zerolinecolor": "white"
           },
           "zaxis": {
            "backgroundcolor": "#E5ECF6",
            "gridcolor": "white",
            "gridwidth": 2,
            "linecolor": "white",
            "showbackground": true,
            "ticks": "",
            "zerolinecolor": "white"
           }
          },
          "shapedefaults": {
           "line": {
            "color": "#2a3f5f"
           }
          },
          "ternary": {
           "aaxis": {
            "gridcolor": "white",
            "linecolor": "white",
            "ticks": ""
           },
           "baxis": {
            "gridcolor": "white",
            "linecolor": "white",
            "ticks": ""
           },
           "bgcolor": "#E5ECF6",
           "caxis": {
            "gridcolor": "white",
            "linecolor": "white",
            "ticks": ""
           }
          },
          "title": {
           "x": 0.05
          },
          "xaxis": {
           "automargin": true,
           "gridcolor": "white",
           "linecolor": "white",
           "ticks": "",
           "title": {
            "standoff": 15
           },
           "zerolinecolor": "white",
           "zerolinewidth": 2
          },
          "yaxis": {
           "automargin": true,
           "gridcolor": "white",
           "linecolor": "white",
           "ticks": "",
           "title": {
            "standoff": 15
           },
           "zerolinecolor": "white",
           "zerolinewidth": 2
          }
         }
        },
        "title": {
         "text": "demographic_sample_size"
        },
        "xaxis": {
         "anchor": "y",
         "domain": [
          0,
          1
         ],
         "title": {
          "text": "Institution"
         }
        },
        "yaxis": {
         "anchor": "x",
         "domain": [
          0,
          1
         ],
         "tickformat": ",.0f",
         "title": {
          "text": "Percentage of Responses"
         }
        }
       }
      }
     },
     "metadata": {},
     "output_type": "display_data"
    }
   ],
   "source": [
    "def visualize_distribution(df, col):\n",
    "\n",
    "    ## see if col is an int\n",
    "    if ('years' in col) or ('sample_size' in col):\n",
    "        fig = px.histogram(df, x=col)\n",
    "\n",
    "    else:\n",
    "        fig = px.bar(\n",
    "            df,\n",
    "            x = col,\n",
    "            y = 'pct'\n",
    "        )\n",
    "    \n",
    "    fig.update_layout(\n",
    "        title = col,\n",
    "        xaxis_title = 'Institution',\n",
    "        yaxis_title = 'Percentage of Responses',\n",
    "        yaxis_tickformat = ',.0f',\n",
    "        font_family = 'Inter',\n",
    "        font_size = 14\n",
    "    )\n",
    "\n",
    "    fig.show()\n",
    "\n",
    "for col in demo_cols:\n",
    "\n",
    "    # ## print the datatype of col\n",
    "    # print(df_choice_filtered[col].dtype)\n",
    "\n",
    "    if 'response_id' in col:\n",
    "        continue\n",
    "  \n",
    "    elif ('years' in col) or ('sample_size' in col):\n",
    "        df_distribution = df_choice_filtered[['survey_info_response_id', col]].dropna()\n",
    "        df_distribution[col] = df_distribution[col].astype(float)\n",
    "\n",
    "    elif 'list' in col:\n",
    "\n",
    "        ## Explode the dataframe on the list column\n",
    "        df_explode = df_choice_filtered.explode(col)\n",
    "        ## Group by col and count the number of unique survey_info_response_id\n",
    "        df_distribution = df_explode.groupby(col).agg(\n",
    "            count = ('survey_info_response_id', 'nunique')\n",
    "        )\n",
    "\n",
    "        df_distribution.reset_index(inplace=True)\n",
    "        df_distribution.sort_values(by='count', ascending=False, inplace=True)\n",
    "\n",
    "        ## Get the length of df and save in a new column called 'total'\n",
    "        df_distribution['total'] = len(df_choice_filtered)\n",
    "\n",
    "        ## Get the percentage of each count and save in a new column called 'percentage'\n",
    "        df_distribution['pct'] = (df_distribution['count'] / df_distribution['total']) * 100\n",
    "        \n",
    "    else:\n",
    "\n",
    "        ## Group by col and count the number of unique survey_info_response_id\n",
    "        df_distribution = df_choice_filtered.groupby(col).agg(\n",
    "            count = ('survey_info_response_id', 'nunique')\n",
    "        )\n",
    "\n",
    "        df_distribution.reset_index(inplace=True)\n",
    "        df_distribution.sort_values(by='count', ascending=False, inplace=True)\n",
    "\n",
    "        ## Get the length of df and save in a new column called 'total'\n",
    "        df_distribution['total'] = len(df_choice_filtered)\n",
    "\n",
    "        ## Get the percentage of each count and save in a new column called 'percentage'\n",
    "        df_distribution['pct'] = (df_distribution['count'] / df_distribution['total']) * 100\n",
    "    \n",
    "    print(df_distribution.head())\n",
    "    visualize_distribution(df_distribution, col)\n",
    "\n",
    "\n"
   ]
  },
  {
   "cell_type": "markdown",
   "metadata": {},
   "source": [
    "Demographic Analysis"
   ]
  },
  {
   "cell_type": "markdown",
   "metadata": {},
   "source": [
    "## Calculating Sample Sizes"
   ]
  },
  {
   "cell_type": "code",
   "execution_count": 614,
   "metadata": {},
   "outputs": [
    {
     "data": {
      "application/vnd.plotly.v1+json": {
       "config": {
        "plotlyServerURL": "https://plot.ly"
       },
       "data": [
        {
         "alignmentgroup": "True",
         "hovertemplate": "demographic_distribution=%{x}<br>pct=%{text}<extra></extra>",
         "legendgroup": "",
         "marker": {
          "color": "#636efa",
          "pattern": {
           "shape": ""
          }
         },
         "name": "",
         "offsetgroup": "",
         "orientation": "v",
         "showlegend": false,
         "text": [
          66,
          62,
          55,
          48,
          46,
          41,
          38,
          35,
          33,
          33
         ],
         "textposition": "inside",
         "type": "bar",
         "x": [
          "lahey",
          "washu",
          "und",
          "texastech",
          "virginiamason",
          "cornell",
          "vanderbilt",
          "lehigh",
          "northwestern",
          "ucsf"
         ],
         "xaxis": "x",
         "y": [
          66,
          62,
          55,
          48,
          46,
          41,
          38,
          35,
          33,
          33
         ],
         "yaxis": "y"
        }
       ],
       "layout": {
        "barmode": "relative",
        "font": {
         "family": "Inter",
         "size": 14
        },
        "legend": {
         "tracegroupgap": 0
        },
        "margin": {
         "t": 60
        },
        "template": {
         "data": {
          "bar": [
           {
            "error_x": {
             "color": "#2a3f5f"
            },
            "error_y": {
             "color": "#2a3f5f"
            },
            "marker": {
             "line": {
              "color": "#E5ECF6",
              "width": 0.5
             },
             "pattern": {
              "fillmode": "overlay",
              "size": 10,
              "solidity": 0.2
             }
            },
            "type": "bar"
           }
          ],
          "barpolar": [
           {
            "marker": {
             "line": {
              "color": "#E5ECF6",
              "width": 0.5
             },
             "pattern": {
              "fillmode": "overlay",
              "size": 10,
              "solidity": 0.2
             }
            },
            "type": "barpolar"
           }
          ],
          "carpet": [
           {
            "aaxis": {
             "endlinecolor": "#2a3f5f",
             "gridcolor": "white",
             "linecolor": "white",
             "minorgridcolor": "white",
             "startlinecolor": "#2a3f5f"
            },
            "baxis": {
             "endlinecolor": "#2a3f5f",
             "gridcolor": "white",
             "linecolor": "white",
             "minorgridcolor": "white",
             "startlinecolor": "#2a3f5f"
            },
            "type": "carpet"
           }
          ],
          "choropleth": [
           {
            "colorbar": {
             "outlinewidth": 0,
             "ticks": ""
            },
            "type": "choropleth"
           }
          ],
          "contour": [
           {
            "colorbar": {
             "outlinewidth": 0,
             "ticks": ""
            },
            "colorscale": [
             [
              0,
              "#0d0887"
             ],
             [
              0.1111111111111111,
              "#46039f"
             ],
             [
              0.2222222222222222,
              "#7201a8"
             ],
             [
              0.3333333333333333,
              "#9c179e"
             ],
             [
              0.4444444444444444,
              "#bd3786"
             ],
             [
              0.5555555555555556,
              "#d8576b"
             ],
             [
              0.6666666666666666,
              "#ed7953"
             ],
             [
              0.7777777777777778,
              "#fb9f3a"
             ],
             [
              0.8888888888888888,
              "#fdca26"
             ],
             [
              1,
              "#f0f921"
             ]
            ],
            "type": "contour"
           }
          ],
          "contourcarpet": [
           {
            "colorbar": {
             "outlinewidth": 0,
             "ticks": ""
            },
            "type": "contourcarpet"
           }
          ],
          "heatmap": [
           {
            "colorbar": {
             "outlinewidth": 0,
             "ticks": ""
            },
            "colorscale": [
             [
              0,
              "#0d0887"
             ],
             [
              0.1111111111111111,
              "#46039f"
             ],
             [
              0.2222222222222222,
              "#7201a8"
             ],
             [
              0.3333333333333333,
              "#9c179e"
             ],
             [
              0.4444444444444444,
              "#bd3786"
             ],
             [
              0.5555555555555556,
              "#d8576b"
             ],
             [
              0.6666666666666666,
              "#ed7953"
             ],
             [
              0.7777777777777778,
              "#fb9f3a"
             ],
             [
              0.8888888888888888,
              "#fdca26"
             ],
             [
              1,
              "#f0f921"
             ]
            ],
            "type": "heatmap"
           }
          ],
          "heatmapgl": [
           {
            "colorbar": {
             "outlinewidth": 0,
             "ticks": ""
            },
            "colorscale": [
             [
              0,
              "#0d0887"
             ],
             [
              0.1111111111111111,
              "#46039f"
             ],
             [
              0.2222222222222222,
              "#7201a8"
             ],
             [
              0.3333333333333333,
              "#9c179e"
             ],
             [
              0.4444444444444444,
              "#bd3786"
             ],
             [
              0.5555555555555556,
              "#d8576b"
             ],
             [
              0.6666666666666666,
              "#ed7953"
             ],
             [
              0.7777777777777778,
              "#fb9f3a"
             ],
             [
              0.8888888888888888,
              "#fdca26"
             ],
             [
              1,
              "#f0f921"
             ]
            ],
            "type": "heatmapgl"
           }
          ],
          "histogram": [
           {
            "marker": {
             "pattern": {
              "fillmode": "overlay",
              "size": 10,
              "solidity": 0.2
             }
            },
            "type": "histogram"
           }
          ],
          "histogram2d": [
           {
            "colorbar": {
             "outlinewidth": 0,
             "ticks": ""
            },
            "colorscale": [
             [
              0,
              "#0d0887"
             ],
             [
              0.1111111111111111,
              "#46039f"
             ],
             [
              0.2222222222222222,
              "#7201a8"
             ],
             [
              0.3333333333333333,
              "#9c179e"
             ],
             [
              0.4444444444444444,
              "#bd3786"
             ],
             [
              0.5555555555555556,
              "#d8576b"
             ],
             [
              0.6666666666666666,
              "#ed7953"
             ],
             [
              0.7777777777777778,
              "#fb9f3a"
             ],
             [
              0.8888888888888888,
              "#fdca26"
             ],
             [
              1,
              "#f0f921"
             ]
            ],
            "type": "histogram2d"
           }
          ],
          "histogram2dcontour": [
           {
            "colorbar": {
             "outlinewidth": 0,
             "ticks": ""
            },
            "colorscale": [
             [
              0,
              "#0d0887"
             ],
             [
              0.1111111111111111,
              "#46039f"
             ],
             [
              0.2222222222222222,
              "#7201a8"
             ],
             [
              0.3333333333333333,
              "#9c179e"
             ],
             [
              0.4444444444444444,
              "#bd3786"
             ],
             [
              0.5555555555555556,
              "#d8576b"
             ],
             [
              0.6666666666666666,
              "#ed7953"
             ],
             [
              0.7777777777777778,
              "#fb9f3a"
             ],
             [
              0.8888888888888888,
              "#fdca26"
             ],
             [
              1,
              "#f0f921"
             ]
            ],
            "type": "histogram2dcontour"
           }
          ],
          "mesh3d": [
           {
            "colorbar": {
             "outlinewidth": 0,
             "ticks": ""
            },
            "type": "mesh3d"
           }
          ],
          "parcoords": [
           {
            "line": {
             "colorbar": {
              "outlinewidth": 0,
              "ticks": ""
             }
            },
            "type": "parcoords"
           }
          ],
          "pie": [
           {
            "automargin": true,
            "type": "pie"
           }
          ],
          "scatter": [
           {
            "fillpattern": {
             "fillmode": "overlay",
             "size": 10,
             "solidity": 0.2
            },
            "type": "scatter"
           }
          ],
          "scatter3d": [
           {
            "line": {
             "colorbar": {
              "outlinewidth": 0,
              "ticks": ""
             }
            },
            "marker": {
             "colorbar": {
              "outlinewidth": 0,
              "ticks": ""
             }
            },
            "type": "scatter3d"
           }
          ],
          "scattercarpet": [
           {
            "marker": {
             "colorbar": {
              "outlinewidth": 0,
              "ticks": ""
             }
            },
            "type": "scattercarpet"
           }
          ],
          "scattergeo": [
           {
            "marker": {
             "colorbar": {
              "outlinewidth": 0,
              "ticks": ""
             }
            },
            "type": "scattergeo"
           }
          ],
          "scattergl": [
           {
            "marker": {
             "colorbar": {
              "outlinewidth": 0,
              "ticks": ""
             }
            },
            "type": "scattergl"
           }
          ],
          "scattermapbox": [
           {
            "marker": {
             "colorbar": {
              "outlinewidth": 0,
              "ticks": ""
             }
            },
            "type": "scattermapbox"
           }
          ],
          "scatterpolar": [
           {
            "marker": {
             "colorbar": {
              "outlinewidth": 0,
              "ticks": ""
             }
            },
            "type": "scatterpolar"
           }
          ],
          "scatterpolargl": [
           {
            "marker": {
             "colorbar": {
              "outlinewidth": 0,
              "ticks": ""
             }
            },
            "type": "scatterpolargl"
           }
          ],
          "scatterternary": [
           {
            "marker": {
             "colorbar": {
              "outlinewidth": 0,
              "ticks": ""
             }
            },
            "type": "scatterternary"
           }
          ],
          "surface": [
           {
            "colorbar": {
             "outlinewidth": 0,
             "ticks": ""
            },
            "colorscale": [
             [
              0,
              "#0d0887"
             ],
             [
              0.1111111111111111,
              "#46039f"
             ],
             [
              0.2222222222222222,
              "#7201a8"
             ],
             [
              0.3333333333333333,
              "#9c179e"
             ],
             [
              0.4444444444444444,
              "#bd3786"
             ],
             [
              0.5555555555555556,
              "#d8576b"
             ],
             [
              0.6666666666666666,
              "#ed7953"
             ],
             [
              0.7777777777777778,
              "#fb9f3a"
             ],
             [
              0.8888888888888888,
              "#fdca26"
             ],
             [
              1,
              "#f0f921"
             ]
            ],
            "type": "surface"
           }
          ],
          "table": [
           {
            "cells": {
             "fill": {
              "color": "#EBF0F8"
             },
             "line": {
              "color": "white"
             }
            },
            "header": {
             "fill": {
              "color": "#C8D4E3"
             },
             "line": {
              "color": "white"
             }
            },
            "type": "table"
           }
          ]
         },
         "layout": {
          "annotationdefaults": {
           "arrowcolor": "#2a3f5f",
           "arrowhead": 0,
           "arrowwidth": 1
          },
          "autotypenumbers": "strict",
          "coloraxis": {
           "colorbar": {
            "outlinewidth": 0,
            "ticks": ""
           }
          },
          "colorscale": {
           "diverging": [
            [
             0,
             "#8e0152"
            ],
            [
             0.1,
             "#c51b7d"
            ],
            [
             0.2,
             "#de77ae"
            ],
            [
             0.3,
             "#f1b6da"
            ],
            [
             0.4,
             "#fde0ef"
            ],
            [
             0.5,
             "#f7f7f7"
            ],
            [
             0.6,
             "#e6f5d0"
            ],
            [
             0.7,
             "#b8e186"
            ],
            [
             0.8,
             "#7fbc41"
            ],
            [
             0.9,
             "#4d9221"
            ],
            [
             1,
             "#276419"
            ]
           ],
           "sequential": [
            [
             0,
             "#0d0887"
            ],
            [
             0.1111111111111111,
             "#46039f"
            ],
            [
             0.2222222222222222,
             "#7201a8"
            ],
            [
             0.3333333333333333,
             "#9c179e"
            ],
            [
             0.4444444444444444,
             "#bd3786"
            ],
            [
             0.5555555555555556,
             "#d8576b"
            ],
            [
             0.6666666666666666,
             "#ed7953"
            ],
            [
             0.7777777777777778,
             "#fb9f3a"
            ],
            [
             0.8888888888888888,
             "#fdca26"
            ],
            [
             1,
             "#f0f921"
            ]
           ],
           "sequentialminus": [
            [
             0,
             "#0d0887"
            ],
            [
             0.1111111111111111,
             "#46039f"
            ],
            [
             0.2222222222222222,
             "#7201a8"
            ],
            [
             0.3333333333333333,
             "#9c179e"
            ],
            [
             0.4444444444444444,
             "#bd3786"
            ],
            [
             0.5555555555555556,
             "#d8576b"
            ],
            [
             0.6666666666666666,
             "#ed7953"
            ],
            [
             0.7777777777777778,
             "#fb9f3a"
            ],
            [
             0.8888888888888888,
             "#fdca26"
            ],
            [
             1,
             "#f0f921"
            ]
           ]
          },
          "colorway": [
           "#636efa",
           "#EF553B",
           "#00cc96",
           "#ab63fa",
           "#FFA15A",
           "#19d3f3",
           "#FF6692",
           "#B6E880",
           "#FF97FF",
           "#FECB52"
          ],
          "font": {
           "color": "#2a3f5f"
          },
          "geo": {
           "bgcolor": "white",
           "lakecolor": "white",
           "landcolor": "#E5ECF6",
           "showlakes": true,
           "showland": true,
           "subunitcolor": "white"
          },
          "hoverlabel": {
           "align": "left"
          },
          "hovermode": "closest",
          "mapbox": {
           "style": "light"
          },
          "paper_bgcolor": "white",
          "plot_bgcolor": "#E5ECF6",
          "polar": {
           "angularaxis": {
            "gridcolor": "white",
            "linecolor": "white",
            "ticks": ""
           },
           "bgcolor": "#E5ECF6",
           "radialaxis": {
            "gridcolor": "white",
            "linecolor": "white",
            "ticks": ""
           }
          },
          "scene": {
           "xaxis": {
            "backgroundcolor": "#E5ECF6",
            "gridcolor": "white",
            "gridwidth": 2,
            "linecolor": "white",
            "showbackground": true,
            "ticks": "",
            "zerolinecolor": "white"
           },
           "yaxis": {
            "backgroundcolor": "#E5ECF6",
            "gridcolor": "white",
            "gridwidth": 2,
            "linecolor": "white",
            "showbackground": true,
            "ticks": "",
            "zerolinecolor": "white"
           },
           "zaxis": {
            "backgroundcolor": "#E5ECF6",
            "gridcolor": "white",
            "gridwidth": 2,
            "linecolor": "white",
            "showbackground": true,
            "ticks": "",
            "zerolinecolor": "white"
           }
          },
          "shapedefaults": {
           "line": {
            "color": "#2a3f5f"
           }
          },
          "ternary": {
           "aaxis": {
            "gridcolor": "white",
            "linecolor": "white",
            "ticks": ""
           },
           "baxis": {
            "gridcolor": "white",
            "linecolor": "white",
            "ticks": ""
           },
           "bgcolor": "#E5ECF6",
           "caxis": {
            "gridcolor": "white",
            "linecolor": "white",
            "ticks": ""
           }
          },
          "title": {
           "x": 0.05
          },
          "xaxis": {
           "automargin": true,
           "gridcolor": "white",
           "linecolor": "white",
           "ticks": "",
           "title": {
            "standoff": 15
           },
           "zerolinecolor": "white",
           "zerolinewidth": 2
          },
          "yaxis": {
           "automargin": true,
           "gridcolor": "white",
           "linecolor": "white",
           "ticks": "",
           "title": {
            "standoff": 15
           },
           "zerolinecolor": "white",
           "zerolinewidth": 2
          }
         }
        },
        "title": {
         "text": "Percentage of Responses by Institution"
        },
        "xaxis": {
         "anchor": "y",
         "domain": [
          0,
          1
         ],
         "title": {
          "text": "Institution"
         }
        },
        "yaxis": {
         "anchor": "x",
         "domain": [
          0,
          1
         ],
         "tickformat": ",.0f",
         "title": {
          "text": "Percentage of Responses"
         }
        }
       }
      }
     },
     "metadata": {},
     "output_type": "display_data"
    }
   ],
   "source": [
    "df_sample_size = df_choice_filtered.groupby('demographic_distribution').agg(\n",
    "    responses = ('survey_info_response_id', 'nunique'),\n",
    "    sample_size = ('demographic_sample_size', 'first')\n",
    ")\n",
    "\n",
    "df_sample_size.reset_index(inplace=True)\n",
    "df_sample_size['pct'] = (df_sample_size['responses'] / df_sample_size['sample_size']) * 100\n",
    "\n",
    "## Round to nearest number\n",
    "df_sample_size['pct'] = df_sample_size['pct'].round()\n",
    "\n",
    "## Arrange in order of greatest percentage to least\n",
    "df_sample_size.sort_values(by='pct', ascending=False, inplace=True)\n",
    "\n",
    "df_sample_size\n",
    "\n",
    "## Plot sample size\n",
    "fig = px.bar(\n",
    "    df_sample_size,\n",
    "    x = 'demographic_distribution',\n",
    "    y = 'pct',\n",
    "    text = 'pct'\n",
    ")\n",
    "\n",
    "## Show text horizontally\n",
    "fig.update_traces(textposition='inside')\n",
    "\n",
    "## Make everything look nice\n",
    "## Use Inter font and size 14 text\n",
    "\n",
    "fig.update_layout(\n",
    "    title = 'Percentage of Responses by Institution',\n",
    "    xaxis_title = 'Institution',\n",
    "    yaxis_title = 'Percentage of Responses',\n",
    "    yaxis_tickformat = ',.0f',\n",
    "    font_family = 'Inter',\n",
    "    font_size = 14\n",
    ")\n",
    "\n",
    "fig.show()"
   ]
  },
  {
   "cell_type": "markdown",
   "metadata": {},
   "source": [
    "## Now Let's Merge the Two Datasets to Map the Likert Questions"
   ]
  },
  {
   "cell_type": "code",
   "execution_count": 615,
   "metadata": {},
   "outputs": [
    {
     "data": {
      "text/html": [
       "<div>\n",
       "<style scoped>\n",
       "    .dataframe tbody tr th:only-of-type {\n",
       "        vertical-align: middle;\n",
       "    }\n",
       "\n",
       "    .dataframe tbody tr th {\n",
       "        vertical-align: top;\n",
       "    }\n",
       "\n",
       "    .dataframe thead th {\n",
       "        text-align: right;\n",
       "    }\n",
       "</style>\n",
       "<table border=\"1\" class=\"dataframe\">\n",
       "  <thead>\n",
       "    <tr style=\"text-align: right;\">\n",
       "      <th></th>\n",
       "      <th>survey_info_response_id</th>\n",
       "      <th>demographic_distribution</th>\n",
       "      <th>display_name</th>\n",
       "      <th>numeric_response</th>\n",
       "      <th>text_response</th>\n",
       "      <th>numeric_response_flattened</th>\n",
       "      <th>question_id</th>\n",
       "      <th>question_text</th>\n",
       "      <th>question_category</th>\n",
       "      <th>question_keyword</th>\n",
       "    </tr>\n",
       "  </thead>\n",
       "  <tbody>\n",
       "    <tr>\n",
       "      <th>0</th>\n",
       "      <td>R_1dMlSI0KXyxsTZn</td>\n",
       "      <td>ucsf</td>\n",
       "      <td>attitude_criticality</td>\n",
       "      <td>5</td>\n",
       "      <td>Extremely critical</td>\n",
       "      <td>5</td>\n",
       "      <td>Q2.2</td>\n",
       "      <td>How critical is the problem of operating room ...</td>\n",
       "      <td>attitude</td>\n",
       "      <td>criticality</td>\n",
       "    </tr>\n",
       "    <tr>\n",
       "      <th>1</th>\n",
       "      <td>R_7QYh6bTyOmOQo3D</td>\n",
       "      <td>ucsf</td>\n",
       "      <td>attitude_criticality</td>\n",
       "      <td>4</td>\n",
       "      <td>Quite critical</td>\n",
       "      <td>4</td>\n",
       "      <td>Q2.2</td>\n",
       "      <td>How critical is the problem of operating room ...</td>\n",
       "      <td>attitude</td>\n",
       "      <td>criticality</td>\n",
       "    </tr>\n",
       "    <tr>\n",
       "      <th>2</th>\n",
       "      <td>R_6tYa59Tv4zOhQgp</td>\n",
       "      <td>ucsf</td>\n",
       "      <td>attitude_criticality</td>\n",
       "      <td>5</td>\n",
       "      <td>Extremely critical</td>\n",
       "      <td>5</td>\n",
       "      <td>Q2.2</td>\n",
       "      <td>How critical is the problem of operating room ...</td>\n",
       "      <td>attitude</td>\n",
       "      <td>criticality</td>\n",
       "    </tr>\n",
       "    <tr>\n",
       "      <th>3</th>\n",
       "      <td>R_25RsYOfgaO79uts</td>\n",
       "      <td>ucsf</td>\n",
       "      <td>attitude_criticality</td>\n",
       "      <td>5</td>\n",
       "      <td>Extremely critical</td>\n",
       "      <td>5</td>\n",
       "      <td>Q2.2</td>\n",
       "      <td>How critical is the problem of operating room ...</td>\n",
       "      <td>attitude</td>\n",
       "      <td>criticality</td>\n",
       "    </tr>\n",
       "    <tr>\n",
       "      <th>4</th>\n",
       "      <td>R_22qNtCIlTv6yOWH</td>\n",
       "      <td>ucsf</td>\n",
       "      <td>attitude_criticality</td>\n",
       "      <td>5</td>\n",
       "      <td>Extremely critical</td>\n",
       "      <td>5</td>\n",
       "      <td>Q2.2</td>\n",
       "      <td>How critical is the problem of operating room ...</td>\n",
       "      <td>attitude</td>\n",
       "      <td>criticality</td>\n",
       "    </tr>\n",
       "    <tr>\n",
       "      <th>...</th>\n",
       "      <td>...</td>\n",
       "      <td>...</td>\n",
       "      <td>...</td>\n",
       "      <td>...</td>\n",
       "      <td>...</td>\n",
       "      <td>...</td>\n",
       "      <td>...</td>\n",
       "      <td>...</td>\n",
       "      <td>...</td>\n",
       "      <td>...</td>\n",
       "    </tr>\n",
       "    <tr>\n",
       "      <th>7652</th>\n",
       "      <td>R_2UWpCS5RBPaA3Iv</td>\n",
       "      <td>lehigh</td>\n",
       "      <td>incentive_personal_recognition_natl</td>\n",
       "      <td>5</td>\n",
       "      <td>Extremely motivated</td>\n",
       "      <td>5</td>\n",
       "      <td>Q4.10</td>\n",
       "      <td>How motivated would you be in improving the su...</td>\n",
       "      <td>incentive</td>\n",
       "      <td>personal_recognition_natl</td>\n",
       "    </tr>\n",
       "    <tr>\n",
       "      <th>7653</th>\n",
       "      <td>R_2ZK4wuIarxnJyB9</td>\n",
       "      <td>lehigh</td>\n",
       "      <td>incentive_personal_recognition_natl</td>\n",
       "      <td>3</td>\n",
       "      <td>Moderately motivated</td>\n",
       "      <td>3</td>\n",
       "      <td>Q4.10</td>\n",
       "      <td>How motivated would you be in improving the su...</td>\n",
       "      <td>incentive</td>\n",
       "      <td>personal_recognition_natl</td>\n",
       "    </tr>\n",
       "    <tr>\n",
       "      <th>7654</th>\n",
       "      <td>R_3g11P1lUjVkrlvn</td>\n",
       "      <td>northwestern</td>\n",
       "      <td>incentive_personal_recognition_natl</td>\n",
       "      <td>4</td>\n",
       "      <td>Quite motivated</td>\n",
       "      <td>4</td>\n",
       "      <td>Q4.10</td>\n",
       "      <td>How motivated would you be in improving the su...</td>\n",
       "      <td>incentive</td>\n",
       "      <td>personal_recognition_natl</td>\n",
       "    </tr>\n",
       "    <tr>\n",
       "      <th>7655</th>\n",
       "      <td>R_qCakSsa3qVx6bYd</td>\n",
       "      <td>northwestern</td>\n",
       "      <td>incentive_personal_recognition_natl</td>\n",
       "      <td>5</td>\n",
       "      <td>Extremely motivated</td>\n",
       "      <td>5</td>\n",
       "      <td>Q4.10</td>\n",
       "      <td>How motivated would you be in improving the su...</td>\n",
       "      <td>incentive</td>\n",
       "      <td>personal_recognition_natl</td>\n",
       "    </tr>\n",
       "    <tr>\n",
       "      <th>7656</th>\n",
       "      <td>R_7NUyXyZ1p76BYad</td>\n",
       "      <td>northwestern</td>\n",
       "      <td>incentive_personal_recognition_natl</td>\n",
       "      <td>3</td>\n",
       "      <td>Moderately motivated</td>\n",
       "      <td>3</td>\n",
       "      <td>Q4.10</td>\n",
       "      <td>How motivated would you be in improving the su...</td>\n",
       "      <td>incentive</td>\n",
       "      <td>personal_recognition_natl</td>\n",
       "    </tr>\n",
       "  </tbody>\n",
       "</table>\n",
       "<p>7657 rows × 10 columns</p>\n",
       "</div>"
      ],
      "text/plain": [
       "     survey_info_response_id demographic_distribution  \\\n",
       "0          R_1dMlSI0KXyxsTZn                     ucsf   \n",
       "1          R_7QYh6bTyOmOQo3D                     ucsf   \n",
       "2          R_6tYa59Tv4zOhQgp                     ucsf   \n",
       "3          R_25RsYOfgaO79uts                     ucsf   \n",
       "4          R_22qNtCIlTv6yOWH                     ucsf   \n",
       "...                      ...                      ...   \n",
       "7652       R_2UWpCS5RBPaA3Iv                   lehigh   \n",
       "7653       R_2ZK4wuIarxnJyB9                   lehigh   \n",
       "7654       R_3g11P1lUjVkrlvn             northwestern   \n",
       "7655       R_qCakSsa3qVx6bYd             northwestern   \n",
       "7656       R_7NUyXyZ1p76BYad             northwestern   \n",
       "\n",
       "                             display_name  numeric_response  \\\n",
       "0                    attitude_criticality                 5   \n",
       "1                    attitude_criticality                 4   \n",
       "2                    attitude_criticality                 5   \n",
       "3                    attitude_criticality                 5   \n",
       "4                    attitude_criticality                 5   \n",
       "...                                   ...               ...   \n",
       "7652  incentive_personal_recognition_natl                 5   \n",
       "7653  incentive_personal_recognition_natl                 3   \n",
       "7654  incentive_personal_recognition_natl                 4   \n",
       "7655  incentive_personal_recognition_natl                 5   \n",
       "7656  incentive_personal_recognition_natl                 3   \n",
       "\n",
       "             text_response  numeric_response_flattened question_id  \\\n",
       "0       Extremely critical                           5        Q2.2   \n",
       "1           Quite critical                           4        Q2.2   \n",
       "2       Extremely critical                           5        Q2.2   \n",
       "3       Extremely critical                           5        Q2.2   \n",
       "4       Extremely critical                           5        Q2.2   \n",
       "...                    ...                         ...         ...   \n",
       "7652   Extremely motivated                           5       Q4.10   \n",
       "7653  Moderately motivated                           3       Q4.10   \n",
       "7654       Quite motivated                           4       Q4.10   \n",
       "7655   Extremely motivated                           5       Q4.10   \n",
       "7656  Moderately motivated                           3       Q4.10   \n",
       "\n",
       "                                          question_text question_category  \\\n",
       "0     How critical is the problem of operating room ...          attitude   \n",
       "1     How critical is the problem of operating room ...          attitude   \n",
       "2     How critical is the problem of operating room ...          attitude   \n",
       "3     How critical is the problem of operating room ...          attitude   \n",
       "4     How critical is the problem of operating room ...          attitude   \n",
       "...                                                 ...               ...   \n",
       "7652  How motivated would you be in improving the su...         incentive   \n",
       "7653  How motivated would you be in improving the su...         incentive   \n",
       "7654  How motivated would you be in improving the su...         incentive   \n",
       "7655  How motivated would you be in improving the su...         incentive   \n",
       "7656  How motivated would you be in improving the su...         incentive   \n",
       "\n",
       "               question_keyword  \n",
       "0                   criticality  \n",
       "1                   criticality  \n",
       "2                   criticality  \n",
       "3                   criticality  \n",
       "4                   criticality  \n",
       "...                         ...  \n",
       "7652  personal_recognition_natl  \n",
       "7653  personal_recognition_natl  \n",
       "7654  personal_recognition_natl  \n",
       "7655  personal_recognition_natl  \n",
       "7656  personal_recognition_natl  \n",
       "\n",
       "[7657 rows x 10 columns]"
      ]
     },
     "execution_count": 615,
     "metadata": {},
     "output_type": "execute_result"
    }
   ],
   "source": [
    "## Define a method to melt likerts on likert_only columns\n",
    "def melt_likert(df, cols, ids, valname):\n",
    "    return df.melt(\n",
    "        id_vars=ids, value_vars=cols, var_name='display_name', value_name=valname\n",
    "    )\n",
    "\n",
    "df_numbers_likert = melt_likert(df_numbers_filtered, likert_only, ['survey_info_response_id', 'demographic_distribution'], 'numeric_response')\n",
    "df_choice_likert = melt_likert(df_choice_filtered, likert_only, ['survey_info_response_id', 'demographic_distribution'], 'text_response')\n",
    "\n",
    "## Merge the two dataframes on survey_info_response_id, demographic_distribution, and display_name\n",
    "df_likert = pd.merge(df_numbers_likert, df_choice_likert, on=['survey_info_response_id', 'demographic_distribution', 'display_name'])\n",
    "\n",
    "df_likert['numeric_response_flattened'] = df_likert['numeric_response']\n",
    "\n",
    "## In numeric_response, change 8 to 0 and 7 to 6\n",
    "df_likert['numeric_response'] = df_likert['numeric_response'].replace(8, 0)\n",
    "df_likert['numeric_response'] = df_likert['numeric_response'].replace(7, 6)\n",
    "\n",
    "## In numeric_response_flattened, change 8 to 1 and 7 to 5\n",
    "df_likert['numeric_response_flattened'] = df_likert['numeric_response_flattened'].replace(8, 1)\n",
    "df_likert['numeric_response_flattened'] = df_likert['numeric_response_flattened'].replace(7, 5)\n",
    "\n",
    "## Merge in df_questions to df_likert\n",
    "df_likert = pd.merge(df_likert, df_questions, on='display_name')\n",
    "\n",
    "df_likert"
   ]
  },
  {
   "cell_type": "code",
   "execution_count": 616,
   "metadata": {},
   "outputs": [],
   "source": [
    "df_likert_group = df_likert.groupby(['question_category', 'display_name', 'question_id', 'question_text', 'numeric_response', 'text_response']).agg(\n",
    "    count = ('survey_info_response_id', 'nunique'),\n",
    ")\n",
    "\n",
    "df_likert_group.reset_index(inplace=True)\n",
    "\n",
    "## Calculate the total count for each group\n",
    "df_likert_group['total'] = df_likert_group.groupby(['question_category', 'display_name', 'question_id', 'question_text'])['count'].transform('sum')\n",
    "\n",
    "## Calculate the percentage of each count\n",
    "df_likert_group['pct'] = (df_likert_group['count'] / df_likert_group['total']) * 100\n",
    "\n",
    "## Create two new columns 'question_num' and 'subquestion_num' based on removing the 'Q' in question_id and splitting on '.'\n",
    "df_likert_group['question_num'] = df_likert_group['question_id'].str[1:].str.split('.').str[0]\n",
    "df_likert_group['subquestion_num'] = df_likert_group['question_id'].str[1:].str.split('.').str[1]\n",
    "\n",
    "## Create a new column called 'strong' and only include responses if 4 or greater\n",
    "df_likert_group['strong_count'] = df_likert_group['count'] * (df_likert_group['numeric_response'] >= 4)\n",
    "\n",
    "## Create a new column called 'strong_count' that is the sum of 'strong' for each question\n",
    "df_likert_group['strong_count'] = df_likert_group.groupby(['question_category', 'display_name', 'question_num', 'question_text'])['strong_count'].transform('sum')\n",
    "\n",
    "## Calculate the percentage of strong_count\n",
    "df_likert_group['strong_pct'] = (df_likert_group['strong_count'] / df_likert_group['total']) * 100\n",
    "\n",
    "df_likert_group.sort_values(\n",
    "    by=['question_num', 'question_category', 'strong_pct', 'display_name', 'numeric_response'], \n",
    "    ascending = [True, True, False, True, True],\n",
    "    inplace=True\n",
    ")"
   ]
  },
  {
   "cell_type": "code",
   "execution_count": 617,
   "metadata": {},
   "outputs": [
    {
     "name": "stderr",
     "output_type": "stream",
     "text": [
      "/Library/Frameworks/Python.framework/Versions/3.10/lib/python3.10/site-packages/plotly/express/_core.py:1979: FutureWarning:\n",
      "\n",
      "When grouping with a length-1 list-like, you will need to pass a length-1 tuple to get_group in a future version of pandas. Pass `(name,)` instead of `name` to silence this warning.\n",
      "\n",
      "/Library/Frameworks/Python.framework/Versions/3.10/lib/python3.10/site-packages/plotly/express/_core.py:1979: FutureWarning:\n",
      "\n",
      "When grouping with a length-1 list-like, you will need to pass a length-1 tuple to get_group in a future version of pandas. Pass `(name,)` instead of `name` to silence this warning.\n",
      "\n",
      "/Library/Frameworks/Python.framework/Versions/3.10/lib/python3.10/site-packages/plotly/express/_core.py:1979: FutureWarning:\n",
      "\n",
      "When grouping with a length-1 list-like, you will need to pass a length-1 tuple to get_group in a future version of pandas. Pass `(name,)` instead of `name` to silence this warning.\n",
      "\n",
      "/Library/Frameworks/Python.framework/Versions/3.10/lib/python3.10/site-packages/plotly/express/_core.py:1979: FutureWarning:\n",
      "\n",
      "When grouping with a length-1 list-like, you will need to pass a length-1 tuple to get_group in a future version of pandas. Pass `(name,)` instead of `name` to silence this warning.\n",
      "\n",
      "/Library/Frameworks/Python.framework/Versions/3.10/lib/python3.10/site-packages/plotly/express/_core.py:1979: FutureWarning:\n",
      "\n",
      "When grouping with a length-1 list-like, you will need to pass a length-1 tuple to get_group in a future version of pandas. Pass `(name,)` instead of `name` to silence this warning.\n",
      "\n"
     ]
    }
   ],
   "source": [
    "## Create plots of all the likert breakdowns\n",
    "for cat in df_likert_group['question_category'].unique():\n",
    "\n",
    "    ## calculate the number of entries in df_likert_group where question_category is cat\n",
    "    num_facets = len(df_likert_group[df_likert_group['question_category'] == cat]['display_name'].unique())\n",
    "\n",
    "    ## if num_facets is greater than 5 and even:\n",
    "    if (num_facets > 5):\n",
    "        ## divide num_facets by 2\n",
    "        num_facets = 5\n",
    "    # elif (num_facets > 5) and (num_facets % 2 != 0):\n",
    "    #     ## divide num_facets by 3 and round\n",
    "    #     num_facets = round(num_facets/3)\n",
    "\n",
    "    df_likert_group_cat = df_likert_group[df_likert_group['question_category'] == cat]\n",
    "    fig = px.bar(\n",
    "        df_likert_group_cat,\n",
    "        x = 'numeric_response',\n",
    "        y = 'pct',\n",
    "        facet_col = 'display_name',\n",
    "        facet_col_wrap = num_facets,\n",
    "        text = 'pct',\n",
    "        facet_row_spacing = 0.16,\n",
    "        facet_col_spacing = 0.04\n",
    "    )\n",
    "\n",
    "    fig.update_layout(\n",
    "        height=800,\n",
    "        width=1800,\n",
    "        title = cat,\n",
    "        xaxis_title = None,\n",
    "        yaxis_title = None,\n",
    "        yaxis_tickformat = ',.0f',\n",
    "        font_family = 'Inter',\n",
    "        font_size = 14\n",
    "    )\n",
    "\n",
    "    fig.for_each_annotation(\n",
    "\n",
    "        # Remove the part of title before the equal sign\n",
    "        lambda a: a.update(text=a.text.split(\"=\")[-1]),\n",
    "        \n",
    "        ## Update the font size to 18e\n",
    "        lambda a: a.update(font_size=18)\n",
    "\n",
    "    )\n",
    "\n",
    "    ## Make the graphs look nice\n",
    "    fig.update_xaxes(\n",
    "        tickvals = [0, 1, 2, 3, 4, 5, 6],\n",
    "        ticktext = ['0', '1', '2', '3', '4', '5', '6']\n",
    "    )\n",
    "\n",
    "    ## if cat is 'willingness' then map tickvals 0-6 to 'UN', 'NW', 'SW', 'MW', 'QW, 'EW', 'AL'\n",
    "    if cat == 'willingness':\n",
    "        fig.update_xaxes(\n",
    "            tickvals = [0, 1, 2, 3, 4, 5, 6],\n",
    "            ticktext = ['UN', 'NW', 'SW', 'MW', 'QW', 'EW', 'AL']\n",
    "        )\n",
    "    \n",
    "    ## if cat is 'incentive' then map tickvals 0-5 to 'NM', 'SM', 'MM', 'QM, 'EM'\n",
    "    if cat == 'incentive':\n",
    "        fig.update_xaxes(\n",
    "            tickvals = [1, 2, 3, 4, 5],\n",
    "            ticktext = ['NM', 'SM', 'MM', 'QM', 'EM']\n",
    "        )\n",
    "    \n",
    "    ## Dark mode\n",
    "    fig.update_layout(\n",
    "        template = 'plotly_dark'\n",
    "    )\n",
    "\n",
    "    ## Text Bar labels should be inside and horizontal and rounded to nearest int\n",
    "    fig.update_traces(\n",
    "        textposition='inside',\n",
    "        textangle=0,\n",
    "        textfont_size=14,\n",
    "        texttemplate='%{text:.0f}'\n",
    "    )\n",
    "\n",
    "    ## show x ticks on every facet\n",
    "    fig.update_xaxes(\n",
    "        showticklabels=True\n",
    "    )\n",
    "\n",
    "    ## Save the figure based on the category in the images folder\n",
    "    fig.write_image('images/' + cat + '.svg')\n",
    "\n",
    "    # fig.show()"
   ]
  },
  {
   "cell_type": "markdown",
   "metadata": {},
   "source": [
    "Question Response Analysis"
   ]
  },
  {
   "cell_type": "code",
   "execution_count": 618,
   "metadata": {},
   "outputs": [],
   "source": [
    "## Create a new dataframe called df_factor that is df_numbers_filtered with only the likert_only columns\n",
    "df_factor = df_numbers_filtered.copy()[likert_cols]\n",
    "\n",
    "df_factor[likert_only] = df_factor[likert_only].fillna(0)\n",
    "df_factor[likert_only] = df_factor[likert_only].astype(int)\n",
    "\n",
    "## For factor_only columns replace 7 with 5 and 8 with 1\n",
    "df_factor = df_factor.replace(8, 1)\n",
    "df_factor = df_factor.replace(7, 5)\n",
    "\n",
    "df_factor_num_only = df_factor[likert_only]"
   ]
  },
  {
   "cell_type": "code",
   "execution_count": 619,
   "metadata": {},
   "outputs": [
    {
     "data": {
      "application/vnd.plotly.v1+json": {
       "config": {
        "plotlyServerURL": "https://plot.ly"
       },
       "data": [
        {
         "coloraxis": "coloraxis",
         "hovertemplate": "x: %{x}<br>y: %{y}<br>color: %{z}<extra></extra>",
         "name": "0",
         "type": "heatmap",
         "x": [
          "attitude_criticality",
          "attitude_motivation",
          "attitude_priority",
          "education_impact",
          "education_institution_effort",
          "education_surgical_team",
          "education_resuable_safety",
          "education_reprocess_safety",
          "barriers_surgical_staff",
          "barriers_use_items",
          "barriers_roadblocks",
          "barriers_no_impact",
          "willingness_reusable",
          "willingness_reprocessed",
          "willingness_reusable_gown",
          "willingness_reusable_towel",
          "willingness_prefcard_review",
          "willingness_colleagues",
          "willingness_scorecard",
          "willingness_alcohol",
          "willingness_los",
          "willingness_telemedicine",
          "incentive_personal_cash",
          "incentive_division_cash",
          "incentive_personal_percent",
          "incentive_division_research_funding",
          "incentive_personal_perk",
          "incentive_division_perk",
          "incentive_personal_recognition_from_dept",
          "incentive_division_recognition_from_dept",
          "incentive_personal_recognition_natl"
         ],
         "xaxis": "x",
         "y": [
          "attitude_criticality",
          "attitude_motivation",
          "attitude_priority",
          "education_impact",
          "education_institution_effort",
          "education_surgical_team",
          "education_resuable_safety",
          "education_reprocess_safety",
          "barriers_surgical_staff",
          "barriers_use_items",
          "barriers_roadblocks",
          "barriers_no_impact",
          "willingness_reusable",
          "willingness_reprocessed",
          "willingness_reusable_gown",
          "willingness_reusable_towel",
          "willingness_prefcard_review",
          "willingness_colleagues",
          "willingness_scorecard",
          "willingness_alcohol",
          "willingness_los",
          "willingness_telemedicine",
          "incentive_personal_cash",
          "incentive_division_cash",
          "incentive_personal_percent",
          "incentive_division_research_funding",
          "incentive_personal_perk",
          "incentive_division_perk",
          "incentive_personal_recognition_from_dept",
          "incentive_division_recognition_from_dept",
          "incentive_personal_recognition_natl"
         ],
         "yaxis": "y",
         "z": [
          [
           1,
           0.6886398282472066,
           0.7601852076322531,
           0.08969897857561433,
           -0.01647965827174595,
           -0.05327612730995348,
           0.10389733231852985,
           0.17413336122709705,
           0.26967923046012315,
           -0.138496691250517,
           0.21599887719971247,
           0.49369795581800613,
           0.2969788916084893,
           0.3398920845275644,
           0.18913535234304957,
           0.24464682612063818,
           0.3710665298265379,
           0.3127072633555034,
           0.4285621222550501,
           0.14334731613705295,
           0.24378853389407792,
           0.2216625960327747,
           0.28133788490525385,
           0.36052771337678924,
           0.27445769632741346,
           0.27325757391106964,
           0.3196651551911544,
           0.20229737359004227,
           0.24456421182463517,
           0.2518336848137735,
           0.2920066838230016
          ],
          [
           0.6886398282472066,
           1,
           0.7210060853504937,
           0.21059626584733787,
           0.07389608842307346,
           -0.0193323731773201,
           0.10192467348435828,
           0.11366027462201887,
           0.2152531092227451,
           -0.14794295302245258,
           0.13481001928820519,
           0.5460331258413342,
           0.3156409410158584,
           0.27766149727222883,
           0.19391128336308616,
           0.20840183576525007,
           0.32762640058439135,
           0.337588288818288,
           0.4183258921256212,
           0.17570699647934396,
           0.27142185258936957,
           0.18808579574071732,
           0.20256115192711083,
           0.3682719012061689,
           0.21909824372650816,
           0.3600759035713542,
           0.3129762356562446,
           0.27276144596762963,
           0.32191528178250256,
           0.3418436060253168,
           0.30387732239255877
          ],
          [
           0.7601852076322531,
           0.7210060853504937,
           1,
           0.10914677696477744,
           0.046303720355238595,
           -0.0025105297479913733,
           0.11274775418145215,
           0.09682466446694588,
           0.2632575917568774,
           -0.15901393429343222,
           0.2711480805051407,
           0.5054991160999459,
           0.2756501312444984,
           0.21429903139294446,
           0.16777983601793925,
           0.1632627266144727,
           0.2831495799748784,
           0.26072869074725075,
           0.36047532947824995,
           0.11875284370586184,
           0.1784127142092779,
           0.1393680606506013,
           0.2883976267592864,
           0.3690624236183889,
           0.29598665256892864,
           0.2795127467270815,
           0.29412183511810913,
           0.25651758744402475,
           0.2591610743256973,
           0.2419368495346906,
           0.23804537216616992
          ],
          [
           0.08969897857561433,
           0.21059626584733787,
           0.10914677696477744,
           1,
           0.3605462942085216,
           0.4507967594889937,
           0.16430995990785421,
           0.09298510859692571,
           0.018175381915504968,
           0.05552279947106473,
           0.06116452783907916,
           0.2865483786349354,
           0.11839886214678352,
           0.04688607695563493,
           0.04192834585635736,
           -0.035618476503976246,
           -0.020599960021931242,
           -0.015205379354238834,
           0.03390590887274828,
           0.04032390197733998,
           0.02803663430480105,
           -0.009250258444274774,
           0.056524920480937275,
           0.057680798131968435,
           0.06450118167247243,
           0.15396943668536334,
           0.12742167262732362,
           0.14775780236259398,
           0.12357314162698624,
           0.14827607290044728,
           0.1409897702059214
          ],
          [
           -0.01647965827174595,
           0.07389608842307346,
           0.046303720355238595,
           0.3605462942085216,
           1,
           0.5942320945771178,
           -0.029889922960883688,
           -0.07404050037890837,
           -0.1112820450912689,
           0.1635498962180891,
           -0.06638920295721557,
           0.09896979369276675,
           -0.07625421574008845,
           -0.11213748931483235,
           -0.06195738044838229,
           -0.15761374538608913,
           -0.017113593619280214,
           0.005230393302941699,
           -0.09355659752379421,
           -0.027702531977389765,
           0.08204099073449629,
           -0.011329827868550942,
           -0.05321545134194948,
           0.07172625116599946,
           -0.060471827748885314,
           0.08471123857946702,
           -0.020141763636239207,
           0.09302129330163066,
           0.0001256483191057347,
           0.06498347399273713,
           0.005406151095928312
          ],
          [
           -0.05327612730995348,
           -0.0193323731773201,
           -0.0025105297479913733,
           0.4507967594889937,
           0.5942320945771178,
           1,
           0.05275274825100677,
           0.04763597245457964,
           -0.1796002185844495,
           0.11208938590318564,
           -0.10208249087188619,
           0.09358053133959805,
           -0.07164282664346346,
           -0.1421202825330102,
           -0.08504585492611592,
           -0.20461954969328125,
           -0.13955966162062539,
           -0.08064260256144949,
           -0.13492941437848852,
           -0.08304508624549056,
           -0.005686600053251278,
           -0.05205944852560071,
           -0.07530287494583239,
           -0.11610641918420857,
           -0.08613725755984239,
           -0.09088297613342126,
           -0.037497148284690696,
           0.014266789190422794,
           -0.04123869360405495,
           -0.030587544204759735,
           -0.04095238827432683
          ],
          [
           0.10389733231852985,
           0.10192467348435828,
           0.11274775418145215,
           0.16430995990785421,
           -0.029889922960883688,
           0.05275274825100677,
           1,
           0.5904980518913915,
           0.024401646804322094,
           -0.11412873784355883,
           0.006608530189460555,
           0.14625480631197657,
           0.42610195687099195,
           0.27825883638139093,
           0.1010805760982644,
           0.10970523730306211,
           0.1466398338659063,
           0.22683476022919538,
           0.12381584490211059,
           0.10865457659627922,
           0.13920481271606816,
           0.15770802572998996,
           0.05155215322666359,
           0.11292226082620474,
           0.047105828133585624,
           0.11594265998569729,
           0.016444028996410964,
           0.06508775623696114,
           0.11783846970499544,
           0.13895118067596923,
           0.1515653363785765
          ],
          [
           0.17413336122709705,
           0.11366027462201887,
           0.09682466446694588,
           0.09298510859692571,
           -0.07404050037890837,
           0.04763597245457964,
           0.5904980518913915,
           1,
           0.07299012406821,
           -0.08866356866324819,
           0.03686338481416775,
           0.0481389543136767,
           0.3432618155834305,
           0.48607068591393726,
           0.10574015738262829,
           0.1699384120569194,
           0.2455930160119071,
           0.1646333539097676,
           0.14355137645136376,
           0.12532401269892338,
           0.1213823481046342,
           0.04458439222568847,
           0.06267502156085787,
           0.037498459058414015,
           0.07730182167433958,
           0.0880946314295918,
           0.07106925965369304,
           0.04103501616206575,
           0.05198191622058964,
           0.09240060913525419,
           0.17174764702987497
          ],
          [
           0.26967923046012315,
           0.2152531092227451,
           0.2632575917568774,
           0.018175381915504968,
           -0.1112820450912689,
           -0.1796002185844495,
           0.024401646804322094,
           0.07299012406821,
           1,
           -0.25294152410803644,
           0.24717299485226518,
           0.126230149055212,
           0.10720161911877851,
           0.13731986818638744,
           0.17792153531094274,
           0.13382303079368177,
           0.18167781608826827,
           0.15834035352612288,
           0.12957318218794356,
           0.15327694399825753,
           0.13894233048385582,
           0.03078215812952446,
           0.1584275255640142,
           0.2049469668544067,
           0.13257831171122766,
           0.10582788440381288,
           0.21005133860841965,
           0.14930915986786736,
           0.17207857350464661,
           0.15135517322727962,
           0.18731618587140372
          ],
          [
           -0.138496691250517,
           -0.14794295302245258,
           -0.15901393429343222,
           0.05552279947106473,
           0.1635498962180891,
           0.11208938590318564,
           -0.11412873784355883,
           -0.08866356866324819,
           -0.25294152410803644,
           1,
           -0.12866165015294737,
           -0.034700186359574156,
           -0.09319095986342184,
           -0.04754147993217872,
           -0.08656454993144454,
           0.01766640139318596,
           -0.06497874485523933,
           -0.07296227504068381,
           -0.15681423870416572,
           -0.06667874385361901,
           -0.009508612040513665,
           -0.04850953199817846,
           -0.0904071021596323,
           -0.11530215004216732,
           -0.04063957128096964,
           -0.10563862757777955,
           -0.1546699393860034,
           -0.14980479914910405,
           -0.1221457907613338,
           -0.08366847811505304,
           -0.0684973554939681
          ],
          [
           0.21599887719971247,
           0.13481001928820519,
           0.2711480805051407,
           0.06116452783907916,
           -0.06638920295721557,
           -0.10208249087188619,
           0.006608530189460555,
           0.03686338481416775,
           0.24717299485226518,
           -0.12866165015294737,
           1,
           0.12508188340233958,
           0.15100138162255278,
           0.10528947336054076,
           0.03269558560305866,
           0.0316387874156388,
           0.0036427922701366354,
           0.09904801865293894,
           0.023443012418380815,
           0.1534164340259175,
           -0.012535014872983944,
           -0.08591293791151587,
           0.20624441377948358,
           0.08882791989610579,
           0.19615824810000118,
           0.05852019063852825,
           0.0742459834097001,
           -0.008243273546855388,
           -0.01755980993777747,
           -0.07030242052085493,
           -0.013399736900279038
          ],
          [
           0.49369795581800613,
           0.5460331258413342,
           0.5054991160999459,
           0.2865483786349354,
           0.09896979369276675,
           0.09358053133959805,
           0.14625480631197657,
           0.0481389543136767,
           0.126230149055212,
           -0.034700186359574156,
           0.12508188340233958,
           1,
           0.24116551082309987,
           0.2267604893840598,
           0.1586565246106821,
           0.053838042893680216,
           0.17731079817720016,
           0.2254388762741031,
           0.3245425427441781,
           0.002272868438713107,
           0.1621735191057029,
           0.1539815024841713,
           0.23140888932813541,
           0.3883288265553268,
           0.21067035231044834,
           0.21894546598709652,
           0.23312321127451127,
           0.24680875189504642,
           0.25974027517936343,
           0.22414869071576882,
           0.2534828574969759
          ],
          [
           0.2969788916084893,
           0.3156409410158584,
           0.2756501312444984,
           0.11839886214678352,
           -0.07625421574008845,
           -0.07164282664346346,
           0.42610195687099195,
           0.3432618155834305,
           0.10720161911877851,
           -0.09319095986342184,
           0.15100138162255278,
           0.24116551082309987,
           1,
           0.6050595480796255,
           0.24208785854516973,
           0.35678838712056193,
           0.334030897617607,
           0.36070644510530897,
           0.2575425199719829,
           0.08244603787191757,
           0.16857509008586352,
           0.1328822205287889,
           0.12536415780690618,
           0.24235992978943224,
           0.09647518727950179,
           0.25758495763064304,
           0.21292230884035013,
           0.09907728733300465,
           0.15975626310405058,
           0.20694971410165108,
           0.21546711771037003
          ],
          [
           0.3398920845275644,
           0.27766149727222883,
           0.21429903139294446,
           0.04688607695563493,
           -0.11213748931483235,
           -0.1421202825330102,
           0.27825883638139093,
           0.48607068591393726,
           0.13731986818638744,
           -0.04754147993217872,
           0.10528947336054076,
           0.2267604893840598,
           0.6050595480796255,
           1,
           0.2990360752081707,
           0.42339228362580955,
           0.45917463592587454,
           0.40050360044627437,
           0.3778627722476331,
           0.14602104738370153,
           0.1991474888951001,
           0.13049262563972838,
           0.21005852854741927,
           0.2681037847904207,
           0.17232944781240822,
           0.2979139486014252,
           0.2559192117937806,
           0.1335522422257572,
           0.1596880474134994,
           0.17507800489780778,
           0.253453427659106
          ],
          [
           0.18913535234304957,
           0.19391128336308616,
           0.16777983601793925,
           0.04192834585635736,
           -0.06195738044838229,
           -0.08504585492611592,
           0.1010805760982644,
           0.10574015738262829,
           0.17792153531094274,
           -0.08656454993144454,
           0.03269558560305866,
           0.1586565246106821,
           0.24208785854516973,
           0.2990360752081707,
           1,
           0.6728174055265549,
           0.32522176146631376,
           0.30288705786148723,
           0.24789484581234403,
           0.06666221382263923,
           0.18993820337899592,
           0.14398165082120354,
           0.08436801480643934,
           0.22558720984023167,
           0.1274876084651465,
           0.22022317699168933,
           0.14366202727291458,
           0.07979604476334558,
           0.16766968791824144,
           0.14684877821347406,
           0.1950774764091573
          ],
          [
           0.24464682612063818,
           0.20840183576525007,
           0.1632627266144727,
           -0.035618476503976246,
           -0.15761374538608913,
           -0.20461954969328125,
           0.10970523730306211,
           0.1699384120569194,
           0.13382303079368177,
           0.01766640139318596,
           0.0316387874156388,
           0.053838042893680216,
           0.35678838712056193,
           0.42339228362580955,
           0.6728174055265549,
           1,
           0.3792208488314107,
           0.28063115022445745,
           0.21426251474726588,
           0.12656426489624964,
           0.2020756327021331,
           0.14985410703839833,
           0.09445031193897306,
           0.16768992712516062,
           0.1396464840224698,
           0.2281795770465115,
           0.18192848322956987,
           0.05143836554704128,
           0.14611928489159037,
           0.13859222361095838,
           0.20715799792772424
          ],
          [
           0.3710665298265379,
           0.32762640058439135,
           0.2831495799748784,
           -0.020599960021931242,
           -0.017113593619280214,
           -0.13955966162062539,
           0.1466398338659063,
           0.2455930160119071,
           0.18167781608826827,
           -0.06497874485523933,
           0.0036427922701366354,
           0.17731079817720016,
           0.334030897617607,
           0.45917463592587454,
           0.32522176146631376,
           0.3792208488314107,
           1,
           0.45389069917241326,
           0.4107781875882093,
           0.18530661890924166,
           0.28851005087921183,
           0.27010277446186,
           0.1865000170697948,
           0.3268823830278213,
           0.21329732043395572,
           0.344554045319617,
           0.2539110371897813,
           0.1867491743943252,
           0.20904504762121062,
           0.21766796239983524,
           0.20153074315011865
          ],
          [
           0.3127072633555034,
           0.337588288818288,
           0.26072869074725075,
           -0.015205379354238834,
           0.005230393302941699,
           -0.08064260256144949,
           0.22683476022919538,
           0.1646333539097676,
           0.15834035352612288,
           -0.07296227504068381,
           0.09904801865293894,
           0.2254388762741031,
           0.36070644510530897,
           0.40050360044627437,
           0.30288705786148723,
           0.28063115022445745,
           0.45389069917241326,
           1,
           0.5472033168024001,
           0.18926021641637145,
           0.2296831486087052,
           0.30010679076330904,
           0.14393792183023987,
           0.3508782919025913,
           0.16213861231641194,
           0.33906693945918803,
           0.2322437679938011,
           0.18906343900788392,
           0.224990702407818,
           0.3170631073333993,
           0.29184432599858023
          ],
          [
           0.4285621222550501,
           0.4183258921256212,
           0.36047532947824995,
           0.03390590887274828,
           -0.09355659752379421,
           -0.13492941437848852,
           0.12381584490211059,
           0.14355137645136376,
           0.12957318218794356,
           -0.15681423870416572,
           0.023443012418380815,
           0.3245425427441781,
           0.2575425199719829,
           0.3778627722476331,
           0.24789484581234403,
           0.21426251474726588,
           0.4107781875882093,
           0.5472033168024001,
           1,
           0.23120684031851751,
           0.16154133711842925,
           0.30217902132625096,
           0.2424540404957989,
           0.36435892335752096,
           0.20722991029229418,
           0.32479032128861146,
           0.2506890359293737,
           0.2578064753934966,
           0.2889766290916761,
           0.36183214242797673,
           0.3067888195197152
          ],
          [
           0.14334731613705295,
           0.17570699647934396,
           0.11875284370586184,
           0.04032390197733998,
           -0.027702531977389765,
           -0.08304508624549056,
           0.10865457659627922,
           0.12532401269892338,
           0.15327694399825753,
           -0.06667874385361901,
           0.1534164340259175,
           0.002272868438713107,
           0.08244603787191757,
           0.14602104738370153,
           0.06666221382263923,
           0.12656426489624964,
           0.18530661890924166,
           0.18926021641637145,
           0.23120684031851751,
           1,
           0.33149912138833343,
           0.1314554197391071,
           0.12250217363894556,
           0.2064722705756802,
           0.099846560170379,
           0.16722220275784994,
           0.09692128613979897,
           0.18355018067784074,
           0.17474769830917333,
           0.20791238192734995,
           0.21237132947927603
          ],
          [
           0.24378853389407792,
           0.27142185258936957,
           0.1784127142092779,
           0.02803663430480105,
           0.08204099073449629,
           -0.005686600053251278,
           0.13920481271606816,
           0.1213823481046342,
           0.13894233048385582,
           -0.009508612040513665,
           -0.012535014872983944,
           0.1621735191057029,
           0.16857509008586352,
           0.1991474888951001,
           0.18993820337899592,
           0.2020756327021331,
           0.28851005087921183,
           0.2296831486087052,
           0.16154133711842925,
           0.33149912138833343,
           1,
           0.2532297859225464,
           0.09636559039841025,
           0.20810664232919562,
           0.10293773193183864,
           0.19291582796327308,
           0.1570102554299568,
           0.08250259514121987,
           0.14047082613323467,
           0.15382833750492672,
           0.21491165755065159
          ],
          [
           0.2216625960327747,
           0.18808579574071732,
           0.1393680606506013,
           -0.009250258444274774,
           -0.011329827868550942,
           -0.05205944852560071,
           0.15770802572998996,
           0.04458439222568847,
           0.03078215812952446,
           -0.04850953199817846,
           -0.08591293791151587,
           0.1539815024841713,
           0.1328822205287889,
           0.13049262563972838,
           0.14398165082120354,
           0.14985410703839833,
           0.27010277446186,
           0.30010679076330904,
           0.30217902132625096,
           0.1314554197391071,
           0.2532297859225464,
           1,
           0.17352555376472512,
           0.27614427827279214,
           0.18005749799323856,
           0.22154740041046053,
           0.22638538166596342,
           0.17325172363757782,
           0.12081728135050082,
           0.14649859803868434,
           0.1714199625294235
          ],
          [
           0.28133788490525385,
           0.20256115192711083,
           0.2883976267592864,
           0.056524920480937275,
           -0.05321545134194948,
           -0.07530287494583239,
           0.05155215322666359,
           0.06267502156085787,
           0.1584275255640142,
           -0.0904071021596323,
           0.20624441377948358,
           0.23140888932813541,
           0.12536415780690618,
           0.21005852854741927,
           0.08436801480643934,
           0.09445031193897306,
           0.1865000170697948,
           0.14393792183023987,
           0.2424540404957989,
           0.12250217363894556,
           0.09636559039841025,
           0.17352555376472512,
           1,
           0.6496567193205387,
           0.8587624511968625,
           0.39333805248978365,
           0.6040548766746632,
           0.3164316711085484,
           0.40218058015178076,
           0.25536643272985093,
           0.33414009127329686
          ],
          [
           0.36052771337678924,
           0.3682719012061689,
           0.3690624236183889,
           0.057680798131968435,
           0.07172625116599946,
           -0.11610641918420857,
           0.11292226082620474,
           0.037498459058414015,
           0.2049469668544067,
           -0.11530215004216732,
           0.08882791989610579,
           0.3883288265553268,
           0.24235992978943224,
           0.2681037847904207,
           0.22558720984023167,
           0.16768992712516062,
           0.3268823830278213,
           0.3508782919025913,
           0.36435892335752096,
           0.2064722705756802,
           0.20810664232919562,
           0.27614427827279214,
           0.6496567193205387,
           1,
           0.6065336204370474,
           0.6683498647931392,
           0.5813800422817021,
           0.5010172500394132,
           0.49781482397029264,
           0.5290126999887947,
           0.46842058277046345
          ],
          [
           0.27445769632741346,
           0.21909824372650816,
           0.29598665256892864,
           0.06450118167247243,
           -0.060471827748885314,
           -0.08613725755984239,
           0.047105828133585624,
           0.07730182167433958,
           0.13257831171122766,
           -0.04063957128096964,
           0.19615824810000118,
           0.21067035231044834,
           0.09647518727950179,
           0.17232944781240822,
           0.1274876084651465,
           0.1396464840224698,
           0.21329732043395572,
           0.16213861231641194,
           0.20722991029229418,
           0.099846560170379,
           0.10293773193183864,
           0.18005749799323856,
           0.8587624511968625,
           0.6065336204370474,
           1,
           0.4126051018585546,
           0.5589906572903397,
           0.306030707957482,
           0.3686069860692666,
           0.26812163066486333,
           0.34306519670338803
          ],
          [
           0.27325757391106964,
           0.3600759035713542,
           0.2795127467270815,
           0.15396943668536334,
           0.08471123857946702,
           -0.09088297613342126,
           0.11594265998569729,
           0.0880946314295918,
           0.10582788440381288,
           -0.10563862757777955,
           0.05852019063852825,
           0.21894546598709652,
           0.25758495763064304,
           0.2979139486014252,
           0.22022317699168933,
           0.2281795770465115,
           0.344554045319617,
           0.33906693945918803,
           0.32479032128861146,
           0.16722220275784994,
           0.19291582796327308,
           0.22154740041046053,
           0.39333805248978365,
           0.6683498647931392,
           0.4126051018585546,
           1,
           0.5738607783601768,
           0.45863602656478014,
           0.49640020569864673,
           0.576792409046945,
           0.46724751961865846
          ],
          [
           0.3196651551911544,
           0.3129762356562446,
           0.29412183511810913,
           0.12742167262732362,
           -0.020141763636239207,
           -0.037497148284690696,
           0.016444028996410964,
           0.07106925965369304,
           0.21005133860841965,
           -0.1546699393860034,
           0.0742459834097001,
           0.23312321127451127,
           0.21292230884035013,
           0.2559192117937806,
           0.14366202727291458,
           0.18192848322956987,
           0.2539110371897813,
           0.2322437679938011,
           0.2506890359293737,
           0.09692128613979897,
           0.1570102554299568,
           0.22638538166596342,
           0.6040548766746632,
           0.5813800422817021,
           0.5589906572903397,
           0.5738607783601768,
           1,
           0.5625219416684026,
           0.5708844115276496,
           0.5757821057136802,
           0.578138533900374
          ],
          [
           0.20229737359004227,
           0.27276144596762963,
           0.25651758744402475,
           0.14775780236259398,
           0.09302129330163066,
           0.014266789190422794,
           0.06508775623696114,
           0.04103501616206575,
           0.14930915986786736,
           -0.14980479914910405,
           -0.008243273546855388,
           0.24680875189504642,
           0.09907728733300465,
           0.1335522422257572,
           0.07979604476334558,
           0.05143836554704128,
           0.1867491743943252,
           0.18906343900788392,
           0.2578064753934966,
           0.18355018067784074,
           0.08250259514121987,
           0.17325172363757782,
           0.3164316711085484,
           0.5010172500394132,
           0.306030707957482,
           0.45863602656478014,
           0.5625219416684026,
           1,
           0.6275444440094433,
           0.6329551834261883,
           0.5403719670752097
          ],
          [
           0.24456421182463517,
           0.32191528178250256,
           0.2591610743256973,
           0.12357314162698624,
           0.0001256483191057347,
           -0.04123869360405495,
           0.11783846970499544,
           0.05198191622058964,
           0.17207857350464661,
           -0.1221457907613338,
           -0.01755980993777747,
           0.25974027517936343,
           0.15975626310405058,
           0.1596880474134994,
           0.16766968791824144,
           0.14611928489159037,
           0.20904504762121062,
           0.224990702407818,
           0.2889766290916761,
           0.17474769830917333,
           0.14047082613323467,
           0.12081728135050082,
           0.40218058015178076,
           0.49781482397029264,
           0.3686069860692666,
           0.49640020569864673,
           0.5708844115276496,
           0.6275444440094433,
           1,
           0.8071246265808637,
           0.8066408818954163
          ],
          [
           0.2518336848137735,
           0.3418436060253168,
           0.2419368495346906,
           0.14827607290044728,
           0.06498347399273713,
           -0.030587544204759735,
           0.13895118067596923,
           0.09240060913525419,
           0.15135517322727962,
           -0.08366847811505304,
           -0.07030242052085493,
           0.22414869071576882,
           0.20694971410165108,
           0.17507800489780778,
           0.14684877821347406,
           0.13859222361095838,
           0.21766796239983524,
           0.3170631073333993,
           0.36183214242797673,
           0.20791238192734995,
           0.15382833750492672,
           0.14649859803868434,
           0.25536643272985093,
           0.5290126999887947,
           0.26812163066486333,
           0.576792409046945,
           0.5757821057136802,
           0.6329551834261883,
           0.8071246265808637,
           1,
           0.7649168896584502
          ],
          [
           0.2920066838230016,
           0.30387732239255877,
           0.23804537216616992,
           0.1409897702059214,
           0.005406151095928312,
           -0.04095238827432683,
           0.1515653363785765,
           0.17174764702987497,
           0.18731618587140372,
           -0.0684973554939681,
           -0.013399736900279038,
           0.2534828574969759,
           0.21546711771037003,
           0.253453427659106,
           0.1950774764091573,
           0.20715799792772424,
           0.20153074315011865,
           0.29184432599858023,
           0.3067888195197152,
           0.21237132947927603,
           0.21491165755065159,
           0.1714199625294235,
           0.33414009127329686,
           0.46842058277046345,
           0.34306519670338803,
           0.46724751961865846,
           0.578138533900374,
           0.5403719670752097,
           0.8066408818954163,
           0.7649168896584502,
           1
          ]
         ]
        }
       ],
       "layout": {
        "coloraxis": {
         "colorscale": [
          [
           0,
           "#0d0887"
          ],
          [
           0.1111111111111111,
           "#46039f"
          ],
          [
           0.2222222222222222,
           "#7201a8"
          ],
          [
           0.3333333333333333,
           "#9c179e"
          ],
          [
           0.4444444444444444,
           "#bd3786"
          ],
          [
           0.5555555555555556,
           "#d8576b"
          ],
          [
           0.6666666666666666,
           "#ed7953"
          ],
          [
           0.7777777777777778,
           "#fb9f3a"
          ],
          [
           0.8888888888888888,
           "#fdca26"
          ],
          [
           1,
           "#f0f921"
          ]
         ]
        },
        "height": 1200,
        "margin": {
         "t": 60
        },
        "template": {
         "data": {
          "bar": [
           {
            "error_x": {
             "color": "#2a3f5f"
            },
            "error_y": {
             "color": "#2a3f5f"
            },
            "marker": {
             "line": {
              "color": "#E5ECF6",
              "width": 0.5
             },
             "pattern": {
              "fillmode": "overlay",
              "size": 10,
              "solidity": 0.2
             }
            },
            "type": "bar"
           }
          ],
          "barpolar": [
           {
            "marker": {
             "line": {
              "color": "#E5ECF6",
              "width": 0.5
             },
             "pattern": {
              "fillmode": "overlay",
              "size": 10,
              "solidity": 0.2
             }
            },
            "type": "barpolar"
           }
          ],
          "carpet": [
           {
            "aaxis": {
             "endlinecolor": "#2a3f5f",
             "gridcolor": "white",
             "linecolor": "white",
             "minorgridcolor": "white",
             "startlinecolor": "#2a3f5f"
            },
            "baxis": {
             "endlinecolor": "#2a3f5f",
             "gridcolor": "white",
             "linecolor": "white",
             "minorgridcolor": "white",
             "startlinecolor": "#2a3f5f"
            },
            "type": "carpet"
           }
          ],
          "choropleth": [
           {
            "colorbar": {
             "outlinewidth": 0,
             "ticks": ""
            },
            "type": "choropleth"
           }
          ],
          "contour": [
           {
            "colorbar": {
             "outlinewidth": 0,
             "ticks": ""
            },
            "colorscale": [
             [
              0,
              "#0d0887"
             ],
             [
              0.1111111111111111,
              "#46039f"
             ],
             [
              0.2222222222222222,
              "#7201a8"
             ],
             [
              0.3333333333333333,
              "#9c179e"
             ],
             [
              0.4444444444444444,
              "#bd3786"
             ],
             [
              0.5555555555555556,
              "#d8576b"
             ],
             [
              0.6666666666666666,
              "#ed7953"
             ],
             [
              0.7777777777777778,
              "#fb9f3a"
             ],
             [
              0.8888888888888888,
              "#fdca26"
             ],
             [
              1,
              "#f0f921"
             ]
            ],
            "type": "contour"
           }
          ],
          "contourcarpet": [
           {
            "colorbar": {
             "outlinewidth": 0,
             "ticks": ""
            },
            "type": "contourcarpet"
           }
          ],
          "heatmap": [
           {
            "colorbar": {
             "outlinewidth": 0,
             "ticks": ""
            },
            "colorscale": [
             [
              0,
              "#0d0887"
             ],
             [
              0.1111111111111111,
              "#46039f"
             ],
             [
              0.2222222222222222,
              "#7201a8"
             ],
             [
              0.3333333333333333,
              "#9c179e"
             ],
             [
              0.4444444444444444,
              "#bd3786"
             ],
             [
              0.5555555555555556,
              "#d8576b"
             ],
             [
              0.6666666666666666,
              "#ed7953"
             ],
             [
              0.7777777777777778,
              "#fb9f3a"
             ],
             [
              0.8888888888888888,
              "#fdca26"
             ],
             [
              1,
              "#f0f921"
             ]
            ],
            "type": "heatmap"
           }
          ],
          "heatmapgl": [
           {
            "colorbar": {
             "outlinewidth": 0,
             "ticks": ""
            },
            "colorscale": [
             [
              0,
              "#0d0887"
             ],
             [
              0.1111111111111111,
              "#46039f"
             ],
             [
              0.2222222222222222,
              "#7201a8"
             ],
             [
              0.3333333333333333,
              "#9c179e"
             ],
             [
              0.4444444444444444,
              "#bd3786"
             ],
             [
              0.5555555555555556,
              "#d8576b"
             ],
             [
              0.6666666666666666,
              "#ed7953"
             ],
             [
              0.7777777777777778,
              "#fb9f3a"
             ],
             [
              0.8888888888888888,
              "#fdca26"
             ],
             [
              1,
              "#f0f921"
             ]
            ],
            "type": "heatmapgl"
           }
          ],
          "histogram": [
           {
            "marker": {
             "pattern": {
              "fillmode": "overlay",
              "size": 10,
              "solidity": 0.2
             }
            },
            "type": "histogram"
           }
          ],
          "histogram2d": [
           {
            "colorbar": {
             "outlinewidth": 0,
             "ticks": ""
            },
            "colorscale": [
             [
              0,
              "#0d0887"
             ],
             [
              0.1111111111111111,
              "#46039f"
             ],
             [
              0.2222222222222222,
              "#7201a8"
             ],
             [
              0.3333333333333333,
              "#9c179e"
             ],
             [
              0.4444444444444444,
              "#bd3786"
             ],
             [
              0.5555555555555556,
              "#d8576b"
             ],
             [
              0.6666666666666666,
              "#ed7953"
             ],
             [
              0.7777777777777778,
              "#fb9f3a"
             ],
             [
              0.8888888888888888,
              "#fdca26"
             ],
             [
              1,
              "#f0f921"
             ]
            ],
            "type": "histogram2d"
           }
          ],
          "histogram2dcontour": [
           {
            "colorbar": {
             "outlinewidth": 0,
             "ticks": ""
            },
            "colorscale": [
             [
              0,
              "#0d0887"
             ],
             [
              0.1111111111111111,
              "#46039f"
             ],
             [
              0.2222222222222222,
              "#7201a8"
             ],
             [
              0.3333333333333333,
              "#9c179e"
             ],
             [
              0.4444444444444444,
              "#bd3786"
             ],
             [
              0.5555555555555556,
              "#d8576b"
             ],
             [
              0.6666666666666666,
              "#ed7953"
             ],
             [
              0.7777777777777778,
              "#fb9f3a"
             ],
             [
              0.8888888888888888,
              "#fdca26"
             ],
             [
              1,
              "#f0f921"
             ]
            ],
            "type": "histogram2dcontour"
           }
          ],
          "mesh3d": [
           {
            "colorbar": {
             "outlinewidth": 0,
             "ticks": ""
            },
            "type": "mesh3d"
           }
          ],
          "parcoords": [
           {
            "line": {
             "colorbar": {
              "outlinewidth": 0,
              "ticks": ""
             }
            },
            "type": "parcoords"
           }
          ],
          "pie": [
           {
            "automargin": true,
            "type": "pie"
           }
          ],
          "scatter": [
           {
            "fillpattern": {
             "fillmode": "overlay",
             "size": 10,
             "solidity": 0.2
            },
            "type": "scatter"
           }
          ],
          "scatter3d": [
           {
            "line": {
             "colorbar": {
              "outlinewidth": 0,
              "ticks": ""
             }
            },
            "marker": {
             "colorbar": {
              "outlinewidth": 0,
              "ticks": ""
             }
            },
            "type": "scatter3d"
           }
          ],
          "scattercarpet": [
           {
            "marker": {
             "colorbar": {
              "outlinewidth": 0,
              "ticks": ""
             }
            },
            "type": "scattercarpet"
           }
          ],
          "scattergeo": [
           {
            "marker": {
             "colorbar": {
              "outlinewidth": 0,
              "ticks": ""
             }
            },
            "type": "scattergeo"
           }
          ],
          "scattergl": [
           {
            "marker": {
             "colorbar": {
              "outlinewidth": 0,
              "ticks": ""
             }
            },
            "type": "scattergl"
           }
          ],
          "scattermapbox": [
           {
            "marker": {
             "colorbar": {
              "outlinewidth": 0,
              "ticks": ""
             }
            },
            "type": "scattermapbox"
           }
          ],
          "scatterpolar": [
           {
            "marker": {
             "colorbar": {
              "outlinewidth": 0,
              "ticks": ""
             }
            },
            "type": "scatterpolar"
           }
          ],
          "scatterpolargl": [
           {
            "marker": {
             "colorbar": {
              "outlinewidth": 0,
              "ticks": ""
             }
            },
            "type": "scatterpolargl"
           }
          ],
          "scatterternary": [
           {
            "marker": {
             "colorbar": {
              "outlinewidth": 0,
              "ticks": ""
             }
            },
            "type": "scatterternary"
           }
          ],
          "surface": [
           {
            "colorbar": {
             "outlinewidth": 0,
             "ticks": ""
            },
            "colorscale": [
             [
              0,
              "#0d0887"
             ],
             [
              0.1111111111111111,
              "#46039f"
             ],
             [
              0.2222222222222222,
              "#7201a8"
             ],
             [
              0.3333333333333333,
              "#9c179e"
             ],
             [
              0.4444444444444444,
              "#bd3786"
             ],
             [
              0.5555555555555556,
              "#d8576b"
             ],
             [
              0.6666666666666666,
              "#ed7953"
             ],
             [
              0.7777777777777778,
              "#fb9f3a"
             ],
             [
              0.8888888888888888,
              "#fdca26"
             ],
             [
              1,
              "#f0f921"
             ]
            ],
            "type": "surface"
           }
          ],
          "table": [
           {
            "cells": {
             "fill": {
              "color": "#EBF0F8"
             },
             "line": {
              "color": "white"
             }
            },
            "header": {
             "fill": {
              "color": "#C8D4E3"
             },
             "line": {
              "color": "white"
             }
            },
            "type": "table"
           }
          ]
         },
         "layout": {
          "annotationdefaults": {
           "arrowcolor": "#2a3f5f",
           "arrowhead": 0,
           "arrowwidth": 1
          },
          "autotypenumbers": "strict",
          "coloraxis": {
           "colorbar": {
            "outlinewidth": 0,
            "ticks": ""
           }
          },
          "colorscale": {
           "diverging": [
            [
             0,
             "#8e0152"
            ],
            [
             0.1,
             "#c51b7d"
            ],
            [
             0.2,
             "#de77ae"
            ],
            [
             0.3,
             "#f1b6da"
            ],
            [
             0.4,
             "#fde0ef"
            ],
            [
             0.5,
             "#f7f7f7"
            ],
            [
             0.6,
             "#e6f5d0"
            ],
            [
             0.7,
             "#b8e186"
            ],
            [
             0.8,
             "#7fbc41"
            ],
            [
             0.9,
             "#4d9221"
            ],
            [
             1,
             "#276419"
            ]
           ],
           "sequential": [
            [
             0,
             "#0d0887"
            ],
            [
             0.1111111111111111,
             "#46039f"
            ],
            [
             0.2222222222222222,
             "#7201a8"
            ],
            [
             0.3333333333333333,
             "#9c179e"
            ],
            [
             0.4444444444444444,
             "#bd3786"
            ],
            [
             0.5555555555555556,
             "#d8576b"
            ],
            [
             0.6666666666666666,
             "#ed7953"
            ],
            [
             0.7777777777777778,
             "#fb9f3a"
            ],
            [
             0.8888888888888888,
             "#fdca26"
            ],
            [
             1,
             "#f0f921"
            ]
           ],
           "sequentialminus": [
            [
             0,
             "#0d0887"
            ],
            [
             0.1111111111111111,
             "#46039f"
            ],
            [
             0.2222222222222222,
             "#7201a8"
            ],
            [
             0.3333333333333333,
             "#9c179e"
            ],
            [
             0.4444444444444444,
             "#bd3786"
            ],
            [
             0.5555555555555556,
             "#d8576b"
            ],
            [
             0.6666666666666666,
             "#ed7953"
            ],
            [
             0.7777777777777778,
             "#fb9f3a"
            ],
            [
             0.8888888888888888,
             "#fdca26"
            ],
            [
             1,
             "#f0f921"
            ]
           ]
          },
          "colorway": [
           "#636efa",
           "#EF553B",
           "#00cc96",
           "#ab63fa",
           "#FFA15A",
           "#19d3f3",
           "#FF6692",
           "#B6E880",
           "#FF97FF",
           "#FECB52"
          ],
          "font": {
           "color": "#2a3f5f"
          },
          "geo": {
           "bgcolor": "white",
           "lakecolor": "white",
           "landcolor": "#E5ECF6",
           "showlakes": true,
           "showland": true,
           "subunitcolor": "white"
          },
          "hoverlabel": {
           "align": "left"
          },
          "hovermode": "closest",
          "mapbox": {
           "style": "light"
          },
          "paper_bgcolor": "white",
          "plot_bgcolor": "#E5ECF6",
          "polar": {
           "angularaxis": {
            "gridcolor": "white",
            "linecolor": "white",
            "ticks": ""
           },
           "bgcolor": "#E5ECF6",
           "radialaxis": {
            "gridcolor": "white",
            "linecolor": "white",
            "ticks": ""
           }
          },
          "scene": {
           "xaxis": {
            "backgroundcolor": "#E5ECF6",
            "gridcolor": "white",
            "gridwidth": 2,
            "linecolor": "white",
            "showbackground": true,
            "ticks": "",
            "zerolinecolor": "white"
           },
           "yaxis": {
            "backgroundcolor": "#E5ECF6",
            "gridcolor": "white",
            "gridwidth": 2,
            "linecolor": "white",
            "showbackground": true,
            "ticks": "",
            "zerolinecolor": "white"
           },
           "zaxis": {
            "backgroundcolor": "#E5ECF6",
            "gridcolor": "white",
            "gridwidth": 2,
            "linecolor": "white",
            "showbackground": true,
            "ticks": "",
            "zerolinecolor": "white"
           }
          },
          "shapedefaults": {
           "line": {
            "color": "#2a3f5f"
           }
          },
          "ternary": {
           "aaxis": {
            "gridcolor": "white",
            "linecolor": "white",
            "ticks": ""
           },
           "baxis": {
            "gridcolor": "white",
            "linecolor": "white",
            "ticks": ""
           },
           "bgcolor": "#E5ECF6",
           "caxis": {
            "gridcolor": "white",
            "linecolor": "white",
            "ticks": ""
           }
          },
          "title": {
           "x": 0.05
          },
          "xaxis": {
           "automargin": true,
           "gridcolor": "white",
           "linecolor": "white",
           "ticks": "",
           "title": {
            "standoff": 15
           },
           "zerolinecolor": "white",
           "zerolinewidth": 2
          },
          "yaxis": {
           "automargin": true,
           "gridcolor": "white",
           "linecolor": "white",
           "ticks": "",
           "title": {
            "standoff": 15
           },
           "zerolinecolor": "white",
           "zerolinewidth": 2
          }
         }
        },
        "width": 1200,
        "xaxis": {
         "anchor": "y",
         "constrain": "domain",
         "domain": [
          0,
          1
         ],
         "scaleanchor": "y"
        },
        "yaxis": {
         "anchor": "x",
         "autorange": "reversed",
         "constrain": "domain",
         "domain": [
          0,
          1
         ]
        }
       }
      }
     },
     "metadata": {},
     "output_type": "display_data"
    }
   ],
   "source": [
    "## Generate a correlation plot to see whether any of the questions are correlated\n",
    "fig = px.imshow(df_factor_num_only.corr(), width=1200, height=1200)\n",
    "fig.show()"
   ]
  },
  {
   "cell_type": "code",
   "execution_count": null,
   "metadata": {},
   "outputs": [],
   "source": []
  },
  {
   "cell_type": "code",
   "execution_count": 620,
   "metadata": {},
   "outputs": [
    {
     "data": {
      "text/plain": [
       "(3803.8672093884725, 0.0)"
      ]
     },
     "execution_count": 620,
     "metadata": {},
     "output_type": "execute_result"
    }
   ],
   "source": [
    "## We want to do factor anaylsis\n",
    "## First we need to check a Bartlett's Test of Sphericity\n",
    "\n",
    "chi_square_value, p_value = calculate_bartlett_sphericity(df_factor_num_only)\n",
    "chi_square_value, p_value\n",
    "\n",
    "## The p-value is less than 0.05 so we can proceed"
   ]
  },
  {
   "cell_type": "code",
   "execution_count": 621,
   "metadata": {},
   "outputs": [
    {
     "data": {
      "text/plain": [
       "0.82758678139099"
      ]
     },
     "execution_count": 621,
     "metadata": {},
     "output_type": "execute_result"
    }
   ],
   "source": [
    "## Next we need to check the Kaiser-Meyer-Olkin (KMO) Test\n",
    "\n",
    "kmo_all, kmo_model = calculate_kmo(df_factor_num_only)\n",
    "kmo_model\n",
    "\n",
    "## The KMO value is greater than 0.6 so we can proceed"
   ]
  },
  {
   "cell_type": "code",
   "execution_count": 622,
   "metadata": {},
   "outputs": [
    {
     "name": "stdout",
     "output_type": "stream",
     "text": [
      "[7.90875783 2.83854477 2.22872985 1.98095907 1.56693088 1.45427683\n",
      " 1.26122337 1.20313924 0.9825952  0.93059837 0.79673643 0.73888098\n",
      " 0.72305424 0.65914421 0.64379021 0.60803738 0.52987613 0.50853667\n",
      " 0.4685115  0.41301293 0.36938843 0.33541519 0.28421488 0.27635651\n",
      " 0.25508426 0.23451673 0.20179018 0.18309394 0.16977651 0.15291703\n",
      " 0.09211025]\n"
     ]
    },
    {
     "data": {
      "text/plain": [
       "8"
      ]
     },
     "execution_count": 622,
     "metadata": {},
     "output_type": "execute_result"
    }
   ],
   "source": [
    "## Now we need to determine the number of factors to use\n",
    "## First we will use the eigenvalue method to determine the number of factors to use\n",
    "## Calculate the number of eigen values greater than 1\n",
    "\n",
    "# Create factor analysis object and perform factor analysis\n",
    "\n",
    "fa = FactorAnalyzer()\n",
    "fa.fit(df_factor_num_only)\n",
    "\n",
    "ev, v = fa.get_eigenvalues()\n",
    "print(ev)\n",
    "## Calculate the number of eigen values greater than 1\n",
    "\n",
    "num_factors = sum(ev > 1)\n",
    "num_factors\n",
    "\n",
    "## There are 8 factors greater than 1"
   ]
  },
  {
   "cell_type": "code",
   "execution_count": 623,
   "metadata": {},
   "outputs": [
    {
     "data": {
      "application/vnd.plotly.v1+json": {
       "config": {
        "plotlyServerURL": "https://plot.ly"
       },
       "data": [
        {
         "hovertemplate": "x=%{x}<br>y=%{y}<extra></extra>",
         "legendgroup": "",
         "line": {
          "color": "#636efa",
          "dash": "solid"
         },
         "marker": {
          "symbol": "circle"
         },
         "mode": "lines",
         "name": "",
         "orientation": "v",
         "showlegend": false,
         "type": "scatter",
         "x": [
          1,
          2,
          3,
          4,
          5,
          6,
          7,
          8,
          9,
          10,
          11,
          12,
          13,
          14,
          15,
          16,
          17,
          18,
          19,
          20,
          21,
          22,
          23,
          24,
          25,
          26,
          27,
          28,
          29,
          30,
          31
         ],
         "xaxis": "x",
         "y": [
          7.90875783404644,
          2.8385447669110233,
          2.2287298519254732,
          1.9809590704955413,
          1.5669308840214553,
          1.4542768286083334,
          1.2612233748911221,
          1.2031392351100159,
          0.982595200316417,
          0.9305983653973715,
          0.7967364325566155,
          0.7388809780877311,
          0.7230542393896509,
          0.6591442139667447,
          0.6437902100773538,
          0.608037378231225,
          0.5298761316271601,
          0.5085366677138159,
          0.46851149578239,
          0.4130129341935721,
          0.36938843001503346,
          0.335415194007046,
          0.2842148772075999,
          0.27635651469034855,
          0.2550842582080815,
          0.2345167288724587,
          0.20179017524741857,
          0.18309394314482333,
          0.1697765058811125,
          0.15291703346892718,
          0.09211024590769515
         ],
         "yaxis": "y"
        }
       ],
       "layout": {
        "legend": {
         "tracegroupgap": 0
        },
        "margin": {
         "t": 60
        },
        "template": {
         "data": {
          "bar": [
           {
            "error_x": {
             "color": "#2a3f5f"
            },
            "error_y": {
             "color": "#2a3f5f"
            },
            "marker": {
             "line": {
              "color": "#E5ECF6",
              "width": 0.5
             },
             "pattern": {
              "fillmode": "overlay",
              "size": 10,
              "solidity": 0.2
             }
            },
            "type": "bar"
           }
          ],
          "barpolar": [
           {
            "marker": {
             "line": {
              "color": "#E5ECF6",
              "width": 0.5
             },
             "pattern": {
              "fillmode": "overlay",
              "size": 10,
              "solidity": 0.2
             }
            },
            "type": "barpolar"
           }
          ],
          "carpet": [
           {
            "aaxis": {
             "endlinecolor": "#2a3f5f",
             "gridcolor": "white",
             "linecolor": "white",
             "minorgridcolor": "white",
             "startlinecolor": "#2a3f5f"
            },
            "baxis": {
             "endlinecolor": "#2a3f5f",
             "gridcolor": "white",
             "linecolor": "white",
             "minorgridcolor": "white",
             "startlinecolor": "#2a3f5f"
            },
            "type": "carpet"
           }
          ],
          "choropleth": [
           {
            "colorbar": {
             "outlinewidth": 0,
             "ticks": ""
            },
            "type": "choropleth"
           }
          ],
          "contour": [
           {
            "colorbar": {
             "outlinewidth": 0,
             "ticks": ""
            },
            "colorscale": [
             [
              0,
              "#0d0887"
             ],
             [
              0.1111111111111111,
              "#46039f"
             ],
             [
              0.2222222222222222,
              "#7201a8"
             ],
             [
              0.3333333333333333,
              "#9c179e"
             ],
             [
              0.4444444444444444,
              "#bd3786"
             ],
             [
              0.5555555555555556,
              "#d8576b"
             ],
             [
              0.6666666666666666,
              "#ed7953"
             ],
             [
              0.7777777777777778,
              "#fb9f3a"
             ],
             [
              0.8888888888888888,
              "#fdca26"
             ],
             [
              1,
              "#f0f921"
             ]
            ],
            "type": "contour"
           }
          ],
          "contourcarpet": [
           {
            "colorbar": {
             "outlinewidth": 0,
             "ticks": ""
            },
            "type": "contourcarpet"
           }
          ],
          "heatmap": [
           {
            "colorbar": {
             "outlinewidth": 0,
             "ticks": ""
            },
            "colorscale": [
             [
              0,
              "#0d0887"
             ],
             [
              0.1111111111111111,
              "#46039f"
             ],
             [
              0.2222222222222222,
              "#7201a8"
             ],
             [
              0.3333333333333333,
              "#9c179e"
             ],
             [
              0.4444444444444444,
              "#bd3786"
             ],
             [
              0.5555555555555556,
              "#d8576b"
             ],
             [
              0.6666666666666666,
              "#ed7953"
             ],
             [
              0.7777777777777778,
              "#fb9f3a"
             ],
             [
              0.8888888888888888,
              "#fdca26"
             ],
             [
              1,
              "#f0f921"
             ]
            ],
            "type": "heatmap"
           }
          ],
          "heatmapgl": [
           {
            "colorbar": {
             "outlinewidth": 0,
             "ticks": ""
            },
            "colorscale": [
             [
              0,
              "#0d0887"
             ],
             [
              0.1111111111111111,
              "#46039f"
             ],
             [
              0.2222222222222222,
              "#7201a8"
             ],
             [
              0.3333333333333333,
              "#9c179e"
             ],
             [
              0.4444444444444444,
              "#bd3786"
             ],
             [
              0.5555555555555556,
              "#d8576b"
             ],
             [
              0.6666666666666666,
              "#ed7953"
             ],
             [
              0.7777777777777778,
              "#fb9f3a"
             ],
             [
              0.8888888888888888,
              "#fdca26"
             ],
             [
              1,
              "#f0f921"
             ]
            ],
            "type": "heatmapgl"
           }
          ],
          "histogram": [
           {
            "marker": {
             "pattern": {
              "fillmode": "overlay",
              "size": 10,
              "solidity": 0.2
             }
            },
            "type": "histogram"
           }
          ],
          "histogram2d": [
           {
            "colorbar": {
             "outlinewidth": 0,
             "ticks": ""
            },
            "colorscale": [
             [
              0,
              "#0d0887"
             ],
             [
              0.1111111111111111,
              "#46039f"
             ],
             [
              0.2222222222222222,
              "#7201a8"
             ],
             [
              0.3333333333333333,
              "#9c179e"
             ],
             [
              0.4444444444444444,
              "#bd3786"
             ],
             [
              0.5555555555555556,
              "#d8576b"
             ],
             [
              0.6666666666666666,
              "#ed7953"
             ],
             [
              0.7777777777777778,
              "#fb9f3a"
             ],
             [
              0.8888888888888888,
              "#fdca26"
             ],
             [
              1,
              "#f0f921"
             ]
            ],
            "type": "histogram2d"
           }
          ],
          "histogram2dcontour": [
           {
            "colorbar": {
             "outlinewidth": 0,
             "ticks": ""
            },
            "colorscale": [
             [
              0,
              "#0d0887"
             ],
             [
              0.1111111111111111,
              "#46039f"
             ],
             [
              0.2222222222222222,
              "#7201a8"
             ],
             [
              0.3333333333333333,
              "#9c179e"
             ],
             [
              0.4444444444444444,
              "#bd3786"
             ],
             [
              0.5555555555555556,
              "#d8576b"
             ],
             [
              0.6666666666666666,
              "#ed7953"
             ],
             [
              0.7777777777777778,
              "#fb9f3a"
             ],
             [
              0.8888888888888888,
              "#fdca26"
             ],
             [
              1,
              "#f0f921"
             ]
            ],
            "type": "histogram2dcontour"
           }
          ],
          "mesh3d": [
           {
            "colorbar": {
             "outlinewidth": 0,
             "ticks": ""
            },
            "type": "mesh3d"
           }
          ],
          "parcoords": [
           {
            "line": {
             "colorbar": {
              "outlinewidth": 0,
              "ticks": ""
             }
            },
            "type": "parcoords"
           }
          ],
          "pie": [
           {
            "automargin": true,
            "type": "pie"
           }
          ],
          "scatter": [
           {
            "fillpattern": {
             "fillmode": "overlay",
             "size": 10,
             "solidity": 0.2
            },
            "type": "scatter"
           }
          ],
          "scatter3d": [
           {
            "line": {
             "colorbar": {
              "outlinewidth": 0,
              "ticks": ""
             }
            },
            "marker": {
             "colorbar": {
              "outlinewidth": 0,
              "ticks": ""
             }
            },
            "type": "scatter3d"
           }
          ],
          "scattercarpet": [
           {
            "marker": {
             "colorbar": {
              "outlinewidth": 0,
              "ticks": ""
             }
            },
            "type": "scattercarpet"
           }
          ],
          "scattergeo": [
           {
            "marker": {
             "colorbar": {
              "outlinewidth": 0,
              "ticks": ""
             }
            },
            "type": "scattergeo"
           }
          ],
          "scattergl": [
           {
            "marker": {
             "colorbar": {
              "outlinewidth": 0,
              "ticks": ""
             }
            },
            "type": "scattergl"
           }
          ],
          "scattermapbox": [
           {
            "marker": {
             "colorbar": {
              "outlinewidth": 0,
              "ticks": ""
             }
            },
            "type": "scattermapbox"
           }
          ],
          "scatterpolar": [
           {
            "marker": {
             "colorbar": {
              "outlinewidth": 0,
              "ticks": ""
             }
            },
            "type": "scatterpolar"
           }
          ],
          "scatterpolargl": [
           {
            "marker": {
             "colorbar": {
              "outlinewidth": 0,
              "ticks": ""
             }
            },
            "type": "scatterpolargl"
           }
          ],
          "scatterternary": [
           {
            "marker": {
             "colorbar": {
              "outlinewidth": 0,
              "ticks": ""
             }
            },
            "type": "scatterternary"
           }
          ],
          "surface": [
           {
            "colorbar": {
             "outlinewidth": 0,
             "ticks": ""
            },
            "colorscale": [
             [
              0,
              "#0d0887"
             ],
             [
              0.1111111111111111,
              "#46039f"
             ],
             [
              0.2222222222222222,
              "#7201a8"
             ],
             [
              0.3333333333333333,
              "#9c179e"
             ],
             [
              0.4444444444444444,
              "#bd3786"
             ],
             [
              0.5555555555555556,
              "#d8576b"
             ],
             [
              0.6666666666666666,
              "#ed7953"
             ],
             [
              0.7777777777777778,
              "#fb9f3a"
             ],
             [
              0.8888888888888888,
              "#fdca26"
             ],
             [
              1,
              "#f0f921"
             ]
            ],
            "type": "surface"
           }
          ],
          "table": [
           {
            "cells": {
             "fill": {
              "color": "#EBF0F8"
             },
             "line": {
              "color": "white"
             }
            },
            "header": {
             "fill": {
              "color": "#C8D4E3"
             },
             "line": {
              "color": "white"
             }
            },
            "type": "table"
           }
          ]
         },
         "layout": {
          "annotationdefaults": {
           "arrowcolor": "#2a3f5f",
           "arrowhead": 0,
           "arrowwidth": 1
          },
          "autotypenumbers": "strict",
          "coloraxis": {
           "colorbar": {
            "outlinewidth": 0,
            "ticks": ""
           }
          },
          "colorscale": {
           "diverging": [
            [
             0,
             "#8e0152"
            ],
            [
             0.1,
             "#c51b7d"
            ],
            [
             0.2,
             "#de77ae"
            ],
            [
             0.3,
             "#f1b6da"
            ],
            [
             0.4,
             "#fde0ef"
            ],
            [
             0.5,
             "#f7f7f7"
            ],
            [
             0.6,
             "#e6f5d0"
            ],
            [
             0.7,
             "#b8e186"
            ],
            [
             0.8,
             "#7fbc41"
            ],
            [
             0.9,
             "#4d9221"
            ],
            [
             1,
             "#276419"
            ]
           ],
           "sequential": [
            [
             0,
             "#0d0887"
            ],
            [
             0.1111111111111111,
             "#46039f"
            ],
            [
             0.2222222222222222,
             "#7201a8"
            ],
            [
             0.3333333333333333,
             "#9c179e"
            ],
            [
             0.4444444444444444,
             "#bd3786"
            ],
            [
             0.5555555555555556,
             "#d8576b"
            ],
            [
             0.6666666666666666,
             "#ed7953"
            ],
            [
             0.7777777777777778,
             "#fb9f3a"
            ],
            [
             0.8888888888888888,
             "#fdca26"
            ],
            [
             1,
             "#f0f921"
            ]
           ],
           "sequentialminus": [
            [
             0,
             "#0d0887"
            ],
            [
             0.1111111111111111,
             "#46039f"
            ],
            [
             0.2222222222222222,
             "#7201a8"
            ],
            [
             0.3333333333333333,
             "#9c179e"
            ],
            [
             0.4444444444444444,
             "#bd3786"
            ],
            [
             0.5555555555555556,
             "#d8576b"
            ],
            [
             0.6666666666666666,
             "#ed7953"
            ],
            [
             0.7777777777777778,
             "#fb9f3a"
            ],
            [
             0.8888888888888888,
             "#fdca26"
            ],
            [
             1,
             "#f0f921"
            ]
           ]
          },
          "colorway": [
           "#636efa",
           "#EF553B",
           "#00cc96",
           "#ab63fa",
           "#FFA15A",
           "#19d3f3",
           "#FF6692",
           "#B6E880",
           "#FF97FF",
           "#FECB52"
          ],
          "font": {
           "color": "#2a3f5f"
          },
          "geo": {
           "bgcolor": "white",
           "lakecolor": "white",
           "landcolor": "#E5ECF6",
           "showlakes": true,
           "showland": true,
           "subunitcolor": "white"
          },
          "hoverlabel": {
           "align": "left"
          },
          "hovermode": "closest",
          "mapbox": {
           "style": "light"
          },
          "paper_bgcolor": "white",
          "plot_bgcolor": "#E5ECF6",
          "polar": {
           "angularaxis": {
            "gridcolor": "white",
            "linecolor": "white",
            "ticks": ""
           },
           "bgcolor": "#E5ECF6",
           "radialaxis": {
            "gridcolor": "white",
            "linecolor": "white",
            "ticks": ""
           }
          },
          "scene": {
           "xaxis": {
            "backgroundcolor": "#E5ECF6",
            "gridcolor": "white",
            "gridwidth": 2,
            "linecolor": "white",
            "showbackground": true,
            "ticks": "",
            "zerolinecolor": "white"
           },
           "yaxis": {
            "backgroundcolor": "#E5ECF6",
            "gridcolor": "white",
            "gridwidth": 2,
            "linecolor": "white",
            "showbackground": true,
            "ticks": "",
            "zerolinecolor": "white"
           },
           "zaxis": {
            "backgroundcolor": "#E5ECF6",
            "gridcolor": "white",
            "gridwidth": 2,
            "linecolor": "white",
            "showbackground": true,
            "ticks": "",
            "zerolinecolor": "white"
           }
          },
          "shapedefaults": {
           "line": {
            "color": "#2a3f5f"
           }
          },
          "ternary": {
           "aaxis": {
            "gridcolor": "white",
            "linecolor": "white",
            "ticks": ""
           },
           "baxis": {
            "gridcolor": "white",
            "linecolor": "white",
            "ticks": ""
           },
           "bgcolor": "#E5ECF6",
           "caxis": {
            "gridcolor": "white",
            "linecolor": "white",
            "ticks": ""
           }
          },
          "title": {
           "x": 0.05
          },
          "xaxis": {
           "automargin": true,
           "gridcolor": "white",
           "linecolor": "white",
           "ticks": "",
           "title": {
            "standoff": 15
           },
           "zerolinecolor": "white",
           "zerolinewidth": 2
          },
          "yaxis": {
           "automargin": true,
           "gridcolor": "white",
           "linecolor": "white",
           "ticks": "",
           "title": {
            "standoff": 15
           },
           "zerolinecolor": "white",
           "zerolinewidth": 2
          }
         }
        },
        "title": {
         "text": "Scree Plot"
        },
        "xaxis": {
         "anchor": "y",
         "domain": [
          0,
          1
         ],
         "title": {
          "text": "Number of Factors"
         }
        },
        "yaxis": {
         "anchor": "x",
         "domain": [
          0,
          1
         ],
         "title": {
          "text": "Eigenvalue"
         }
        }
       }
      }
     },
     "metadata": {},
     "output_type": "display_data"
    }
   ],
   "source": [
    "## Next we will use a Scree plot\n",
    "\n",
    "fig = px.line(x=range(1,df_factor_num_only.shape[1]+1), y=ev)\n",
    "\n",
    "fig.update_layout(\n",
    "    title=\"Scree Plot\",\n",
    "    xaxis_title=\"Number of Factors\",\n",
    "    yaxis_title=\"Eigenvalue\"\n",
    ")\n",
    "\n",
    "fig.show()\n",
    "\n",
    "## The slope appears to taper after 3 factors so we will use 3 factors"
   ]
  },
  {
   "cell_type": "code",
   "execution_count": 624,
   "metadata": {},
   "outputs": [],
   "source": [
    "NUM_FACTORS = 5"
   ]
  },
  {
   "cell_type": "code",
   "execution_count": 625,
   "metadata": {},
   "outputs": [
    {
     "data": {
      "text/html": [
       "<div>\n",
       "<style scoped>\n",
       "    .dataframe tbody tr th:only-of-type {\n",
       "        vertical-align: middle;\n",
       "    }\n",
       "\n",
       "    .dataframe tbody tr th {\n",
       "        vertical-align: top;\n",
       "    }\n",
       "\n",
       "    .dataframe thead th {\n",
       "        text-align: right;\n",
       "    }\n",
       "</style>\n",
       "<table border=\"1\" class=\"dataframe\">\n",
       "  <thead>\n",
       "    <tr style=\"text-align: right;\">\n",
       "      <th></th>\n",
       "      <th>0</th>\n",
       "      <th>1</th>\n",
       "      <th>2</th>\n",
       "      <th>3</th>\n",
       "      <th>4</th>\n",
       "      <th>display_name</th>\n",
       "    </tr>\n",
       "  </thead>\n",
       "  <tbody>\n",
       "    <tr>\n",
       "      <th>0</th>\n",
       "      <td>0.130800</td>\n",
       "      <td>0.247880</td>\n",
       "      <td>0.782451</td>\n",
       "      <td>0.120923</td>\n",
       "      <td>-0.005779</td>\n",
       "      <td>attitude_criticality</td>\n",
       "    </tr>\n",
       "    <tr>\n",
       "      <th>1</th>\n",
       "      <td>0.240359</td>\n",
       "      <td>0.212909</td>\n",
       "      <td>0.774848</td>\n",
       "      <td>0.012897</td>\n",
       "      <td>0.098004</td>\n",
       "      <td>attitude_motivation</td>\n",
       "    </tr>\n",
       "    <tr>\n",
       "      <th>2</th>\n",
       "      <td>0.128754</td>\n",
       "      <td>0.124459</td>\n",
       "      <td>0.826351</td>\n",
       "      <td>0.145686</td>\n",
       "      <td>0.062413</td>\n",
       "      <td>attitude_priority</td>\n",
       "    </tr>\n",
       "    <tr>\n",
       "      <th>3</th>\n",
       "      <td>0.110669</td>\n",
       "      <td>0.083608</td>\n",
       "      <td>0.109046</td>\n",
       "      <td>0.035778</td>\n",
       "      <td>0.570331</td>\n",
       "      <td>education_impact</td>\n",
       "    </tr>\n",
       "    <tr>\n",
       "      <th>4</th>\n",
       "      <td>0.065581</td>\n",
       "      <td>-0.088820</td>\n",
       "      <td>0.035886</td>\n",
       "      <td>-0.047357</td>\n",
       "      <td>0.628776</td>\n",
       "      <td>education_institution_effort</td>\n",
       "    </tr>\n",
       "    <tr>\n",
       "      <th>5</th>\n",
       "      <td>-0.040429</td>\n",
       "      <td>-0.067430</td>\n",
       "      <td>-0.047849</td>\n",
       "      <td>-0.046950</td>\n",
       "      <td>0.805427</td>\n",
       "      <td>education_surgical_team</td>\n",
       "    </tr>\n",
       "    <tr>\n",
       "      <th>6</th>\n",
       "      <td>0.028656</td>\n",
       "      <td>0.527165</td>\n",
       "      <td>-0.032105</td>\n",
       "      <td>0.013757</td>\n",
       "      <td>0.180085</td>\n",
       "      <td>education_resuable_safety</td>\n",
       "    </tr>\n",
       "    <tr>\n",
       "      <th>7</th>\n",
       "      <td>-0.024374</td>\n",
       "      <td>0.588067</td>\n",
       "      <td>-0.043457</td>\n",
       "      <td>0.043791</td>\n",
       "      <td>0.120962</td>\n",
       "      <td>education_reprocess_safety</td>\n",
       "    </tr>\n",
       "    <tr>\n",
       "      <th>8</th>\n",
       "      <td>0.127293</td>\n",
       "      <td>0.105632</td>\n",
       "      <td>0.274858</td>\n",
       "      <td>0.087086</td>\n",
       "      <td>-0.179383</td>\n",
       "      <td>barriers_surgical_staff</td>\n",
       "    </tr>\n",
       "    <tr>\n",
       "      <th>9</th>\n",
       "      <td>-0.092109</td>\n",
       "      <td>-0.059124</td>\n",
       "      <td>-0.156143</td>\n",
       "      <td>-0.041273</td>\n",
       "      <td>0.149706</td>\n",
       "      <td>barriers_use_items</td>\n",
       "    </tr>\n",
       "    <tr>\n",
       "      <th>10</th>\n",
       "      <td>-0.105247</td>\n",
       "      <td>0.036662</td>\n",
       "      <td>0.255016</td>\n",
       "      <td>0.216616</td>\n",
       "      <td>-0.068221</td>\n",
       "      <td>barriers_roadblocks</td>\n",
       "    </tr>\n",
       "    <tr>\n",
       "      <th>11</th>\n",
       "      <td>0.172953</td>\n",
       "      <td>0.142921</td>\n",
       "      <td>0.543973</td>\n",
       "      <td>0.112749</td>\n",
       "      <td>0.225694</td>\n",
       "      <td>barriers_no_impact</td>\n",
       "    </tr>\n",
       "    <tr>\n",
       "      <th>12</th>\n",
       "      <td>0.068511</td>\n",
       "      <td>0.641533</td>\n",
       "      <td>0.179827</td>\n",
       "      <td>0.055462</td>\n",
       "      <td>0.026094</td>\n",
       "      <td>willingness_reusable</td>\n",
       "    </tr>\n",
       "    <tr>\n",
       "      <th>13</th>\n",
       "      <td>0.075582</td>\n",
       "      <td>0.734162</td>\n",
       "      <td>0.144814</td>\n",
       "      <td>0.124324</td>\n",
       "      <td>-0.071422</td>\n",
       "      <td>willingness_reprocessed</td>\n",
       "    </tr>\n",
       "    <tr>\n",
       "      <th>14</th>\n",
       "      <td>0.124627</td>\n",
       "      <td>0.423701</td>\n",
       "      <td>0.146388</td>\n",
       "      <td>0.007845</td>\n",
       "      <td>-0.148739</td>\n",
       "      <td>willingness_reusable_gown</td>\n",
       "    </tr>\n",
       "    <tr>\n",
       "      <th>15</th>\n",
       "      <td>0.096781</td>\n",
       "      <td>0.518579</td>\n",
       "      <td>0.115063</td>\n",
       "      <td>0.016081</td>\n",
       "      <td>-0.244783</td>\n",
       "      <td>willingness_reusable_towel</td>\n",
       "    </tr>\n",
       "    <tr>\n",
       "      <th>16</th>\n",
       "      <td>0.175233</td>\n",
       "      <td>0.512908</td>\n",
       "      <td>0.259869</td>\n",
       "      <td>0.075755</td>\n",
       "      <td>-0.131582</td>\n",
       "      <td>willingness_prefcard_review</td>\n",
       "    </tr>\n",
       "    <tr>\n",
       "      <th>17</th>\n",
       "      <td>0.241277</td>\n",
       "      <td>0.483825</td>\n",
       "      <td>0.266717</td>\n",
       "      <td>0.011694</td>\n",
       "      <td>-0.085850</td>\n",
       "      <td>willingness_colleagues</td>\n",
       "    </tr>\n",
       "    <tr>\n",
       "      <th>18</th>\n",
       "      <td>0.286601</td>\n",
       "      <td>0.364598</td>\n",
       "      <td>0.378939</td>\n",
       "      <td>0.042360</td>\n",
       "      <td>-0.123525</td>\n",
       "      <td>willingness_scorecard</td>\n",
       "    </tr>\n",
       "    <tr>\n",
       "      <th>19</th>\n",
       "      <td>0.186503</td>\n",
       "      <td>0.193382</td>\n",
       "      <td>0.117069</td>\n",
       "      <td>0.024870</td>\n",
       "      <td>-0.069732</td>\n",
       "      <td>willingness_alcohol</td>\n",
       "    </tr>\n",
       "    <tr>\n",
       "      <th>20</th>\n",
       "      <td>0.144490</td>\n",
       "      <td>0.284695</td>\n",
       "      <td>0.193655</td>\n",
       "      <td>0.004037</td>\n",
       "      <td>0.013384</td>\n",
       "      <td>willingness_los</td>\n",
       "    </tr>\n",
       "    <tr>\n",
       "      <th>21</th>\n",
       "      <td>0.174060</td>\n",
       "      <td>0.231156</td>\n",
       "      <td>0.150276</td>\n",
       "      <td>0.089429</td>\n",
       "      <td>-0.044448</td>\n",
       "      <td>willingness_telemedicine</td>\n",
       "    </tr>\n",
       "    <tr>\n",
       "      <th>22</th>\n",
       "      <td>0.282174</td>\n",
       "      <td>0.063692</td>\n",
       "      <td>0.145499</td>\n",
       "      <td>0.904738</td>\n",
       "      <td>-0.032438</td>\n",
       "      <td>incentive_personal_cash</td>\n",
       "    </tr>\n",
       "    <tr>\n",
       "      <th>23</th>\n",
       "      <td>0.536597</td>\n",
       "      <td>0.192582</td>\n",
       "      <td>0.279417</td>\n",
       "      <td>0.489173</td>\n",
       "      <td>-0.020939</td>\n",
       "      <td>incentive_division_cash</td>\n",
       "    </tr>\n",
       "    <tr>\n",
       "      <th>24</th>\n",
       "      <td>0.284735</td>\n",
       "      <td>0.076657</td>\n",
       "      <td>0.149107</td>\n",
       "      <td>0.812651</td>\n",
       "      <td>-0.041179</td>\n",
       "      <td>incentive_personal_percent</td>\n",
       "    </tr>\n",
       "    <tr>\n",
       "      <th>25</th>\n",
       "      <td>0.564513</td>\n",
       "      <td>0.258136</td>\n",
       "      <td>0.177482</td>\n",
       "      <td>0.271520</td>\n",
       "      <td>0.014723</td>\n",
       "      <td>incentive_division_research_funding</td>\n",
       "    </tr>\n",
       "    <tr>\n",
       "      <th>26</th>\n",
       "      <td>0.613678</td>\n",
       "      <td>0.125638</td>\n",
       "      <td>0.168530</td>\n",
       "      <td>0.440740</td>\n",
       "      <td>-0.009038</td>\n",
       "      <td>incentive_personal_perk</td>\n",
       "    </tr>\n",
       "    <tr>\n",
       "      <th>27</th>\n",
       "      <td>0.686276</td>\n",
       "      <td>0.033937</td>\n",
       "      <td>0.140331</td>\n",
       "      <td>0.141947</td>\n",
       "      <td>0.079520</td>\n",
       "      <td>incentive_division_perk</td>\n",
       "    </tr>\n",
       "    <tr>\n",
       "      <th>28</th>\n",
       "      <td>0.847712</td>\n",
       "      <td>0.085645</td>\n",
       "      <td>0.114359</td>\n",
       "      <td>0.115724</td>\n",
       "      <td>0.007743</td>\n",
       "      <td>incentive_personal_recognition_from_dept</td>\n",
       "    </tr>\n",
       "    <tr>\n",
       "      <th>29</th>\n",
       "      <td>0.907442</td>\n",
       "      <td>0.144378</td>\n",
       "      <td>0.106769</td>\n",
       "      <td>-0.023302</td>\n",
       "      <td>0.047044</td>\n",
       "      <td>incentive_division_recognition_from_dept</td>\n",
       "    </tr>\n",
       "    <tr>\n",
       "      <th>30</th>\n",
       "      <td>0.781716</td>\n",
       "      <td>0.213280</td>\n",
       "      <td>0.102932</td>\n",
       "      <td>0.085732</td>\n",
       "      <td>0.022253</td>\n",
       "      <td>incentive_personal_recognition_natl</td>\n",
       "    </tr>\n",
       "  </tbody>\n",
       "</table>\n",
       "</div>"
      ],
      "text/plain": [
       "           0         1         2         3         4  \\\n",
       "0   0.130800  0.247880  0.782451  0.120923 -0.005779   \n",
       "1   0.240359  0.212909  0.774848  0.012897  0.098004   \n",
       "2   0.128754  0.124459  0.826351  0.145686  0.062413   \n",
       "3   0.110669  0.083608  0.109046  0.035778  0.570331   \n",
       "4   0.065581 -0.088820  0.035886 -0.047357  0.628776   \n",
       "5  -0.040429 -0.067430 -0.047849 -0.046950  0.805427   \n",
       "6   0.028656  0.527165 -0.032105  0.013757  0.180085   \n",
       "7  -0.024374  0.588067 -0.043457  0.043791  0.120962   \n",
       "8   0.127293  0.105632  0.274858  0.087086 -0.179383   \n",
       "9  -0.092109 -0.059124 -0.156143 -0.041273  0.149706   \n",
       "10 -0.105247  0.036662  0.255016  0.216616 -0.068221   \n",
       "11  0.172953  0.142921  0.543973  0.112749  0.225694   \n",
       "12  0.068511  0.641533  0.179827  0.055462  0.026094   \n",
       "13  0.075582  0.734162  0.144814  0.124324 -0.071422   \n",
       "14  0.124627  0.423701  0.146388  0.007845 -0.148739   \n",
       "15  0.096781  0.518579  0.115063  0.016081 -0.244783   \n",
       "16  0.175233  0.512908  0.259869  0.075755 -0.131582   \n",
       "17  0.241277  0.483825  0.266717  0.011694 -0.085850   \n",
       "18  0.286601  0.364598  0.378939  0.042360 -0.123525   \n",
       "19  0.186503  0.193382  0.117069  0.024870 -0.069732   \n",
       "20  0.144490  0.284695  0.193655  0.004037  0.013384   \n",
       "21  0.174060  0.231156  0.150276  0.089429 -0.044448   \n",
       "22  0.282174  0.063692  0.145499  0.904738 -0.032438   \n",
       "23  0.536597  0.192582  0.279417  0.489173 -0.020939   \n",
       "24  0.284735  0.076657  0.149107  0.812651 -0.041179   \n",
       "25  0.564513  0.258136  0.177482  0.271520  0.014723   \n",
       "26  0.613678  0.125638  0.168530  0.440740 -0.009038   \n",
       "27  0.686276  0.033937  0.140331  0.141947  0.079520   \n",
       "28  0.847712  0.085645  0.114359  0.115724  0.007743   \n",
       "29  0.907442  0.144378  0.106769 -0.023302  0.047044   \n",
       "30  0.781716  0.213280  0.102932  0.085732  0.022253   \n",
       "\n",
       "                                display_name  \n",
       "0                       attitude_criticality  \n",
       "1                        attitude_motivation  \n",
       "2                          attitude_priority  \n",
       "3                           education_impact  \n",
       "4               education_institution_effort  \n",
       "5                    education_surgical_team  \n",
       "6                  education_resuable_safety  \n",
       "7                 education_reprocess_safety  \n",
       "8                    barriers_surgical_staff  \n",
       "9                         barriers_use_items  \n",
       "10                       barriers_roadblocks  \n",
       "11                        barriers_no_impact  \n",
       "12                      willingness_reusable  \n",
       "13                   willingness_reprocessed  \n",
       "14                 willingness_reusable_gown  \n",
       "15                willingness_reusable_towel  \n",
       "16               willingness_prefcard_review  \n",
       "17                    willingness_colleagues  \n",
       "18                     willingness_scorecard  \n",
       "19                       willingness_alcohol  \n",
       "20                           willingness_los  \n",
       "21                  willingness_telemedicine  \n",
       "22                   incentive_personal_cash  \n",
       "23                   incentive_division_cash  \n",
       "24                incentive_personal_percent  \n",
       "25       incentive_division_research_funding  \n",
       "26                   incentive_personal_perk  \n",
       "27                   incentive_division_perk  \n",
       "28  incentive_personal_recognition_from_dept  \n",
       "29  incentive_division_recognition_from_dept  \n",
       "30       incentive_personal_recognition_natl  "
      ]
     },
     "execution_count": 625,
     "metadata": {},
     "output_type": "execute_result"
    }
   ],
   "source": [
    "## Create a factor analyzer object with 3 factors and perform factor analysis\n",
    "\n",
    "fa = FactorAnalyzer(n_factors=NUM_FACTORS, rotation='varimax')\n",
    "fa.fit(df_factor_num_only)\n",
    "\n",
    "## Get the factor loadings\n",
    "loadings = fa.loadings_\n",
    "\n",
    "## Create a dataframe of the factor loadings\n",
    "df_loadings = pd.DataFrame(loadings)\n",
    "\n",
    "## Add the display_name column to the dataframe\n",
    "df_loadings['display_name'] = likert_only\n",
    "\n",
    "df_loadings"
   ]
  },
  {
   "cell_type": "code",
   "execution_count": 626,
   "metadata": {},
   "outputs": [
    {
     "data": {
      "application/vnd.plotly.v1+json": {
       "config": {
        "plotlyServerURL": "https://plot.ly"
       },
       "data": [
        {
         "coloraxis": "coloraxis",
         "hovertemplate": "x: %{x}<br>y: %{y}<br>color: %{z}<extra></extra>",
         "name": "0",
         "texttemplate": "%{z}",
         "type": "heatmap",
         "x": [
          0,
          1,
          2,
          3,
          4
         ],
         "xaxis": "x",
         "y": [
          0,
          1,
          2,
          3,
          4,
          5,
          6,
          7,
          8,
          9,
          10,
          11,
          12,
          13,
          14,
          15,
          16,
          17,
          18,
          19,
          20,
          21,
          22,
          23,
          24,
          25,
          26,
          27,
          28,
          29,
          30
         ],
         "yaxis": "y",
         "z": [
          [
           0.13080040854164682,
           0.2478802893616671,
           0.7824507721089347,
           0.12092310557955678,
           -0.0057790447136512185
          ],
          [
           0.24035862774179953,
           0.2129085338537713,
           0.7748477439470498,
           0.012897006115640364,
           0.09800391650296451
          ],
          [
           0.1287536161573008,
           0.12445916434178862,
           0.8263505885507358,
           0.1456855249564473,
           0.06241334237165571
          ],
          [
           0.11066871012697178,
           0.08360807490036155,
           0.109046389352496,
           0.035778424761725,
           0.5703311024852481
          ],
          [
           0.06558055016255196,
           -0.08881991366453612,
           0.03588632995175804,
           -0.04735732072846424,
           0.6287756508813935
          ],
          [
           -0.04042886914543431,
           -0.06743008100412852,
           -0.047849156815894536,
           -0.046949660707809523,
           0.8054271403374461
          ],
          [
           0.028655631803519585,
           0.5271647254611976,
           -0.0321045462145255,
           0.013756733663674017,
           0.18008450091034411
          ],
          [
           -0.024374491719112937,
           0.5880672752546701,
           -0.043457427680119634,
           0.04379069381139435,
           0.12096236230177847
          ],
          [
           0.12729301796753387,
           0.10563179361617323,
           0.2748582271584238,
           0.08708621469072814,
           -0.1793827964044338
          ],
          [
           -0.09210901927084665,
           -0.05912377792186032,
           -0.15614339912689912,
           -0.04127267902155308,
           0.14970552922543295
          ],
          [
           -0.10524668707750184,
           0.03666245384039918,
           0.2550158126924946,
           0.21661601071698577,
           -0.06822115929910635
          ],
          [
           0.1729525842876132,
           0.14292092863957395,
           0.5439732799514628,
           0.1127492157066438,
           0.22569448318562685
          ],
          [
           0.06851126176476219,
           0.6415328021083406,
           0.17982699746445463,
           0.05546162880311717,
           0.026094161129060194
          ],
          [
           0.07558221061922177,
           0.7341617861483979,
           0.14481435531512266,
           0.12432424301679673,
           -0.07142221477425854
          ],
          [
           0.12462716204579787,
           0.4237013763412378,
           0.1463881709263238,
           0.007844543608898247,
           -0.1487391064528681
          ],
          [
           0.0967808682989716,
           0.5185790946729456,
           0.11506267994690711,
           0.016081381752865116,
           -0.2447825830963344
          ],
          [
           0.17523305517233384,
           0.5129084604532422,
           0.25986902598781486,
           0.07575549891681088,
           -0.13158189918210791
          ],
          [
           0.24127694612248515,
           0.48382493857002656,
           0.2667168740944877,
           0.011693814584732046,
           -0.08584983655669987
          ],
          [
           0.2866012433219467,
           0.36459846245339345,
           0.3789393931920999,
           0.04235988886379869,
           -0.12352542892063284
          ],
          [
           0.1865025332453559,
           0.1933822578449069,
           0.11706877947578596,
           0.02487034515821418,
           -0.06973167864924144
          ],
          [
           0.144490357156605,
           0.2846950301648165,
           0.193654507031738,
           0.004037068486706016,
           0.0133839023108646
          ],
          [
           0.1740602035197215,
           0.2311561495396171,
           0.15027591864476122,
           0.08942879412034999,
           -0.044447766718191145
          ],
          [
           0.2821740668783366,
           0.0636918568277031,
           0.1454986124501412,
           0.9047380538865049,
           -0.03243809112766982
          ],
          [
           0.5365969677980977,
           0.19258196317175327,
           0.27941650366434745,
           0.48917271665958995,
           -0.020938878943247224
          ],
          [
           0.2847351918932706,
           0.07665735587297681,
           0.14910678869139832,
           0.8126510376837935,
           -0.04117936561033174
          ],
          [
           0.5645126132238275,
           0.2581360966943421,
           0.17748168230702194,
           0.2715200130873362,
           0.014722963459530182
          ],
          [
           0.6136783202957214,
           0.12563789427905767,
           0.16852953097411993,
           0.4407403216808714,
           -0.009037728484101873
          ],
          [
           0.6862759995179588,
           0.03393666521226501,
           0.1403312781257281,
           0.1419471451752669,
           0.07951991272599955
          ],
          [
           0.8477119893884295,
           0.0856451689523511,
           0.1143593487609162,
           0.11572387834977989,
           0.007743419429685701
          ],
          [
           0.9074421493272176,
           0.1443782926661914,
           0.10676934467927161,
           -0.023301965819151275,
           0.047043806452743545
          ],
          [
           0.7817155960619202,
           0.2132799388669197,
           0.1029315225677885,
           0.08573226832791367,
           0.022252777129542663
          ]
         ]
        }
       ],
       "layout": {
        "autosize": true,
        "coloraxis": {
         "colorscale": [
          [
           0,
           "rgb(247,251,255)"
          ],
          [
           0.125,
           "rgb(222,235,247)"
          ],
          [
           0.25,
           "rgb(198,219,239)"
          ],
          [
           0.375,
           "rgb(158,202,225)"
          ],
          [
           0.5,
           "rgb(107,174,214)"
          ],
          [
           0.625,
           "rgb(66,146,198)"
          ],
          [
           0.75,
           "rgb(33,113,181)"
          ],
          [
           0.875,
           "rgb(8,81,156)"
          ],
          [
           1,
           "rgb(8,48,107)"
          ]
         ]
        },
        "height": 1200,
        "margin": {
         "t": 60
        },
        "template": {
         "data": {
          "bar": [
           {
            "error_x": {
             "color": "#2a3f5f"
            },
            "error_y": {
             "color": "#2a3f5f"
            },
            "marker": {
             "line": {
              "color": "#E5ECF6",
              "width": 0.5
             },
             "pattern": {
              "fillmode": "overlay",
              "size": 10,
              "solidity": 0.2
             }
            },
            "type": "bar"
           }
          ],
          "barpolar": [
           {
            "marker": {
             "line": {
              "color": "#E5ECF6",
              "width": 0.5
             },
             "pattern": {
              "fillmode": "overlay",
              "size": 10,
              "solidity": 0.2
             }
            },
            "type": "barpolar"
           }
          ],
          "carpet": [
           {
            "aaxis": {
             "endlinecolor": "#2a3f5f",
             "gridcolor": "white",
             "linecolor": "white",
             "minorgridcolor": "white",
             "startlinecolor": "#2a3f5f"
            },
            "baxis": {
             "endlinecolor": "#2a3f5f",
             "gridcolor": "white",
             "linecolor": "white",
             "minorgridcolor": "white",
             "startlinecolor": "#2a3f5f"
            },
            "type": "carpet"
           }
          ],
          "choropleth": [
           {
            "colorbar": {
             "outlinewidth": 0,
             "ticks": ""
            },
            "type": "choropleth"
           }
          ],
          "contour": [
           {
            "colorbar": {
             "outlinewidth": 0,
             "ticks": ""
            },
            "colorscale": [
             [
              0,
              "#0d0887"
             ],
             [
              0.1111111111111111,
              "#46039f"
             ],
             [
              0.2222222222222222,
              "#7201a8"
             ],
             [
              0.3333333333333333,
              "#9c179e"
             ],
             [
              0.4444444444444444,
              "#bd3786"
             ],
             [
              0.5555555555555556,
              "#d8576b"
             ],
             [
              0.6666666666666666,
              "#ed7953"
             ],
             [
              0.7777777777777778,
              "#fb9f3a"
             ],
             [
              0.8888888888888888,
              "#fdca26"
             ],
             [
              1,
              "#f0f921"
             ]
            ],
            "type": "contour"
           }
          ],
          "contourcarpet": [
           {
            "colorbar": {
             "outlinewidth": 0,
             "ticks": ""
            },
            "type": "contourcarpet"
           }
          ],
          "heatmap": [
           {
            "colorbar": {
             "outlinewidth": 0,
             "ticks": ""
            },
            "colorscale": [
             [
              0,
              "#0d0887"
             ],
             [
              0.1111111111111111,
              "#46039f"
             ],
             [
              0.2222222222222222,
              "#7201a8"
             ],
             [
              0.3333333333333333,
              "#9c179e"
             ],
             [
              0.4444444444444444,
              "#bd3786"
             ],
             [
              0.5555555555555556,
              "#d8576b"
             ],
             [
              0.6666666666666666,
              "#ed7953"
             ],
             [
              0.7777777777777778,
              "#fb9f3a"
             ],
             [
              0.8888888888888888,
              "#fdca26"
             ],
             [
              1,
              "#f0f921"
             ]
            ],
            "type": "heatmap"
           }
          ],
          "heatmapgl": [
           {
            "colorbar": {
             "outlinewidth": 0,
             "ticks": ""
            },
            "colorscale": [
             [
              0,
              "#0d0887"
             ],
             [
              0.1111111111111111,
              "#46039f"
             ],
             [
              0.2222222222222222,
              "#7201a8"
             ],
             [
              0.3333333333333333,
              "#9c179e"
             ],
             [
              0.4444444444444444,
              "#bd3786"
             ],
             [
              0.5555555555555556,
              "#d8576b"
             ],
             [
              0.6666666666666666,
              "#ed7953"
             ],
             [
              0.7777777777777778,
              "#fb9f3a"
             ],
             [
              0.8888888888888888,
              "#fdca26"
             ],
             [
              1,
              "#f0f921"
             ]
            ],
            "type": "heatmapgl"
           }
          ],
          "histogram": [
           {
            "marker": {
             "pattern": {
              "fillmode": "overlay",
              "size": 10,
              "solidity": 0.2
             }
            },
            "type": "histogram"
           }
          ],
          "histogram2d": [
           {
            "colorbar": {
             "outlinewidth": 0,
             "ticks": ""
            },
            "colorscale": [
             [
              0,
              "#0d0887"
             ],
             [
              0.1111111111111111,
              "#46039f"
             ],
             [
              0.2222222222222222,
              "#7201a8"
             ],
             [
              0.3333333333333333,
              "#9c179e"
             ],
             [
              0.4444444444444444,
              "#bd3786"
             ],
             [
              0.5555555555555556,
              "#d8576b"
             ],
             [
              0.6666666666666666,
              "#ed7953"
             ],
             [
              0.7777777777777778,
              "#fb9f3a"
             ],
             [
              0.8888888888888888,
              "#fdca26"
             ],
             [
              1,
              "#f0f921"
             ]
            ],
            "type": "histogram2d"
           }
          ],
          "histogram2dcontour": [
           {
            "colorbar": {
             "outlinewidth": 0,
             "ticks": ""
            },
            "colorscale": [
             [
              0,
              "#0d0887"
             ],
             [
              0.1111111111111111,
              "#46039f"
             ],
             [
              0.2222222222222222,
              "#7201a8"
             ],
             [
              0.3333333333333333,
              "#9c179e"
             ],
             [
              0.4444444444444444,
              "#bd3786"
             ],
             [
              0.5555555555555556,
              "#d8576b"
             ],
             [
              0.6666666666666666,
              "#ed7953"
             ],
             [
              0.7777777777777778,
              "#fb9f3a"
             ],
             [
              0.8888888888888888,
              "#fdca26"
             ],
             [
              1,
              "#f0f921"
             ]
            ],
            "type": "histogram2dcontour"
           }
          ],
          "mesh3d": [
           {
            "colorbar": {
             "outlinewidth": 0,
             "ticks": ""
            },
            "type": "mesh3d"
           }
          ],
          "parcoords": [
           {
            "line": {
             "colorbar": {
              "outlinewidth": 0,
              "ticks": ""
             }
            },
            "type": "parcoords"
           }
          ],
          "pie": [
           {
            "automargin": true,
            "type": "pie"
           }
          ],
          "scatter": [
           {
            "fillpattern": {
             "fillmode": "overlay",
             "size": 10,
             "solidity": 0.2
            },
            "type": "scatter"
           }
          ],
          "scatter3d": [
           {
            "line": {
             "colorbar": {
              "outlinewidth": 0,
              "ticks": ""
             }
            },
            "marker": {
             "colorbar": {
              "outlinewidth": 0,
              "ticks": ""
             }
            },
            "type": "scatter3d"
           }
          ],
          "scattercarpet": [
           {
            "marker": {
             "colorbar": {
              "outlinewidth": 0,
              "ticks": ""
             }
            },
            "type": "scattercarpet"
           }
          ],
          "scattergeo": [
           {
            "marker": {
             "colorbar": {
              "outlinewidth": 0,
              "ticks": ""
             }
            },
            "type": "scattergeo"
           }
          ],
          "scattergl": [
           {
            "marker": {
             "colorbar": {
              "outlinewidth": 0,
              "ticks": ""
             }
            },
            "type": "scattergl"
           }
          ],
          "scattermapbox": [
           {
            "marker": {
             "colorbar": {
              "outlinewidth": 0,
              "ticks": ""
             }
            },
            "type": "scattermapbox"
           }
          ],
          "scatterpolar": [
           {
            "marker": {
             "colorbar": {
              "outlinewidth": 0,
              "ticks": ""
             }
            },
            "type": "scatterpolar"
           }
          ],
          "scatterpolargl": [
           {
            "marker": {
             "colorbar": {
              "outlinewidth": 0,
              "ticks": ""
             }
            },
            "type": "scatterpolargl"
           }
          ],
          "scatterternary": [
           {
            "marker": {
             "colorbar": {
              "outlinewidth": 0,
              "ticks": ""
             }
            },
            "type": "scatterternary"
           }
          ],
          "surface": [
           {
            "colorbar": {
             "outlinewidth": 0,
             "ticks": ""
            },
            "colorscale": [
             [
              0,
              "#0d0887"
             ],
             [
              0.1111111111111111,
              "#46039f"
             ],
             [
              0.2222222222222222,
              "#7201a8"
             ],
             [
              0.3333333333333333,
              "#9c179e"
             ],
             [
              0.4444444444444444,
              "#bd3786"
             ],
             [
              0.5555555555555556,
              "#d8576b"
             ],
             [
              0.6666666666666666,
              "#ed7953"
             ],
             [
              0.7777777777777778,
              "#fb9f3a"
             ],
             [
              0.8888888888888888,
              "#fdca26"
             ],
             [
              1,
              "#f0f921"
             ]
            ],
            "type": "surface"
           }
          ],
          "table": [
           {
            "cells": {
             "fill": {
              "color": "#EBF0F8"
             },
             "line": {
              "color": "white"
             }
            },
            "header": {
             "fill": {
              "color": "#C8D4E3"
             },
             "line": {
              "color": "white"
             }
            },
            "type": "table"
           }
          ]
         },
         "layout": {
          "annotationdefaults": {
           "arrowcolor": "#2a3f5f",
           "arrowhead": 0,
           "arrowwidth": 1
          },
          "autotypenumbers": "strict",
          "coloraxis": {
           "colorbar": {
            "outlinewidth": 0,
            "ticks": ""
           }
          },
          "colorscale": {
           "diverging": [
            [
             0,
             "#8e0152"
            ],
            [
             0.1,
             "#c51b7d"
            ],
            [
             0.2,
             "#de77ae"
            ],
            [
             0.3,
             "#f1b6da"
            ],
            [
             0.4,
             "#fde0ef"
            ],
            [
             0.5,
             "#f7f7f7"
            ],
            [
             0.6,
             "#e6f5d0"
            ],
            [
             0.7,
             "#b8e186"
            ],
            [
             0.8,
             "#7fbc41"
            ],
            [
             0.9,
             "#4d9221"
            ],
            [
             1,
             "#276419"
            ]
           ],
           "sequential": [
            [
             0,
             "#0d0887"
            ],
            [
             0.1111111111111111,
             "#46039f"
            ],
            [
             0.2222222222222222,
             "#7201a8"
            ],
            [
             0.3333333333333333,
             "#9c179e"
            ],
            [
             0.4444444444444444,
             "#bd3786"
            ],
            [
             0.5555555555555556,
             "#d8576b"
            ],
            [
             0.6666666666666666,
             "#ed7953"
            ],
            [
             0.7777777777777778,
             "#fb9f3a"
            ],
            [
             0.8888888888888888,
             "#fdca26"
            ],
            [
             1,
             "#f0f921"
            ]
           ],
           "sequentialminus": [
            [
             0,
             "#0d0887"
            ],
            [
             0.1111111111111111,
             "#46039f"
            ],
            [
             0.2222222222222222,
             "#7201a8"
            ],
            [
             0.3333333333333333,
             "#9c179e"
            ],
            [
             0.4444444444444444,
             "#bd3786"
            ],
            [
             0.5555555555555556,
             "#d8576b"
            ],
            [
             0.6666666666666666,
             "#ed7953"
            ],
            [
             0.7777777777777778,
             "#fb9f3a"
            ],
            [
             0.8888888888888888,
             "#fdca26"
            ],
            [
             1,
             "#f0f921"
            ]
           ]
          },
          "colorway": [
           "#636efa",
           "#EF553B",
           "#00cc96",
           "#ab63fa",
           "#FFA15A",
           "#19d3f3",
           "#FF6692",
           "#B6E880",
           "#FF97FF",
           "#FECB52"
          ],
          "font": {
           "color": "#2a3f5f"
          },
          "geo": {
           "bgcolor": "white",
           "lakecolor": "white",
           "landcolor": "#E5ECF6",
           "showlakes": true,
           "showland": true,
           "subunitcolor": "white"
          },
          "hoverlabel": {
           "align": "left"
          },
          "hovermode": "closest",
          "mapbox": {
           "style": "light"
          },
          "paper_bgcolor": "white",
          "plot_bgcolor": "#E5ECF6",
          "polar": {
           "angularaxis": {
            "gridcolor": "white",
            "linecolor": "white",
            "ticks": ""
           },
           "bgcolor": "#E5ECF6",
           "radialaxis": {
            "gridcolor": "white",
            "linecolor": "white",
            "ticks": ""
           }
          },
          "scene": {
           "xaxis": {
            "backgroundcolor": "#E5ECF6",
            "gridcolor": "white",
            "gridwidth": 2,
            "linecolor": "white",
            "showbackground": true,
            "ticks": "",
            "zerolinecolor": "white"
           },
           "yaxis": {
            "backgroundcolor": "#E5ECF6",
            "gridcolor": "white",
            "gridwidth": 2,
            "linecolor": "white",
            "showbackground": true,
            "ticks": "",
            "zerolinecolor": "white"
           },
           "zaxis": {
            "backgroundcolor": "#E5ECF6",
            "gridcolor": "white",
            "gridwidth": 2,
            "linecolor": "white",
            "showbackground": true,
            "ticks": "",
            "zerolinecolor": "white"
           }
          },
          "shapedefaults": {
           "line": {
            "color": "#2a3f5f"
           }
          },
          "ternary": {
           "aaxis": {
            "gridcolor": "white",
            "linecolor": "white",
            "ticks": ""
           },
           "baxis": {
            "gridcolor": "white",
            "linecolor": "white",
            "ticks": ""
           },
           "bgcolor": "#E5ECF6",
           "caxis": {
            "gridcolor": "white",
            "linecolor": "white",
            "ticks": ""
           }
          },
          "title": {
           "x": 0.05
          },
          "xaxis": {
           "automargin": true,
           "gridcolor": "white",
           "linecolor": "white",
           "ticks": "",
           "title": {
            "standoff": 15
           },
           "zerolinecolor": "white",
           "zerolinewidth": 2
          },
          "yaxis": {
           "automargin": true,
           "gridcolor": "white",
           "linecolor": "white",
           "ticks": "",
           "title": {
            "standoff": 15
           },
           "zerolinecolor": "white",
           "zerolinewidth": 2
          }
         }
        },
        "width": 1200,
        "xaxis": {
         "anchor": "y",
         "constrain": "domain",
         "domain": [
          0,
          1
         ],
         "scaleanchor": "y"
        },
        "yaxis": {
         "anchor": "x",
         "autorange": "reversed",
         "constrain": "domain",
         "domain": [
          0,
          1
         ],
         "side": "left",
         "ticktext": [
          "attitude_criticality",
          "attitude_motivation",
          "attitude_priority",
          "education_impact",
          "education_institution_effort",
          "education_surgical_team",
          "education_resuable_safety",
          "education_reprocess_safety",
          "barriers_surgical_staff",
          "barriers_use_items",
          "barriers_roadblocks",
          "barriers_no_impact",
          "willingness_reusable",
          "willingness_reprocessed",
          "willingness_reusable_gown",
          "willingness_reusable_towel",
          "willingness_prefcard_review",
          "willingness_colleagues",
          "willingness_scorecard",
          "willingness_alcohol",
          "willingness_los",
          "willingness_telemedicine",
          "incentive_personal_cash",
          "incentive_division_cash",
          "incentive_personal_percent",
          "incentive_division_research_funding",
          "incentive_personal_perk",
          "incentive_division_perk",
          "incentive_personal_recognition_from_dept",
          "incentive_division_recognition_from_dept",
          "incentive_personal_recognition_natl"
         ],
         "tickvals": [
          0,
          1,
          2,
          3,
          4,
          5,
          6,
          7,
          8,
          9,
          10,
          11,
          12,
          13,
          14,
          15,
          16,
          17,
          18,
          19,
          20,
          21,
          22,
          23,
          24,
          25,
          26,
          27,
          28,
          29,
          30
         ]
        }
       }
      }
     },
     "metadata": {},
     "output_type": "display_data"
    }
   ],
   "source": [
    "## Use plotly to create a heatmap with each question as a row and each factor as a column\n",
    "\n",
    "fig = px.imshow(\n",
    "    df_loadings[(col for col in df_loadings.columns if col != 'display_name')],\n",
    "    width=1200,\n",
    "    height=1200,\n",
    "    text_auto=True,\n",
    "    color_continuous_scale=px.colors.sequential.Blues)\n",
    "\n",
    "\n",
    "## Use fig.update_yaxes to add question text to each tick label. display on left\n",
    "\n",
    "fig.update_yaxes(\n",
    "    ticktext=df_loadings['display_name'],\n",
    "    tickvals=df_loadings.index,\n",
    "    side='left'\n",
    ")\n",
    "\n",
    "## Make each heatmap box more square\n",
    "\n",
    "fig.update_layout(\n",
    "    autosize=True,\n",
    "    width=1200,\n",
    "    height=1200,\n",
    ")\n",
    "\n",
    "fig.show()"
   ]
  },
  {
   "cell_type": "code",
   "execution_count": 627,
   "metadata": {},
   "outputs": [
    {
     "data": {
      "text/html": [
       "<div>\n",
       "<style scoped>\n",
       "    .dataframe tbody tr th:only-of-type {\n",
       "        vertical-align: middle;\n",
       "    }\n",
       "\n",
       "    .dataframe tbody tr th {\n",
       "        vertical-align: top;\n",
       "    }\n",
       "\n",
       "    .dataframe thead th {\n",
       "        text-align: right;\n",
       "    }\n",
       "</style>\n",
       "<table border=\"1\" class=\"dataframe\">\n",
       "  <thead>\n",
       "    <tr style=\"text-align: right;\">\n",
       "      <th></th>\n",
       "      <th>0</th>\n",
       "      <th>1</th>\n",
       "      <th>2</th>\n",
       "      <th>3</th>\n",
       "      <th>4</th>\n",
       "      <th>display_name</th>\n",
       "    </tr>\n",
       "  </thead>\n",
       "  <tbody>\n",
       "    <tr>\n",
       "      <th>0</th>\n",
       "      <td>0.130800</td>\n",
       "      <td>0.247880</td>\n",
       "      <td>0.782451</td>\n",
       "      <td>0.120923</td>\n",
       "      <td>-0.005779</td>\n",
       "      <td>attitude_criticality</td>\n",
       "    </tr>\n",
       "    <tr>\n",
       "      <th>1</th>\n",
       "      <td>0.240359</td>\n",
       "      <td>0.212909</td>\n",
       "      <td>0.774848</td>\n",
       "      <td>0.012897</td>\n",
       "      <td>0.098004</td>\n",
       "      <td>attitude_motivation</td>\n",
       "    </tr>\n",
       "    <tr>\n",
       "      <th>2</th>\n",
       "      <td>0.128754</td>\n",
       "      <td>0.124459</td>\n",
       "      <td>0.826351</td>\n",
       "      <td>0.145686</td>\n",
       "      <td>0.062413</td>\n",
       "      <td>attitude_priority</td>\n",
       "    </tr>\n",
       "    <tr>\n",
       "      <th>3</th>\n",
       "      <td>0.110669</td>\n",
       "      <td>0.083608</td>\n",
       "      <td>0.109046</td>\n",
       "      <td>0.035778</td>\n",
       "      <td>0.570331</td>\n",
       "      <td>education_impact</td>\n",
       "    </tr>\n",
       "    <tr>\n",
       "      <th>4</th>\n",
       "      <td>0.065581</td>\n",
       "      <td>-0.088820</td>\n",
       "      <td>0.035886</td>\n",
       "      <td>-0.047357</td>\n",
       "      <td>0.628776</td>\n",
       "      <td>education_institution_effort</td>\n",
       "    </tr>\n",
       "    <tr>\n",
       "      <th>5</th>\n",
       "      <td>-0.040429</td>\n",
       "      <td>-0.067430</td>\n",
       "      <td>-0.047849</td>\n",
       "      <td>-0.046950</td>\n",
       "      <td>0.805427</td>\n",
       "      <td>education_surgical_team</td>\n",
       "    </tr>\n",
       "    <tr>\n",
       "      <th>6</th>\n",
       "      <td>0.028656</td>\n",
       "      <td>0.527165</td>\n",
       "      <td>-0.032105</td>\n",
       "      <td>0.013757</td>\n",
       "      <td>0.180085</td>\n",
       "      <td>education_resuable_safety</td>\n",
       "    </tr>\n",
       "    <tr>\n",
       "      <th>7</th>\n",
       "      <td>-0.024374</td>\n",
       "      <td>0.588067</td>\n",
       "      <td>-0.043457</td>\n",
       "      <td>0.043791</td>\n",
       "      <td>0.120962</td>\n",
       "      <td>education_reprocess_safety</td>\n",
       "    </tr>\n",
       "    <tr>\n",
       "      <th>8</th>\n",
       "      <td>0.127293</td>\n",
       "      <td>0.105632</td>\n",
       "      <td>0.274858</td>\n",
       "      <td>0.087086</td>\n",
       "      <td>-0.179383</td>\n",
       "      <td>barriers_surgical_staff</td>\n",
       "    </tr>\n",
       "    <tr>\n",
       "      <th>9</th>\n",
       "      <td>-0.092109</td>\n",
       "      <td>-0.059124</td>\n",
       "      <td>-0.156143</td>\n",
       "      <td>-0.041273</td>\n",
       "      <td>0.149706</td>\n",
       "      <td>barriers_use_items</td>\n",
       "    </tr>\n",
       "    <tr>\n",
       "      <th>10</th>\n",
       "      <td>-0.105247</td>\n",
       "      <td>0.036662</td>\n",
       "      <td>0.255016</td>\n",
       "      <td>0.216616</td>\n",
       "      <td>-0.068221</td>\n",
       "      <td>barriers_roadblocks</td>\n",
       "    </tr>\n",
       "    <tr>\n",
       "      <th>11</th>\n",
       "      <td>0.172953</td>\n",
       "      <td>0.142921</td>\n",
       "      <td>0.543973</td>\n",
       "      <td>0.112749</td>\n",
       "      <td>0.225694</td>\n",
       "      <td>barriers_no_impact</td>\n",
       "    </tr>\n",
       "    <tr>\n",
       "      <th>12</th>\n",
       "      <td>0.068511</td>\n",
       "      <td>0.641533</td>\n",
       "      <td>0.179827</td>\n",
       "      <td>0.055462</td>\n",
       "      <td>0.026094</td>\n",
       "      <td>willingness_reusable</td>\n",
       "    </tr>\n",
       "    <tr>\n",
       "      <th>13</th>\n",
       "      <td>0.075582</td>\n",
       "      <td>0.734162</td>\n",
       "      <td>0.144814</td>\n",
       "      <td>0.124324</td>\n",
       "      <td>-0.071422</td>\n",
       "      <td>willingness_reprocessed</td>\n",
       "    </tr>\n",
       "    <tr>\n",
       "      <th>14</th>\n",
       "      <td>0.124627</td>\n",
       "      <td>0.423701</td>\n",
       "      <td>0.146388</td>\n",
       "      <td>0.007845</td>\n",
       "      <td>-0.148739</td>\n",
       "      <td>willingness_reusable_gown</td>\n",
       "    </tr>\n",
       "    <tr>\n",
       "      <th>15</th>\n",
       "      <td>0.096781</td>\n",
       "      <td>0.518579</td>\n",
       "      <td>0.115063</td>\n",
       "      <td>0.016081</td>\n",
       "      <td>-0.244783</td>\n",
       "      <td>willingness_reusable_towel</td>\n",
       "    </tr>\n",
       "    <tr>\n",
       "      <th>16</th>\n",
       "      <td>0.175233</td>\n",
       "      <td>0.512908</td>\n",
       "      <td>0.259869</td>\n",
       "      <td>0.075755</td>\n",
       "      <td>-0.131582</td>\n",
       "      <td>willingness_prefcard_review</td>\n",
       "    </tr>\n",
       "    <tr>\n",
       "      <th>17</th>\n",
       "      <td>0.241277</td>\n",
       "      <td>0.483825</td>\n",
       "      <td>0.266717</td>\n",
       "      <td>0.011694</td>\n",
       "      <td>-0.085850</td>\n",
       "      <td>willingness_colleagues</td>\n",
       "    </tr>\n",
       "    <tr>\n",
       "      <th>18</th>\n",
       "      <td>0.286601</td>\n",
       "      <td>0.364598</td>\n",
       "      <td>0.378939</td>\n",
       "      <td>0.042360</td>\n",
       "      <td>-0.123525</td>\n",
       "      <td>willingness_scorecard</td>\n",
       "    </tr>\n",
       "    <tr>\n",
       "      <th>19</th>\n",
       "      <td>0.186503</td>\n",
       "      <td>0.193382</td>\n",
       "      <td>0.117069</td>\n",
       "      <td>0.024870</td>\n",
       "      <td>-0.069732</td>\n",
       "      <td>willingness_alcohol</td>\n",
       "    </tr>\n",
       "    <tr>\n",
       "      <th>20</th>\n",
       "      <td>0.144490</td>\n",
       "      <td>0.284695</td>\n",
       "      <td>0.193655</td>\n",
       "      <td>0.004037</td>\n",
       "      <td>0.013384</td>\n",
       "      <td>willingness_los</td>\n",
       "    </tr>\n",
       "    <tr>\n",
       "      <th>21</th>\n",
       "      <td>0.174060</td>\n",
       "      <td>0.231156</td>\n",
       "      <td>0.150276</td>\n",
       "      <td>0.089429</td>\n",
       "      <td>-0.044448</td>\n",
       "      <td>willingness_telemedicine</td>\n",
       "    </tr>\n",
       "    <tr>\n",
       "      <th>22</th>\n",
       "      <td>0.282174</td>\n",
       "      <td>0.063692</td>\n",
       "      <td>0.145499</td>\n",
       "      <td>0.904738</td>\n",
       "      <td>-0.032438</td>\n",
       "      <td>incentive_personal_cash</td>\n",
       "    </tr>\n",
       "    <tr>\n",
       "      <th>23</th>\n",
       "      <td>0.536597</td>\n",
       "      <td>0.192582</td>\n",
       "      <td>0.279417</td>\n",
       "      <td>0.489173</td>\n",
       "      <td>-0.020939</td>\n",
       "      <td>incentive_division_cash</td>\n",
       "    </tr>\n",
       "    <tr>\n",
       "      <th>24</th>\n",
       "      <td>0.284735</td>\n",
       "      <td>0.076657</td>\n",
       "      <td>0.149107</td>\n",
       "      <td>0.812651</td>\n",
       "      <td>-0.041179</td>\n",
       "      <td>incentive_personal_percent</td>\n",
       "    </tr>\n",
       "    <tr>\n",
       "      <th>25</th>\n",
       "      <td>0.564513</td>\n",
       "      <td>0.258136</td>\n",
       "      <td>0.177482</td>\n",
       "      <td>0.271520</td>\n",
       "      <td>0.014723</td>\n",
       "      <td>incentive_division_research_funding</td>\n",
       "    </tr>\n",
       "    <tr>\n",
       "      <th>26</th>\n",
       "      <td>0.613678</td>\n",
       "      <td>0.125638</td>\n",
       "      <td>0.168530</td>\n",
       "      <td>0.440740</td>\n",
       "      <td>-0.009038</td>\n",
       "      <td>incentive_personal_perk</td>\n",
       "    </tr>\n",
       "    <tr>\n",
       "      <th>27</th>\n",
       "      <td>0.686276</td>\n",
       "      <td>0.033937</td>\n",
       "      <td>0.140331</td>\n",
       "      <td>0.141947</td>\n",
       "      <td>0.079520</td>\n",
       "      <td>incentive_division_perk</td>\n",
       "    </tr>\n",
       "    <tr>\n",
       "      <th>28</th>\n",
       "      <td>0.847712</td>\n",
       "      <td>0.085645</td>\n",
       "      <td>0.114359</td>\n",
       "      <td>0.115724</td>\n",
       "      <td>0.007743</td>\n",
       "      <td>incentive_personal_recognition_from_dept</td>\n",
       "    </tr>\n",
       "    <tr>\n",
       "      <th>29</th>\n",
       "      <td>0.907442</td>\n",
       "      <td>0.144378</td>\n",
       "      <td>0.106769</td>\n",
       "      <td>-0.023302</td>\n",
       "      <td>0.047044</td>\n",
       "      <td>incentive_division_recognition_from_dept</td>\n",
       "    </tr>\n",
       "    <tr>\n",
       "      <th>30</th>\n",
       "      <td>0.781716</td>\n",
       "      <td>0.213280</td>\n",
       "      <td>0.102932</td>\n",
       "      <td>0.085732</td>\n",
       "      <td>0.022253</td>\n",
       "      <td>incentive_personal_recognition_natl</td>\n",
       "    </tr>\n",
       "  </tbody>\n",
       "</table>\n",
       "</div>"
      ],
      "text/plain": [
       "           0         1         2         3         4  \\\n",
       "0   0.130800  0.247880  0.782451  0.120923 -0.005779   \n",
       "1   0.240359  0.212909  0.774848  0.012897  0.098004   \n",
       "2   0.128754  0.124459  0.826351  0.145686  0.062413   \n",
       "3   0.110669  0.083608  0.109046  0.035778  0.570331   \n",
       "4   0.065581 -0.088820  0.035886 -0.047357  0.628776   \n",
       "5  -0.040429 -0.067430 -0.047849 -0.046950  0.805427   \n",
       "6   0.028656  0.527165 -0.032105  0.013757  0.180085   \n",
       "7  -0.024374  0.588067 -0.043457  0.043791  0.120962   \n",
       "8   0.127293  0.105632  0.274858  0.087086 -0.179383   \n",
       "9  -0.092109 -0.059124 -0.156143 -0.041273  0.149706   \n",
       "10 -0.105247  0.036662  0.255016  0.216616 -0.068221   \n",
       "11  0.172953  0.142921  0.543973  0.112749  0.225694   \n",
       "12  0.068511  0.641533  0.179827  0.055462  0.026094   \n",
       "13  0.075582  0.734162  0.144814  0.124324 -0.071422   \n",
       "14  0.124627  0.423701  0.146388  0.007845 -0.148739   \n",
       "15  0.096781  0.518579  0.115063  0.016081 -0.244783   \n",
       "16  0.175233  0.512908  0.259869  0.075755 -0.131582   \n",
       "17  0.241277  0.483825  0.266717  0.011694 -0.085850   \n",
       "18  0.286601  0.364598  0.378939  0.042360 -0.123525   \n",
       "19  0.186503  0.193382  0.117069  0.024870 -0.069732   \n",
       "20  0.144490  0.284695  0.193655  0.004037  0.013384   \n",
       "21  0.174060  0.231156  0.150276  0.089429 -0.044448   \n",
       "22  0.282174  0.063692  0.145499  0.904738 -0.032438   \n",
       "23  0.536597  0.192582  0.279417  0.489173 -0.020939   \n",
       "24  0.284735  0.076657  0.149107  0.812651 -0.041179   \n",
       "25  0.564513  0.258136  0.177482  0.271520  0.014723   \n",
       "26  0.613678  0.125638  0.168530  0.440740 -0.009038   \n",
       "27  0.686276  0.033937  0.140331  0.141947  0.079520   \n",
       "28  0.847712  0.085645  0.114359  0.115724  0.007743   \n",
       "29  0.907442  0.144378  0.106769 -0.023302  0.047044   \n",
       "30  0.781716  0.213280  0.102932  0.085732  0.022253   \n",
       "\n",
       "                                display_name  \n",
       "0                       attitude_criticality  \n",
       "1                        attitude_motivation  \n",
       "2                          attitude_priority  \n",
       "3                           education_impact  \n",
       "4               education_institution_effort  \n",
       "5                    education_surgical_team  \n",
       "6                  education_resuable_safety  \n",
       "7                 education_reprocess_safety  \n",
       "8                    barriers_surgical_staff  \n",
       "9                         barriers_use_items  \n",
       "10                       barriers_roadblocks  \n",
       "11                        barriers_no_impact  \n",
       "12                      willingness_reusable  \n",
       "13                   willingness_reprocessed  \n",
       "14                 willingness_reusable_gown  \n",
       "15                willingness_reusable_towel  \n",
       "16               willingness_prefcard_review  \n",
       "17                    willingness_colleagues  \n",
       "18                     willingness_scorecard  \n",
       "19                       willingness_alcohol  \n",
       "20                           willingness_los  \n",
       "21                  willingness_telemedicine  \n",
       "22                   incentive_personal_cash  \n",
       "23                   incentive_division_cash  \n",
       "24                incentive_personal_percent  \n",
       "25       incentive_division_research_funding  \n",
       "26                   incentive_personal_perk  \n",
       "27                   incentive_division_perk  \n",
       "28  incentive_personal_recognition_from_dept  \n",
       "29  incentive_division_recognition_from_dept  \n",
       "30       incentive_personal_recognition_natl  "
      ]
     },
     "execution_count": 627,
     "metadata": {},
     "output_type": "execute_result"
    }
   ],
   "source": [
    "import pingouin as pg \n",
    "\n",
    "df_loadings"
   ]
  },
  {
   "cell_type": "code",
   "execution_count": 628,
   "metadata": {},
   "outputs": [
    {
     "name": "stdout",
     "output_type": "stream",
     "text": [
      "factor_0\n",
      "(0.9080601363749456, array([0.889, 0.925]))\n",
      "factor_1\n",
      "(0.7670676278806706, array([0.719, 0.809]))\n",
      "factor_2\n",
      "(0.8505054506659994, array([0.818, 0.879]))\n",
      "factor_3\n",
      "(0.9207955824800302, array([0.898, 0.938]))\n",
      "factor_4\n",
      "(0.68012913427329, array([0.604, 0.744]))\n"
     ]
    }
   ],
   "source": [
    "## for each factor, create a subset dataframe containing only columns for which factor loadings greater than 0.5\n",
    "## use a for loop\n",
    "\n",
    "factors = {}\n",
    "c_alpha = []\n",
    "\n",
    "for col in df_loadings.columns:\n",
    "    if col != 'display_name':\n",
    "        ## create a new dataframe named after the col name that is a subset of df_loadings where the factor loading is greater than 0.\n",
    "        factors['factor_' + str(col)] = df_loadings[df_loadings[col] > 0.5]['display_name'].to_list()\n",
    "\n",
    "        # print(pg.cronbach_alpha(x['df_factor_' + str(col)]))\n",
    "        #  x['factor_' + str(col)]\n",
    "\n",
    "\n",
    "for key in factors:\n",
    "    subset = df_factor_num_only[factors[key]]\n",
    "    print(key)\n",
    "    print(pg.cronbach_alpha(subset))"
   ]
  },
  {
   "cell_type": "code",
   "execution_count": 629,
   "metadata": {},
   "outputs": [
    {
     "data": {
      "text/html": [
       "<div>\n",
       "<style scoped>\n",
       "    .dataframe tbody tr th:only-of-type {\n",
       "        vertical-align: middle;\n",
       "    }\n",
       "\n",
       "    .dataframe tbody tr th {\n",
       "        vertical-align: top;\n",
       "    }\n",
       "\n",
       "    .dataframe thead th {\n",
       "        text-align: right;\n",
       "    }\n",
       "</style>\n",
       "<table border=\"1\" class=\"dataframe\">\n",
       "  <thead>\n",
       "    <tr style=\"text-align: right;\">\n",
       "      <th></th>\n",
       "      <th>survey_info_response_id</th>\n",
       "      <th>attitude</th>\n",
       "      <th>education</th>\n",
       "      <th>willingness</th>\n",
       "      <th>cash_incentives</th>\n",
       "      <th>non_cash_incentives</th>\n",
       "      <th>demographic_distribution</th>\n",
       "      <th>demographic_us_region</th>\n",
       "      <th>demographic_acs_trauma_region</th>\n",
       "      <th>demographic_years_in_practice_group</th>\n",
       "      <th>demographic_program_size</th>\n",
       "      <th>demographic_leadership</th>\n",
       "    </tr>\n",
       "  </thead>\n",
       "  <tbody>\n",
       "    <tr>\n",
       "      <th>0</th>\n",
       "      <td>R_1dMlSI0KXyxsTZn</td>\n",
       "      <td>0.316772</td>\n",
       "      <td>0.277434</td>\n",
       "      <td>1.251096</td>\n",
       "      <td>1.128570</td>\n",
       "      <td>-0.560555</td>\n",
       "      <td>ucsf</td>\n",
       "      <td>West</td>\n",
       "      <td>9</td>\n",
       "      <td>16-20 years</td>\n",
       "      <td>Large</td>\n",
       "      <td>False</td>\n",
       "    </tr>\n",
       "    <tr>\n",
       "      <th>1</th>\n",
       "      <td>R_7QYh6bTyOmOQo3D</td>\n",
       "      <td>0.246334</td>\n",
       "      <td>0.673001</td>\n",
       "      <td>0.614572</td>\n",
       "      <td>0.380151</td>\n",
       "      <td>-0.529743</td>\n",
       "      <td>ucsf</td>\n",
       "      <td>West</td>\n",
       "      <td>9</td>\n",
       "      <td>Less than 5 years</td>\n",
       "      <td>Large</td>\n",
       "      <td>False</td>\n",
       "    </tr>\n",
       "    <tr>\n",
       "      <th>2</th>\n",
       "      <td>R_6tYa59Tv4zOhQgp</td>\n",
       "      <td>1.072148</td>\n",
       "      <td>0.097929</td>\n",
       "      <td>-0.816370</td>\n",
       "      <td>-1.419073</td>\n",
       "      <td>-0.544812</td>\n",
       "      <td>ucsf</td>\n",
       "      <td>West</td>\n",
       "      <td>9</td>\n",
       "      <td>NaN</td>\n",
       "      <td>Large</td>\n",
       "      <td>False</td>\n",
       "    </tr>\n",
       "    <tr>\n",
       "      <th>3</th>\n",
       "      <td>R_25RsYOfgaO79uts</td>\n",
       "      <td>0.417846</td>\n",
       "      <td>-0.838586</td>\n",
       "      <td>-1.252632</td>\n",
       "      <td>1.356136</td>\n",
       "      <td>-1.349753</td>\n",
       "      <td>ucsf</td>\n",
       "      <td>West</td>\n",
       "      <td>9</td>\n",
       "      <td>11-15 years</td>\n",
       "      <td>Large</td>\n",
       "      <td>False</td>\n",
       "    </tr>\n",
       "    <tr>\n",
       "      <th>4</th>\n",
       "      <td>R_22qNtCIlTv6yOWH</td>\n",
       "      <td>0.030936</td>\n",
       "      <td>0.349702</td>\n",
       "      <td>0.520798</td>\n",
       "      <td>0.816440</td>\n",
       "      <td>0.158724</td>\n",
       "      <td>ucsf</td>\n",
       "      <td>West</td>\n",
       "      <td>9</td>\n",
       "      <td>Less than 5 years</td>\n",
       "      <td>Large</td>\n",
       "      <td>False</td>\n",
       "    </tr>\n",
       "    <tr>\n",
       "      <th>...</th>\n",
       "      <td>...</td>\n",
       "      <td>...</td>\n",
       "      <td>...</td>\n",
       "      <td>...</td>\n",
       "      <td>...</td>\n",
       "      <td>...</td>\n",
       "      <td>...</td>\n",
       "      <td>...</td>\n",
       "      <td>...</td>\n",
       "      <td>...</td>\n",
       "      <td>...</td>\n",
       "      <td>...</td>\n",
       "    </tr>\n",
       "    <tr>\n",
       "      <th>242</th>\n",
       "      <td>R_2UWpCS5RBPaA3Iv</td>\n",
       "      <td>-0.923048</td>\n",
       "      <td>1.144195</td>\n",
       "      <td>0.378404</td>\n",
       "      <td>-0.985202</td>\n",
       "      <td>0.832995</td>\n",
       "      <td>lehigh</td>\n",
       "      <td>Northeast</td>\n",
       "      <td>3</td>\n",
       "      <td>Greater than 20 years</td>\n",
       "      <td>Medium</td>\n",
       "      <td>False</td>\n",
       "    </tr>\n",
       "    <tr>\n",
       "      <th>243</th>\n",
       "      <td>R_2ZK4wuIarxnJyB9</td>\n",
       "      <td>0.703413</td>\n",
       "      <td>1.788321</td>\n",
       "      <td>-2.743315</td>\n",
       "      <td>-0.273479</td>\n",
       "      <td>0.115712</td>\n",
       "      <td>lehigh</td>\n",
       "      <td>Northeast</td>\n",
       "      <td>3</td>\n",
       "      <td>11-15 years</td>\n",
       "      <td>Medium</td>\n",
       "      <td>False</td>\n",
       "    </tr>\n",
       "    <tr>\n",
       "      <th>244</th>\n",
       "      <td>R_3g11P1lUjVkrlvn</td>\n",
       "      <td>-0.155071</td>\n",
       "      <td>-0.279717</td>\n",
       "      <td>-0.451336</td>\n",
       "      <td>-0.038574</td>\n",
       "      <td>1.053518</td>\n",
       "      <td>northwestern</td>\n",
       "      <td>Midwest</td>\n",
       "      <td>5</td>\n",
       "      <td>Less than 5 years</td>\n",
       "      <td>Medium</td>\n",
       "      <td>False</td>\n",
       "    </tr>\n",
       "    <tr>\n",
       "      <th>245</th>\n",
       "      <td>R_qCakSsa3qVx6bYd</td>\n",
       "      <td>0.569835</td>\n",
       "      <td>0.599358</td>\n",
       "      <td>0.586767</td>\n",
       "      <td>0.402493</td>\n",
       "      <td>1.724423</td>\n",
       "      <td>northwestern</td>\n",
       "      <td>Midwest</td>\n",
       "      <td>5</td>\n",
       "      <td>Less than 5 years</td>\n",
       "      <td>Medium</td>\n",
       "      <td>True</td>\n",
       "    </tr>\n",
       "    <tr>\n",
       "      <th>246</th>\n",
       "      <td>R_7NUyXyZ1p76BYad</td>\n",
       "      <td>-1.749692</td>\n",
       "      <td>-0.863619</td>\n",
       "      <td>1.333136</td>\n",
       "      <td>-1.281360</td>\n",
       "      <td>1.088376</td>\n",
       "      <td>northwestern</td>\n",
       "      <td>Midwest</td>\n",
       "      <td>5</td>\n",
       "      <td>Greater than 20 years</td>\n",
       "      <td>Medium</td>\n",
       "      <td>True</td>\n",
       "    </tr>\n",
       "  </tbody>\n",
       "</table>\n",
       "<p>247 rows × 12 columns</p>\n",
       "</div>"
      ],
      "text/plain": [
       "    survey_info_response_id  attitude  education  willingness  \\\n",
       "0         R_1dMlSI0KXyxsTZn  0.316772   0.277434     1.251096   \n",
       "1         R_7QYh6bTyOmOQo3D  0.246334   0.673001     0.614572   \n",
       "2         R_6tYa59Tv4zOhQgp  1.072148   0.097929    -0.816370   \n",
       "3         R_25RsYOfgaO79uts  0.417846  -0.838586    -1.252632   \n",
       "4         R_22qNtCIlTv6yOWH  0.030936   0.349702     0.520798   \n",
       "..                      ...       ...        ...          ...   \n",
       "242       R_2UWpCS5RBPaA3Iv -0.923048   1.144195     0.378404   \n",
       "243       R_2ZK4wuIarxnJyB9  0.703413   1.788321    -2.743315   \n",
       "244       R_3g11P1lUjVkrlvn -0.155071  -0.279717    -0.451336   \n",
       "245       R_qCakSsa3qVx6bYd  0.569835   0.599358     0.586767   \n",
       "246       R_7NUyXyZ1p76BYad -1.749692  -0.863619     1.333136   \n",
       "\n",
       "     cash_incentives  non_cash_incentives demographic_distribution  \\\n",
       "0           1.128570            -0.560555                     ucsf   \n",
       "1           0.380151            -0.529743                     ucsf   \n",
       "2          -1.419073            -0.544812                     ucsf   \n",
       "3           1.356136            -1.349753                     ucsf   \n",
       "4           0.816440             0.158724                     ucsf   \n",
       "..               ...                  ...                      ...   \n",
       "242        -0.985202             0.832995                   lehigh   \n",
       "243        -0.273479             0.115712                   lehigh   \n",
       "244        -0.038574             1.053518             northwestern   \n",
       "245         0.402493             1.724423             northwestern   \n",
       "246        -1.281360             1.088376             northwestern   \n",
       "\n",
       "    demographic_us_region demographic_acs_trauma_region  \\\n",
       "0                    West                             9   \n",
       "1                    West                             9   \n",
       "2                    West                             9   \n",
       "3                    West                             9   \n",
       "4                    West                             9   \n",
       "..                    ...                           ...   \n",
       "242             Northeast                             3   \n",
       "243             Northeast                             3   \n",
       "244               Midwest                             5   \n",
       "245               Midwest                             5   \n",
       "246               Midwest                             5   \n",
       "\n",
       "    demographic_years_in_practice_group demographic_program_size  \\\n",
       "0                           16-20 years                    Large   \n",
       "1                     Less than 5 years                    Large   \n",
       "2                                   NaN                    Large   \n",
       "3                           11-15 years                    Large   \n",
       "4                     Less than 5 years                    Large   \n",
       "..                                  ...                      ...   \n",
       "242               Greater than 20 years                   Medium   \n",
       "243                         11-15 years                   Medium   \n",
       "244                   Less than 5 years                   Medium   \n",
       "245                   Less than 5 years                   Medium   \n",
       "246               Greater than 20 years                   Medium   \n",
       "\n",
       "     demographic_leadership  \n",
       "0                     False  \n",
       "1                     False  \n",
       "2                     False  \n",
       "3                     False  \n",
       "4                     False  \n",
       "..                      ...  \n",
       "242                   False  \n",
       "243                   False  \n",
       "244                   False  \n",
       "245                    True  \n",
       "246                    True  \n",
       "\n",
       "[247 rows x 12 columns]"
      ]
     },
     "execution_count": 629,
     "metadata": {},
     "output_type": "execute_result"
    }
   ],
   "source": [
    "x = fa.transform(df_factor_num_only)\n",
    "\n",
    "## Turn x into dataframe, columns should be factor_1, factor_2, factor_3, factor_4, factor_5\n",
    "\n",
    "factor_cols = ['non_cash_incentives', 'willingness', 'attitude', 'cash_incentives', 'education']\n",
    "\n",
    "df_factors_new = pd.DataFrame(x, columns=factor_cols)\n",
    "\n",
    "df_temp = df_choice_filtered[demo_cols].copy()\n",
    "df_temp.reset_index(inplace=True)\n",
    "df_temp.drop(columns='index', inplace=True)\n",
    "df_temp\n",
    "\n",
    "df_factors_new = pd.concat([df_temp, df_factors_new], axis=1)\n",
    "\n",
    "df_factors_new\n",
    "\n",
    "## Add a new column called 'demographic_leadership' which is True if demographic_role_list is not null and False otherwise\n",
    "df_factors_new['demographic_leadership'] = df_factors_new['demographic_role_list'].notnull()\n",
    "\n",
    "## Drop demographic_role_list\n",
    "df_factors_new.drop(columns='demographic_role_list', inplace=True)\n",
    "\n",
    "## Create a new column called 'demographic_years_in_practice_group' that is the demographic_years_in_practice column binned into 5 year increments\n",
    "## Less than 5 years\n",
    "## 6-10 years\n",
    "## 11-15 years\n",
    "## 16-20 years\n",
    "## Greater than 20 years\n",
    "\n",
    "bins = [0, 5, 10, 15, 20, 100]\n",
    "labels = ['Less than 5 years', '6-10 years', '11-15 years', '16-20 years', 'Greater than 20 years']\n",
    "\n",
    "## Cast years in practice as a float\n",
    "df_factors_new['demographic_years_in_practice'] = df_factors_new['demographic_years_in_practice'].astype(float)\n",
    "df_factors_new['demographic_years_in_practice_group'] = pd.cut(df_factors_new['demographic_years_in_practice'], bins=bins, labels=labels)\n",
    "\n",
    "## Drop years in practice\n",
    "df_factors_new.drop(columns='demographic_years_in_practice', inplace=True)\n",
    "\n",
    "## Create a new column called 'program_size' that is 'demographic_sample_size' binned into 3 categories based on the 33rd and 66th percentiles\n",
    "## Small\n",
    "## Medium\n",
    "## Large\n",
    "\n",
    "bins = [0, 45, 90, 10000]\n",
    "labels = ['Small', 'Medium', 'Large']\n",
    "df_factors_new['demographic_program_size'] = pd.cut(df_factors_new['demographic_sample_size'], bins=bins, labels=labels)\n",
    "\n",
    "## Drop demographic_sample_size\n",
    "df_factors_new.drop(columns='demographic_sample_size', inplace=True)\n",
    "\n",
    "## Order as follows: 'survey_info_response_id', 'factor_cols', and then 'demo_cols'\n",
    "df_factors_new = df_factors_new[[\n",
    "    'survey_info_response_id', \n",
    "    'attitude',\n",
    "    'education',\n",
    "    'willingness',\n",
    "    'cash_incentives',\n",
    "    'non_cash_incentives',\n",
    "    'demographic_distribution',\n",
    "    'demographic_us_region',\n",
    "    'demographic_acs_trauma_region',\n",
    "    'demographic_years_in_practice_group',\n",
    "    'demographic_program_size',\n",
    "    'demographic_leadership'\n",
    "]]\n",
    "\n",
    "df_factors_new"
   ]
  },
  {
   "cell_type": "code",
   "execution_count": 630,
   "metadata": {},
   "outputs": [],
   "source": [
    "anova_df = {}\n",
    "\n",
    "## create a list called new_demo_cols for df_factors_new columns that contain 'demographic'\n",
    "new_demo_cols = [col for col in df_factors_new.columns if 'demographic' in col]\n",
    "\n",
    "for col in new_demo_cols:\n",
    "    # print(col)\n",
    " \n",
    "    ## print the df_subset type of col\n",
    "    # print(df_factors_new[col].dtype)\n",
    "    df_subset = df_factors_new.copy()\n",
    "\n",
    "    if col == 'survey_info_response_id':\n",
    "        continue\n",
    "\n",
    "    elif 'practice_list' in col:\n",
    "        ## Explode the df_subsetframe on the list column\n",
    "        df_subset = df_subset.explode(col)\n",
    "        \n",
    "    temp_list = [col] + factor_cols\n",
    "    df_subset = df_subset[temp_list]\n",
    "\n",
    "    ## remove any rows with null values\n",
    "    df_subset = df_subset.dropna()\n",
    "\n",
    "    anova_df[col] = df_subset"
   ]
  },
  {
   "cell_type": "code",
   "execution_count": 631,
   "metadata": {},
   "outputs": [
    {
     "data": {
      "text/plain": [
       "{'demographic_distribution':     demographic_distribution  non_cash_incentives  willingness  attitude  \\\n",
       " 0                       ucsf            -0.560555     1.251096  0.316772   \n",
       " 1                       ucsf            -0.529743     0.614572  0.246334   \n",
       " 2                       ucsf            -0.544812    -0.816370  1.072148   \n",
       " 3                       ucsf            -1.349753    -1.252632  0.417846   \n",
       " 4                       ucsf             0.158724     0.520798  0.030936   \n",
       " ..                       ...                  ...          ...       ...   \n",
       " 242                   lehigh             0.832995     0.378404 -0.923048   \n",
       " 243                   lehigh             0.115712    -2.743315  0.703413   \n",
       " 244             northwestern             1.053518    -0.451336 -0.155071   \n",
       " 245             northwestern             1.724423     0.586767  0.569835   \n",
       " 246             northwestern             1.088376     1.333136 -1.749692   \n",
       " \n",
       "      cash_incentives  education  \n",
       " 0           1.128570   0.277434  \n",
       " 1           0.380151   0.673001  \n",
       " 2          -1.419073   0.097929  \n",
       " 3           1.356136  -0.838586  \n",
       " 4           0.816440   0.349702  \n",
       " ..               ...        ...  \n",
       " 242        -0.985202   1.144195  \n",
       " 243        -0.273479   1.788321  \n",
       " 244        -0.038574  -0.279717  \n",
       " 245         0.402493   0.599358  \n",
       " 246        -1.281360  -0.863619  \n",
       " \n",
       " [247 rows x 6 columns],\n",
       " 'demographic_us_region':     demographic_us_region  non_cash_incentives  willingness  attitude  \\\n",
       " 0                    West            -0.560555     1.251096  0.316772   \n",
       " 1                    West            -0.529743     0.614572  0.246334   \n",
       " 2                    West            -0.544812    -0.816370  1.072148   \n",
       " 3                    West            -1.349753    -1.252632  0.417846   \n",
       " 4                    West             0.158724     0.520798  0.030936   \n",
       " ..                    ...                  ...          ...       ...   \n",
       " 242             Northeast             0.832995     0.378404 -0.923048   \n",
       " 243             Northeast             0.115712    -2.743315  0.703413   \n",
       " 244               Midwest             1.053518    -0.451336 -0.155071   \n",
       " 245               Midwest             1.724423     0.586767  0.569835   \n",
       " 246               Midwest             1.088376     1.333136 -1.749692   \n",
       " \n",
       "      cash_incentives  education  \n",
       " 0           1.128570   0.277434  \n",
       " 1           0.380151   0.673001  \n",
       " 2          -1.419073   0.097929  \n",
       " 3           1.356136  -0.838586  \n",
       " 4           0.816440   0.349702  \n",
       " ..               ...        ...  \n",
       " 242        -0.985202   1.144195  \n",
       " 243        -0.273479   1.788321  \n",
       " 244        -0.038574  -0.279717  \n",
       " 245         0.402493   0.599358  \n",
       " 246        -1.281360  -0.863619  \n",
       " \n",
       " [247 rows x 6 columns],\n",
       " 'demographic_acs_trauma_region':     demographic_acs_trauma_region  non_cash_incentives  willingness  attitude  \\\n",
       " 0                               9            -0.560555     1.251096  0.316772   \n",
       " 1                               9            -0.529743     0.614572  0.246334   \n",
       " 2                               9            -0.544812    -0.816370  1.072148   \n",
       " 3                               9            -1.349753    -1.252632  0.417846   \n",
       " 4                               9             0.158724     0.520798  0.030936   \n",
       " ..                            ...                  ...          ...       ...   \n",
       " 242                             3             0.832995     0.378404 -0.923048   \n",
       " 243                             3             0.115712    -2.743315  0.703413   \n",
       " 244                             5             1.053518    -0.451336 -0.155071   \n",
       " 245                             5             1.724423     0.586767  0.569835   \n",
       " 246                             5             1.088376     1.333136 -1.749692   \n",
       " \n",
       "      cash_incentives  education  \n",
       " 0           1.128570   0.277434  \n",
       " 1           0.380151   0.673001  \n",
       " 2          -1.419073   0.097929  \n",
       " 3           1.356136  -0.838586  \n",
       " 4           0.816440   0.349702  \n",
       " ..               ...        ...  \n",
       " 242        -0.985202   1.144195  \n",
       " 243        -0.273479   1.788321  \n",
       " 244        -0.038574  -0.279717  \n",
       " 245         0.402493   0.599358  \n",
       " 246        -1.281360  -0.863619  \n",
       " \n",
       " [247 rows x 6 columns],\n",
       " 'demographic_years_in_practice_group':     demographic_years_in_practice_group  non_cash_incentives  willingness  \\\n",
       " 0                           16-20 years            -0.560555     1.251096   \n",
       " 1                     Less than 5 years            -0.529743     0.614572   \n",
       " 3                           11-15 years            -1.349753    -1.252632   \n",
       " 4                     Less than 5 years             0.158724     0.520798   \n",
       " 5                           16-20 years            -1.475636     1.052113   \n",
       " ..                                  ...                  ...          ...   \n",
       " 242               Greater than 20 years             0.832995     0.378404   \n",
       " 243                         11-15 years             0.115712    -2.743315   \n",
       " 244                   Less than 5 years             1.053518    -0.451336   \n",
       " 245                   Less than 5 years             1.724423     0.586767   \n",
       " 246               Greater than 20 years             1.088376     1.333136   \n",
       " \n",
       "      attitude  cash_incentives  education  \n",
       " 0    0.316772         1.128570   0.277434  \n",
       " 1    0.246334         0.380151   0.673001  \n",
       " 3    0.417846         1.356136  -0.838586  \n",
       " 4    0.030936         0.816440   0.349702  \n",
       " 5    1.866349        -1.386390  -0.770947  \n",
       " ..        ...              ...        ...  \n",
       " 242 -0.923048        -0.985202   1.144195  \n",
       " 243  0.703413        -0.273479   1.788321  \n",
       " 244 -0.155071        -0.038574  -0.279717  \n",
       " 245  0.569835         0.402493   0.599358  \n",
       " 246 -1.749692        -1.281360  -0.863619  \n",
       " \n",
       " [229 rows x 6 columns],\n",
       " 'demographic_program_size':     demographic_program_size  non_cash_incentives  willingness  attitude  \\\n",
       " 0                      Large            -0.560555     1.251096  0.316772   \n",
       " 1                      Large            -0.529743     0.614572  0.246334   \n",
       " 2                      Large            -0.544812    -0.816370  1.072148   \n",
       " 3                      Large            -1.349753    -1.252632  0.417846   \n",
       " 4                      Large             0.158724     0.520798  0.030936   \n",
       " ..                       ...                  ...          ...       ...   \n",
       " 242                   Medium             0.832995     0.378404 -0.923048   \n",
       " 243                   Medium             0.115712    -2.743315  0.703413   \n",
       " 244                   Medium             1.053518    -0.451336 -0.155071   \n",
       " 245                   Medium             1.724423     0.586767  0.569835   \n",
       " 246                   Medium             1.088376     1.333136 -1.749692   \n",
       " \n",
       "      cash_incentives  education  \n",
       " 0           1.128570   0.277434  \n",
       " 1           0.380151   0.673001  \n",
       " 2          -1.419073   0.097929  \n",
       " 3           1.356136  -0.838586  \n",
       " 4           0.816440   0.349702  \n",
       " ..               ...        ...  \n",
       " 242        -0.985202   1.144195  \n",
       " 243        -0.273479   1.788321  \n",
       " 244        -0.038574  -0.279717  \n",
       " 245         0.402493   0.599358  \n",
       " 246        -1.281360  -0.863619  \n",
       " \n",
       " [247 rows x 6 columns],\n",
       " 'demographic_leadership':      demographic_leadership  non_cash_incentives  willingness  attitude  \\\n",
       " 0                     False            -0.560555     1.251096  0.316772   \n",
       " 1                     False            -0.529743     0.614572  0.246334   \n",
       " 2                     False            -0.544812    -0.816370  1.072148   \n",
       " 3                     False            -1.349753    -1.252632  0.417846   \n",
       " 4                     False             0.158724     0.520798  0.030936   \n",
       " ..                      ...                  ...          ...       ...   \n",
       " 242                   False             0.832995     0.378404 -0.923048   \n",
       " 243                   False             0.115712    -2.743315  0.703413   \n",
       " 244                   False             1.053518    -0.451336 -0.155071   \n",
       " 245                    True             1.724423     0.586767  0.569835   \n",
       " 246                    True             1.088376     1.333136 -1.749692   \n",
       " \n",
       "      cash_incentives  education  \n",
       " 0           1.128570   0.277434  \n",
       " 1           0.380151   0.673001  \n",
       " 2          -1.419073   0.097929  \n",
       " 3           1.356136  -0.838586  \n",
       " 4           0.816440   0.349702  \n",
       " ..               ...        ...  \n",
       " 242        -0.985202   1.144195  \n",
       " 243        -0.273479   1.788321  \n",
       " 244        -0.038574  -0.279717  \n",
       " 245         0.402493   0.599358  \n",
       " 246        -1.281360  -0.863619  \n",
       " \n",
       " [247 rows x 6 columns]}"
      ]
     },
     "execution_count": 631,
     "metadata": {},
     "output_type": "execute_result"
    }
   ],
   "source": [
    "anova_df"
   ]
  },
  {
   "cell_type": "code",
   "execution_count": 632,
   "metadata": {},
   "outputs": [
    {
     "name": "stderr",
     "output_type": "stream",
     "text": [
      "/var/folders/tc/rrbf67xd4h98qrpph8v1h9c00000gn/T/ipykernel_53039/3764568105.py:43: FutureWarning:\n",
      "\n",
      "The behavior of DataFrame concatenation with empty or all-NA entries is deprecated. In a future version, this will no longer exclude empty or all-NA columns when determining the result dtypes. To retain the old behavior, exclude the relevant entries before the concat operation.\n",
      "\n"
     ]
    },
    {
     "data": {
      "text/html": [
       "<div>\n",
       "<style scoped>\n",
       "    .dataframe tbody tr th:only-of-type {\n",
       "        vertical-align: middle;\n",
       "    }\n",
       "\n",
       "    .dataframe tbody tr th {\n",
       "        vertical-align: top;\n",
       "    }\n",
       "\n",
       "    .dataframe thead th {\n",
       "        text-align: right;\n",
       "    }\n",
       "</style>\n",
       "<table border=\"1\" class=\"dataframe\">\n",
       "  <thead>\n",
       "    <tr style=\"text-align: right;\">\n",
       "      <th></th>\n",
       "      <th>key</th>\n",
       "      <th>factor</th>\n",
       "      <th>F</th>\n",
       "      <th>p</th>\n",
       "      <th>significant</th>\n",
       "    </tr>\n",
       "  </thead>\n",
       "  <tbody>\n",
       "    <tr>\n",
       "      <th>0</th>\n",
       "      <td>demographic_distribution</td>\n",
       "      <td>non_cash_incentives</td>\n",
       "      <td>0.996079</td>\n",
       "      <td>0.443912</td>\n",
       "      <td>False</td>\n",
       "    </tr>\n",
       "    <tr>\n",
       "      <th>0</th>\n",
       "      <td>demographic_distribution</td>\n",
       "      <td>willingness</td>\n",
       "      <td>1.248972</td>\n",
       "      <td>0.266017</td>\n",
       "      <td>False</td>\n",
       "    </tr>\n",
       "    <tr>\n",
       "      <th>0</th>\n",
       "      <td>demographic_distribution</td>\n",
       "      <td>attitude</td>\n",
       "      <td>2.819837</td>\n",
       "      <td>0.003629</td>\n",
       "      <td>True</td>\n",
       "    </tr>\n",
       "    <tr>\n",
       "      <th>0</th>\n",
       "      <td>demographic_distribution</td>\n",
       "      <td>cash_incentives</td>\n",
       "      <td>1.679379</td>\n",
       "      <td>0.094670</td>\n",
       "      <td>False</td>\n",
       "    </tr>\n",
       "    <tr>\n",
       "      <th>0</th>\n",
       "      <td>demographic_distribution</td>\n",
       "      <td>education</td>\n",
       "      <td>2.065811</td>\n",
       "      <td>0.033354</td>\n",
       "      <td>True</td>\n",
       "    </tr>\n",
       "    <tr>\n",
       "      <th>0</th>\n",
       "      <td>demographic_us_region</td>\n",
       "      <td>non_cash_incentives</td>\n",
       "      <td>0.737276</td>\n",
       "      <td>0.567349</td>\n",
       "      <td>False</td>\n",
       "    </tr>\n",
       "    <tr>\n",
       "      <th>0</th>\n",
       "      <td>demographic_us_region</td>\n",
       "      <td>willingness</td>\n",
       "      <td>0.861681</td>\n",
       "      <td>0.487598</td>\n",
       "      <td>False</td>\n",
       "    </tr>\n",
       "    <tr>\n",
       "      <th>0</th>\n",
       "      <td>demographic_us_region</td>\n",
       "      <td>attitude</td>\n",
       "      <td>5.546119</td>\n",
       "      <td>0.000275</td>\n",
       "      <td>True</td>\n",
       "    </tr>\n",
       "    <tr>\n",
       "      <th>0</th>\n",
       "      <td>demographic_us_region</td>\n",
       "      <td>cash_incentives</td>\n",
       "      <td>2.128272</td>\n",
       "      <td>0.077940</td>\n",
       "      <td>False</td>\n",
       "    </tr>\n",
       "    <tr>\n",
       "      <th>0</th>\n",
       "      <td>demographic_us_region</td>\n",
       "      <td>education</td>\n",
       "      <td>1.869691</td>\n",
       "      <td>0.116392</td>\n",
       "      <td>False</td>\n",
       "    </tr>\n",
       "    <tr>\n",
       "      <th>0</th>\n",
       "      <td>demographic_acs_trauma_region</td>\n",
       "      <td>non_cash_incentives</td>\n",
       "      <td>0.996079</td>\n",
       "      <td>0.443912</td>\n",
       "      <td>False</td>\n",
       "    </tr>\n",
       "    <tr>\n",
       "      <th>0</th>\n",
       "      <td>demographic_acs_trauma_region</td>\n",
       "      <td>willingness</td>\n",
       "      <td>1.248972</td>\n",
       "      <td>0.266017</td>\n",
       "      <td>False</td>\n",
       "    </tr>\n",
       "    <tr>\n",
       "      <th>0</th>\n",
       "      <td>demographic_acs_trauma_region</td>\n",
       "      <td>attitude</td>\n",
       "      <td>2.819837</td>\n",
       "      <td>0.003629</td>\n",
       "      <td>True</td>\n",
       "    </tr>\n",
       "    <tr>\n",
       "      <th>0</th>\n",
       "      <td>demographic_acs_trauma_region</td>\n",
       "      <td>cash_incentives</td>\n",
       "      <td>1.679379</td>\n",
       "      <td>0.094670</td>\n",
       "      <td>False</td>\n",
       "    </tr>\n",
       "    <tr>\n",
       "      <th>0</th>\n",
       "      <td>demographic_acs_trauma_region</td>\n",
       "      <td>education</td>\n",
       "      <td>2.065811</td>\n",
       "      <td>0.033354</td>\n",
       "      <td>True</td>\n",
       "    </tr>\n",
       "    <tr>\n",
       "      <th>0</th>\n",
       "      <td>demographic_years_in_practice_group</td>\n",
       "      <td>non_cash_incentives</td>\n",
       "      <td>1.247013</td>\n",
       "      <td>0.291919</td>\n",
       "      <td>False</td>\n",
       "    </tr>\n",
       "    <tr>\n",
       "      <th>0</th>\n",
       "      <td>demographic_years_in_practice_group</td>\n",
       "      <td>willingness</td>\n",
       "      <td>3.837754</td>\n",
       "      <td>0.004884</td>\n",
       "      <td>True</td>\n",
       "    </tr>\n",
       "    <tr>\n",
       "      <th>0</th>\n",
       "      <td>demographic_years_in_practice_group</td>\n",
       "      <td>attitude</td>\n",
       "      <td>0.271074</td>\n",
       "      <td>0.896409</td>\n",
       "      <td>False</td>\n",
       "    </tr>\n",
       "    <tr>\n",
       "      <th>0</th>\n",
       "      <td>demographic_years_in_practice_group</td>\n",
       "      <td>cash_incentives</td>\n",
       "      <td>5.607081</td>\n",
       "      <td>0.000256</td>\n",
       "      <td>True</td>\n",
       "    </tr>\n",
       "    <tr>\n",
       "      <th>0</th>\n",
       "      <td>demographic_years_in_practice_group</td>\n",
       "      <td>education</td>\n",
       "      <td>0.828712</td>\n",
       "      <td>0.508109</td>\n",
       "      <td>False</td>\n",
       "    </tr>\n",
       "    <tr>\n",
       "      <th>0</th>\n",
       "      <td>demographic_program_size</td>\n",
       "      <td>non_cash_incentives</td>\n",
       "      <td>0.765328</td>\n",
       "      <td>0.466295</td>\n",
       "      <td>False</td>\n",
       "    </tr>\n",
       "    <tr>\n",
       "      <th>0</th>\n",
       "      <td>demographic_program_size</td>\n",
       "      <td>willingness</td>\n",
       "      <td>0.300707</td>\n",
       "      <td>0.740569</td>\n",
       "      <td>False</td>\n",
       "    </tr>\n",
       "    <tr>\n",
       "      <th>0</th>\n",
       "      <td>demographic_program_size</td>\n",
       "      <td>attitude</td>\n",
       "      <td>0.040150</td>\n",
       "      <td>0.960651</td>\n",
       "      <td>False</td>\n",
       "    </tr>\n",
       "    <tr>\n",
       "      <th>0</th>\n",
       "      <td>demographic_program_size</td>\n",
       "      <td>cash_incentives</td>\n",
       "      <td>4.058748</td>\n",
       "      <td>0.018450</td>\n",
       "      <td>True</td>\n",
       "    </tr>\n",
       "    <tr>\n",
       "      <th>0</th>\n",
       "      <td>demographic_program_size</td>\n",
       "      <td>education</td>\n",
       "      <td>0.648138</td>\n",
       "      <td>0.523917</td>\n",
       "      <td>False</td>\n",
       "    </tr>\n",
       "    <tr>\n",
       "      <th>0</th>\n",
       "      <td>demographic_leadership</td>\n",
       "      <td>non_cash_incentives</td>\n",
       "      <td>0.138545</td>\n",
       "      <td>0.710053</td>\n",
       "      <td>False</td>\n",
       "    </tr>\n",
       "    <tr>\n",
       "      <th>0</th>\n",
       "      <td>demographic_leadership</td>\n",
       "      <td>willingness</td>\n",
       "      <td>0.091661</td>\n",
       "      <td>0.762332</td>\n",
       "      <td>False</td>\n",
       "    </tr>\n",
       "    <tr>\n",
       "      <th>0</th>\n",
       "      <td>demographic_leadership</td>\n",
       "      <td>attitude</td>\n",
       "      <td>0.112070</td>\n",
       "      <td>0.738087</td>\n",
       "      <td>False</td>\n",
       "    </tr>\n",
       "    <tr>\n",
       "      <th>0</th>\n",
       "      <td>demographic_leadership</td>\n",
       "      <td>cash_incentives</td>\n",
       "      <td>0.778979</td>\n",
       "      <td>0.378319</td>\n",
       "      <td>False</td>\n",
       "    </tr>\n",
       "    <tr>\n",
       "      <th>0</th>\n",
       "      <td>demographic_leadership</td>\n",
       "      <td>education</td>\n",
       "      <td>5.234948</td>\n",
       "      <td>0.022990</td>\n",
       "      <td>True</td>\n",
       "    </tr>\n",
       "  </tbody>\n",
       "</table>\n",
       "</div>"
      ],
      "text/plain": [
       "                                   key               factor         F  \\\n",
       "0             demographic_distribution  non_cash_incentives  0.996079   \n",
       "0             demographic_distribution          willingness  1.248972   \n",
       "0             demographic_distribution             attitude  2.819837   \n",
       "0             demographic_distribution      cash_incentives  1.679379   \n",
       "0             demographic_distribution            education  2.065811   \n",
       "0                demographic_us_region  non_cash_incentives  0.737276   \n",
       "0                demographic_us_region          willingness  0.861681   \n",
       "0                demographic_us_region             attitude  5.546119   \n",
       "0                demographic_us_region      cash_incentives  2.128272   \n",
       "0                demographic_us_region            education  1.869691   \n",
       "0        demographic_acs_trauma_region  non_cash_incentives  0.996079   \n",
       "0        demographic_acs_trauma_region          willingness  1.248972   \n",
       "0        demographic_acs_trauma_region             attitude  2.819837   \n",
       "0        demographic_acs_trauma_region      cash_incentives  1.679379   \n",
       "0        demographic_acs_trauma_region            education  2.065811   \n",
       "0  demographic_years_in_practice_group  non_cash_incentives  1.247013   \n",
       "0  demographic_years_in_practice_group          willingness  3.837754   \n",
       "0  demographic_years_in_practice_group             attitude  0.271074   \n",
       "0  demographic_years_in_practice_group      cash_incentives  5.607081   \n",
       "0  demographic_years_in_practice_group            education  0.828712   \n",
       "0             demographic_program_size  non_cash_incentives  0.765328   \n",
       "0             demographic_program_size          willingness  0.300707   \n",
       "0             demographic_program_size             attitude  0.040150   \n",
       "0             demographic_program_size      cash_incentives  4.058748   \n",
       "0             demographic_program_size            education  0.648138   \n",
       "0               demographic_leadership  non_cash_incentives  0.138545   \n",
       "0               demographic_leadership          willingness  0.091661   \n",
       "0               demographic_leadership             attitude  0.112070   \n",
       "0               demographic_leadership      cash_incentives  0.778979   \n",
       "0               demographic_leadership            education  5.234948   \n",
       "\n",
       "          p significant  \n",
       "0  0.443912       False  \n",
       "0  0.266017       False  \n",
       "0  0.003629        True  \n",
       "0  0.094670       False  \n",
       "0  0.033354        True  \n",
       "0  0.567349       False  \n",
       "0  0.487598       False  \n",
       "0  0.000275        True  \n",
       "0  0.077940       False  \n",
       "0  0.116392       False  \n",
       "0  0.443912       False  \n",
       "0  0.266017       False  \n",
       "0  0.003629        True  \n",
       "0  0.094670       False  \n",
       "0  0.033354        True  \n",
       "0  0.291919       False  \n",
       "0  0.004884        True  \n",
       "0  0.896409       False  \n",
       "0  0.000256        True  \n",
       "0  0.508109       False  \n",
       "0  0.466295       False  \n",
       "0  0.740569       False  \n",
       "0  0.960651       False  \n",
       "0  0.018450        True  \n",
       "0  0.523917       False  \n",
       "0  0.710053       False  \n",
       "0  0.762332       False  \n",
       "0  0.738087       False  \n",
       "0  0.378319       False  \n",
       "0  0.022990        True  "
      ]
     },
     "execution_count": 632,
     "metadata": {},
     "output_type": "execute_result"
    }
   ],
   "source": [
    "\n",
    "df_anova_results = pd.DataFrame(columns=['key', 'factor', 'F', 'p', 'significant'])\n",
    "\n",
    "for col in new_demo_cols:\n",
    "\n",
    "    if col == 'survey_info_response_id':\n",
    "        continue\n",
    "\n",
    "    else:\n",
    "        df_temp = anova_df[col].copy()\n",
    "        demo_col = [col for col in df_temp.columns if col not in factor_cols][0]\n",
    "\n",
    "    groups = len(df_temp[demo_col].unique())\n",
    "    \n",
    "    ## Define a new dataframe called df_anova with columns key, factor, F, p, and significant\n",
    "    df_anova = pd.DataFrame(columns=['key', 'factor', 'F', 'p', 'significant'])\n",
    "\n",
    "    if groups >= 2:\n",
    "        # print(groups)\n",
    "\n",
    "        for factor in factor_cols:\n",
    "            # print(factor)\n",
    "            # print(f_oneway(*[df_temp[df_temp[demo_col] == group][factor] for group in df_temp[demo_col].unique()]))\n",
    "            # print('')\n",
    "\n",
    "            anova_vars = f_oneway(*[df_temp[df_temp[demo_col] == group][factor] for group in df_temp[demo_col].unique()])\n",
    "            F = anova_vars[0]\n",
    "            p = anova_vars[1]\n",
    "            significant = p < 0.05\n",
    "\n",
    "            ## Create a dictionary with the key, factor, F, p, and significant\n",
    "            anova_dict = {\n",
    "                'key': col,\n",
    "                'factor': factor,\n",
    "                'F': F,\n",
    "                'p': p,\n",
    "                'significant': significant\n",
    "            }\n",
    "\n",
    "            ## Append the dictionary to df_anova\n",
    "            df_anova = pd.DataFrame(anova_dict, index=[0])\n",
    "\n",
    "            ## Vertically concatenate df_anova to df_anova_results\n",
    "            df_anova_results = pd.concat([df_anova_results, df_anova])\n",
    "\n",
    "\n",
    "df_anova_results"
   ]
  },
  {
   "cell_type": "code",
   "execution_count": 672,
   "metadata": {},
   "outputs": [
    {
     "data": {
      "text/html": [
       "<div>\n",
       "<style scoped>\n",
       "    .dataframe tbody tr th:only-of-type {\n",
       "        vertical-align: middle;\n",
       "    }\n",
       "\n",
       "    .dataframe tbody tr th {\n",
       "        vertical-align: top;\n",
       "    }\n",
       "\n",
       "    .dataframe thead th {\n",
       "        text-align: right;\n",
       "    }\n",
       "</style>\n",
       "<table border=\"1\" class=\"dataframe\">\n",
       "  <thead>\n",
       "    <tr style=\"text-align: right;\">\n",
       "      <th>key</th>\n",
       "      <th>factor</th>\n",
       "      <th>distribution</th>\n",
       "      <th>leadership</th>\n",
       "      <th>program_size</th>\n",
       "      <th>us_region</th>\n",
       "      <th>years_in_practice_group</th>\n",
       "    </tr>\n",
       "  </thead>\n",
       "  <tbody>\n",
       "    <tr>\n",
       "      <th>0</th>\n",
       "      <td>attitude</td>\n",
       "      <td>0.003629</td>\n",
       "      <td>0.738087</td>\n",
       "      <td>0.960651</td>\n",
       "      <td>0.000275</td>\n",
       "      <td>0.896409</td>\n",
       "    </tr>\n",
       "    <tr>\n",
       "      <th>1</th>\n",
       "      <td>cash_incentives</td>\n",
       "      <td>0.094670</td>\n",
       "      <td>0.378319</td>\n",
       "      <td>0.018450</td>\n",
       "      <td>0.077940</td>\n",
       "      <td>0.000256</td>\n",
       "    </tr>\n",
       "    <tr>\n",
       "      <th>2</th>\n",
       "      <td>education</td>\n",
       "      <td>0.033354</td>\n",
       "      <td>0.022990</td>\n",
       "      <td>0.523917</td>\n",
       "      <td>0.116392</td>\n",
       "      <td>0.508109</td>\n",
       "    </tr>\n",
       "    <tr>\n",
       "      <th>3</th>\n",
       "      <td>non_cash_incentives</td>\n",
       "      <td>0.443912</td>\n",
       "      <td>0.710053</td>\n",
       "      <td>0.466295</td>\n",
       "      <td>0.567349</td>\n",
       "      <td>0.291919</td>\n",
       "    </tr>\n",
       "    <tr>\n",
       "      <th>4</th>\n",
       "      <td>willingness</td>\n",
       "      <td>0.266017</td>\n",
       "      <td>0.762332</td>\n",
       "      <td>0.740569</td>\n",
       "      <td>0.487598</td>\n",
       "      <td>0.004884</td>\n",
       "    </tr>\n",
       "  </tbody>\n",
       "</table>\n",
       "</div>"
      ],
      "text/plain": [
       "key               factor  distribution  leadership  program_size  us_region  \\\n",
       "0               attitude      0.003629    0.738087      0.960651   0.000275   \n",
       "1        cash_incentives      0.094670    0.378319      0.018450   0.077940   \n",
       "2              education      0.033354    0.022990      0.523917   0.116392   \n",
       "3    non_cash_incentives      0.443912    0.710053      0.466295   0.567349   \n",
       "4            willingness      0.266017    0.762332      0.740569   0.487598   \n",
       "\n",
       "key  years_in_practice_group  \n",
       "0                   0.896409  \n",
       "1                   0.000256  \n",
       "2                   0.508109  \n",
       "3                   0.291919  \n",
       "4                   0.004884  "
      ]
     },
     "execution_count": 672,
     "metadata": {},
     "output_type": "execute_result"
    }
   ],
   "source": [
    "## Create a pivot table with key as column, factor as rows, and significance as values\n",
    "## Highlight significant values in green\n",
    "\n",
    "## Create a pivot table with key as column, factor as rows, and significance as values\n",
    "df_anova_results_pivot = df_anova_results.pivot(index='factor', columns='key', values='p')\n",
    "df_anova_results_pivot\n",
    "\n",
    "## Strip demographic from title of columns and reset index\n",
    "df_anova_results_pivot.columns = df_anova_results_pivot.columns.str.replace('demographic_', '')\n",
    "df_anova_results_pivot.reset_index(inplace=True)\n",
    "\n",
    "# drop acs trauma region - it is the same as distribution\n",
    "df_anova_results_pivot = df_anova_results_pivot.drop(columns='acs_trauma_region')\n",
    "\n",
    "def color_b(s):\n",
    "    return \"background-color: green;\" if v < 0.05 else None\n",
    "\n",
    "\n",
    "\n",
    "df_anova_results_pivot.to_csv('factor_pivot_anova.csv')\n",
    "\n",
    "df_anova_results_pivot\n",
    "\n",
    "\n"
   ]
  },
  {
   "cell_type": "code",
   "execution_count": 636,
   "metadata": {},
   "outputs": [
    {
     "data": {
      "text/html": [
       "<div>\n",
       "<style scoped>\n",
       "    .dataframe tbody tr th:only-of-type {\n",
       "        vertical-align: middle;\n",
       "    }\n",
       "\n",
       "    .dataframe tbody tr th {\n",
       "        vertical-align: top;\n",
       "    }\n",
       "\n",
       "    .dataframe thead th {\n",
       "        text-align: right;\n",
       "    }\n",
       "</style>\n",
       "<table border=\"1\" class=\"dataframe\">\n",
       "  <thead>\n",
       "    <tr style=\"text-align: right;\">\n",
       "      <th></th>\n",
       "      <th>key</th>\n",
       "      <th>factor</th>\n",
       "      <th>F</th>\n",
       "      <th>p</th>\n",
       "      <th>significant</th>\n",
       "    </tr>\n",
       "  </thead>\n",
       "  <tbody>\n",
       "    <tr>\n",
       "      <th>0</th>\n",
       "      <td>demographic_distribution</td>\n",
       "      <td>attitude</td>\n",
       "      <td>2.819837</td>\n",
       "      <td>0.003629</td>\n",
       "      <td>True</td>\n",
       "    </tr>\n",
       "    <tr>\n",
       "      <th>0</th>\n",
       "      <td>demographic_distribution</td>\n",
       "      <td>education</td>\n",
       "      <td>2.065811</td>\n",
       "      <td>0.033354</td>\n",
       "      <td>True</td>\n",
       "    </tr>\n",
       "    <tr>\n",
       "      <th>0</th>\n",
       "      <td>demographic_us_region</td>\n",
       "      <td>attitude</td>\n",
       "      <td>5.546119</td>\n",
       "      <td>0.000275</td>\n",
       "      <td>True</td>\n",
       "    </tr>\n",
       "    <tr>\n",
       "      <th>0</th>\n",
       "      <td>demographic_acs_trauma_region</td>\n",
       "      <td>attitude</td>\n",
       "      <td>2.819837</td>\n",
       "      <td>0.003629</td>\n",
       "      <td>True</td>\n",
       "    </tr>\n",
       "    <tr>\n",
       "      <th>0</th>\n",
       "      <td>demographic_acs_trauma_region</td>\n",
       "      <td>education</td>\n",
       "      <td>2.065811</td>\n",
       "      <td>0.033354</td>\n",
       "      <td>True</td>\n",
       "    </tr>\n",
       "    <tr>\n",
       "      <th>0</th>\n",
       "      <td>demographic_years_in_practice_group</td>\n",
       "      <td>willingness</td>\n",
       "      <td>3.837754</td>\n",
       "      <td>0.004884</td>\n",
       "      <td>True</td>\n",
       "    </tr>\n",
       "    <tr>\n",
       "      <th>0</th>\n",
       "      <td>demographic_years_in_practice_group</td>\n",
       "      <td>cash_incentives</td>\n",
       "      <td>5.607081</td>\n",
       "      <td>0.000256</td>\n",
       "      <td>True</td>\n",
       "    </tr>\n",
       "    <tr>\n",
       "      <th>0</th>\n",
       "      <td>demographic_program_size</td>\n",
       "      <td>cash_incentives</td>\n",
       "      <td>4.058748</td>\n",
       "      <td>0.018450</td>\n",
       "      <td>True</td>\n",
       "    </tr>\n",
       "    <tr>\n",
       "      <th>0</th>\n",
       "      <td>demographic_leadership</td>\n",
       "      <td>education</td>\n",
       "      <td>5.234948</td>\n",
       "      <td>0.022990</td>\n",
       "      <td>True</td>\n",
       "    </tr>\n",
       "  </tbody>\n",
       "</table>\n",
       "</div>"
      ],
      "text/plain": [
       "                                   key           factor         F         p  \\\n",
       "0             demographic_distribution         attitude  2.819837  0.003629   \n",
       "0             demographic_distribution        education  2.065811  0.033354   \n",
       "0                demographic_us_region         attitude  5.546119  0.000275   \n",
       "0        demographic_acs_trauma_region         attitude  2.819837  0.003629   \n",
       "0        demographic_acs_trauma_region        education  2.065811  0.033354   \n",
       "0  demographic_years_in_practice_group      willingness  3.837754  0.004884   \n",
       "0  demographic_years_in_practice_group  cash_incentives  5.607081  0.000256   \n",
       "0             demographic_program_size  cash_incentives  4.058748  0.018450   \n",
       "0               demographic_leadership        education  5.234948  0.022990   \n",
       "\n",
       "  significant  \n",
       "0        True  \n",
       "0        True  \n",
       "0        True  \n",
       "0        True  \n",
       "0        True  \n",
       "0        True  \n",
       "0        True  \n",
       "0        True  \n",
       "0        True  "
      ]
     },
     "execution_count": 636,
     "metadata": {},
     "output_type": "execute_result"
    }
   ],
   "source": [
    "## Create a subset of df_anova_results that only includes significant values\n",
    "df_anova_results_sig = df_anova_results[df_anova_results['significant']]\n",
    "\n",
    "df_anova_results_sig.to_csv('significant_anovas.csv')\n",
    "\n",
    "## Using the key and the factor, do the following:\n",
    "## If there are only two groups, do a t-test\n",
    "## If there are more than two groups, do a Tukey HSD test\n",
    "\n",
    "df_anova_results_sig"
   ]
  },
  {
   "cell_type": "code",
   "execution_count": 639,
   "metadata": {},
   "outputs": [
    {
     "data": {
      "text/plain": [
       "Index(['survey_info_response_id', 'attitude', 'education', 'willingness',\n",
       "       'cash_incentives', 'non_cash_incentives', 'demographic_distribution',\n",
       "       'demographic_us_region', 'demographic_acs_trauma_region',\n",
       "       'demographic_years_in_practice_group', 'demographic_program_size',\n",
       "       'demographic_leadership'],\n",
       "      dtype='object')"
      ]
     },
     "execution_count": 639,
     "metadata": {},
     "output_type": "execute_result"
    }
   ],
   "source": [
    "df_factors_new.columns"
   ]
  },
  {
   "cell_type": "code",
   "execution_count": 671,
   "metadata": {},
   "outputs": [
    {
     "name": "stdout",
     "output_type": "stream",
     "text": [
      "demographic_distribution\n"
     ]
    },
    {
     "name": "stderr",
     "output_type": "stream",
     "text": [
      "/var/folders/tc/rrbf67xd4h98qrpph8v1h9c00000gn/T/ipykernel_53039/3972480698.py:41: FutureWarning:\n",
      "\n",
      "The behavior of DataFrame concatenation with empty or all-NA entries is deprecated. In a future version, this will no longer exclude empty or all-NA columns when determining the result dtypes. To retain the old behavior, exclude the relevant entries before the concat operation.\n",
      "\n"
     ]
    },
    {
     "name": "stdout",
     "output_type": "stream",
     "text": [
      "demographic_distribution\n",
      "demographic_us_region\n",
      "demographic_acs_trauma_region\n",
      "demographic_acs_trauma_region\n",
      "demographic_years_in_practice_group\n",
      "demographic_years_in_practice_group\n",
      "demographic_program_size\n",
      "demographic_leadership\n"
     ]
    },
    {
     "data": {
      "text/html": [
       "<div>\n",
       "<style scoped>\n",
       "    .dataframe tbody tr th:only-of-type {\n",
       "        vertical-align: middle;\n",
       "    }\n",
       "\n",
       "    .dataframe tbody tr th {\n",
       "        vertical-align: top;\n",
       "    }\n",
       "\n",
       "    .dataframe thead th {\n",
       "        text-align: right;\n",
       "    }\n",
       "</style>\n",
       "<table border=\"1\" class=\"dataframe\">\n",
       "  <thead>\n",
       "    <tr style=\"text-align: right;\">\n",
       "      <th></th>\n",
       "      <th>key</th>\n",
       "      <th>factor</th>\n",
       "      <th>group1</th>\n",
       "      <th>group2</th>\n",
       "      <th>meandiff</th>\n",
       "      <th>p-adj</th>\n",
       "      <th>reject</th>\n",
       "      <th>lower</th>\n",
       "      <th>upper</th>\n",
       "    </tr>\n",
       "  </thead>\n",
       "  <tbody>\n",
       "    <tr>\n",
       "      <th>38</th>\n",
       "      <td>demographic_distribution</td>\n",
       "      <td>attitude</td>\n",
       "      <td>ucsf</td>\n",
       "      <td>washu</td>\n",
       "      <td>-0.6944</td>\n",
       "      <td>0.0112</td>\n",
       "      <td>True</td>\n",
       "      <td>-1.2994</td>\n",
       "      <td>-0.0895</td>\n",
       "    </tr>\n",
       "    <tr>\n",
       "      <th>3</th>\n",
       "      <td>demographic_us_region</td>\n",
       "      <td>attitude</td>\n",
       "      <td>Midwest</td>\n",
       "      <td>West</td>\n",
       "      <td>0.7057</td>\n",
       "      <td>0.0002</td>\n",
       "      <td>True</td>\n",
       "      <td>0.2575</td>\n",
       "      <td>1.1538</td>\n",
       "    </tr>\n",
       "    <tr>\n",
       "      <th>6</th>\n",
       "      <td>demographic_us_region</td>\n",
       "      <td>attitude</td>\n",
       "      <td>Northeast</td>\n",
       "      <td>West</td>\n",
       "      <td>0.4863</td>\n",
       "      <td>0.0416</td>\n",
       "      <td>True</td>\n",
       "      <td>0.0118</td>\n",
       "      <td>0.9608</td>\n",
       "    </tr>\n",
       "    <tr>\n",
       "      <th>43</th>\n",
       "      <td>demographic_acs_trauma_region</td>\n",
       "      <td>attitude</td>\n",
       "      <td>7</td>\n",
       "      <td>9</td>\n",
       "      <td>0.6944</td>\n",
       "      <td>0.0112</td>\n",
       "      <td>True</td>\n",
       "      <td>0.0895</td>\n",
       "      <td>1.2994</td>\n",
       "    </tr>\n",
       "    <tr>\n",
       "      <th>0</th>\n",
       "      <td>demographic_years_in_practice_group</td>\n",
       "      <td>willingness</td>\n",
       "      <td>11-15 years</td>\n",
       "      <td>16-20 years</td>\n",
       "      <td>0.7394</td>\n",
       "      <td>0.0030</td>\n",
       "      <td>True</td>\n",
       "      <td>0.1819</td>\n",
       "      <td>1.2969</td>\n",
       "    </tr>\n",
       "    <tr>\n",
       "      <th>2</th>\n",
       "      <td>demographic_years_in_practice_group</td>\n",
       "      <td>willingness</td>\n",
       "      <td>11-15 years</td>\n",
       "      <td>Greater than 20 years</td>\n",
       "      <td>0.4947</td>\n",
       "      <td>0.0322</td>\n",
       "      <td>True</td>\n",
       "      <td>0.0272</td>\n",
       "      <td>0.9623</td>\n",
       "    </tr>\n",
       "    <tr>\n",
       "      <th>5</th>\n",
       "      <td>demographic_years_in_practice_group</td>\n",
       "      <td>cash_incentives</td>\n",
       "      <td>16-20 years</td>\n",
       "      <td>Greater than 20 years</td>\n",
       "      <td>-0.6574</td>\n",
       "      <td>0.0080</td>\n",
       "      <td>True</td>\n",
       "      <td>-1.1950</td>\n",
       "      <td>-0.1197</td>\n",
       "    </tr>\n",
       "    <tr>\n",
       "      <th>7</th>\n",
       "      <td>demographic_years_in_practice_group</td>\n",
       "      <td>cash_incentives</td>\n",
       "      <td>6-10 years</td>\n",
       "      <td>Greater than 20 years</td>\n",
       "      <td>-0.7632</td>\n",
       "      <td>0.0010</td>\n",
       "      <td>True</td>\n",
       "      <td>-1.2951</td>\n",
       "      <td>-0.2314</td>\n",
       "    </tr>\n",
       "    <tr>\n",
       "      <th>9</th>\n",
       "      <td>demographic_years_in_practice_group</td>\n",
       "      <td>cash_incentives</td>\n",
       "      <td>Greater than 20 years</td>\n",
       "      <td>Less than 5 years</td>\n",
       "      <td>0.5126</td>\n",
       "      <td>0.0180</td>\n",
       "      <td>True</td>\n",
       "      <td>0.0589</td>\n",
       "      <td>0.9663</td>\n",
       "    </tr>\n",
       "    <tr>\n",
       "      <th>0</th>\n",
       "      <td>demographic_program_size</td>\n",
       "      <td>cash_incentives</td>\n",
       "      <td>Large</td>\n",
       "      <td>Medium</td>\n",
       "      <td>0.3449</td>\n",
       "      <td>0.0464</td>\n",
       "      <td>True</td>\n",
       "      <td>0.0043</td>\n",
       "      <td>0.6855</td>\n",
       "    </tr>\n",
       "    <tr>\n",
       "      <th>0</th>\n",
       "      <td>demographic_leadership</td>\n",
       "      <td>education</td>\n",
       "      <td>False</td>\n",
       "      <td>True</td>\n",
       "      <td>-0.2844</td>\n",
       "      <td>0.0223</td>\n",
       "      <td>True</td>\n",
       "      <td>-0.5279</td>\n",
       "      <td>-0.0408</td>\n",
       "    </tr>\n",
       "  </tbody>\n",
       "</table>\n",
       "</div>"
      ],
      "text/plain": [
       "                                    key           factor  \\\n",
       "38             demographic_distribution         attitude   \n",
       "3                 demographic_us_region         attitude   \n",
       "6                 demographic_us_region         attitude   \n",
       "43        demographic_acs_trauma_region         attitude   \n",
       "0   demographic_years_in_practice_group      willingness   \n",
       "2   demographic_years_in_practice_group      willingness   \n",
       "5   demographic_years_in_practice_group  cash_incentives   \n",
       "7   demographic_years_in_practice_group  cash_incentives   \n",
       "9   demographic_years_in_practice_group  cash_incentives   \n",
       "0              demographic_program_size  cash_incentives   \n",
       "0                demographic_leadership        education   \n",
       "\n",
       "                   group1                 group2  meandiff   p-adj reject  \\\n",
       "38                   ucsf                  washu   -0.6944  0.0112   True   \n",
       "3                 Midwest                   West    0.7057  0.0002   True   \n",
       "6               Northeast                   West    0.4863  0.0416   True   \n",
       "43                      7                      9    0.6944  0.0112   True   \n",
       "0             11-15 years            16-20 years    0.7394  0.0030   True   \n",
       "2             11-15 years  Greater than 20 years    0.4947  0.0322   True   \n",
       "5             16-20 years  Greater than 20 years   -0.6574  0.0080   True   \n",
       "7              6-10 years  Greater than 20 years   -0.7632  0.0010   True   \n",
       "9   Greater than 20 years      Less than 5 years    0.5126  0.0180   True   \n",
       "0                   Large                 Medium    0.3449  0.0464   True   \n",
       "0                   False                   True   -0.2844  0.0223   True   \n",
       "\n",
       "     lower   upper  \n",
       "38 -1.2994 -0.0895  \n",
       "3   0.2575  1.1538  \n",
       "6   0.0118  0.9608  \n",
       "43  0.0895  1.2994  \n",
       "0   0.1819  1.2969  \n",
       "2   0.0272  0.9623  \n",
       "5  -1.1950 -0.1197  \n",
       "7  -1.2951 -0.2314  \n",
       "9   0.0589  0.9663  \n",
       "0   0.0043  0.6855  \n",
       "0  -0.5279 -0.0408  "
      ]
     },
     "execution_count": 671,
     "metadata": {},
     "output_type": "execute_result"
    }
   ],
   "source": [
    "from statsmodels.stats.multicomp import pairwise_tukeyhsd\n",
    "\n",
    "df_tukey = pd.DataFrame(columns=['key', 'factor', 'group1', 'group2', 'meandiff', 'p-adj', 'reject'])\n",
    "df_factors_tukey = df_factors_new.copy()\n",
    "\n",
    "for col in df_anova_results_sig['key']:\n",
    "\n",
    "    if col == 'survey_info_response_id' or col == 'demographic_sample_size':\n",
    "        continue\n",
    "\n",
    "    factors = df_anova_results_sig[(df_anova_results_sig['key'] == col) & (df_anova_results_sig['significant'] == True)]['factor'].to_list()\n",
    "\n",
    "    print(col)\n",
    "    for factor in factors:\n",
    "\n",
    "        if 'practice_list' in col:\n",
    "            df_temp = df_factors_tukey.explode(col)\n",
    "\n",
    "        else:\n",
    "            df_temp = df_factors_tukey.copy()\n",
    "\n",
    "        ## Drop any rows with null values\n",
    "        df_temp = df_temp.dropna()\n",
    "\n",
    "        groups = df_temp[col].unique()\n",
    "\n",
    "        tukey_results = pairwise_tukeyhsd(endog=df_temp[factor],\n",
    "                                    groups=df_temp[col],\n",
    "                                    alpha=0.05)\n",
    "\n",
    "        # ## Print only tukey results that are significant\n",
    "        # print(tukey_results._results_table)\n",
    "\n",
    "        ## Turn the results into a dataframe\n",
    "        tukey_results_df = pd.DataFrame(data=tukey_results._results_table.data[1:], columns=tukey_results._results_table.data[0])\n",
    "        tukey_results_df['key'] = col\n",
    "        tukey_results_df['factor'] = factor\n",
    "        tukey_results_df_sig = tukey_results_df[tukey_results_df['reject'] == True]\n",
    "\n",
    "        ## Append the results to df_tukey\n",
    "        df_tukey = pd.concat([df_tukey, tukey_results_df_sig])\n",
    "\n",
    "        # if len(groups) == 2:\n",
    "        #     print('t-test')\n",
    "\n",
    "        # else:\n",
    "            \n",
    "\n",
    "df_tukey\n",
    "\n",
    "## remove duplicates\n",
    "df_tukey.drop_duplicates(inplace=True)\n",
    "\n",
    "df_tukey"
   ]
  },
  {
   "cell_type": "code",
   "execution_count": 670,
   "metadata": {},
   "outputs": [
    {
     "name": "stderr",
     "output_type": "stream",
     "text": [
      "/var/folders/tc/rrbf67xd4h98qrpph8v1h9c00000gn/T/ipykernel_53039/59742401.py:13: FutureWarning:\n",
      "\n",
      "The default of observed=False is deprecated and will be changed to True in a future version of pandas. Pass observed=False to retain current behavior or observed=True to adopt the future default and silence this warning.\n",
      "\n",
      "/var/folders/tc/rrbf67xd4h98qrpph8v1h9c00000gn/T/ipykernel_53039/59742401.py:13: FutureWarning:\n",
      "\n",
      "The default of observed=False is deprecated and will be changed to True in a future version of pandas. Pass observed=False to retain current behavior or observed=True to adopt the future default and silence this warning.\n",
      "\n",
      "/var/folders/tc/rrbf67xd4h98qrpph8v1h9c00000gn/T/ipykernel_53039/59742401.py:13: FutureWarning:\n",
      "\n",
      "The default of observed=False is deprecated and will be changed to True in a future version of pandas. Pass observed=False to retain current behavior or observed=True to adopt the future default and silence this warning.\n",
      "\n",
      "/var/folders/tc/rrbf67xd4h98qrpph8v1h9c00000gn/T/ipykernel_53039/59742401.py:13: FutureWarning:\n",
      "\n",
      "The default of observed=False is deprecated and will be changed to True in a future version of pandas. Pass observed=False to retain current behavior or observed=True to adopt the future default and silence this warning.\n",
      "\n",
      "/var/folders/tc/rrbf67xd4h98qrpph8v1h9c00000gn/T/ipykernel_53039/59742401.py:13: FutureWarning:\n",
      "\n",
      "The default of observed=False is deprecated and will be changed to True in a future version of pandas. Pass observed=False to retain current behavior or observed=True to adopt the future default and silence this warning.\n",
      "\n",
      "/var/folders/tc/rrbf67xd4h98qrpph8v1h9c00000gn/T/ipykernel_53039/59742401.py:13: FutureWarning:\n",
      "\n",
      "The default of observed=False is deprecated and will be changed to True in a future version of pandas. Pass observed=False to retain current behavior or observed=True to adopt the future default and silence this warning.\n",
      "\n",
      "/var/folders/tc/rrbf67xd4h98qrpph8v1h9c00000gn/T/ipykernel_53039/59742401.py:13: FutureWarning:\n",
      "\n",
      "The default of observed=False is deprecated and will be changed to True in a future version of pandas. Pass observed=False to retain current behavior or observed=True to adopt the future default and silence this warning.\n",
      "\n",
      "/var/folders/tc/rrbf67xd4h98qrpph8v1h9c00000gn/T/ipykernel_53039/59742401.py:13: FutureWarning:\n",
      "\n",
      "The default of observed=False is deprecated and will be changed to True in a future version of pandas. Pass observed=False to retain current behavior or observed=True to adopt the future default and silence this warning.\n",
      "\n",
      "/var/folders/tc/rrbf67xd4h98qrpph8v1h9c00000gn/T/ipykernel_53039/59742401.py:13: FutureWarning:\n",
      "\n",
      "The default of observed=False is deprecated and will be changed to True in a future version of pandas. Pass observed=False to retain current behavior or observed=True to adopt the future default and silence this warning.\n",
      "\n",
      "/var/folders/tc/rrbf67xd4h98qrpph8v1h9c00000gn/T/ipykernel_53039/59742401.py:13: FutureWarning:\n",
      "\n",
      "The default of observed=False is deprecated and will be changed to True in a future version of pandas. Pass observed=False to retain current behavior or observed=True to adopt the future default and silence this warning.\n",
      "\n"
     ]
    }
   ],
   "source": [
    "## Take df_factor_new\n",
    "\n",
    "## For each demo_col, calculate the mean for each factor\n",
    "## Create a dataframe with the mean for each factor for each demo_col\n",
    "\n",
    "df_means = pd.DataFrame()\n",
    "\n",
    "for col in new_demo_cols:\n",
    "\n",
    "    df_means_temp = pd.DataFrame()\n",
    "\n",
    "    for factor in factor_cols:\n",
    "        df_temp = df_factors_new.groupby(col).agg(\n",
    "            mean = (factor, 'mean')\n",
    "        )\n",
    "        df_temp.reset_index(inplace=True)\n",
    "        df_temp['col'] = col\n",
    "        df_temp['factor'] = factor\n",
    "\n",
    "        ## Change the name of col to 'variable'\n",
    "        df_temp = df_temp.rename(columns={col: 'variable'})\n",
    "\n",
    "        df_means_temp = pd.concat([df_means_temp, df_temp])\n",
    "    \n",
    "    ## Vertically concatenate df_means_temp to df_means\n",
    "    df_means = pd.concat([df_means, df_means_temp])\n",
    "\n",
    "df_means\n",
    "\n",
    "## Reorder as 'factor', 'col', 'variable', 'mean'\n",
    "df_means = df_means[['factor', 'col', 'variable', 'mean']]\n",
    "\n",
    "df_means.to_csv('means.csv')"
   ]
  },
  {
   "cell_type": "code",
   "execution_count": 669,
   "metadata": {},
   "outputs": [
    {
     "data": {
      "text/html": [
       "<div>\n",
       "<style scoped>\n",
       "    .dataframe tbody tr th:only-of-type {\n",
       "        vertical-align: middle;\n",
       "    }\n",
       "\n",
       "    .dataframe tbody tr th {\n",
       "        vertical-align: top;\n",
       "    }\n",
       "\n",
       "    .dataframe thead tr th {\n",
       "        text-align: left;\n",
       "    }\n",
       "\n",
       "    .dataframe thead tr:last-of-type th {\n",
       "        text-align: right;\n",
       "    }\n",
       "</style>\n",
       "<table border=\"1\" class=\"dataframe\">\n",
       "  <thead>\n",
       "    <tr>\n",
       "      <th></th>\n",
       "      <th></th>\n",
       "      <th colspan=\"21\" halign=\"left\">mean</th>\n",
       "    </tr>\n",
       "    <tr>\n",
       "      <th></th>\n",
       "      <th>variable</th>\n",
       "      <th>False</th>\n",
       "      <th>True</th>\n",
       "      <th>1</th>\n",
       "      <th>10</th>\n",
       "      <th>11-15 years</th>\n",
       "      <th>16-20 years</th>\n",
       "      <th>2</th>\n",
       "      <th>3</th>\n",
       "      <th>4</th>\n",
       "      <th>5</th>\n",
       "      <th>...</th>\n",
       "      <th>cornell</th>\n",
       "      <th>lahey</th>\n",
       "      <th>lehigh</th>\n",
       "      <th>northwestern</th>\n",
       "      <th>texastech</th>\n",
       "      <th>ucsf</th>\n",
       "      <th>und</th>\n",
       "      <th>vanderbilt</th>\n",
       "      <th>virginiamason</th>\n",
       "      <th>washu</th>\n",
       "    </tr>\n",
       "    <tr>\n",
       "      <th>factor</th>\n",
       "      <th>col</th>\n",
       "      <th></th>\n",
       "      <th></th>\n",
       "      <th></th>\n",
       "      <th></th>\n",
       "      <th></th>\n",
       "      <th></th>\n",
       "      <th></th>\n",
       "      <th></th>\n",
       "      <th></th>\n",
       "      <th></th>\n",
       "      <th></th>\n",
       "      <th></th>\n",
       "      <th></th>\n",
       "      <th></th>\n",
       "      <th></th>\n",
       "      <th></th>\n",
       "      <th></th>\n",
       "      <th></th>\n",
       "      <th></th>\n",
       "      <th></th>\n",
       "      <th></th>\n",
       "    </tr>\n",
       "  </thead>\n",
       "  <tbody>\n",
       "    <tr>\n",
       "      <th rowspan=\"6\" valign=\"top\">attitude</th>\n",
       "      <th>demographic_acs_trauma_region</th>\n",
       "      <td>NaN</td>\n",
       "      <td>NaN</td>\n",
       "      <td>0.005762</td>\n",
       "      <td>0.402205</td>\n",
       "      <td>NaN</td>\n",
       "      <td>NaN</td>\n",
       "      <td>-0.251721</td>\n",
       "      <td>-0.022743</td>\n",
       "      <td>0.162685</td>\n",
       "      <td>-0.081303</td>\n",
       "      <td>...</td>\n",
       "      <td>NaN</td>\n",
       "      <td>NaN</td>\n",
       "      <td>NaN</td>\n",
       "      <td>NaN</td>\n",
       "      <td>NaN</td>\n",
       "      <td>NaN</td>\n",
       "      <td>NaN</td>\n",
       "      <td>NaN</td>\n",
       "      <td>NaN</td>\n",
       "      <td>NaN</td>\n",
       "    </tr>\n",
       "    <tr>\n",
       "      <th>demographic_distribution</th>\n",
       "      <td>NaN</td>\n",
       "      <td>NaN</td>\n",
       "      <td>NaN</td>\n",
       "      <td>NaN</td>\n",
       "      <td>NaN</td>\n",
       "      <td>NaN</td>\n",
       "      <td>NaN</td>\n",
       "      <td>NaN</td>\n",
       "      <td>NaN</td>\n",
       "      <td>NaN</td>\n",
       "      <td>...</td>\n",
       "      <td>-0.251721</td>\n",
       "      <td>0.005762</td>\n",
       "      <td>-0.022743</td>\n",
       "      <td>-0.081303</td>\n",
       "      <td>0.088970</td>\n",
       "      <td>0.451212</td>\n",
       "      <td>-0.706993</td>\n",
       "      <td>0.162685</td>\n",
       "      <td>0.402205</td>\n",
       "      <td>-0.293258</td>\n",
       "    </tr>\n",
       "    <tr>\n",
       "      <th>demographic_leadership</th>\n",
       "      <td>-0.014493</td>\n",
       "      <td>0.027133</td>\n",
       "      <td>NaN</td>\n",
       "      <td>NaN</td>\n",
       "      <td>NaN</td>\n",
       "      <td>NaN</td>\n",
       "      <td>NaN</td>\n",
       "      <td>NaN</td>\n",
       "      <td>NaN</td>\n",
       "      <td>NaN</td>\n",
       "      <td>...</td>\n",
       "      <td>NaN</td>\n",
       "      <td>NaN</td>\n",
       "      <td>NaN</td>\n",
       "      <td>NaN</td>\n",
       "      <td>NaN</td>\n",
       "      <td>NaN</td>\n",
       "      <td>NaN</td>\n",
       "      <td>NaN</td>\n",
       "      <td>NaN</td>\n",
       "      <td>NaN</td>\n",
       "    </tr>\n",
       "    <tr>\n",
       "      <th>demographic_program_size</th>\n",
       "      <td>NaN</td>\n",
       "      <td>NaN</td>\n",
       "      <td>NaN</td>\n",
       "      <td>NaN</td>\n",
       "      <td>NaN</td>\n",
       "      <td>NaN</td>\n",
       "      <td>NaN</td>\n",
       "      <td>NaN</td>\n",
       "      <td>NaN</td>\n",
       "      <td>NaN</td>\n",
       "      <td>...</td>\n",
       "      <td>NaN</td>\n",
       "      <td>NaN</td>\n",
       "      <td>NaN</td>\n",
       "      <td>NaN</td>\n",
       "      <td>NaN</td>\n",
       "      <td>NaN</td>\n",
       "      <td>NaN</td>\n",
       "      <td>NaN</td>\n",
       "      <td>NaN</td>\n",
       "      <td>NaN</td>\n",
       "    </tr>\n",
       "    <tr>\n",
       "      <th>demographic_us_region</th>\n",
       "      <td>NaN</td>\n",
       "      <td>NaN</td>\n",
       "      <td>NaN</td>\n",
       "      <td>NaN</td>\n",
       "      <td>NaN</td>\n",
       "      <td>NaN</td>\n",
       "      <td>NaN</td>\n",
       "      <td>NaN</td>\n",
       "      <td>NaN</td>\n",
       "      <td>NaN</td>\n",
       "      <td>...</td>\n",
       "      <td>NaN</td>\n",
       "      <td>NaN</td>\n",
       "      <td>NaN</td>\n",
       "      <td>NaN</td>\n",
       "      <td>NaN</td>\n",
       "      <td>NaN</td>\n",
       "      <td>NaN</td>\n",
       "      <td>NaN</td>\n",
       "      <td>NaN</td>\n",
       "      <td>NaN</td>\n",
       "    </tr>\n",
       "    <tr>\n",
       "      <th>demographic_years_in_practice_group</th>\n",
       "      <td>NaN</td>\n",
       "      <td>NaN</td>\n",
       "      <td>NaN</td>\n",
       "      <td>NaN</td>\n",
       "      <td>-0.009948</td>\n",
       "      <td>0.149404</td>\n",
       "      <td>NaN</td>\n",
       "      <td>NaN</td>\n",
       "      <td>NaN</td>\n",
       "      <td>NaN</td>\n",
       "      <td>...</td>\n",
       "      <td>NaN</td>\n",
       "      <td>NaN</td>\n",
       "      <td>NaN</td>\n",
       "      <td>NaN</td>\n",
       "      <td>NaN</td>\n",
       "      <td>NaN</td>\n",
       "      <td>NaN</td>\n",
       "      <td>NaN</td>\n",
       "      <td>NaN</td>\n",
       "      <td>NaN</td>\n",
       "    </tr>\n",
       "    <tr>\n",
       "      <th rowspan=\"6\" valign=\"top\">cash_incentives</th>\n",
       "      <th>demographic_acs_trauma_region</th>\n",
       "      <td>NaN</td>\n",
       "      <td>NaN</td>\n",
       "      <td>-0.198692</td>\n",
       "      <td>0.208301</td>\n",
       "      <td>NaN</td>\n",
       "      <td>NaN</td>\n",
       "      <td>0.416971</td>\n",
       "      <td>0.074991</td>\n",
       "      <td>0.258547</td>\n",
       "      <td>0.005484</td>\n",
       "      <td>...</td>\n",
       "      <td>NaN</td>\n",
       "      <td>NaN</td>\n",
       "      <td>NaN</td>\n",
       "      <td>NaN</td>\n",
       "      <td>NaN</td>\n",
       "      <td>NaN</td>\n",
       "      <td>NaN</td>\n",
       "      <td>NaN</td>\n",
       "      <td>NaN</td>\n",
       "      <td>NaN</td>\n",
       "    </tr>\n",
       "    <tr>\n",
       "      <th>demographic_distribution</th>\n",
       "      <td>NaN</td>\n",
       "      <td>NaN</td>\n",
       "      <td>NaN</td>\n",
       "      <td>NaN</td>\n",
       "      <td>NaN</td>\n",
       "      <td>NaN</td>\n",
       "      <td>NaN</td>\n",
       "      <td>NaN</td>\n",
       "      <td>NaN</td>\n",
       "      <td>NaN</td>\n",
       "      <td>...</td>\n",
       "      <td>0.416971</td>\n",
       "      <td>-0.198692</td>\n",
       "      <td>0.074991</td>\n",
       "      <td>0.005484</td>\n",
       "      <td>0.371280</td>\n",
       "      <td>-0.080688</td>\n",
       "      <td>-0.213292</td>\n",
       "      <td>0.258547</td>\n",
       "      <td>0.208301</td>\n",
       "      <td>-0.263015</td>\n",
       "    </tr>\n",
       "    <tr>\n",
       "      <th>demographic_leadership</th>\n",
       "      <td>0.039721</td>\n",
       "      <td>-0.074362</td>\n",
       "      <td>NaN</td>\n",
       "      <td>NaN</td>\n",
       "      <td>NaN</td>\n",
       "      <td>NaN</td>\n",
       "      <td>NaN</td>\n",
       "      <td>NaN</td>\n",
       "      <td>NaN</td>\n",
       "      <td>NaN</td>\n",
       "      <td>...</td>\n",
       "      <td>NaN</td>\n",
       "      <td>NaN</td>\n",
       "      <td>NaN</td>\n",
       "      <td>NaN</td>\n",
       "      <td>NaN</td>\n",
       "      <td>NaN</td>\n",
       "      <td>NaN</td>\n",
       "      <td>NaN</td>\n",
       "      <td>NaN</td>\n",
       "      <td>NaN</td>\n",
       "    </tr>\n",
       "    <tr>\n",
       "      <th>demographic_program_size</th>\n",
       "      <td>NaN</td>\n",
       "      <td>NaN</td>\n",
       "      <td>NaN</td>\n",
       "      <td>NaN</td>\n",
       "      <td>NaN</td>\n",
       "      <td>NaN</td>\n",
       "      <td>NaN</td>\n",
       "      <td>NaN</td>\n",
       "      <td>NaN</td>\n",
       "      <td>NaN</td>\n",
       "      <td>...</td>\n",
       "      <td>NaN</td>\n",
       "      <td>NaN</td>\n",
       "      <td>NaN</td>\n",
       "      <td>NaN</td>\n",
       "      <td>NaN</td>\n",
       "      <td>NaN</td>\n",
       "      <td>NaN</td>\n",
       "      <td>NaN</td>\n",
       "      <td>NaN</td>\n",
       "      <td>NaN</td>\n",
       "    </tr>\n",
       "    <tr>\n",
       "      <th>demographic_us_region</th>\n",
       "      <td>NaN</td>\n",
       "      <td>NaN</td>\n",
       "      <td>NaN</td>\n",
       "      <td>NaN</td>\n",
       "      <td>NaN</td>\n",
       "      <td>NaN</td>\n",
       "      <td>NaN</td>\n",
       "      <td>NaN</td>\n",
       "      <td>NaN</td>\n",
       "      <td>NaN</td>\n",
       "      <td>...</td>\n",
       "      <td>NaN</td>\n",
       "      <td>NaN</td>\n",
       "      <td>NaN</td>\n",
       "      <td>NaN</td>\n",
       "      <td>NaN</td>\n",
       "      <td>NaN</td>\n",
       "      <td>NaN</td>\n",
       "      <td>NaN</td>\n",
       "      <td>NaN</td>\n",
       "      <td>NaN</td>\n",
       "    </tr>\n",
       "    <tr>\n",
       "      <th>demographic_years_in_practice_group</th>\n",
       "      <td>NaN</td>\n",
       "      <td>NaN</td>\n",
       "      <td>NaN</td>\n",
       "      <td>NaN</td>\n",
       "      <td>0.018034</td>\n",
       "      <td>0.290469</td>\n",
       "      <td>NaN</td>\n",
       "      <td>NaN</td>\n",
       "      <td>NaN</td>\n",
       "      <td>NaN</td>\n",
       "      <td>...</td>\n",
       "      <td>NaN</td>\n",
       "      <td>NaN</td>\n",
       "      <td>NaN</td>\n",
       "      <td>NaN</td>\n",
       "      <td>NaN</td>\n",
       "      <td>NaN</td>\n",
       "      <td>NaN</td>\n",
       "      <td>NaN</td>\n",
       "      <td>NaN</td>\n",
       "      <td>NaN</td>\n",
       "    </tr>\n",
       "    <tr>\n",
       "      <th rowspan=\"6\" valign=\"top\">education</th>\n",
       "      <th>demographic_acs_trauma_region</th>\n",
       "      <td>NaN</td>\n",
       "      <td>NaN</td>\n",
       "      <td>-0.141629</td>\n",
       "      <td>0.274982</td>\n",
       "      <td>NaN</td>\n",
       "      <td>NaN</td>\n",
       "      <td>0.219151</td>\n",
       "      <td>0.416185</td>\n",
       "      <td>-0.342661</td>\n",
       "      <td>-0.450672</td>\n",
       "      <td>...</td>\n",
       "      <td>NaN</td>\n",
       "      <td>NaN</td>\n",
       "      <td>NaN</td>\n",
       "      <td>NaN</td>\n",
       "      <td>NaN</td>\n",
       "      <td>NaN</td>\n",
       "      <td>NaN</td>\n",
       "      <td>NaN</td>\n",
       "      <td>NaN</td>\n",
       "      <td>NaN</td>\n",
       "    </tr>\n",
       "    <tr>\n",
       "      <th>demographic_distribution</th>\n",
       "      <td>NaN</td>\n",
       "      <td>NaN</td>\n",
       "      <td>NaN</td>\n",
       "      <td>NaN</td>\n",
       "      <td>NaN</td>\n",
       "      <td>NaN</td>\n",
       "      <td>NaN</td>\n",
       "      <td>NaN</td>\n",
       "      <td>NaN</td>\n",
       "      <td>NaN</td>\n",
       "      <td>...</td>\n",
       "      <td>0.219151</td>\n",
       "      <td>-0.141629</td>\n",
       "      <td>0.416185</td>\n",
       "      <td>-0.450672</td>\n",
       "      <td>0.144299</td>\n",
       "      <td>0.024006</td>\n",
       "      <td>0.080980</td>\n",
       "      <td>-0.342661</td>\n",
       "      <td>0.274982</td>\n",
       "      <td>0.078262</td>\n",
       "    </tr>\n",
       "    <tr>\n",
       "      <th>demographic_leadership</th>\n",
       "      <td>0.093397</td>\n",
       "      <td>-0.174848</td>\n",
       "      <td>NaN</td>\n",
       "      <td>NaN</td>\n",
       "      <td>NaN</td>\n",
       "      <td>NaN</td>\n",
       "      <td>NaN</td>\n",
       "      <td>NaN</td>\n",
       "      <td>NaN</td>\n",
       "      <td>NaN</td>\n",
       "      <td>...</td>\n",
       "      <td>NaN</td>\n",
       "      <td>NaN</td>\n",
       "      <td>NaN</td>\n",
       "      <td>NaN</td>\n",
       "      <td>NaN</td>\n",
       "      <td>NaN</td>\n",
       "      <td>NaN</td>\n",
       "      <td>NaN</td>\n",
       "      <td>NaN</td>\n",
       "      <td>NaN</td>\n",
       "    </tr>\n",
       "    <tr>\n",
       "      <th>demographic_program_size</th>\n",
       "      <td>NaN</td>\n",
       "      <td>NaN</td>\n",
       "      <td>NaN</td>\n",
       "      <td>NaN</td>\n",
       "      <td>NaN</td>\n",
       "      <td>NaN</td>\n",
       "      <td>NaN</td>\n",
       "      <td>NaN</td>\n",
       "      <td>NaN</td>\n",
       "      <td>NaN</td>\n",
       "      <td>...</td>\n",
       "      <td>NaN</td>\n",
       "      <td>NaN</td>\n",
       "      <td>NaN</td>\n",
       "      <td>NaN</td>\n",
       "      <td>NaN</td>\n",
       "      <td>NaN</td>\n",
       "      <td>NaN</td>\n",
       "      <td>NaN</td>\n",
       "      <td>NaN</td>\n",
       "      <td>NaN</td>\n",
       "    </tr>\n",
       "    <tr>\n",
       "      <th>demographic_us_region</th>\n",
       "      <td>NaN</td>\n",
       "      <td>NaN</td>\n",
       "      <td>NaN</td>\n",
       "      <td>NaN</td>\n",
       "      <td>NaN</td>\n",
       "      <td>NaN</td>\n",
       "      <td>NaN</td>\n",
       "      <td>NaN</td>\n",
       "      <td>NaN</td>\n",
       "      <td>NaN</td>\n",
       "      <td>...</td>\n",
       "      <td>NaN</td>\n",
       "      <td>NaN</td>\n",
       "      <td>NaN</td>\n",
       "      <td>NaN</td>\n",
       "      <td>NaN</td>\n",
       "      <td>NaN</td>\n",
       "      <td>NaN</td>\n",
       "      <td>NaN</td>\n",
       "      <td>NaN</td>\n",
       "      <td>NaN</td>\n",
       "    </tr>\n",
       "    <tr>\n",
       "      <th>demographic_years_in_practice_group</th>\n",
       "      <td>NaN</td>\n",
       "      <td>NaN</td>\n",
       "      <td>NaN</td>\n",
       "      <td>NaN</td>\n",
       "      <td>0.030525</td>\n",
       "      <td>0.088241</td>\n",
       "      <td>NaN</td>\n",
       "      <td>NaN</td>\n",
       "      <td>NaN</td>\n",
       "      <td>NaN</td>\n",
       "      <td>...</td>\n",
       "      <td>NaN</td>\n",
       "      <td>NaN</td>\n",
       "      <td>NaN</td>\n",
       "      <td>NaN</td>\n",
       "      <td>NaN</td>\n",
       "      <td>NaN</td>\n",
       "      <td>NaN</td>\n",
       "      <td>NaN</td>\n",
       "      <td>NaN</td>\n",
       "      <td>NaN</td>\n",
       "    </tr>\n",
       "    <tr>\n",
       "      <th rowspan=\"6\" valign=\"top\">non_cash_incentives</th>\n",
       "      <th>demographic_acs_trauma_region</th>\n",
       "      <td>NaN</td>\n",
       "      <td>NaN</td>\n",
       "      <td>0.155072</td>\n",
       "      <td>0.099105</td>\n",
       "      <td>NaN</td>\n",
       "      <td>NaN</td>\n",
       "      <td>0.055400</td>\n",
       "      <td>-0.446919</td>\n",
       "      <td>0.205357</td>\n",
       "      <td>0.129263</td>\n",
       "      <td>...</td>\n",
       "      <td>NaN</td>\n",
       "      <td>NaN</td>\n",
       "      <td>NaN</td>\n",
       "      <td>NaN</td>\n",
       "      <td>NaN</td>\n",
       "      <td>NaN</td>\n",
       "      <td>NaN</td>\n",
       "      <td>NaN</td>\n",
       "      <td>NaN</td>\n",
       "      <td>NaN</td>\n",
       "    </tr>\n",
       "    <tr>\n",
       "      <th>demographic_distribution</th>\n",
       "      <td>NaN</td>\n",
       "      <td>NaN</td>\n",
       "      <td>NaN</td>\n",
       "      <td>NaN</td>\n",
       "      <td>NaN</td>\n",
       "      <td>NaN</td>\n",
       "      <td>NaN</td>\n",
       "      <td>NaN</td>\n",
       "      <td>NaN</td>\n",
       "      <td>NaN</td>\n",
       "      <td>...</td>\n",
       "      <td>0.055400</td>\n",
       "      <td>0.155072</td>\n",
       "      <td>-0.446919</td>\n",
       "      <td>0.129263</td>\n",
       "      <td>-0.008981</td>\n",
       "      <td>-0.203509</td>\n",
       "      <td>0.241609</td>\n",
       "      <td>0.205357</td>\n",
       "      <td>0.099105</td>\n",
       "      <td>-0.000145</td>\n",
       "    </tr>\n",
       "    <tr>\n",
       "      <th>demographic_leadership</th>\n",
       "      <td>0.016666</td>\n",
       "      <td>-0.031200</td>\n",
       "      <td>NaN</td>\n",
       "      <td>NaN</td>\n",
       "      <td>NaN</td>\n",
       "      <td>NaN</td>\n",
       "      <td>NaN</td>\n",
       "      <td>NaN</td>\n",
       "      <td>NaN</td>\n",
       "      <td>NaN</td>\n",
       "      <td>...</td>\n",
       "      <td>NaN</td>\n",
       "      <td>NaN</td>\n",
       "      <td>NaN</td>\n",
       "      <td>NaN</td>\n",
       "      <td>NaN</td>\n",
       "      <td>NaN</td>\n",
       "      <td>NaN</td>\n",
       "      <td>NaN</td>\n",
       "      <td>NaN</td>\n",
       "      <td>NaN</td>\n",
       "    </tr>\n",
       "    <tr>\n",
       "      <th>demographic_program_size</th>\n",
       "      <td>NaN</td>\n",
       "      <td>NaN</td>\n",
       "      <td>NaN</td>\n",
       "      <td>NaN</td>\n",
       "      <td>NaN</td>\n",
       "      <td>NaN</td>\n",
       "      <td>NaN</td>\n",
       "      <td>NaN</td>\n",
       "      <td>NaN</td>\n",
       "      <td>NaN</td>\n",
       "      <td>...</td>\n",
       "      <td>NaN</td>\n",
       "      <td>NaN</td>\n",
       "      <td>NaN</td>\n",
       "      <td>NaN</td>\n",
       "      <td>NaN</td>\n",
       "      <td>NaN</td>\n",
       "      <td>NaN</td>\n",
       "      <td>NaN</td>\n",
       "      <td>NaN</td>\n",
       "      <td>NaN</td>\n",
       "    </tr>\n",
       "    <tr>\n",
       "      <th>demographic_us_region</th>\n",
       "      <td>NaN</td>\n",
       "      <td>NaN</td>\n",
       "      <td>NaN</td>\n",
       "      <td>NaN</td>\n",
       "      <td>NaN</td>\n",
       "      <td>NaN</td>\n",
       "      <td>NaN</td>\n",
       "      <td>NaN</td>\n",
       "      <td>NaN</td>\n",
       "      <td>NaN</td>\n",
       "      <td>...</td>\n",
       "      <td>NaN</td>\n",
       "      <td>NaN</td>\n",
       "      <td>NaN</td>\n",
       "      <td>NaN</td>\n",
       "      <td>NaN</td>\n",
       "      <td>NaN</td>\n",
       "      <td>NaN</td>\n",
       "      <td>NaN</td>\n",
       "      <td>NaN</td>\n",
       "      <td>NaN</td>\n",
       "    </tr>\n",
       "    <tr>\n",
       "      <th>demographic_years_in_practice_group</th>\n",
       "      <td>NaN</td>\n",
       "      <td>NaN</td>\n",
       "      <td>NaN</td>\n",
       "      <td>NaN</td>\n",
       "      <td>-0.268674</td>\n",
       "      <td>0.140680</td>\n",
       "      <td>NaN</td>\n",
       "      <td>NaN</td>\n",
       "      <td>NaN</td>\n",
       "      <td>NaN</td>\n",
       "      <td>...</td>\n",
       "      <td>NaN</td>\n",
       "      <td>NaN</td>\n",
       "      <td>NaN</td>\n",
       "      <td>NaN</td>\n",
       "      <td>NaN</td>\n",
       "      <td>NaN</td>\n",
       "      <td>NaN</td>\n",
       "      <td>NaN</td>\n",
       "      <td>NaN</td>\n",
       "      <td>NaN</td>\n",
       "    </tr>\n",
       "    <tr>\n",
       "      <th rowspan=\"6\" valign=\"top\">willingness</th>\n",
       "      <th>demographic_acs_trauma_region</th>\n",
       "      <td>NaN</td>\n",
       "      <td>NaN</td>\n",
       "      <td>-0.189867</td>\n",
       "      <td>0.436857</td>\n",
       "      <td>NaN</td>\n",
       "      <td>NaN</td>\n",
       "      <td>-0.058628</td>\n",
       "      <td>-0.259279</td>\n",
       "      <td>0.139678</td>\n",
       "      <td>0.331084</td>\n",
       "      <td>...</td>\n",
       "      <td>NaN</td>\n",
       "      <td>NaN</td>\n",
       "      <td>NaN</td>\n",
       "      <td>NaN</td>\n",
       "      <td>NaN</td>\n",
       "      <td>NaN</td>\n",
       "      <td>NaN</td>\n",
       "      <td>NaN</td>\n",
       "      <td>NaN</td>\n",
       "      <td>NaN</td>\n",
       "    </tr>\n",
       "    <tr>\n",
       "      <th>demographic_distribution</th>\n",
       "      <td>NaN</td>\n",
       "      <td>NaN</td>\n",
       "      <td>NaN</td>\n",
       "      <td>NaN</td>\n",
       "      <td>NaN</td>\n",
       "      <td>NaN</td>\n",
       "      <td>NaN</td>\n",
       "      <td>NaN</td>\n",
       "      <td>NaN</td>\n",
       "      <td>NaN</td>\n",
       "      <td>...</td>\n",
       "      <td>-0.058628</td>\n",
       "      <td>-0.189867</td>\n",
       "      <td>-0.259279</td>\n",
       "      <td>0.331084</td>\n",
       "      <td>-0.017947</td>\n",
       "      <td>-0.053943</td>\n",
       "      <td>-0.548063</td>\n",
       "      <td>0.139678</td>\n",
       "      <td>0.436857</td>\n",
       "      <td>0.013436</td>\n",
       "    </tr>\n",
       "    <tr>\n",
       "      <th>demographic_leadership</th>\n",
       "      <td>-0.012684</td>\n",
       "      <td>0.023745</td>\n",
       "      <td>NaN</td>\n",
       "      <td>NaN</td>\n",
       "      <td>NaN</td>\n",
       "      <td>NaN</td>\n",
       "      <td>NaN</td>\n",
       "      <td>NaN</td>\n",
       "      <td>NaN</td>\n",
       "      <td>NaN</td>\n",
       "      <td>...</td>\n",
       "      <td>NaN</td>\n",
       "      <td>NaN</td>\n",
       "      <td>NaN</td>\n",
       "      <td>NaN</td>\n",
       "      <td>NaN</td>\n",
       "      <td>NaN</td>\n",
       "      <td>NaN</td>\n",
       "      <td>NaN</td>\n",
       "      <td>NaN</td>\n",
       "      <td>NaN</td>\n",
       "    </tr>\n",
       "    <tr>\n",
       "      <th>demographic_program_size</th>\n",
       "      <td>NaN</td>\n",
       "      <td>NaN</td>\n",
       "      <td>NaN</td>\n",
       "      <td>NaN</td>\n",
       "      <td>NaN</td>\n",
       "      <td>NaN</td>\n",
       "      <td>NaN</td>\n",
       "      <td>NaN</td>\n",
       "      <td>NaN</td>\n",
       "      <td>NaN</td>\n",
       "      <td>...</td>\n",
       "      <td>NaN</td>\n",
       "      <td>NaN</td>\n",
       "      <td>NaN</td>\n",
       "      <td>NaN</td>\n",
       "      <td>NaN</td>\n",
       "      <td>NaN</td>\n",
       "      <td>NaN</td>\n",
       "      <td>NaN</td>\n",
       "      <td>NaN</td>\n",
       "      <td>NaN</td>\n",
       "    </tr>\n",
       "    <tr>\n",
       "      <th>demographic_us_region</th>\n",
       "      <td>NaN</td>\n",
       "      <td>NaN</td>\n",
       "      <td>NaN</td>\n",
       "      <td>NaN</td>\n",
       "      <td>NaN</td>\n",
       "      <td>NaN</td>\n",
       "      <td>NaN</td>\n",
       "      <td>NaN</td>\n",
       "      <td>NaN</td>\n",
       "      <td>NaN</td>\n",
       "      <td>...</td>\n",
       "      <td>NaN</td>\n",
       "      <td>NaN</td>\n",
       "      <td>NaN</td>\n",
       "      <td>NaN</td>\n",
       "      <td>NaN</td>\n",
       "      <td>NaN</td>\n",
       "      <td>NaN</td>\n",
       "      <td>NaN</td>\n",
       "      <td>NaN</td>\n",
       "      <td>NaN</td>\n",
       "    </tr>\n",
       "    <tr>\n",
       "      <th>demographic_years_in_practice_group</th>\n",
       "      <td>NaN</td>\n",
       "      <td>NaN</td>\n",
       "      <td>NaN</td>\n",
       "      <td>NaN</td>\n",
       "      <td>-0.357639</td>\n",
       "      <td>0.381727</td>\n",
       "      <td>NaN</td>\n",
       "      <td>NaN</td>\n",
       "      <td>NaN</td>\n",
       "      <td>NaN</td>\n",
       "      <td>...</td>\n",
       "      <td>NaN</td>\n",
       "      <td>NaN</td>\n",
       "      <td>NaN</td>\n",
       "      <td>NaN</td>\n",
       "      <td>NaN</td>\n",
       "      <td>NaN</td>\n",
       "      <td>NaN</td>\n",
       "      <td>NaN</td>\n",
       "      <td>NaN</td>\n",
       "      <td>NaN</td>\n",
       "    </tr>\n",
       "  </tbody>\n",
       "</table>\n",
       "<p>30 rows × 35 columns</p>\n",
       "</div>"
      ],
      "text/plain": [
       "                                                             mean            \\\n",
       "variable                                                    False      True   \n",
       "factor              col                                                       \n",
       "attitude            demographic_acs_trauma_region             NaN       NaN   \n",
       "                    demographic_distribution                  NaN       NaN   \n",
       "                    demographic_leadership              -0.014493  0.027133   \n",
       "                    demographic_program_size                  NaN       NaN   \n",
       "                    demographic_us_region                     NaN       NaN   \n",
       "                    demographic_years_in_practice_group       NaN       NaN   \n",
       "cash_incentives     demographic_acs_trauma_region             NaN       NaN   \n",
       "                    demographic_distribution                  NaN       NaN   \n",
       "                    demographic_leadership               0.039721 -0.074362   \n",
       "                    demographic_program_size                  NaN       NaN   \n",
       "                    demographic_us_region                     NaN       NaN   \n",
       "                    demographic_years_in_practice_group       NaN       NaN   \n",
       "education           demographic_acs_trauma_region             NaN       NaN   \n",
       "                    demographic_distribution                  NaN       NaN   \n",
       "                    demographic_leadership               0.093397 -0.174848   \n",
       "                    demographic_program_size                  NaN       NaN   \n",
       "                    demographic_us_region                     NaN       NaN   \n",
       "                    demographic_years_in_practice_group       NaN       NaN   \n",
       "non_cash_incentives demographic_acs_trauma_region             NaN       NaN   \n",
       "                    demographic_distribution                  NaN       NaN   \n",
       "                    demographic_leadership               0.016666 -0.031200   \n",
       "                    demographic_program_size                  NaN       NaN   \n",
       "                    demographic_us_region                     NaN       NaN   \n",
       "                    demographic_years_in_practice_group       NaN       NaN   \n",
       "willingness         demographic_acs_trauma_region             NaN       NaN   \n",
       "                    demographic_distribution                  NaN       NaN   \n",
       "                    demographic_leadership              -0.012684  0.023745   \n",
       "                    demographic_program_size                  NaN       NaN   \n",
       "                    demographic_us_region                     NaN       NaN   \n",
       "                    demographic_years_in_practice_group       NaN       NaN   \n",
       "\n",
       "                                                                             \\\n",
       "variable                                                        1        10   \n",
       "factor              col                                                       \n",
       "attitude            demographic_acs_trauma_region        0.005762  0.402205   \n",
       "                    demographic_distribution                  NaN       NaN   \n",
       "                    demographic_leadership                    NaN       NaN   \n",
       "                    demographic_program_size                  NaN       NaN   \n",
       "                    demographic_us_region                     NaN       NaN   \n",
       "                    demographic_years_in_practice_group       NaN       NaN   \n",
       "cash_incentives     demographic_acs_trauma_region       -0.198692  0.208301   \n",
       "                    demographic_distribution                  NaN       NaN   \n",
       "                    demographic_leadership                    NaN       NaN   \n",
       "                    demographic_program_size                  NaN       NaN   \n",
       "                    demographic_us_region                     NaN       NaN   \n",
       "                    demographic_years_in_practice_group       NaN       NaN   \n",
       "education           demographic_acs_trauma_region       -0.141629  0.274982   \n",
       "                    demographic_distribution                  NaN       NaN   \n",
       "                    demographic_leadership                    NaN       NaN   \n",
       "                    demographic_program_size                  NaN       NaN   \n",
       "                    demographic_us_region                     NaN       NaN   \n",
       "                    demographic_years_in_practice_group       NaN       NaN   \n",
       "non_cash_incentives demographic_acs_trauma_region        0.155072  0.099105   \n",
       "                    demographic_distribution                  NaN       NaN   \n",
       "                    demographic_leadership                    NaN       NaN   \n",
       "                    demographic_program_size                  NaN       NaN   \n",
       "                    demographic_us_region                     NaN       NaN   \n",
       "                    demographic_years_in_practice_group       NaN       NaN   \n",
       "willingness         demographic_acs_trauma_region       -0.189867  0.436857   \n",
       "                    demographic_distribution                  NaN       NaN   \n",
       "                    demographic_leadership                    NaN       NaN   \n",
       "                    demographic_program_size                  NaN       NaN   \n",
       "                    demographic_us_region                     NaN       NaN   \n",
       "                    demographic_years_in_practice_group       NaN       NaN   \n",
       "\n",
       "                                                                     \\\n",
       "variable                                                11-15 years   \n",
       "factor              col                                               \n",
       "attitude            demographic_acs_trauma_region               NaN   \n",
       "                    demographic_distribution                    NaN   \n",
       "                    demographic_leadership                      NaN   \n",
       "                    demographic_program_size                    NaN   \n",
       "                    demographic_us_region                       NaN   \n",
       "                    demographic_years_in_practice_group   -0.009948   \n",
       "cash_incentives     demographic_acs_trauma_region               NaN   \n",
       "                    demographic_distribution                    NaN   \n",
       "                    demographic_leadership                      NaN   \n",
       "                    demographic_program_size                    NaN   \n",
       "                    demographic_us_region                       NaN   \n",
       "                    demographic_years_in_practice_group    0.018034   \n",
       "education           demographic_acs_trauma_region               NaN   \n",
       "                    demographic_distribution                    NaN   \n",
       "                    demographic_leadership                      NaN   \n",
       "                    demographic_program_size                    NaN   \n",
       "                    demographic_us_region                       NaN   \n",
       "                    demographic_years_in_practice_group    0.030525   \n",
       "non_cash_incentives demographic_acs_trauma_region               NaN   \n",
       "                    demographic_distribution                    NaN   \n",
       "                    demographic_leadership                      NaN   \n",
       "                    demographic_program_size                    NaN   \n",
       "                    demographic_us_region                       NaN   \n",
       "                    demographic_years_in_practice_group   -0.268674   \n",
       "willingness         demographic_acs_trauma_region               NaN   \n",
       "                    demographic_distribution                    NaN   \n",
       "                    demographic_leadership                      NaN   \n",
       "                    demographic_program_size                    NaN   \n",
       "                    demographic_us_region                       NaN   \n",
       "                    demographic_years_in_practice_group   -0.357639   \n",
       "\n",
       "                                                                               \\\n",
       "variable                                                16-20 years         2   \n",
       "factor              col                                                         \n",
       "attitude            demographic_acs_trauma_region               NaN -0.251721   \n",
       "                    demographic_distribution                    NaN       NaN   \n",
       "                    demographic_leadership                      NaN       NaN   \n",
       "                    demographic_program_size                    NaN       NaN   \n",
       "                    demographic_us_region                       NaN       NaN   \n",
       "                    demographic_years_in_practice_group    0.149404       NaN   \n",
       "cash_incentives     demographic_acs_trauma_region               NaN  0.416971   \n",
       "                    demographic_distribution                    NaN       NaN   \n",
       "                    demographic_leadership                      NaN       NaN   \n",
       "                    demographic_program_size                    NaN       NaN   \n",
       "                    demographic_us_region                       NaN       NaN   \n",
       "                    demographic_years_in_practice_group    0.290469       NaN   \n",
       "education           demographic_acs_trauma_region               NaN  0.219151   \n",
       "                    demographic_distribution                    NaN       NaN   \n",
       "                    demographic_leadership                      NaN       NaN   \n",
       "                    demographic_program_size                    NaN       NaN   \n",
       "                    demographic_us_region                       NaN       NaN   \n",
       "                    demographic_years_in_practice_group    0.088241       NaN   \n",
       "non_cash_incentives demographic_acs_trauma_region               NaN  0.055400   \n",
       "                    demographic_distribution                    NaN       NaN   \n",
       "                    demographic_leadership                      NaN       NaN   \n",
       "                    demographic_program_size                    NaN       NaN   \n",
       "                    demographic_us_region                       NaN       NaN   \n",
       "                    demographic_years_in_practice_group    0.140680       NaN   \n",
       "willingness         demographic_acs_trauma_region               NaN -0.058628   \n",
       "                    demographic_distribution                    NaN       NaN   \n",
       "                    demographic_leadership                      NaN       NaN   \n",
       "                    demographic_program_size                    NaN       NaN   \n",
       "                    demographic_us_region                       NaN       NaN   \n",
       "                    demographic_years_in_practice_group    0.381727       NaN   \n",
       "\n",
       "                                                                             \\\n",
       "variable                                                        3         4   \n",
       "factor              col                                                       \n",
       "attitude            demographic_acs_trauma_region       -0.022743  0.162685   \n",
       "                    demographic_distribution                  NaN       NaN   \n",
       "                    demographic_leadership                    NaN       NaN   \n",
       "                    demographic_program_size                  NaN       NaN   \n",
       "                    demographic_us_region                     NaN       NaN   \n",
       "                    demographic_years_in_practice_group       NaN       NaN   \n",
       "cash_incentives     demographic_acs_trauma_region        0.074991  0.258547   \n",
       "                    demographic_distribution                  NaN       NaN   \n",
       "                    demographic_leadership                    NaN       NaN   \n",
       "                    demographic_program_size                  NaN       NaN   \n",
       "                    demographic_us_region                     NaN       NaN   \n",
       "                    demographic_years_in_practice_group       NaN       NaN   \n",
       "education           demographic_acs_trauma_region        0.416185 -0.342661   \n",
       "                    demographic_distribution                  NaN       NaN   \n",
       "                    demographic_leadership                    NaN       NaN   \n",
       "                    demographic_program_size                  NaN       NaN   \n",
       "                    demographic_us_region                     NaN       NaN   \n",
       "                    demographic_years_in_practice_group       NaN       NaN   \n",
       "non_cash_incentives demographic_acs_trauma_region       -0.446919  0.205357   \n",
       "                    demographic_distribution                  NaN       NaN   \n",
       "                    demographic_leadership                    NaN       NaN   \n",
       "                    demographic_program_size                  NaN       NaN   \n",
       "                    demographic_us_region                     NaN       NaN   \n",
       "                    demographic_years_in_practice_group       NaN       NaN   \n",
       "willingness         demographic_acs_trauma_region       -0.259279  0.139678   \n",
       "                    demographic_distribution                  NaN       NaN   \n",
       "                    demographic_leadership                    NaN       NaN   \n",
       "                    demographic_program_size                  NaN       NaN   \n",
       "                    demographic_us_region                     NaN       NaN   \n",
       "                    demographic_years_in_practice_group       NaN       NaN   \n",
       "\n",
       "                                                                   ...  \\\n",
       "variable                                                        5  ...   \n",
       "factor              col                                            ...   \n",
       "attitude            demographic_acs_trauma_region       -0.081303  ...   \n",
       "                    demographic_distribution                  NaN  ...   \n",
       "                    demographic_leadership                    NaN  ...   \n",
       "                    demographic_program_size                  NaN  ...   \n",
       "                    demographic_us_region                     NaN  ...   \n",
       "                    demographic_years_in_practice_group       NaN  ...   \n",
       "cash_incentives     demographic_acs_trauma_region        0.005484  ...   \n",
       "                    demographic_distribution                  NaN  ...   \n",
       "                    demographic_leadership                    NaN  ...   \n",
       "                    demographic_program_size                  NaN  ...   \n",
       "                    demographic_us_region                     NaN  ...   \n",
       "                    demographic_years_in_practice_group       NaN  ...   \n",
       "education           demographic_acs_trauma_region       -0.450672  ...   \n",
       "                    demographic_distribution                  NaN  ...   \n",
       "                    demographic_leadership                    NaN  ...   \n",
       "                    demographic_program_size                  NaN  ...   \n",
       "                    demographic_us_region                     NaN  ...   \n",
       "                    demographic_years_in_practice_group       NaN  ...   \n",
       "non_cash_incentives demographic_acs_trauma_region        0.129263  ...   \n",
       "                    demographic_distribution                  NaN  ...   \n",
       "                    demographic_leadership                    NaN  ...   \n",
       "                    demographic_program_size                  NaN  ...   \n",
       "                    demographic_us_region                     NaN  ...   \n",
       "                    demographic_years_in_practice_group       NaN  ...   \n",
       "willingness         demographic_acs_trauma_region        0.331084  ...   \n",
       "                    demographic_distribution                  NaN  ...   \n",
       "                    demographic_leadership                    NaN  ...   \n",
       "                    demographic_program_size                  NaN  ...   \n",
       "                    demographic_us_region                     NaN  ...   \n",
       "                    demographic_years_in_practice_group       NaN  ...   \n",
       "\n",
       "                                                                             \\\n",
       "variable                                                  cornell     lahey   \n",
       "factor              col                                                       \n",
       "attitude            demographic_acs_trauma_region             NaN       NaN   \n",
       "                    demographic_distribution            -0.251721  0.005762   \n",
       "                    demographic_leadership                    NaN       NaN   \n",
       "                    demographic_program_size                  NaN       NaN   \n",
       "                    demographic_us_region                     NaN       NaN   \n",
       "                    demographic_years_in_practice_group       NaN       NaN   \n",
       "cash_incentives     demographic_acs_trauma_region             NaN       NaN   \n",
       "                    demographic_distribution             0.416971 -0.198692   \n",
       "                    demographic_leadership                    NaN       NaN   \n",
       "                    demographic_program_size                  NaN       NaN   \n",
       "                    demographic_us_region                     NaN       NaN   \n",
       "                    demographic_years_in_practice_group       NaN       NaN   \n",
       "education           demographic_acs_trauma_region             NaN       NaN   \n",
       "                    demographic_distribution             0.219151 -0.141629   \n",
       "                    demographic_leadership                    NaN       NaN   \n",
       "                    demographic_program_size                  NaN       NaN   \n",
       "                    demographic_us_region                     NaN       NaN   \n",
       "                    demographic_years_in_practice_group       NaN       NaN   \n",
       "non_cash_incentives demographic_acs_trauma_region             NaN       NaN   \n",
       "                    demographic_distribution             0.055400  0.155072   \n",
       "                    demographic_leadership                    NaN       NaN   \n",
       "                    demographic_program_size                  NaN       NaN   \n",
       "                    demographic_us_region                     NaN       NaN   \n",
       "                    demographic_years_in_practice_group       NaN       NaN   \n",
       "willingness         demographic_acs_trauma_region             NaN       NaN   \n",
       "                    demographic_distribution            -0.058628 -0.189867   \n",
       "                    demographic_leadership                    NaN       NaN   \n",
       "                    demographic_program_size                  NaN       NaN   \n",
       "                    demographic_us_region                     NaN       NaN   \n",
       "                    demographic_years_in_practice_group       NaN       NaN   \n",
       "\n",
       "                                                                   \\\n",
       "variable                                                   lehigh   \n",
       "factor              col                                             \n",
       "attitude            demographic_acs_trauma_region             NaN   \n",
       "                    demographic_distribution            -0.022743   \n",
       "                    demographic_leadership                    NaN   \n",
       "                    demographic_program_size                  NaN   \n",
       "                    demographic_us_region                     NaN   \n",
       "                    demographic_years_in_practice_group       NaN   \n",
       "cash_incentives     demographic_acs_trauma_region             NaN   \n",
       "                    demographic_distribution             0.074991   \n",
       "                    demographic_leadership                    NaN   \n",
       "                    demographic_program_size                  NaN   \n",
       "                    demographic_us_region                     NaN   \n",
       "                    demographic_years_in_practice_group       NaN   \n",
       "education           demographic_acs_trauma_region             NaN   \n",
       "                    demographic_distribution             0.416185   \n",
       "                    demographic_leadership                    NaN   \n",
       "                    demographic_program_size                  NaN   \n",
       "                    demographic_us_region                     NaN   \n",
       "                    demographic_years_in_practice_group       NaN   \n",
       "non_cash_incentives demographic_acs_trauma_region             NaN   \n",
       "                    demographic_distribution            -0.446919   \n",
       "                    demographic_leadership                    NaN   \n",
       "                    demographic_program_size                  NaN   \n",
       "                    demographic_us_region                     NaN   \n",
       "                    demographic_years_in_practice_group       NaN   \n",
       "willingness         demographic_acs_trauma_region             NaN   \n",
       "                    demographic_distribution            -0.259279   \n",
       "                    demographic_leadership                    NaN   \n",
       "                    demographic_program_size                  NaN   \n",
       "                    demographic_us_region                     NaN   \n",
       "                    demographic_years_in_practice_group       NaN   \n",
       "\n",
       "                                                                      \\\n",
       "variable                                                northwestern   \n",
       "factor              col                                                \n",
       "attitude            demographic_acs_trauma_region                NaN   \n",
       "                    demographic_distribution               -0.081303   \n",
       "                    demographic_leadership                       NaN   \n",
       "                    demographic_program_size                     NaN   \n",
       "                    demographic_us_region                        NaN   \n",
       "                    demographic_years_in_practice_group          NaN   \n",
       "cash_incentives     demographic_acs_trauma_region                NaN   \n",
       "                    demographic_distribution                0.005484   \n",
       "                    demographic_leadership                       NaN   \n",
       "                    demographic_program_size                     NaN   \n",
       "                    demographic_us_region                        NaN   \n",
       "                    demographic_years_in_practice_group          NaN   \n",
       "education           demographic_acs_trauma_region                NaN   \n",
       "                    demographic_distribution               -0.450672   \n",
       "                    demographic_leadership                       NaN   \n",
       "                    demographic_program_size                     NaN   \n",
       "                    demographic_us_region                        NaN   \n",
       "                    demographic_years_in_practice_group          NaN   \n",
       "non_cash_incentives demographic_acs_trauma_region                NaN   \n",
       "                    demographic_distribution                0.129263   \n",
       "                    demographic_leadership                       NaN   \n",
       "                    demographic_program_size                     NaN   \n",
       "                    demographic_us_region                        NaN   \n",
       "                    demographic_years_in_practice_group          NaN   \n",
       "willingness         demographic_acs_trauma_region                NaN   \n",
       "                    demographic_distribution                0.331084   \n",
       "                    demographic_leadership                       NaN   \n",
       "                    demographic_program_size                     NaN   \n",
       "                    demographic_us_region                        NaN   \n",
       "                    demographic_years_in_practice_group          NaN   \n",
       "\n",
       "                                                                             \\\n",
       "variable                                                texastech      ucsf   \n",
       "factor              col                                                       \n",
       "attitude            demographic_acs_trauma_region             NaN       NaN   \n",
       "                    demographic_distribution             0.088970  0.451212   \n",
       "                    demographic_leadership                    NaN       NaN   \n",
       "                    demographic_program_size                  NaN       NaN   \n",
       "                    demographic_us_region                     NaN       NaN   \n",
       "                    demographic_years_in_practice_group       NaN       NaN   \n",
       "cash_incentives     demographic_acs_trauma_region             NaN       NaN   \n",
       "                    demographic_distribution             0.371280 -0.080688   \n",
       "                    demographic_leadership                    NaN       NaN   \n",
       "                    demographic_program_size                  NaN       NaN   \n",
       "                    demographic_us_region                     NaN       NaN   \n",
       "                    demographic_years_in_practice_group       NaN       NaN   \n",
       "education           demographic_acs_trauma_region             NaN       NaN   \n",
       "                    demographic_distribution             0.144299  0.024006   \n",
       "                    demographic_leadership                    NaN       NaN   \n",
       "                    demographic_program_size                  NaN       NaN   \n",
       "                    demographic_us_region                     NaN       NaN   \n",
       "                    demographic_years_in_practice_group       NaN       NaN   \n",
       "non_cash_incentives demographic_acs_trauma_region             NaN       NaN   \n",
       "                    demographic_distribution            -0.008981 -0.203509   \n",
       "                    demographic_leadership                    NaN       NaN   \n",
       "                    demographic_program_size                  NaN       NaN   \n",
       "                    demographic_us_region                     NaN       NaN   \n",
       "                    demographic_years_in_practice_group       NaN       NaN   \n",
       "willingness         demographic_acs_trauma_region             NaN       NaN   \n",
       "                    demographic_distribution            -0.017947 -0.053943   \n",
       "                    demographic_leadership                    NaN       NaN   \n",
       "                    demographic_program_size                  NaN       NaN   \n",
       "                    demographic_us_region                     NaN       NaN   \n",
       "                    demographic_years_in_practice_group       NaN       NaN   \n",
       "\n",
       "                                                                              \\\n",
       "variable                                                      und vanderbilt   \n",
       "factor              col                                                        \n",
       "attitude            demographic_acs_trauma_region             NaN        NaN   \n",
       "                    demographic_distribution            -0.706993   0.162685   \n",
       "                    demographic_leadership                    NaN        NaN   \n",
       "                    demographic_program_size                  NaN        NaN   \n",
       "                    demographic_us_region                     NaN        NaN   \n",
       "                    demographic_years_in_practice_group       NaN        NaN   \n",
       "cash_incentives     demographic_acs_trauma_region             NaN        NaN   \n",
       "                    demographic_distribution            -0.213292   0.258547   \n",
       "                    demographic_leadership                    NaN        NaN   \n",
       "                    demographic_program_size                  NaN        NaN   \n",
       "                    demographic_us_region                     NaN        NaN   \n",
       "                    demographic_years_in_practice_group       NaN        NaN   \n",
       "education           demographic_acs_trauma_region             NaN        NaN   \n",
       "                    demographic_distribution             0.080980  -0.342661   \n",
       "                    demographic_leadership                    NaN        NaN   \n",
       "                    demographic_program_size                  NaN        NaN   \n",
       "                    demographic_us_region                     NaN        NaN   \n",
       "                    demographic_years_in_practice_group       NaN        NaN   \n",
       "non_cash_incentives demographic_acs_trauma_region             NaN        NaN   \n",
       "                    demographic_distribution             0.241609   0.205357   \n",
       "                    demographic_leadership                    NaN        NaN   \n",
       "                    demographic_program_size                  NaN        NaN   \n",
       "                    demographic_us_region                     NaN        NaN   \n",
       "                    demographic_years_in_practice_group       NaN        NaN   \n",
       "willingness         demographic_acs_trauma_region             NaN        NaN   \n",
       "                    demographic_distribution            -0.548063   0.139678   \n",
       "                    demographic_leadership                    NaN        NaN   \n",
       "                    demographic_program_size                  NaN        NaN   \n",
       "                    demographic_us_region                     NaN        NaN   \n",
       "                    demographic_years_in_practice_group       NaN        NaN   \n",
       "\n",
       "                                                                       \\\n",
       "variable                                                virginiamason   \n",
       "factor              col                                                 \n",
       "attitude            demographic_acs_trauma_region                 NaN   \n",
       "                    demographic_distribution                 0.402205   \n",
       "                    demographic_leadership                        NaN   \n",
       "                    demographic_program_size                      NaN   \n",
       "                    demographic_us_region                         NaN   \n",
       "                    demographic_years_in_practice_group           NaN   \n",
       "cash_incentives     demographic_acs_trauma_region                 NaN   \n",
       "                    demographic_distribution                 0.208301   \n",
       "                    demographic_leadership                        NaN   \n",
       "                    demographic_program_size                      NaN   \n",
       "                    demographic_us_region                         NaN   \n",
       "                    demographic_years_in_practice_group           NaN   \n",
       "education           demographic_acs_trauma_region                 NaN   \n",
       "                    demographic_distribution                 0.274982   \n",
       "                    demographic_leadership                        NaN   \n",
       "                    demographic_program_size                      NaN   \n",
       "                    demographic_us_region                         NaN   \n",
       "                    demographic_years_in_practice_group           NaN   \n",
       "non_cash_incentives demographic_acs_trauma_region                 NaN   \n",
       "                    demographic_distribution                 0.099105   \n",
       "                    demographic_leadership                        NaN   \n",
       "                    demographic_program_size                      NaN   \n",
       "                    demographic_us_region                         NaN   \n",
       "                    demographic_years_in_practice_group           NaN   \n",
       "willingness         demographic_acs_trauma_region                 NaN   \n",
       "                    demographic_distribution                 0.436857   \n",
       "                    demographic_leadership                        NaN   \n",
       "                    demographic_program_size                      NaN   \n",
       "                    demographic_us_region                         NaN   \n",
       "                    demographic_years_in_practice_group           NaN   \n",
       "\n",
       "                                                                   \n",
       "variable                                                    washu  \n",
       "factor              col                                            \n",
       "attitude            demographic_acs_trauma_region             NaN  \n",
       "                    demographic_distribution            -0.293258  \n",
       "                    demographic_leadership                    NaN  \n",
       "                    demographic_program_size                  NaN  \n",
       "                    demographic_us_region                     NaN  \n",
       "                    demographic_years_in_practice_group       NaN  \n",
       "cash_incentives     demographic_acs_trauma_region             NaN  \n",
       "                    demographic_distribution            -0.263015  \n",
       "                    demographic_leadership                    NaN  \n",
       "                    demographic_program_size                  NaN  \n",
       "                    demographic_us_region                     NaN  \n",
       "                    demographic_years_in_practice_group       NaN  \n",
       "education           demographic_acs_trauma_region             NaN  \n",
       "                    demographic_distribution             0.078262  \n",
       "                    demographic_leadership                    NaN  \n",
       "                    demographic_program_size                  NaN  \n",
       "                    demographic_us_region                     NaN  \n",
       "                    demographic_years_in_practice_group       NaN  \n",
       "non_cash_incentives demographic_acs_trauma_region             NaN  \n",
       "                    demographic_distribution            -0.000145  \n",
       "                    demographic_leadership                    NaN  \n",
       "                    demographic_program_size                  NaN  \n",
       "                    demographic_us_region                     NaN  \n",
       "                    demographic_years_in_practice_group       NaN  \n",
       "willingness         demographic_acs_trauma_region             NaN  \n",
       "                    demographic_distribution             0.013436  \n",
       "                    demographic_leadership                    NaN  \n",
       "                    demographic_program_size                  NaN  \n",
       "                    demographic_us_region                     NaN  \n",
       "                    demographic_years_in_practice_group       NaN  \n",
       "\n",
       "[30 rows x 35 columns]"
      ]
     },
     "execution_count": 669,
     "metadata": {},
     "output_type": "execute_result"
    }
   ],
   "source": [
    "\n"
   ]
  },
  {
   "cell_type": "code",
   "execution_count": null,
   "metadata": {},
   "outputs": [
    {
     "name": "stdout",
     "output_type": "stream",
     "text": [
      "F_onewayResult(statistic=0.622900130602993, pvalue=0.6475954519543623)\n",
      "0.6475954519543623\n",
      "F_onewayResult(statistic=0.9721053072918948, pvalue=0.45157408951377853)\n",
      "0.45157408951377853\n",
      "F_onewayResult(statistic=0.815953416498831, pvalue=0.5236823433226716)\n",
      "0.5236823433226716\n",
      "F_onewayResult(statistic=1.6800116532773395, pvalue=0.19402204858280486)\n",
      "0.19402204858280486\n",
      "F_onewayResult(statistic=0.815953416498831, pvalue=0.5236823433226716)\n",
      "0.5236823433226716\n",
      "F_onewayResult(statistic=0.815953416498831, pvalue=0.5236823433226716)\n",
      "0.5236823433226716\n"
     ]
    }
   ],
   "source": [
    "# from scipy.stats import f_oneway, pearsonr, spearmanr, kruskal\n",
    "# import numpy as np\n",
    "\n",
    "# factor_dist = {}\n",
    "\n",
    "# for col in demo_cols:\n",
    "\n",
    "#     if col == 'survey_info_response_id':\n",
    "#         continue\n",
    "\n",
    "#     if 'years' in col:\n",
    "#         continue\n",
    "\n",
    "#     else:\n",
    "        \n",
    "#         df_temp = df_factors_new.copy()\n",
    "\n",
    "#         if 'list' in col:\n",
    "#             df_temp = df_temp.explode(col)\n",
    "\n",
    "#         ## define a new dataframe called df_dist_ + col that is df_factors_new grouped by demographic_distribution and the mean of col\n",
    "#         ## append dataframe to factor_dist\n",
    "#         df_factor_dist = df_temp.groupby(col)[factor_cols].mean().reset_index()\n",
    "#         df_factor_dist[factor_cols] = df_factor_dist[factor_cols].astype(float)\n",
    "#         factor_dist[col] = df_factor_dist\n",
    "\n",
    "#         ## Dataframe has no object: dtype error.\n",
    "#         ## Convert the df factor cols to float\n",
    "  \n",
    "#     # ## Create a new subset dataframe called df_dist_ + col that is df_factors_new grouped by demographic_distribution and the mean of col:\n",
    "#     # df_dist = df_factors_new.groupby('demographic_distribution')[col].mean().reset_index()\n",
    "#     # print(df_dist)\n",
    "        \n",
    "# factor_dist\n",
    "\n",
    "# for key in factor_dist:\n",
    "\n",
    "#     df_temp = factor_dist[key]\n",
    "#     # print(df_temp)\n",
    "\n",
    "#     ## Calculate the ANOVA for each factor\n",
    "#     ## Create a new column called 'factor' and set it equal to the key\n",
    "\n",
    "#     df_temp['factor'] = key\n",
    "\n",
    "#     ## Melt the dataframe on the factor columns\n",
    "#     df_temp = df_temp.melt(id_vars=['factor', key], value_vars=factor_cols, var_name='factor_name', value_name='factor_value')\n",
    "\n",
    "#     ## Calculate the ANOVA for each factor\n",
    "#     aov.append(f_oneway(*[df_temp[df_temp['factor_name'] == f]['factor_value'] for f in factor_cols])\n",
    "\n",
    "#     print(aov)\n",
    "\n",
    "#     ## Calculate the p-value for each factor\n",
    "#     p = aov.pvalue\n",
    "\n",
    "#     ## Print the p-value\n",
    "#     print(p)\n",
    "\n",
    "    \n"
   ]
  },
  {
   "cell_type": "markdown",
   "metadata": {},
   "source": [
    "# K MEANS CLUSTERING\n"
   ]
  },
  {
   "cell_type": "code",
   "execution_count": null,
   "metadata": {},
   "outputs": [
    {
     "name": "stderr",
     "output_type": "stream",
     "text": [
      "/Library/Frameworks/Python.framework/Versions/3.10/lib/python3.10/site-packages/sklearn/cluster/_kmeans.py:870: FutureWarning:\n",
      "\n",
      "The default value of `n_init` will change from 10 to 'auto' in 1.4. Set the value of `n_init` explicitly to suppress the warning\n",
      "\n",
      "/Library/Frameworks/Python.framework/Versions/3.10/lib/python3.10/site-packages/sklearn/cluster/_kmeans.py:870: FutureWarning:\n",
      "\n",
      "The default value of `n_init` will change from 10 to 'auto' in 1.4. Set the value of `n_init` explicitly to suppress the warning\n",
      "\n",
      "/Library/Frameworks/Python.framework/Versions/3.10/lib/python3.10/site-packages/sklearn/cluster/_kmeans.py:870: FutureWarning:\n",
      "\n",
      "The default value of `n_init` will change from 10 to 'auto' in 1.4. Set the value of `n_init` explicitly to suppress the warning\n",
      "\n",
      "/Library/Frameworks/Python.framework/Versions/3.10/lib/python3.10/site-packages/sklearn/cluster/_kmeans.py:870: FutureWarning:\n",
      "\n",
      "The default value of `n_init` will change from 10 to 'auto' in 1.4. Set the value of `n_init` explicitly to suppress the warning\n",
      "\n",
      "/Library/Frameworks/Python.framework/Versions/3.10/lib/python3.10/site-packages/sklearn/cluster/_kmeans.py:870: FutureWarning:\n",
      "\n",
      "The default value of `n_init` will change from 10 to 'auto' in 1.4. Set the value of `n_init` explicitly to suppress the warning\n",
      "\n",
      "/Library/Frameworks/Python.framework/Versions/3.10/lib/python3.10/site-packages/sklearn/cluster/_kmeans.py:870: FutureWarning:\n",
      "\n",
      "The default value of `n_init` will change from 10 to 'auto' in 1.4. Set the value of `n_init` explicitly to suppress the warning\n",
      "\n",
      "/Library/Frameworks/Python.framework/Versions/3.10/lib/python3.10/site-packages/sklearn/cluster/_kmeans.py:870: FutureWarning:\n",
      "\n",
      "The default value of `n_init` will change from 10 to 'auto' in 1.4. Set the value of `n_init` explicitly to suppress the warning\n",
      "\n",
      "/Library/Frameworks/Python.framework/Versions/3.10/lib/python3.10/site-packages/sklearn/cluster/_kmeans.py:870: FutureWarning:\n",
      "\n",
      "The default value of `n_init` will change from 10 to 'auto' in 1.4. Set the value of `n_init` explicitly to suppress the warning\n",
      "\n",
      "/Library/Frameworks/Python.framework/Versions/3.10/lib/python3.10/site-packages/sklearn/cluster/_kmeans.py:870: FutureWarning:\n",
      "\n",
      "The default value of `n_init` will change from 10 to 'auto' in 1.4. Set the value of `n_init` explicitly to suppress the warning\n",
      "\n",
      "/Library/Frameworks/Python.framework/Versions/3.10/lib/python3.10/site-packages/sklearn/cluster/_kmeans.py:870: FutureWarning:\n",
      "\n",
      "The default value of `n_init` will change from 10 to 'auto' in 1.4. Set the value of `n_init` explicitly to suppress the warning\n",
      "\n"
     ]
    },
    {
     "data": {
      "image/png": "[encoded data removed]",
      "text/plain": [
       "<Figure size 720x432 with 1 Axes>"
      ]
     },
     "metadata": {
      "needs_background": "light"
     },
     "output_type": "display_data"
    }
   ],
   "source": [
    "# Selecting only the factor columns for clustering\n",
    "factor_columns = ['non_cash_incentives', 'willingness', 'attitude', 'cash_incentives', 'education']\n",
    "df_clusters = df_factors_new[factor_cols]\n",
    "\n",
    "# Normalizing the factors\n",
    "scaler = StandardScaler()\n",
    "data_normalized = scaler.fit_transform(df_clusters)\n",
    "\n",
    "# Choosing the number of clusters: Elbow Method\n",
    "inertia = []\n",
    "k_values = range(1, 11)\n",
    "for k in k_values:\n",
    "    model = KMeans(n_clusters=k, random_state=42)\n",
    "    model.fit(data_normalized)\n",
    "    inertia.append(model.inertia_)\n",
    "\n",
    "# Plotting the elbow plot\n",
    "plt.figure(figsize=(10, 6))\n",
    "plt.plot(k_values, inertia, marker='o')\n",
    "plt.title('Elbow Method For Optimal k')\n",
    "plt.xlabel('Number of clusters')\n",
    "plt.ylabel('Inertia')\n",
    "plt.xticks(k_values)\n",
    "plt.grid(True)\n",
    "plt.show()\n"
   ]
  },
  {
   "cell_type": "code",
   "execution_count": null,
   "metadata": {},
   "outputs": [
    {
     "name": "stderr",
     "output_type": "stream",
     "text": [
      "/Library/Frameworks/Python.framework/Versions/3.10/lib/python3.10/site-packages/sklearn/cluster/_kmeans.py:870: FutureWarning:\n",
      "\n",
      "The default value of `n_init` will change from 10 to 'auto' in 1.4. Set the value of `n_init` explicitly to suppress the warning\n",
      "\n",
      "/Library/Frameworks/Python.framework/Versions/3.10/lib/python3.10/site-packages/sklearn/cluster/_kmeans.py:870: FutureWarning:\n",
      "\n",
      "The default value of `n_init` will change from 10 to 'auto' in 1.4. Set the value of `n_init` explicitly to suppress the warning\n",
      "\n",
      "/Library/Frameworks/Python.framework/Versions/3.10/lib/python3.10/site-packages/sklearn/cluster/_kmeans.py:870: FutureWarning:\n",
      "\n",
      "The default value of `n_init` will change from 10 to 'auto' in 1.4. Set the value of `n_init` explicitly to suppress the warning\n",
      "\n",
      "/Library/Frameworks/Python.framework/Versions/3.10/lib/python3.10/site-packages/sklearn/cluster/_kmeans.py:870: FutureWarning:\n",
      "\n",
      "The default value of `n_init` will change from 10 to 'auto' in 1.4. Set the value of `n_init` explicitly to suppress the warning\n",
      "\n"
     ]
    },
    {
     "data": {
      "text/plain": [
       "[(5, 0.1914648512258015),\n",
       " (2, 0.18123904656077247),\n",
       " (4, 0.17899233512093235),\n",
       " (3, 0.16342848698387952)]"
      ]
     },
     "execution_count": 487,
     "metadata": {},
     "output_type": "execute_result"
    }
   ],
   "source": [
    "# Calculating silhouette scores for different numbers of clusters\n",
    "silhouette_scores = {}\n",
    "for k in range(2, 6):\n",
    "    model = KMeans(n_clusters=k, random_state=42)\n",
    "    cluster_labels = model.fit_predict(data_normalized)\n",
    "    silhouette_avg = silhouette_score(data_normalized, cluster_labels)\n",
    "    silhouette_scores[k] = silhouette_avg\n",
    "\n",
    "# Displaying the silhouette scores\n",
    "silhouette_scores_sorted = sorted(silhouette_scores.items(), key=lambda x: x[1], reverse=True)\n",
    "silhouette_scores_sorted"
   ]
  },
  {
   "cell_type": "code",
   "execution_count": null,
   "metadata": {},
   "outputs": [
    {
     "name": "stderr",
     "output_type": "stream",
     "text": [
      "/Library/Frameworks/Python.framework/Versions/3.10/lib/python3.10/site-packages/sklearn/cluster/_kmeans.py:870: FutureWarning:\n",
      "\n",
      "The default value of `n_init` will change from 10 to 'auto' in 1.4. Set the value of `n_init` explicitly to suppress the warning\n",
      "\n",
      "/var/folders/tc/rrbf67xd4h98qrpph8v1h9c00000gn/T/ipykernel_53039/1140332724.py:6: SettingWithCopyWarning:\n",
      "\n",
      "\n",
      "A value is trying to be set on a copy of a slice from a DataFrame.\n",
      "Try using .loc[row_indexer,col_indexer] = value instead\n",
      "\n",
      "See the caveats in the documentation: https://pandas.pydata.org/pandas-docs/stable/user_guide/indexing.html#returning-a-view-versus-a-copy\n",
      "\n"
     ]
    },
    {
     "data": {
      "text/html": [
       "<div>\n",
       "<style scoped>\n",
       "    .dataframe tbody tr th:only-of-type {\n",
       "        vertical-align: middle;\n",
       "    }\n",
       "\n",
       "    .dataframe tbody tr th {\n",
       "        vertical-align: top;\n",
       "    }\n",
       "\n",
       "    .dataframe thead th {\n",
       "        text-align: right;\n",
       "    }\n",
       "</style>\n",
       "<table border=\"1\" class=\"dataframe\">\n",
       "  <thead>\n",
       "    <tr style=\"text-align: right;\">\n",
       "      <th></th>\n",
       "      <th>non_cash_incentives</th>\n",
       "      <th>willingness</th>\n",
       "      <th>attitude</th>\n",
       "      <th>cash_incentives</th>\n",
       "      <th>education</th>\n",
       "    </tr>\n",
       "    <tr>\n",
       "      <th>Cluster</th>\n",
       "      <th></th>\n",
       "      <th></th>\n",
       "      <th></th>\n",
       "      <th></th>\n",
       "      <th></th>\n",
       "    </tr>\n",
       "  </thead>\n",
       "  <tbody>\n",
       "    <tr>\n",
       "      <th>0</th>\n",
       "      <td>0.178958</td>\n",
       "      <td>0.060242</td>\n",
       "      <td>0.108992</td>\n",
       "      <td>0.659819</td>\n",
       "      <td>-0.015796</td>\n",
       "    </tr>\n",
       "    <tr>\n",
       "      <th>1</th>\n",
       "      <td>-0.276739</td>\n",
       "      <td>-0.093158</td>\n",
       "      <td>-0.168544</td>\n",
       "      <td>-1.020338</td>\n",
       "      <td>0.024428</td>\n",
       "    </tr>\n",
       "  </tbody>\n",
       "</table>\n",
       "</div>"
      ],
      "text/plain": [
       "         non_cash_incentives  willingness  attitude  cash_incentives  \\\n",
       "Cluster                                                                \n",
       "0                   0.178958     0.060242  0.108992         0.659819   \n",
       "1                  -0.276739    -0.093158 -0.168544        -1.020338   \n",
       "\n",
       "         education  \n",
       "Cluster             \n",
       "0        -0.015796  \n",
       "1         0.024428  "
      ]
     },
     "execution_count": 490,
     "metadata": {},
     "output_type": "execute_result"
    }
   ],
   "source": [
    "k = 2\n",
    "kmeans_model = KMeans(n_clusters=k, random_state=42)\n",
    "cluster_labels = kmeans_model.fit_predict(data_normalized)\n",
    "\n",
    "# Adding the cluster labels to the original dataframe for analysis\n",
    "df_clusters['Cluster'] = cluster_labels\n",
    "\n",
    "# Analyzing the clusters\n",
    "cluster_summary = df_clusters.groupby('Cluster')[factor_columns].mean()\n",
    "\n",
    "cluster_summary"
   ]
  },
  {
   "cell_type": "code",
   "execution_count": null,
   "metadata": {},
   "outputs": [
    {
     "data": {
      "application/vnd.plotly.v1+json": {
       "config": {
        "plotlyServerURL": "https://plot.ly"
       },
       "data": [
        {
         "fill": "toself",
         "name": "Cluster 1",
         "r": [
          0,
          3.4025641025641025,
          4.588461538461538,
          4.051923076923077,
          4.361538461538461,
          1.8128205128205128
         ],
         "theta": [
          "Factor 1",
          "Factor 2",
          "Factor 3",
          "Factor 4",
          "Factor 5"
         ],
         "type": "scatterpolar"
        },
        {
         "fill": "toself",
         "name": "Cluster 2",
         "r": [
          1,
          2.027508090614887,
          3.9304207119741097,
          2.9029126213592233,
          2.8608414239482203,
          1.6699029126213591
         ],
         "theta": [
          "Factor 1",
          "Factor 2",
          "Factor 3",
          "Factor 4",
          "Factor 5"
         ],
         "type": "scatterpolar"
        }
       ],
       "layout": {
        "template": {
         "data": {
          "bar": [
           {
            "error_x": {
             "color": "#2a3f5f"
            },
            "error_y": {
             "color": "#2a3f5f"
            },
            "marker": {
             "line": {
              "color": "#E5ECF6",
              "width": 0.5
             },
             "pattern": {
              "fillmode": "overlay",
              "size": 10,
              "solidity": 0.2
             }
            },
            "type": "bar"
           }
          ],
          "barpolar": [
           {
            "marker": {
             "line": {
              "color": "#E5ECF6",
              "width": 0.5
             },
             "pattern": {
              "fillmode": "overlay",
              "size": 10,
              "solidity": 0.2
             }
            },
            "type": "barpolar"
           }
          ],
          "carpet": [
           {
            "aaxis": {
             "endlinecolor": "#2a3f5f",
             "gridcolor": "white",
             "linecolor": "white",
             "minorgridcolor": "white",
             "startlinecolor": "#2a3f5f"
            },
            "baxis": {
             "endlinecolor": "#2a3f5f",
             "gridcolor": "white",
             "linecolor": "white",
             "minorgridcolor": "white",
             "startlinecolor": "#2a3f5f"
            },
            "type": "carpet"
           }
          ],
          "choropleth": [
           {
            "colorbar": {
             "outlinewidth": 0,
             "ticks": ""
            },
            "type": "choropleth"
           }
          ],
          "contour": [
           {
            "colorbar": {
             "outlinewidth": 0,
             "ticks": ""
            },
            "colorscale": [
             [
              0,
              "#0d0887"
             ],
             [
              0.1111111111111111,
              "#46039f"
             ],
             [
              0.2222222222222222,
              "#7201a8"
             ],
             [
              0.3333333333333333,
              "#9c179e"
             ],
             [
              0.4444444444444444,
              "#bd3786"
             ],
             [
              0.5555555555555556,
              "#d8576b"
             ],
             [
              0.6666666666666666,
              "#ed7953"
             ],
             [
              0.7777777777777778,
              "#fb9f3a"
             ],
             [
              0.8888888888888888,
              "#fdca26"
             ],
             [
              1,
              "#f0f921"
             ]
            ],
            "type": "contour"
           }
          ],
          "contourcarpet": [
           {
            "colorbar": {
             "outlinewidth": 0,
             "ticks": ""
            },
            "type": "contourcarpet"
           }
          ],
          "heatmap": [
           {
            "colorbar": {
             "outlinewidth": 0,
             "ticks": ""
            },
            "colorscale": [
             [
              0,
              "#0d0887"
             ],
             [
              0.1111111111111111,
              "#46039f"
             ],
             [
              0.2222222222222222,
              "#7201a8"
             ],
             [
              0.3333333333333333,
              "#9c179e"
             ],
             [
              0.4444444444444444,
              "#bd3786"
             ],
             [
              0.5555555555555556,
              "#d8576b"
             ],
             [
              0.6666666666666666,
              "#ed7953"
             ],
             [
              0.7777777777777778,
              "#fb9f3a"
             ],
             [
              0.8888888888888888,
              "#fdca26"
             ],
             [
              1,
              "#f0f921"
             ]
            ],
            "type": "heatmap"
           }
          ],
          "heatmapgl": [
           {
            "colorbar": {
             "outlinewidth": 0,
             "ticks": ""
            },
            "colorscale": [
             [
              0,
              "#0d0887"
             ],
             [
              0.1111111111111111,
              "#46039f"
             ],
             [
              0.2222222222222222,
              "#7201a8"
             ],
             [
              0.3333333333333333,
              "#9c179e"
             ],
             [
              0.4444444444444444,
              "#bd3786"
             ],
             [
              0.5555555555555556,
              "#d8576b"
             ],
             [
              0.6666666666666666,
              "#ed7953"
             ],
             [
              0.7777777777777778,
              "#fb9f3a"
             ],
             [
              0.8888888888888888,
              "#fdca26"
             ],
             [
              1,
              "#f0f921"
             ]
            ],
            "type": "heatmapgl"
           }
          ],
          "histogram": [
           {
            "marker": {
             "pattern": {
              "fillmode": "overlay",
              "size": 10,
              "solidity": 0.2
             }
            },
            "type": "histogram"
           }
          ],
          "histogram2d": [
           {
            "colorbar": {
             "outlinewidth": 0,
             "ticks": ""
            },
            "colorscale": [
             [
              0,
              "#0d0887"
             ],
             [
              0.1111111111111111,
              "#46039f"
             ],
             [
              0.2222222222222222,
              "#7201a8"
             ],
             [
              0.3333333333333333,
              "#9c179e"
             ],
             [
              0.4444444444444444,
              "#bd3786"
             ],
             [
              0.5555555555555556,
              "#d8576b"
             ],
             [
              0.6666666666666666,
              "#ed7953"
             ],
             [
              0.7777777777777778,
              "#fb9f3a"
             ],
             [
              0.8888888888888888,
              "#fdca26"
             ],
             [
              1,
              "#f0f921"
             ]
            ],
            "type": "histogram2d"
           }
          ],
          "histogram2dcontour": [
           {
            "colorbar": {
             "outlinewidth": 0,
             "ticks": ""
            },
            "colorscale": [
             [
              0,
              "#0d0887"
             ],
             [
              0.1111111111111111,
              "#46039f"
             ],
             [
              0.2222222222222222,
              "#7201a8"
             ],
             [
              0.3333333333333333,
              "#9c179e"
             ],
             [
              0.4444444444444444,
              "#bd3786"
             ],
             [
              0.5555555555555556,
              "#d8576b"
             ],
             [
              0.6666666666666666,
              "#ed7953"
             ],
             [
              0.7777777777777778,
              "#fb9f3a"
             ],
             [
              0.8888888888888888,
              "#fdca26"
             ],
             [
              1,
              "#f0f921"
             ]
            ],
            "type": "histogram2dcontour"
           }
          ],
          "mesh3d": [
           {
            "colorbar": {
             "outlinewidth": 0,
             "ticks": ""
            },
            "type": "mesh3d"
           }
          ],
          "parcoords": [
           {
            "line": {
             "colorbar": {
              "outlinewidth": 0,
              "ticks": ""
             }
            },
            "type": "parcoords"
           }
          ],
          "pie": [
           {
            "automargin": true,
            "type": "pie"
           }
          ],
          "scatter": [
           {
            "fillpattern": {
             "fillmode": "overlay",
             "size": 10,
             "solidity": 0.2
            },
            "type": "scatter"
           }
          ],
          "scatter3d": [
           {
            "line": {
             "colorbar": {
              "outlinewidth": 0,
              "ticks": ""
             }
            },
            "marker": {
             "colorbar": {
              "outlinewidth": 0,
              "ticks": ""
             }
            },
            "type": "scatter3d"
           }
          ],
          "scattercarpet": [
           {
            "marker": {
             "colorbar": {
              "outlinewidth": 0,
              "ticks": ""
             }
            },
            "type": "scattercarpet"
           }
          ],
          "scattergeo": [
           {
            "marker": {
             "colorbar": {
              "outlinewidth": 0,
              "ticks": ""
             }
            },
            "type": "scattergeo"
           }
          ],
          "scattergl": [
           {
            "marker": {
             "colorbar": {
              "outlinewidth": 0,
              "ticks": ""
             }
            },
            "type": "scattergl"
           }
          ],
          "scattermapbox": [
           {
            "marker": {
             "colorbar": {
              "outlinewidth": 0,
              "ticks": ""
             }
            },
            "type": "scattermapbox"
           }
          ],
          "scatterpolar": [
           {
            "marker": {
             "colorbar": {
              "outlinewidth": 0,
              "ticks": ""
             }
            },
            "type": "scatterpolar"
           }
          ],
          "scatterpolargl": [
           {
            "marker": {
             "colorbar": {
              "outlinewidth": 0,
              "ticks": ""
             }
            },
            "type": "scatterpolargl"
           }
          ],
          "scatterternary": [
           {
            "marker": {
             "colorbar": {
              "outlinewidth": 0,
              "ticks": ""
             }
            },
            "type": "scatterternary"
           }
          ],
          "surface": [
           {
            "colorbar": {
             "outlinewidth": 0,
             "ticks": ""
            },
            "colorscale": [
             [
              0,
              "#0d0887"
             ],
             [
              0.1111111111111111,
              "#46039f"
             ],
             [
              0.2222222222222222,
              "#7201a8"
             ],
             [
              0.3333333333333333,
              "#9c179e"
             ],
             [
              0.4444444444444444,
              "#bd3786"
             ],
             [
              0.5555555555555556,
              "#d8576b"
             ],
             [
              0.6666666666666666,
              "#ed7953"
             ],
             [
              0.7777777777777778,
              "#fb9f3a"
             ],
             [
              0.8888888888888888,
              "#fdca26"
             ],
             [
              1,
              "#f0f921"
             ]
            ],
            "type": "surface"
           }
          ],
          "table": [
           {
            "cells": {
             "fill": {
              "color": "#EBF0F8"
             },
             "line": {
              "color": "white"
             }
            },
            "header": {
             "fill": {
              "color": "#C8D4E3"
             },
             "line": {
              "color": "white"
             }
            },
            "type": "table"
           }
          ]
         },
         "layout": {
          "annotationdefaults": {
           "arrowcolor": "#2a3f5f",
           "arrowhead": 0,
           "arrowwidth": 1
          },
          "autotypenumbers": "strict",
          "coloraxis": {
           "colorbar": {
            "outlinewidth": 0,
            "ticks": ""
           }
          },
          "colorscale": {
           "diverging": [
            [
             0,
             "#8e0152"
            ],
            [
             0.1,
             "#c51b7d"
            ],
            [
             0.2,
             "#de77ae"
            ],
            [
             0.3,
             "#f1b6da"
            ],
            [
             0.4,
             "#fde0ef"
            ],
            [
             0.5,
             "#f7f7f7"
            ],
            [
             0.6,
             "#e6f5d0"
            ],
            [
             0.7,
             "#b8e186"
            ],
            [
             0.8,
             "#7fbc41"
            ],
            [
             0.9,
             "#4d9221"
            ],
            [
             1,
             "#276419"
            ]
           ],
           "sequential": [
            [
             0,
             "#0d0887"
            ],
            [
             0.1111111111111111,
             "#46039f"
            ],
            [
             0.2222222222222222,
             "#7201a8"
            ],
            [
             0.3333333333333333,
             "#9c179e"
            ],
            [
             0.4444444444444444,
             "#bd3786"
            ],
            [
             0.5555555555555556,
             "#d8576b"
            ],
            [
             0.6666666666666666,
             "#ed7953"
            ],
            [
             0.7777777777777778,
             "#fb9f3a"
            ],
            [
             0.8888888888888888,
             "#fdca26"
            ],
            [
             1,
             "#f0f921"
            ]
           ],
           "sequentialminus": [
            [
             0,
             "#0d0887"
            ],
            [
             0.1111111111111111,
             "#46039f"
            ],
            [
             0.2222222222222222,
             "#7201a8"
            ],
            [
             0.3333333333333333,
             "#9c179e"
            ],
            [
             0.4444444444444444,
             "#bd3786"
            ],
            [
             0.5555555555555556,
             "#d8576b"
            ],
            [
             0.6666666666666666,
             "#ed7953"
            ],
            [
             0.7777777777777778,
             "#fb9f3a"
            ],
            [
             0.8888888888888888,
             "#fdca26"
            ],
            [
             1,
             "#f0f921"
            ]
           ]
          },
          "colorway": [
           "#636efa",
           "#EF553B",
           "#00cc96",
           "#ab63fa",
           "#FFA15A",
           "#19d3f3",
           "#FF6692",
           "#B6E880",
           "#FF97FF",
           "#FECB52"
          ],
          "font": {
           "color": "#2a3f5f"
          },
          "geo": {
           "bgcolor": "white",
           "lakecolor": "white",
           "landcolor": "#E5ECF6",
           "showlakes": true,
           "showland": true,
           "subunitcolor": "white"
          },
          "hoverlabel": {
           "align": "left"
          },
          "hovermode": "closest",
          "mapbox": {
           "style": "light"
          },
          "paper_bgcolor": "white",
          "plot_bgcolor": "#E5ECF6",
          "polar": {
           "angularaxis": {
            "gridcolor": "white",
            "linecolor": "white",
            "ticks": ""
           },
           "bgcolor": "#E5ECF6",
           "radialaxis": {
            "gridcolor": "white",
            "linecolor": "white",
            "ticks": ""
           }
          },
          "scene": {
           "xaxis": {
            "backgroundcolor": "#E5ECF6",
            "gridcolor": "white",
            "gridwidth": 2,
            "linecolor": "white",
            "showbackground": true,
            "ticks": "",
            "zerolinecolor": "white"
           },
           "yaxis": {
            "backgroundcolor": "#E5ECF6",
            "gridcolor": "white",
            "gridwidth": 2,
            "linecolor": "white",
            "showbackground": true,
            "ticks": "",
            "zerolinecolor": "white"
           },
           "zaxis": {
            "backgroundcolor": "#E5ECF6",
            "gridcolor": "white",
            "gridwidth": 2,
            "linecolor": "white",
            "showbackground": true,
            "ticks": "",
            "zerolinecolor": "white"
           }
          },
          "shapedefaults": {
           "line": {
            "color": "#2a3f5f"
           }
          },
          "ternary": {
           "aaxis": {
            "gridcolor": "white",
            "linecolor": "white",
            "ticks": ""
           },
           "baxis": {
            "gridcolor": "white",
            "linecolor": "white",
            "ticks": ""
           },
           "bgcolor": "#E5ECF6",
           "caxis": {
            "gridcolor": "white",
            "linecolor": "white",
            "ticks": ""
           }
          },
          "title": {
           "x": 0.05
          },
          "xaxis": {
           "automargin": true,
           "gridcolor": "white",
           "linecolor": "white",
           "ticks": "",
           "title": {
            "standoff": 15
           },
           "zerolinecolor": "white",
           "zerolinewidth": 2
          },
          "yaxis": {
           "automargin": true,
           "gridcolor": "white",
           "linecolor": "white",
           "ticks": "",
           "title": {
            "standoff": 15
           },
           "zerolinecolor": "white",
           "zerolinewidth": 2
          }
         }
        }
       }
      }
     },
     "metadata": {},
     "output_type": "display_data"
    },
    {
     "data": {
      "image/png": "[encoded data removed]",
      "text/plain": [
       "<Figure size 432x288 with 1 Axes>"
      ]
     },
     "metadata": {
      "needs_background": "light"
     },
     "output_type": "display_data"
    }
   ],
   "source": [
    "from sklearn.cluster import KMeans\n",
    "from sklearn.preprocessing import StandardScaler\n",
    "import matplotlib.pyplot as plt\n",
    "\n",
    "## Create a subset of df_new just including columns containing factor data\n",
    "\n",
    "df_new_factors = df_new[['Factor 1', 'Factor 2', 'Factor 3', 'Factor 4', 'Factor 5']].copy()\n",
    "df_new_factors\n",
    "\n",
    "## Do a k-means clustering analysis on the factors\n",
    "\n",
    "## First we need to scale the data\n",
    "scaler = StandardScaler()\n",
    "df_new_factors_scaled = scaler.fit_transform(df_new_factors)\n",
    "\n",
    "## Create a dataframe of the scaled data\n",
    "df_new_factors_scaled = pd.DataFrame(df_new_factors_scaled, columns=df_new_factors.columns)\n",
    "df_new_factors_scaled\n",
    "\n",
    "## Create a list of the number of clusters to try\n",
    "clusters = list(range(1,10))\n",
    "\n",
    "## Create a list of the inertia values for each cluster\n",
    "inertia = []\n",
    "\n",
    "for cluster in clusters:\n",
    "    kmeans = KMeans(n_clusters=cluster, n_init=10)\n",
    "    kmeans.fit(df_new_factors_scaled)\n",
    "    inertia.append(kmeans.inertia_)\n",
    "\n",
    "## Plot the inertia values for each cluster\n",
    "    \n",
    "plt.plot(clusters, inertia, '-o')\n",
    "plt.xlabel('Number of Clusters')\n",
    "plt.ylabel('Inertia')\n",
    "plt.xticks(clusters)\n",
    "# plt.show()\n",
    "\n",
    "## The elbow appears to be at 2 clusters\n",
    "\n",
    "## Create a k-means object with 2 clusters\n",
    "kmeans = KMeans(n_clusters=2, n_init=10)\n",
    "\n",
    "## Fit the k-means object to the scaled data\n",
    "kmeans.fit(df_new_factors_scaled)\n",
    "\n",
    "## Create a new column in df_new_factors_scaled called 'cluster' that contains the cluster number for each row\n",
    "df_new_factors_scaled['cluster'] = kmeans.labels_\n",
    "\n",
    "df_new_factors_scaled\n",
    "\n",
    "## Using the original factor data, can we find the median factor value for each cluster?\n",
    "\n",
    "df_new_factors['cluster'] = df_new_factors_scaled['cluster']\n",
    "\n",
    "df_new_factors\n",
    "\n",
    "df_clusters = df_new_factors.groupby('cluster').agg(\n",
    "    Factor1 = ('Factor 1', 'mean'),\n",
    "    Factor2 = ('Factor 2', 'mean'),\n",
    "    Factor3 = ('Factor 3', 'mean'),\n",
    "    Factor4 = ('Factor 4', 'mean'),\n",
    "    Factor5 = ('Factor 5', 'mean')\n",
    ")\n",
    "\n",
    "df_clusters.reset_index(inplace=True)\n",
    "\n",
    "df_clusters\n",
    "\n",
    "## Calculate the p-values for the difference in means between the two clusters\n",
    "## use the mann whitney u test\n",
    "\n",
    "from scipy.stats import mannwhitneyu\n",
    "\n",
    "## Create a list of the factors\n",
    "\n",
    "factors = ['Factor 1', 'Factor 2', 'Factor 3', 'Factor 4', 'Factor 5']\n",
    "\n",
    "## Create a list of the p-values\n",
    "\n",
    "p_values = []\n",
    "\n",
    "## For each factor, calculate the p-value\n",
    "\n",
    "for factor in factors:\n",
    "    stat, p = mannwhitneyu(df_new_factors[df_new_factors['cluster'] == 0][factor], df_new_factors[df_new_factors['cluster'] == 1][factor])\n",
    "    p_values.append(p)\n",
    "\n",
    "## Create a dataframe of the p-values\n",
    "    \n",
    "df_p_values = pd.DataFrame(p_values, columns=['p-value'])\n",
    "\n",
    "## Add the factors to the dataframe\n",
    "\n",
    "df_p_values['factor'] = factors\n",
    "\n",
    "## Display the p-value as a decimal\n",
    "\n",
    "df_p_values['p-value'] = df_p_values['p-value'].map(lambda x: '{:.3f}'.format(x))\n",
    "\n",
    "## Pivot the data to make the factors the columns\n",
    "\n",
    "df_p_values = df_p_values.pivot(index='factor', columns='p-value', values='p-value')\n",
    "\n",
    "## Make radar charts from df_clusters for all five factors and facet on cluster\n",
    "\n",
    "import plotly.graph_objects as go\n",
    "\n",
    "fig = go.Figure()\n",
    "\n",
    "fig.add_trace(go.Scatterpolar(\n",
    "        r=df_clusters.loc[0].tolist(),\n",
    "        theta=factors,\n",
    "        fill='toself',\n",
    "        name='Cluster 1'\n",
    "    ))\n",
    "\n",
    "fig.add_trace(go.Scatterpolar(\n",
    "        r=df_clusters.loc[1].tolist(),\n",
    "        theta=factors,\n",
    "        fill='toself',\n",
    "        name='Cluster 2'\n",
    "    ))\n",
    "\n",
    "fig.show()"
   ]
  },
  {
   "cell_type": "code",
   "execution_count": null,
   "metadata": {},
   "outputs": [],
   "source": [
    "## Add ResponseId from df_numbers_filtered to the left of df_factor_cols on index since they don't have the same columns\n",
    "\n",
    "df_factor_cols = pd.merge(df_numbers_filtered[['ResponseId']], df_factor_avg, left_index=True, right_index=True)"
   ]
  },
  {
   "cell_type": "code",
   "execution_count": null,
   "metadata": {},
   "outputs": [
    {
     "ename": "MergeError",
     "evalue": "No common columns to perform merge on. Merge options: left_on=None, right_on=None, left_index=False, right_index=False",
     "output_type": "error",
     "traceback": [
      "\u001b[0;31m---------------------------------------------------------------------------\u001b[0m",
      "\u001b[0;31mMergeError\u001b[0m                                Traceback (most recent call last)",
      "Cell \u001b[0;32mIn[33], line 3\u001b[0m\n\u001b[1;32m      1\u001b[0m \u001b[38;5;66;03m## Add ResponseId from df_numbers_filtered to the left of df_factor_cols on index since they don't have the same columns\u001b[39;00m\n\u001b[0;32m----> 3\u001b[0m df_new \u001b[38;5;241m=\u001b[39m \u001b[43mpd\u001b[49m\u001b[38;5;241;43m.\u001b[39;49m\u001b[43mmerge\u001b[49m\u001b[43m(\u001b[49m\u001b[43mdf_numbers_filtered\u001b[49m\u001b[43m[\u001b[49m\u001b[43m[\u001b[49m\u001b[38;5;124;43m'\u001b[39;49m\u001b[38;5;124;43mResponseId\u001b[39;49m\u001b[38;5;124;43m'\u001b[39;49m\u001b[43m]\u001b[49m\u001b[43m]\u001b[49m\u001b[43m,\u001b[49m\u001b[43m \u001b[49m\u001b[43mdf_factor_avg\u001b[49m\u001b[43m)\u001b[49m\n\u001b[1;32m      4\u001b[0m df_new \u001b[38;5;241m=\u001b[39m pd\u001b[38;5;241m.\u001b[39mmerge(df_new, df_demodata)\n\u001b[1;32m      6\u001b[0m \u001b[38;5;66;03m## Drop columns 5.2 - 5.4\u001b[39;00m\n\u001b[1;32m      7\u001b[0m \n\u001b[1;32m      8\u001b[0m \u001b[38;5;66;03m# df_new.drop(columns=['Q5.2', 'Q5.3', 'Q5.4'], inplace=True)\u001b[39;00m\n\u001b[0;32m   (...)\u001b[0m\n\u001b[1;32m     24\u001b[0m \n\u001b[1;32m     25\u001b[0m \u001b[38;5;66;03m# df_new.to_csv('openaitest.csv')\u001b[39;00m\n",
      "File \u001b[0;32m/Library/Frameworks/Python.framework/Versions/3.10/lib/python3.10/site-packages/pandas/core/reshape/merge.py:170\u001b[0m, in \u001b[0;36mmerge\u001b[0;34m(left, right, how, on, left_on, right_on, left_index, right_index, sort, suffixes, copy, indicator, validate)\u001b[0m\n\u001b[1;32m    155\u001b[0m     \u001b[38;5;28;01mreturn\u001b[39;00m _cross_merge(\n\u001b[1;32m    156\u001b[0m         left_df,\n\u001b[1;32m    157\u001b[0m         right_df,\n\u001b[0;32m   (...)\u001b[0m\n\u001b[1;32m    167\u001b[0m         copy\u001b[38;5;241m=\u001b[39mcopy,\n\u001b[1;32m    168\u001b[0m     )\n\u001b[1;32m    169\u001b[0m \u001b[38;5;28;01melse\u001b[39;00m:\n\u001b[0;32m--> 170\u001b[0m     op \u001b[38;5;241m=\u001b[39m \u001b[43m_MergeOperation\u001b[49m\u001b[43m(\u001b[49m\n\u001b[1;32m    171\u001b[0m \u001b[43m        \u001b[49m\u001b[43mleft_df\u001b[49m\u001b[43m,\u001b[49m\n\u001b[1;32m    172\u001b[0m \u001b[43m        \u001b[49m\u001b[43mright_df\u001b[49m\u001b[43m,\u001b[49m\n\u001b[1;32m    173\u001b[0m \u001b[43m        \u001b[49m\u001b[43mhow\u001b[49m\u001b[38;5;241;43m=\u001b[39;49m\u001b[43mhow\u001b[49m\u001b[43m,\u001b[49m\n\u001b[1;32m    174\u001b[0m \u001b[43m        \u001b[49m\u001b[43mon\u001b[49m\u001b[38;5;241;43m=\u001b[39;49m\u001b[43mon\u001b[49m\u001b[43m,\u001b[49m\n\u001b[1;32m    175\u001b[0m \u001b[43m        \u001b[49m\u001b[43mleft_on\u001b[49m\u001b[38;5;241;43m=\u001b[39;49m\u001b[43mleft_on\u001b[49m\u001b[43m,\u001b[49m\n\u001b[1;32m    176\u001b[0m \u001b[43m        \u001b[49m\u001b[43mright_on\u001b[49m\u001b[38;5;241;43m=\u001b[39;49m\u001b[43mright_on\u001b[49m\u001b[43m,\u001b[49m\n\u001b[1;32m    177\u001b[0m \u001b[43m        \u001b[49m\u001b[43mleft_index\u001b[49m\u001b[38;5;241;43m=\u001b[39;49m\u001b[43mleft_index\u001b[49m\u001b[43m,\u001b[49m\n\u001b[1;32m    178\u001b[0m \u001b[43m        \u001b[49m\u001b[43mright_index\u001b[49m\u001b[38;5;241;43m=\u001b[39;49m\u001b[43mright_index\u001b[49m\u001b[43m,\u001b[49m\n\u001b[1;32m    179\u001b[0m \u001b[43m        \u001b[49m\u001b[43msort\u001b[49m\u001b[38;5;241;43m=\u001b[39;49m\u001b[43msort\u001b[49m\u001b[43m,\u001b[49m\n\u001b[1;32m    180\u001b[0m \u001b[43m        \u001b[49m\u001b[43msuffixes\u001b[49m\u001b[38;5;241;43m=\u001b[39;49m\u001b[43msuffixes\u001b[49m\u001b[43m,\u001b[49m\n\u001b[1;32m    181\u001b[0m \u001b[43m        \u001b[49m\u001b[43mindicator\u001b[49m\u001b[38;5;241;43m=\u001b[39;49m\u001b[43mindicator\u001b[49m\u001b[43m,\u001b[49m\n\u001b[1;32m    182\u001b[0m \u001b[43m        \u001b[49m\u001b[43mvalidate\u001b[49m\u001b[38;5;241;43m=\u001b[39;49m\u001b[43mvalidate\u001b[49m\u001b[43m,\u001b[49m\n\u001b[1;32m    183\u001b[0m \u001b[43m    \u001b[49m\u001b[43m)\u001b[49m\n\u001b[1;32m    184\u001b[0m     \u001b[38;5;28;01mreturn\u001b[39;00m op\u001b[38;5;241m.\u001b[39mget_result(copy\u001b[38;5;241m=\u001b[39mcopy)\n",
      "File \u001b[0;32m/Library/Frameworks/Python.framework/Versions/3.10/lib/python3.10/site-packages/pandas/core/reshape/merge.py:786\u001b[0m, in \u001b[0;36m_MergeOperation.__init__\u001b[0;34m(self, left, right, how, on, left_on, right_on, left_index, right_index, sort, suffixes, indicator, validate)\u001b[0m\n\u001b[1;32m    779\u001b[0m     msg \u001b[38;5;241m=\u001b[39m (\n\u001b[1;32m    780\u001b[0m         \u001b[38;5;124m\"\u001b[39m\u001b[38;5;124mNot allowed to merge between different levels. \u001b[39m\u001b[38;5;124m\"\u001b[39m\n\u001b[1;32m    781\u001b[0m         \u001b[38;5;124mf\u001b[39m\u001b[38;5;124m\"\u001b[39m\u001b[38;5;124m(\u001b[39m\u001b[38;5;132;01m{\u001b[39;00m_left\u001b[38;5;241m.\u001b[39mcolumns\u001b[38;5;241m.\u001b[39mnlevels\u001b[38;5;132;01m}\u001b[39;00m\u001b[38;5;124m levels on the left, \u001b[39m\u001b[38;5;124m\"\u001b[39m\n\u001b[1;32m    782\u001b[0m         \u001b[38;5;124mf\u001b[39m\u001b[38;5;124m\"\u001b[39m\u001b[38;5;132;01m{\u001b[39;00m_right\u001b[38;5;241m.\u001b[39mcolumns\u001b[38;5;241m.\u001b[39mnlevels\u001b[38;5;132;01m}\u001b[39;00m\u001b[38;5;124m on the right)\u001b[39m\u001b[38;5;124m\"\u001b[39m\n\u001b[1;32m    783\u001b[0m     )\n\u001b[1;32m    784\u001b[0m     \u001b[38;5;28;01mraise\u001b[39;00m MergeError(msg)\n\u001b[0;32m--> 786\u001b[0m \u001b[38;5;28mself\u001b[39m\u001b[38;5;241m.\u001b[39mleft_on, \u001b[38;5;28mself\u001b[39m\u001b[38;5;241m.\u001b[39mright_on \u001b[38;5;241m=\u001b[39m \u001b[38;5;28;43mself\u001b[39;49m\u001b[38;5;241;43m.\u001b[39;49m\u001b[43m_validate_left_right_on\u001b[49m\u001b[43m(\u001b[49m\u001b[43mleft_on\u001b[49m\u001b[43m,\u001b[49m\u001b[43m \u001b[49m\u001b[43mright_on\u001b[49m\u001b[43m)\u001b[49m\n\u001b[1;32m    788\u001b[0m (\n\u001b[1;32m    789\u001b[0m     \u001b[38;5;28mself\u001b[39m\u001b[38;5;241m.\u001b[39mleft_join_keys,\n\u001b[1;32m    790\u001b[0m     \u001b[38;5;28mself\u001b[39m\u001b[38;5;241m.\u001b[39mright_join_keys,\n\u001b[0;32m   (...)\u001b[0m\n\u001b[1;32m    793\u001b[0m     right_drop,\n\u001b[1;32m    794\u001b[0m ) \u001b[38;5;241m=\u001b[39m \u001b[38;5;28mself\u001b[39m\u001b[38;5;241m.\u001b[39m_get_merge_keys()\n\u001b[1;32m    796\u001b[0m \u001b[38;5;28;01mif\u001b[39;00m left_drop:\n",
      "File \u001b[0;32m/Library/Frameworks/Python.framework/Versions/3.10/lib/python3.10/site-packages/pandas/core/reshape/merge.py:1572\u001b[0m, in \u001b[0;36m_MergeOperation._validate_left_right_on\u001b[0;34m(self, left_on, right_on)\u001b[0m\n\u001b[1;32m   1570\u001b[0m common_cols \u001b[38;5;241m=\u001b[39m left_cols\u001b[38;5;241m.\u001b[39mintersection(right_cols)\n\u001b[1;32m   1571\u001b[0m \u001b[38;5;28;01mif\u001b[39;00m \u001b[38;5;28mlen\u001b[39m(common_cols) \u001b[38;5;241m==\u001b[39m \u001b[38;5;241m0\u001b[39m:\n\u001b[0;32m-> 1572\u001b[0m     \u001b[38;5;28;01mraise\u001b[39;00m MergeError(\n\u001b[1;32m   1573\u001b[0m         \u001b[38;5;124m\"\u001b[39m\u001b[38;5;124mNo common columns to perform merge on. \u001b[39m\u001b[38;5;124m\"\u001b[39m\n\u001b[1;32m   1574\u001b[0m         \u001b[38;5;124mf\u001b[39m\u001b[38;5;124m\"\u001b[39m\u001b[38;5;124mMerge options: left_on=\u001b[39m\u001b[38;5;132;01m{\u001b[39;00mleft_on\u001b[38;5;132;01m}\u001b[39;00m\u001b[38;5;124m, \u001b[39m\u001b[38;5;124m\"\u001b[39m\n\u001b[1;32m   1575\u001b[0m         \u001b[38;5;124mf\u001b[39m\u001b[38;5;124m\"\u001b[39m\u001b[38;5;124mright_on=\u001b[39m\u001b[38;5;132;01m{\u001b[39;00mright_on\u001b[38;5;132;01m}\u001b[39;00m\u001b[38;5;124m, \u001b[39m\u001b[38;5;124m\"\u001b[39m\n\u001b[1;32m   1576\u001b[0m         \u001b[38;5;124mf\u001b[39m\u001b[38;5;124m\"\u001b[39m\u001b[38;5;124mleft_index=\u001b[39m\u001b[38;5;132;01m{\u001b[39;00m\u001b[38;5;28mself\u001b[39m\u001b[38;5;241m.\u001b[39mleft_index\u001b[38;5;132;01m}\u001b[39;00m\u001b[38;5;124m, \u001b[39m\u001b[38;5;124m\"\u001b[39m\n\u001b[1;32m   1577\u001b[0m         \u001b[38;5;124mf\u001b[39m\u001b[38;5;124m\"\u001b[39m\u001b[38;5;124mright_index=\u001b[39m\u001b[38;5;132;01m{\u001b[39;00m\u001b[38;5;28mself\u001b[39m\u001b[38;5;241m.\u001b[39mright_index\u001b[38;5;132;01m}\u001b[39;00m\u001b[38;5;124m\"\u001b[39m\n\u001b[1;32m   1578\u001b[0m     )\n\u001b[1;32m   1579\u001b[0m \u001b[38;5;28;01mif\u001b[39;00m (\n\u001b[1;32m   1580\u001b[0m     \u001b[38;5;129;01mnot\u001b[39;00m left_cols\u001b[38;5;241m.\u001b[39mjoin(common_cols, how\u001b[38;5;241m=\u001b[39m\u001b[38;5;124m\"\u001b[39m\u001b[38;5;124minner\u001b[39m\u001b[38;5;124m\"\u001b[39m)\u001b[38;5;241m.\u001b[39mis_unique\n\u001b[1;32m   1581\u001b[0m     \u001b[38;5;129;01mor\u001b[39;00m \u001b[38;5;129;01mnot\u001b[39;00m right_cols\u001b[38;5;241m.\u001b[39mjoin(common_cols, how\u001b[38;5;241m=\u001b[39m\u001b[38;5;124m\"\u001b[39m\u001b[38;5;124minner\u001b[39m\u001b[38;5;124m\"\u001b[39m)\u001b[38;5;241m.\u001b[39mis_unique\n\u001b[1;32m   1582\u001b[0m ):\n\u001b[1;32m   1583\u001b[0m     \u001b[38;5;28;01mraise\u001b[39;00m MergeError(\u001b[38;5;124mf\u001b[39m\u001b[38;5;124m\"\u001b[39m\u001b[38;5;124mData columns not unique: \u001b[39m\u001b[38;5;132;01m{\u001b[39;00m\u001b[38;5;28mrepr\u001b[39m(common_cols)\u001b[38;5;132;01m}\u001b[39;00m\u001b[38;5;124m\"\u001b[39m)\n",
      "\u001b[0;31mMergeError\u001b[0m: No common columns to perform merge on. Merge options: left_on=None, right_on=None, left_index=False, right_index=False"
     ]
    }
   ],
   "source": [
    "## Add ResponseId from df_numbers_filtered to the left of df_factor_cols on index since they don't have the same columns\n",
    "\n",
    "df_new = pd.merge(df_numbers_filtered[['ResponseId']], df_factor_avg)\n",
    "df_new = pd.merge(df_new, df_demodata)\n",
    "\n",
    "## Drop columns 5.2 - 5.4\n",
    "\n",
    "# df_new.drop(columns=['Q5.2', 'Q5.3', 'Q5.4'], inplace=True)\n",
    "\n",
    "# ## Rename column Q5.5 to Specialty\n",
    "# ## Rename column Q5.6 to Role\n",
    "# ## Rename column Q5.7 to Years in Practice\n",
    "\n",
    "# df_new.rename(columns={'Q5.5': 'Specialty', 'Q5.6': 'Role', 'Q5.7': 'Years in Practice'}, inplace=True)\n",
    "\n",
    "# ## For Specialty and Role, split the column on commas into a list\n",
    "\n",
    "# df_new['Specialty'] = df_new['Specialty'].str.split(',')\n",
    "# df_new\n",
    "\n",
    "# ## Rename columns Q2.2 to 4.10 with an abbreviated version of the question text\n",
    "\n",
    "# df_new.rename(columns=question_dict, inplace=True)\n",
    "\n",
    "# df_new.to_csv('openaitest.csv')"
   ]
  },
  {
   "cell_type": "code",
   "execution_count": null,
   "metadata": {},
   "outputs": [
    {
     "ename": "NameError",
     "evalue": "name 'df_new' is not defined",
     "output_type": "error",
     "traceback": [
      "\u001b[0;31m---------------------------------------------------------------------------\u001b[0m",
      "\u001b[0;31mNameError\u001b[0m                                 Traceback (most recent call last)",
      "Cell \u001b[0;32mIn[1], line 1\u001b[0m\n\u001b[0;32m----> 1\u001b[0m \u001b[43mdf_new\u001b[49m\n",
      "\u001b[0;31mNameError\u001b[0m: name 'df_new' is not defined"
     ]
    }
   ],
   "source": [
    "\n",
    "df_new\n"
   ]
  },
  {
   "cell_type": "code",
   "execution_count": null,
   "metadata": {},
   "outputs": [
    {
     "data": {
      "application/vnd.plotly.v1+json": {
       "config": {
        "plotlyServerURL": "https://plot.ly"
       },
       "data": [
        {
         "hovertemplate": "x=%{x}<br>y=%{y}<extra></extra>",
         "legendgroup": "",
         "line": {
          "color": "#636efa",
          "dash": "solid"
         },
         "marker": {
          "symbol": "circle"
         },
         "mode": "lines",
         "name": "",
         "orientation": "v",
         "showlegend": false,
         "type": "scatter",
         "x": [
          1,
          2,
          3,
          4,
          5,
          6,
          7,
          8,
          9,
          10,
          11,
          12,
          13,
          14,
          15,
          16,
          17,
          18,
          19,
          20,
          21,
          22,
          23,
          24,
          25,
          26,
          27,
          28,
          29,
          30,
          31
         ],
         "xaxis": "x",
         "y": [
          7.921056737249208,
          2.970315015589019,
          2.1757762938133176,
          1.9946349756910369,
          1.5643543611493946,
          1.435344387957213,
          1.2940180087211797,
          1.0730871680744696,
          0.9976221098163235,
          0.9568903552191689,
          0.791179554843833,
          0.7383192216373409,
          0.7270432433918342,
          0.6794533836963417,
          0.6419955796768716,
          0.5900130826252943,
          0.5486542768121077,
          0.48163187719478073,
          0.461581893654354,
          0.4243947767822622,
          0.3576183474793383,
          0.3424088350538042,
          0.2951900473426772,
          0.2718834319780145,
          0.25622378762180226,
          0.23043828044209588,
          0.1997034439980139,
          0.17420653126578878,
          0.16548190493128545,
          0.15183887118018066,
          0.08764021511163794
         ],
         "yaxis": "y"
        }
       ],
       "layout": {
        "legend": {
         "tracegroupgap": 0
        },
        "margin": {
         "t": 60
        },
        "template": {
         "data": {
          "bar": [
           {
            "error_x": {
             "color": "#2a3f5f"
            },
            "error_y": {
             "color": "#2a3f5f"
            },
            "marker": {
             "line": {
              "color": "#E5ECF6",
              "width": 0.5
             },
             "pattern": {
              "fillmode": "overlay",
              "size": 10,
              "solidity": 0.2
             }
            },
            "type": "bar"
           }
          ],
          "barpolar": [
           {
            "marker": {
             "line": {
              "color": "#E5ECF6",
              "width": 0.5
             },
             "pattern": {
              "fillmode": "overlay",
              "size": 10,
              "solidity": 0.2
             }
            },
            "type": "barpolar"
           }
          ],
          "carpet": [
           {
            "aaxis": {
             "endlinecolor": "#2a3f5f",
             "gridcolor": "white",
             "linecolor": "white",
             "minorgridcolor": "white",
             "startlinecolor": "#2a3f5f"
            },
            "baxis": {
             "endlinecolor": "#2a3f5f",
             "gridcolor": "white",
             "linecolor": "white",
             "minorgridcolor": "white",
             "startlinecolor": "#2a3f5f"
            },
            "type": "carpet"
           }
          ],
          "choropleth": [
           {
            "colorbar": {
             "outlinewidth": 0,
             "ticks": ""
            },
            "type": "choropleth"
           }
          ],
          "contour": [
           {
            "colorbar": {
             "outlinewidth": 0,
             "ticks": ""
            },
            "colorscale": [
             [
              0,
              "#0d0887"
             ],
             [
              0.1111111111111111,
              "#46039f"
             ],
             [
              0.2222222222222222,
              "#7201a8"
             ],
             [
              0.3333333333333333,
              "#9c179e"
             ],
             [
              0.4444444444444444,
              "#bd3786"
             ],
             [
              0.5555555555555556,
              "#d8576b"
             ],
             [
              0.6666666666666666,
              "#ed7953"
             ],
             [
              0.7777777777777778,
              "#fb9f3a"
             ],
             [
              0.8888888888888888,
              "#fdca26"
             ],
             [
              1,
              "#f0f921"
             ]
            ],
            "type": "contour"
           }
          ],
          "contourcarpet": [
           {
            "colorbar": {
             "outlinewidth": 0,
             "ticks": ""
            },
            "type": "contourcarpet"
           }
          ],
          "heatmap": [
           {
            "colorbar": {
             "outlinewidth": 0,
             "ticks": ""
            },
            "colorscale": [
             [
              0,
              "#0d0887"
             ],
             [
              0.1111111111111111,
              "#46039f"
             ],
             [
              0.2222222222222222,
              "#7201a8"
             ],
             [
              0.3333333333333333,
              "#9c179e"
             ],
             [
              0.4444444444444444,
              "#bd3786"
             ],
             [
              0.5555555555555556,
              "#d8576b"
             ],
             [
              0.6666666666666666,
              "#ed7953"
             ],
             [
              0.7777777777777778,
              "#fb9f3a"
             ],
             [
              0.8888888888888888,
              "#fdca26"
             ],
             [
              1,
              "#f0f921"
             ]
            ],
            "type": "heatmap"
           }
          ],
          "heatmapgl": [
           {
            "colorbar": {
             "outlinewidth": 0,
             "ticks": ""
            },
            "colorscale": [
             [
              0,
              "#0d0887"
             ],
             [
              0.1111111111111111,
              "#46039f"
             ],
             [
              0.2222222222222222,
              "#7201a8"
             ],
             [
              0.3333333333333333,
              "#9c179e"
             ],
             [
              0.4444444444444444,
              "#bd3786"
             ],
             [
              0.5555555555555556,
              "#d8576b"
             ],
             [
              0.6666666666666666,
              "#ed7953"
             ],
             [
              0.7777777777777778,
              "#fb9f3a"
             ],
             [
              0.8888888888888888,
              "#fdca26"
             ],
             [
              1,
              "#f0f921"
             ]
            ],
            "type": "heatmapgl"
           }
          ],
          "histogram": [
           {
            "marker": {
             "pattern": {
              "fillmode": "overlay",
              "size": 10,
              "solidity": 0.2
             }
            },
            "type": "histogram"
           }
          ],
          "histogram2d": [
           {
            "colorbar": {
             "outlinewidth": 0,
             "ticks": ""
            },
            "colorscale": [
             [
              0,
              "#0d0887"
             ],
             [
              0.1111111111111111,
              "#46039f"
             ],
             [
              0.2222222222222222,
              "#7201a8"
             ],
             [
              0.3333333333333333,
              "#9c179e"
             ],
             [
              0.4444444444444444,
              "#bd3786"
             ],
             [
              0.5555555555555556,
              "#d8576b"
             ],
             [
              0.6666666666666666,
              "#ed7953"
             ],
             [
              0.7777777777777778,
              "#fb9f3a"
             ],
             [
              0.8888888888888888,
              "#fdca26"
             ],
             [
              1,
              "#f0f921"
             ]
            ],
            "type": "histogram2d"
           }
          ],
          "histogram2dcontour": [
           {
            "colorbar": {
             "outlinewidth": 0,
             "ticks": ""
            },
            "colorscale": [
             [
              0,
              "#0d0887"
             ],
             [
              0.1111111111111111,
              "#46039f"
             ],
             [
              0.2222222222222222,
              "#7201a8"
             ],
             [
              0.3333333333333333,
              "#9c179e"
             ],
             [
              0.4444444444444444,
              "#bd3786"
             ],
             [
              0.5555555555555556,
              "#d8576b"
             ],
             [
              0.6666666666666666,
              "#ed7953"
             ],
             [
              0.7777777777777778,
              "#fb9f3a"
             ],
             [
              0.8888888888888888,
              "#fdca26"
             ],
             [
              1,
              "#f0f921"
             ]
            ],
            "type": "histogram2dcontour"
           }
          ],
          "mesh3d": [
           {
            "colorbar": {
             "outlinewidth": 0,
             "ticks": ""
            },
            "type": "mesh3d"
           }
          ],
          "parcoords": [
           {
            "line": {
             "colorbar": {
              "outlinewidth": 0,
              "ticks": ""
             }
            },
            "type": "parcoords"
           }
          ],
          "pie": [
           {
            "automargin": true,
            "type": "pie"
           }
          ],
          "scatter": [
           {
            "fillpattern": {
             "fillmode": "overlay",
             "size": 10,
             "solidity": 0.2
            },
            "type": "scatter"
           }
          ],
          "scatter3d": [
           {
            "line": {
             "colorbar": {
              "outlinewidth": 0,
              "ticks": ""
             }
            },
            "marker": {
             "colorbar": {
              "outlinewidth": 0,
              "ticks": ""
             }
            },
            "type": "scatter3d"
           }
          ],
          "scattercarpet": [
           {
            "marker": {
             "colorbar": {
              "outlinewidth": 0,
              "ticks": ""
             }
            },
            "type": "scattercarpet"
           }
          ],
          "scattergeo": [
           {
            "marker": {
             "colorbar": {
              "outlinewidth": 0,
              "ticks": ""
             }
            },
            "type": "scattergeo"
           }
          ],
          "scattergl": [
           {
            "marker": {
             "colorbar": {
              "outlinewidth": 0,
              "ticks": ""
             }
            },
            "type": "scattergl"
           }
          ],
          "scattermapbox": [
           {
            "marker": {
             "colorbar": {
              "outlinewidth": 0,
              "ticks": ""
             }
            },
            "type": "scattermapbox"
           }
          ],
          "scatterpolar": [
           {
            "marker": {
             "colorbar": {
              "outlinewidth": 0,
              "ticks": ""
             }
            },
            "type": "scatterpolar"
           }
          ],
          "scatterpolargl": [
           {
            "marker": {
             "colorbar": {
              "outlinewidth": 0,
              "ticks": ""
             }
            },
            "type": "scatterpolargl"
           }
          ],
          "scatterternary": [
           {
            "marker": {
             "colorbar": {
              "outlinewidth": 0,
              "ticks": ""
             }
            },
            "type": "scatterternary"
           }
          ],
          "surface": [
           {
            "colorbar": {
             "outlinewidth": 0,
             "ticks": ""
            },
            "colorscale": [
             [
              0,
              "#0d0887"
             ],
             [
              0.1111111111111111,
              "#46039f"
             ],
             [
              0.2222222222222222,
              "#7201a8"
             ],
             [
              0.3333333333333333,
              "#9c179e"
             ],
             [
              0.4444444444444444,
              "#bd3786"
             ],
             [
              0.5555555555555556,
              "#d8576b"
             ],
             [
              0.6666666666666666,
              "#ed7953"
             ],
             [
              0.7777777777777778,
              "#fb9f3a"
             ],
             [
              0.8888888888888888,
              "#fdca26"
             ],
             [
              1,
              "#f0f921"
             ]
            ],
            "type": "surface"
           }
          ],
          "table": [
           {
            "cells": {
             "fill": {
              "color": "#EBF0F8"
             },
             "line": {
              "color": "white"
             }
            },
            "header": {
             "fill": {
              "color": "#C8D4E3"
             },
             "line": {
              "color": "white"
             }
            },
            "type": "table"
           }
          ]
         },
         "layout": {
          "annotationdefaults": {
           "arrowcolor": "#2a3f5f",
           "arrowhead": 0,
           "arrowwidth": 1
          },
          "autotypenumbers": "strict",
          "coloraxis": {
           "colorbar": {
            "outlinewidth": 0,
            "ticks": ""
           }
          },
          "colorscale": {
           "diverging": [
            [
             0,
             "#8e0152"
            ],
            [
             0.1,
             "#c51b7d"
            ],
            [
             0.2,
             "#de77ae"
            ],
            [
             0.3,
             "#f1b6da"
            ],
            [
             0.4,
             "#fde0ef"
            ],
            [
             0.5,
             "#f7f7f7"
            ],
            [
             0.6,
             "#e6f5d0"
            ],
            [
             0.7,
             "#b8e186"
            ],
            [
             0.8,
             "#7fbc41"
            ],
            [
             0.9,
             "#4d9221"
            ],
            [
             1,
             "#276419"
            ]
           ],
           "sequential": [
            [
             0,
             "#0d0887"
            ],
            [
             0.1111111111111111,
             "#46039f"
            ],
            [
             0.2222222222222222,
             "#7201a8"
            ],
            [
             0.3333333333333333,
             "#9c179e"
            ],
            [
             0.4444444444444444,
             "#bd3786"
            ],
            [
             0.5555555555555556,
             "#d8576b"
            ],
            [
             0.6666666666666666,
             "#ed7953"
            ],
            [
             0.7777777777777778,
             "#fb9f3a"
            ],
            [
             0.8888888888888888,
             "#fdca26"
            ],
            [
             1,
             "#f0f921"
            ]
           ],
           "sequentialminus": [
            [
             0,
             "#0d0887"
            ],
            [
             0.1111111111111111,
             "#46039f"
            ],
            [
             0.2222222222222222,
             "#7201a8"
            ],
            [
             0.3333333333333333,
             "#9c179e"
            ],
            [
             0.4444444444444444,
             "#bd3786"
            ],
            [
             0.5555555555555556,
             "#d8576b"
            ],
            [
             0.6666666666666666,
             "#ed7953"
            ],
            [
             0.7777777777777778,
             "#fb9f3a"
            ],
            [
             0.8888888888888888,
             "#fdca26"
            ],
            [
             1,
             "#f0f921"
            ]
           ]
          },
          "colorway": [
           "#636efa",
           "#EF553B",
           "#00cc96",
           "#ab63fa",
           "#FFA15A",
           "#19d3f3",
           "#FF6692",
           "#B6E880",
           "#FF97FF",
           "#FECB52"
          ],
          "font": {
           "color": "#2a3f5f"
          },
          "geo": {
           "bgcolor": "white",
           "lakecolor": "white",
           "landcolor": "#E5ECF6",
           "showlakes": true,
           "showland": true,
           "subunitcolor": "white"
          },
          "hoverlabel": {
           "align": "left"
          },
          "hovermode": "closest",
          "mapbox": {
           "style": "light"
          },
          "paper_bgcolor": "white",
          "plot_bgcolor": "#E5ECF6",
          "polar": {
           "angularaxis": {
            "gridcolor": "white",
            "linecolor": "white",
            "ticks": ""
           },
           "bgcolor": "#E5ECF6",
           "radialaxis": {
            "gridcolor": "white",
            "linecolor": "white",
            "ticks": ""
           }
          },
          "scene": {
           "xaxis": {
            "backgroundcolor": "#E5ECF6",
            "gridcolor": "white",
            "gridwidth": 2,
            "linecolor": "white",
            "showbackground": true,
            "ticks": "",
            "zerolinecolor": "white"
           },
           "yaxis": {
            "backgroundcolor": "#E5ECF6",
            "gridcolor": "white",
            "gridwidth": 2,
            "linecolor": "white",
            "showbackground": true,
            "ticks": "",
            "zerolinecolor": "white"
           },
           "zaxis": {
            "backgroundcolor": "#E5ECF6",
            "gridcolor": "white",
            "gridwidth": 2,
            "linecolor": "white",
            "showbackground": true,
            "ticks": "",
            "zerolinecolor": "white"
           }
          },
          "shapedefaults": {
           "line": {
            "color": "#2a3f5f"
           }
          },
          "ternary": {
           "aaxis": {
            "gridcolor": "white",
            "linecolor": "white",
            "ticks": ""
           },
           "baxis": {
            "gridcolor": "white",
            "linecolor": "white",
            "ticks": ""
           },
           "bgcolor": "#E5ECF6",
           "caxis": {
            "gridcolor": "white",
            "linecolor": "white",
            "ticks": ""
           }
          },
          "title": {
           "x": 0.05
          },
          "xaxis": {
           "automargin": true,
           "gridcolor": "white",
           "linecolor": "white",
           "ticks": "",
           "title": {
            "standoff": 15
           },
           "zerolinecolor": "white",
           "zerolinewidth": 2
          },
          "yaxis": {
           "automargin": true,
           "gridcolor": "white",
           "linecolor": "white",
           "ticks": "",
           "title": {
            "standoff": 15
           },
           "zerolinecolor": "white",
           "zerolinewidth": 2
          }
         }
        },
        "title": {
         "text": "Scree Plot"
        },
        "xaxis": {
         "anchor": "y",
         "domain": [
          0,
          1
         ],
         "title": {
          "text": "Number of Factors"
         }
        },
        "yaxis": {
         "anchor": "x",
         "domain": [
          0,
          1
         ],
         "title": {
          "text": "Eigenvalue"
         }
        }
       }
      }
     },
     "metadata": {},
     "output_type": "display_data"
    }
   ],
   "source": [
    "## Create a factor analyzer variable and perform factor analysis on df_likert_cols\n",
    "\n",
    "fa = FactorAnalyzer(n_factors=3, rotation='varimax')\n",
    "fa.fit(df_likert_cols)\n",
    "\n",
    "## Get the loadings\n",
    "\n",
    "loadings = fa.loadings_\n",
    "loadings \n",
    "\n",
    "## Get the eigenvalues\n",
    "\n",
    "ev, v = fa.get_eigenvalues()\n",
    "ev\n",
    "\n",
    "## Create a scree plot\n",
    "\n",
    "fig = px.line(x=range(1,df_likert_cols.shape[1]+1), y=ev)\n",
    "\n",
    "fig.update_layout(\n",
    "    title=\"Scree Plot\",\n",
    "    xaxis_title=\"Number of Factors\",\n",
    "    yaxis_title=\"Eigenvalue\"\n",
    ")\n",
    "\n",
    "fig.show()"
   ]
  },
  {
   "cell_type": "code",
   "execution_count": null,
   "metadata": {},
   "outputs": [
    {
     "data": {
      "text/html": [
       "<div>\n",
       "<style scoped>\n",
       "    .dataframe tbody tr th:only-of-type {\n",
       "        vertical-align: middle;\n",
       "    }\n",
       "\n",
       "    .dataframe tbody tr th {\n",
       "        vertical-align: top;\n",
       "    }\n",
       "\n",
       "    .dataframe thead th {\n",
       "        text-align: right;\n",
       "    }\n",
       "</style>\n",
       "<table border=\"1\" class=\"dataframe\">\n",
       "  <thead>\n",
       "    <tr style=\"text-align: right;\">\n",
       "      <th></th>\n",
       "      <th>Question</th>\n",
       "      <th>0</th>\n",
       "      <th>1</th>\n",
       "      <th>2</th>\n",
       "    </tr>\n",
       "  </thead>\n",
       "  <tbody>\n",
       "    <tr>\n",
       "      <th>0</th>\n",
       "      <td>Q2.2</td>\n",
       "      <td>0.168738</td>\n",
       "      <td>0.367568</td>\n",
       "      <td>0.696161</td>\n",
       "    </tr>\n",
       "    <tr>\n",
       "      <th>1</th>\n",
       "      <td>Q2.3</td>\n",
       "      <td>0.239962</td>\n",
       "      <td>0.321137</td>\n",
       "      <td>0.692259</td>\n",
       "    </tr>\n",
       "    <tr>\n",
       "      <th>2</th>\n",
       "      <td>Q2.4</td>\n",
       "      <td>0.163614</td>\n",
       "      <td>0.245048</td>\n",
       "      <td>0.783473</td>\n",
       "    </tr>\n",
       "    <tr>\n",
       "      <th>3</th>\n",
       "      <td>Q2.5</td>\n",
       "      <td>0.152253</td>\n",
       "      <td>-0.067103</td>\n",
       "      <td>0.310481</td>\n",
       "    </tr>\n",
       "    <tr>\n",
       "      <th>4</th>\n",
       "      <td>Q2.6</td>\n",
       "      <td>0.074124</td>\n",
       "      <td>-0.219896</td>\n",
       "      <td>0.241503</td>\n",
       "    </tr>\n",
       "    <tr>\n",
       "      <th>5</th>\n",
       "      <td>Q2.7</td>\n",
       "      <td>-0.006729</td>\n",
       "      <td>-0.272597</td>\n",
       "      <td>0.257548</td>\n",
       "    </tr>\n",
       "    <tr>\n",
       "      <th>6</th>\n",
       "      <td>Q2.8</td>\n",
       "      <td>0.031610</td>\n",
       "      <td>0.425643</td>\n",
       "      <td>0.047275</td>\n",
       "    </tr>\n",
       "    <tr>\n",
       "      <th>7</th>\n",
       "      <td>Q2.9</td>\n",
       "      <td>-0.008762</td>\n",
       "      <td>0.492640</td>\n",
       "      <td>0.001076</td>\n",
       "    </tr>\n",
       "    <tr>\n",
       "      <th>8</th>\n",
       "      <td>Q2.10</td>\n",
       "      <td>0.151554</td>\n",
       "      <td>0.250387</td>\n",
       "      <td>0.187034</td>\n",
       "    </tr>\n",
       "    <tr>\n",
       "      <th>9</th>\n",
       "      <td>Q2.11</td>\n",
       "      <td>-0.081526</td>\n",
       "      <td>-0.125058</td>\n",
       "      <td>-0.091558</td>\n",
       "    </tr>\n",
       "    <tr>\n",
       "      <th>10</th>\n",
       "      <td>Q2.12</td>\n",
       "      <td>0.023095</td>\n",
       "      <td>0.126200</td>\n",
       "      <td>0.233138</td>\n",
       "    </tr>\n",
       "    <tr>\n",
       "      <th>11</th>\n",
       "      <td>Q2.13</td>\n",
       "      <td>0.204621</td>\n",
       "      <td>0.143135</td>\n",
       "      <td>0.593472</td>\n",
       "    </tr>\n",
       "    <tr>\n",
       "      <th>12</th>\n",
       "      <td>Q3.2</td>\n",
       "      <td>0.061733</td>\n",
       "      <td>0.608758</td>\n",
       "      <td>0.163224</td>\n",
       "    </tr>\n",
       "    <tr>\n",
       "      <th>13</th>\n",
       "      <td>Q3.3</td>\n",
       "      <td>0.115339</td>\n",
       "      <td>0.693981</td>\n",
       "      <td>0.105050</td>\n",
       "    </tr>\n",
       "    <tr>\n",
       "      <th>14</th>\n",
       "      <td>Q3.4</td>\n",
       "      <td>0.119440</td>\n",
       "      <td>0.502622</td>\n",
       "      <td>0.063929</td>\n",
       "    </tr>\n",
       "    <tr>\n",
       "      <th>15</th>\n",
       "      <td>Q3.5</td>\n",
       "      <td>0.075033</td>\n",
       "      <td>0.588276</td>\n",
       "      <td>-0.013656</td>\n",
       "    </tr>\n",
       "    <tr>\n",
       "      <th>16</th>\n",
       "      <td>Q3.6</td>\n",
       "      <td>0.181103</td>\n",
       "      <td>0.592144</td>\n",
       "      <td>0.163001</td>\n",
       "    </tr>\n",
       "    <tr>\n",
       "      <th>17</th>\n",
       "      <td>Q3.7</td>\n",
       "      <td>0.214355</td>\n",
       "      <td>0.541876</td>\n",
       "      <td>0.161217</td>\n",
       "    </tr>\n",
       "    <tr>\n",
       "      <th>18</th>\n",
       "      <td>Q3.8</td>\n",
       "      <td>0.271205</td>\n",
       "      <td>0.472764</td>\n",
       "      <td>0.229512</td>\n",
       "    </tr>\n",
       "    <tr>\n",
       "      <th>19</th>\n",
       "      <td>Q3.9</td>\n",
       "      <td>0.220594</td>\n",
       "      <td>0.254358</td>\n",
       "      <td>0.030582</td>\n",
       "    </tr>\n",
       "    <tr>\n",
       "      <th>20</th>\n",
       "      <td>Q3.10</td>\n",
       "      <td>0.162150</td>\n",
       "      <td>0.317480</td>\n",
       "      <td>0.138378</td>\n",
       "    </tr>\n",
       "    <tr>\n",
       "      <th>21</th>\n",
       "      <td>Q3.11</td>\n",
       "      <td>0.206325</td>\n",
       "      <td>0.263502</td>\n",
       "      <td>0.073163</td>\n",
       "    </tr>\n",
       "    <tr>\n",
       "      <th>22</th>\n",
       "      <td>Q4.2</td>\n",
       "      <td>0.589174</td>\n",
       "      <td>0.058433</td>\n",
       "      <td>0.234677</td>\n",
       "    </tr>\n",
       "    <tr>\n",
       "      <th>23</th>\n",
       "      <td>Q4.3</td>\n",
       "      <td>0.695277</td>\n",
       "      <td>0.231248</td>\n",
       "      <td>0.273385</td>\n",
       "    </tr>\n",
       "    <tr>\n",
       "      <th>24</th>\n",
       "      <td>Q4.4</td>\n",
       "      <td>0.586618</td>\n",
       "      <td>0.060086</td>\n",
       "      <td>0.209865</td>\n",
       "    </tr>\n",
       "    <tr>\n",
       "      <th>25</th>\n",
       "      <td>Q4.5</td>\n",
       "      <td>0.648624</td>\n",
       "      <td>0.254789</td>\n",
       "      <td>0.129787</td>\n",
       "    </tr>\n",
       "    <tr>\n",
       "      <th>26</th>\n",
       "      <td>Q4.6</td>\n",
       "      <td>0.756141</td>\n",
       "      <td>0.114957</td>\n",
       "      <td>0.182433</td>\n",
       "    </tr>\n",
       "    <tr>\n",
       "      <th>27</th>\n",
       "      <td>Q4.7</td>\n",
       "      <td>0.688298</td>\n",
       "      <td>0.039052</td>\n",
       "      <td>0.117589</td>\n",
       "    </tr>\n",
       "    <tr>\n",
       "      <th>28</th>\n",
       "      <td>Q4.8</td>\n",
       "      <td>0.799773</td>\n",
       "      <td>0.110629</td>\n",
       "      <td>0.085691</td>\n",
       "    </tr>\n",
       "    <tr>\n",
       "      <th>29</th>\n",
       "      <td>Q4.9</td>\n",
       "      <td>0.780146</td>\n",
       "      <td>0.176733</td>\n",
       "      <td>0.042810</td>\n",
       "    </tr>\n",
       "    <tr>\n",
       "      <th>30</th>\n",
       "      <td>Q4.10</td>\n",
       "      <td>0.731298</td>\n",
       "      <td>0.214079</td>\n",
       "      <td>0.086956</td>\n",
       "    </tr>\n",
       "  </tbody>\n",
       "</table>\n",
       "</div>"
      ],
      "text/plain": [
       "   Question         0         1         2\n",
       "0      Q2.2  0.168738  0.367568  0.696161\n",
       "1      Q2.3  0.239962  0.321137  0.692259\n",
       "2      Q2.4  0.163614  0.245048  0.783473\n",
       "3      Q2.5  0.152253 -0.067103  0.310481\n",
       "4      Q2.6  0.074124 -0.219896  0.241503\n",
       "5      Q2.7 -0.006729 -0.272597  0.257548\n",
       "6      Q2.8  0.031610  0.425643  0.047275\n",
       "7      Q2.9 -0.008762  0.492640  0.001076\n",
       "8     Q2.10  0.151554  0.250387  0.187034\n",
       "9     Q2.11 -0.081526 -0.125058 -0.091558\n",
       "10    Q2.12  0.023095  0.126200  0.233138\n",
       "11    Q2.13  0.204621  0.143135  0.593472\n",
       "12     Q3.2  0.061733  0.608758  0.163224\n",
       "13     Q3.3  0.115339  0.693981  0.105050\n",
       "14     Q3.4  0.119440  0.502622  0.063929\n",
       "15     Q3.5  0.075033  0.588276 -0.013656\n",
       "16     Q3.6  0.181103  0.592144  0.163001\n",
       "17     Q3.7  0.214355  0.541876  0.161217\n",
       "18     Q3.8  0.271205  0.472764  0.229512\n",
       "19     Q3.9  0.220594  0.254358  0.030582\n",
       "20    Q3.10  0.162150  0.317480  0.138378\n",
       "21    Q3.11  0.206325  0.263502  0.073163\n",
       "22     Q4.2  0.589174  0.058433  0.234677\n",
       "23     Q4.3  0.695277  0.231248  0.273385\n",
       "24     Q4.4  0.586618  0.060086  0.209865\n",
       "25     Q4.5  0.648624  0.254789  0.129787\n",
       "26     Q4.6  0.756141  0.114957  0.182433\n",
       "27     Q4.7  0.688298  0.039052  0.117589\n",
       "28     Q4.8  0.799773  0.110629  0.085691\n",
       "29     Q4.9  0.780146  0.176733  0.042810\n",
       "30    Q4.10  0.731298  0.214079  0.086956"
      ]
     },
     "execution_count": 58,
     "metadata": {},
     "output_type": "execute_result"
    }
   ],
   "source": [
    "## Generate a dataframe of the loadings\n",
    "\n",
    "df_loadings = pd.DataFrame(loadings, index=df_likert_cols.columns)\n",
    "df_loadings.reset_index(inplace=True)\n",
    "\n",
    "df_loadings.rename(columns={'index':'Question'}, inplace=True)\n",
    "\n",
    "df_loadings"
   ]
  },
  {
   "cell_type": "code",
   "execution_count": null,
   "metadata": {},
   "outputs": [],
   "source": [
    "## for each group in df_likert_new.groupby('ID, question, questionnumber, questionsubnumber')\n",
    "## calculate the total valuecount for each question where numeric score is greater than equal to 4 or less than equal to 7\n",
    "\n",
    "df_likert_new['total'] = df_likert_new.groupby(['ID', 'Question', 'QuestionNumber', 'QuestionSubNumber'])['Count'].transform('sum')"
   ]
  },
  {
   "cell_type": "code",
   "execution_count": null,
   "metadata": {},
   "outputs": [],
   "source": [
    "## Obtain Institutions\n",
    "institutions = df_institutions['distribution'].unique().tolist()"
   ]
  },
  {
   "cell_type": "code",
   "execution_count": null,
   "metadata": {},
   "outputs": [
    {
     "ename": "NameError",
     "evalue": "name 'df1' is not defined",
     "output_type": "error",
     "traceback": [
      "\u001b[0;31m---------------------------------------------------------------------------\u001b[0m",
      "\u001b[0;31mNameError\u001b[0m                                 Traceback (most recent call last)",
      "Cell \u001b[0;32mIn[61], line 2\u001b[0m\n\u001b[1;32m      1\u001b[0m \u001b[38;5;66;03m## Ensure Finished Column is a Boolean Expression\u001b[39;00m\n\u001b[0;32m----> 2\u001b[0m df1[\u001b[38;5;124m'\u001b[39m\u001b[38;5;124mFinished\u001b[39m\u001b[38;5;124m'\u001b[39m] \u001b[38;5;241m=\u001b[39m \u001b[43mdf1\u001b[49m[\u001b[38;5;124m'\u001b[39m\u001b[38;5;124mFinished\u001b[39m\u001b[38;5;124m'\u001b[39m]\u001b[38;5;241m.\u001b[39mastype(\u001b[38;5;28mbool\u001b[39m)\n\u001b[1;32m      5\u001b[0m \u001b[38;5;66;03m## Q6.1 is the comments field. Make new boolean column indicating whether the word \"test\" appears in comments. Need to first ensure comments column is not null\u001b[39;00m\n\u001b[1;32m      6\u001b[0m df1[\u001b[38;5;124m'\u001b[39m\u001b[38;5;124mQ6.1\u001b[39m\u001b[38;5;124m'\u001b[39m] \u001b[38;5;241m=\u001b[39m df1[\u001b[38;5;124m'\u001b[39m\u001b[38;5;124mQ6.1\u001b[39m\u001b[38;5;124m'\u001b[39m]\u001b[38;5;241m.\u001b[39mfillna(\u001b[38;5;124m'\u001b[39m\u001b[38;5;124m'\u001b[39m)\n",
      "\u001b[0;31mNameError\u001b[0m: name 'df1' is not defined"
     ]
    }
   ],
   "source": [
    "\n",
    "## Ensure Finished Column is a Boolean Expression\n",
    "df1['Finished'] = df1['Finished'].astype(bool)\n",
    "\n",
    "\n",
    "## Q6.1 is the comments field. Make new boolean column indicating whether the word \"test\" appears in comments. Need to first ensure comments column is not null\n",
    "df1['Q6.1'] = df1['Q6.1'].fillna('')\n",
    "\n",
    "def _is_test(str):\n",
    "    return 'test' in str.lower()\n",
    "\n",
    "df1['isTest'] = df1.apply(\n",
    "    lambda x:\n",
    "    _is_test(x['Q6.1']),\n",
    "    axis=1\n",
    ")\n",
    "\n",
    "## Turn unanswered questions into a list and create a new column to measure the length of that list\n",
    "\n",
    "df1['unanswered_list'] = df1['Q_UnansweredQuestions'].fillna('').str.split(pat=',')\n",
    "df1['len_unanswered'] = df1.apply(\n",
    "    lambda x:\n",
    "    len(x['unanswered_list']),\n",
    "    axis=1\n",
    ")\n",
    "\n",
    "\n",
    "## Filter Initial Dataframe on complete responses from valid institutions\n",
    "\n",
    "df1_filtered = df1[(df1['Finished']) &\n",
    "         (df1['Progress'] == '100') &\n",
    "         (df1['distribution'].isin(institutions)) &\n",
    "         (df1['len_unanswered'] < 5) &\n",
    "         (df1['Q5.5'].notnull()) &\n",
    "         (~df1['isTest'])]\n",
    "\n",
    "\n",
    "df1_filtered.to_csv('test.csv')\n",
    "\n",
    "len(df1_filtered)\n",
    "\n",
    "df1_melt = df1_filtered.melt(id_vars=['distribution', 'IPAddress', 'ResponseId', 'Q5.5', 'Q5.6', 'Q5.7'], value_vars=['Q2.2', 'Q2.3', 'Q2.4', 'Q2.5',\n",
    "       'Q2.6', 'Q2.7', 'Q2.8', 'Q2.9', 'Q2.10', 'Q2.11', 'Q2.12', 'Q2.13',\n",
    "       'Q3.2', 'Q3.3', 'Q3.4', 'Q3.5', 'Q3.6', 'Q3.7', 'Q3.8', 'Q3.9', 'Q3.10',\n",
    "       'Q3.11', 'Q4.2', 'Q4.3', 'Q4.4', 'Q4.5', 'Q4.6', 'Q4.7', 'Q4.8', 'Q4.9',\n",
    "       'Q4.10', 'Q6.1'], var_name='question_id', value_name='response')\n",
    "\n",
    "df1_melt\n",
    "\n"
   ]
  },
  {
   "cell_type": "code",
   "execution_count": null,
   "metadata": {},
   "outputs": [
    {
     "data": {
      "text/html": [
       "<div>\n",
       "<style scoped>\n",
       "    .dataframe tbody tr th:only-of-type {\n",
       "        vertical-align: middle;\n",
       "    }\n",
       "\n",
       "    .dataframe tbody tr th {\n",
       "        vertical-align: top;\n",
       "    }\n",
       "\n",
       "    .dataframe thead th {\n",
       "        text-align: right;\n",
       "    }\n",
       "</style>\n",
       "<table border=\"1\" class=\"dataframe\">\n",
       "  <thead>\n",
       "    <tr style=\"text-align: right;\">\n",
       "      <th></th>\n",
       "      <th>distribution</th>\n",
       "      <th>IPAddress</th>\n",
       "      <th>ResponseId</th>\n",
       "      <th>Q5.5</th>\n",
       "      <th>Q5.6</th>\n",
       "      <th>Q5.7</th>\n",
       "      <th>question_id</th>\n",
       "      <th>response</th>\n",
       "    </tr>\n",
       "  </thead>\n",
       "  <tbody>\n",
       "    <tr>\n",
       "      <th>0</th>\n",
       "      <td>ucsf</td>\n",
       "      <td>128.218.42.33</td>\n",
       "      <td>R_1dMlSI0KXyxsTZn</td>\n",
       "      <td>13,1,2</td>\n",
       "      <td>NaN</td>\n",
       "      <td>16</td>\n",
       "      <td>Q2.2</td>\n",
       "      <td>5</td>\n",
       "    </tr>\n",
       "    <tr>\n",
       "      <th>1</th>\n",
       "      <td>ucsf</td>\n",
       "      <td>64.54.15.149</td>\n",
       "      <td>R_7QYh6bTyOmOQo3D</td>\n",
       "      <td>11</td>\n",
       "      <td>NaN</td>\n",
       "      <td>1</td>\n",
       "      <td>Q2.2</td>\n",
       "      <td>4</td>\n",
       "    </tr>\n",
       "    <tr>\n",
       "      <th>2</th>\n",
       "      <td>ucsf</td>\n",
       "      <td>71.202.126.93</td>\n",
       "      <td>R_6tYa59Tv4zOhQgp</td>\n",
       "      <td>1,14</td>\n",
       "      <td>NaN</td>\n",
       "      <td>NaN</td>\n",
       "      <td>Q2.2</td>\n",
       "      <td>5</td>\n",
       "    </tr>\n",
       "    <tr>\n",
       "      <th>3</th>\n",
       "      <td>ucsf</td>\n",
       "      <td>72.110.116.35</td>\n",
       "      <td>R_25RsYOfgaO79uts</td>\n",
       "      <td>3</td>\n",
       "      <td>NaN</td>\n",
       "      <td>15</td>\n",
       "      <td>Q2.2</td>\n",
       "      <td>5</td>\n",
       "    </tr>\n",
       "    <tr>\n",
       "      <th>4</th>\n",
       "      <td>ucsf</td>\n",
       "      <td>128.218.42.21</td>\n",
       "      <td>R_22qNtCIlTv6yOWH</td>\n",
       "      <td>8</td>\n",
       "      <td>NaN</td>\n",
       "      <td>1</td>\n",
       "      <td>Q2.2</td>\n",
       "      <td>5</td>\n",
       "    </tr>\n",
       "    <tr>\n",
       "      <th>...</th>\n",
       "      <td>...</td>\n",
       "      <td>...</td>\n",
       "      <td>...</td>\n",
       "      <td>...</td>\n",
       "      <td>...</td>\n",
       "      <td>...</td>\n",
       "      <td>...</td>\n",
       "      <td>...</td>\n",
       "    </tr>\n",
       "    <tr>\n",
       "      <th>7995</th>\n",
       "      <td>lehigh</td>\n",
       "      <td>167.12.22.201</td>\n",
       "      <td>R_2UWpCS5RBPaA3Iv</td>\n",
       "      <td>1,11,16</td>\n",
       "      <td>NaN</td>\n",
       "      <td>22</td>\n",
       "      <td>Q6.1</td>\n",
       "      <td></td>\n",
       "    </tr>\n",
       "    <tr>\n",
       "      <th>7996</th>\n",
       "      <td>lehigh</td>\n",
       "      <td>167.12.22.201</td>\n",
       "      <td>R_2ZK4wuIarxnJyB9</td>\n",
       "      <td>13,1,4,14</td>\n",
       "      <td>NaN</td>\n",
       "      <td>12</td>\n",
       "      <td>Q6.1</td>\n",
       "      <td></td>\n",
       "    </tr>\n",
       "    <tr>\n",
       "      <th>7997</th>\n",
       "      <td>northwestern</td>\n",
       "      <td>172.59.187.168</td>\n",
       "      <td>R_3g11P1lUjVkrlvn</td>\n",
       "      <td>9</td>\n",
       "      <td>NaN</td>\n",
       "      <td>2.5</td>\n",
       "      <td>Q6.1</td>\n",
       "      <td></td>\n",
       "    </tr>\n",
       "    <tr>\n",
       "      <th>7998</th>\n",
       "      <td>northwestern</td>\n",
       "      <td>24.1.124.59</td>\n",
       "      <td>R_qCakSsa3qVx6bYd</td>\n",
       "      <td>13,1,4,6,8,14</td>\n",
       "      <td>2</td>\n",
       "      <td>4</td>\n",
       "      <td>Q6.1</td>\n",
       "      <td></td>\n",
       "    </tr>\n",
       "    <tr>\n",
       "      <th>7999</th>\n",
       "      <td>northwestern</td>\n",
       "      <td>155.190.17.4</td>\n",
       "      <td>R_7NUyXyZ1p76BYad</td>\n",
       "      <td>13,1,14</td>\n",
       "      <td>1</td>\n",
       "      <td>23</td>\n",
       "      <td>Q6.1</td>\n",
       "      <td></td>\n",
       "    </tr>\n",
       "  </tbody>\n",
       "</table>\n",
       "<p>8000 rows × 8 columns</p>\n",
       "</div>"
      ],
      "text/plain": [
       "      distribution       IPAddress         ResponseId           Q5.5 Q5.6  \\\n",
       "0             ucsf   128.218.42.33  R_1dMlSI0KXyxsTZn         13,1,2  NaN   \n",
       "1             ucsf    64.54.15.149  R_7QYh6bTyOmOQo3D             11  NaN   \n",
       "2             ucsf   71.202.126.93  R_6tYa59Tv4zOhQgp           1,14  NaN   \n",
       "3             ucsf   72.110.116.35  R_25RsYOfgaO79uts              3  NaN   \n",
       "4             ucsf   128.218.42.21  R_22qNtCIlTv6yOWH              8  NaN   \n",
       "...            ...             ...                ...            ...  ...   \n",
       "7995        lehigh   167.12.22.201  R_2UWpCS5RBPaA3Iv        1,11,16  NaN   \n",
       "7996        lehigh   167.12.22.201  R_2ZK4wuIarxnJyB9      13,1,4,14  NaN   \n",
       "7997  northwestern  172.59.187.168  R_3g11P1lUjVkrlvn              9  NaN   \n",
       "7998  northwestern     24.1.124.59  R_qCakSsa3qVx6bYd  13,1,4,6,8,14    2   \n",
       "7999  northwestern    155.190.17.4  R_7NUyXyZ1p76BYad        13,1,14    1   \n",
       "\n",
       "     Q5.7 question_id response  \n",
       "0      16        Q2.2        5  \n",
       "1       1        Q2.2        4  \n",
       "2     NaN        Q2.2        5  \n",
       "3      15        Q2.2        5  \n",
       "4       1        Q2.2        5  \n",
       "...   ...         ...      ...  \n",
       "7995   22        Q6.1           \n",
       "7996   12        Q6.1           \n",
       "7997  2.5        Q6.1           \n",
       "7998    4        Q6.1           \n",
       "7999   23        Q6.1           \n",
       "\n",
       "[8000 rows x 8 columns]"
      ]
     },
     "execution_count": 541,
     "metadata": {},
     "output_type": "execute_result"
    }
   ],
   "source": [
    "## Ensure Finished Column is a Boolean Expression\n",
    "df2['Finished'] = df2['Finished'].astype(bool)\n",
    "\n",
    "\n",
    "## Q6.1 is the comments field. Make new boolean column indicating whether the word \"test\" appears in comments. Need to first ensure comments column is not null\n",
    "df2['Q6.1'] = df2['Q6.1'].fillna('')\n",
    "\n",
    "def _is_test(str):\n",
    "    return 'test' in str.lower()\n",
    "\n",
    "df2['isTest'] = df2.apply(\n",
    "    lambda x:\n",
    "    _is_test(x['Q6.1']),\n",
    "    axis=1\n",
    ")\n",
    "\n",
    "## Turn unanswered questions into a list and create a new column to measure the length of that list\n",
    "\n",
    "df2['unanswered_list'] = df2['Q_UnansweredQuestions'].fillna('').str.split(pat=',')\n",
    "df2['len_unanswered'] = df2.apply(\n",
    "    lambda x:\n",
    "    len(x['unanswered_list']),\n",
    "    axis=1\n",
    ")\n",
    "\n",
    "\n",
    "## Filter Initial Dataframe on complete responses from valid institutions\n",
    "\n",
    "df2_filtered = df2[(df2['Finished']) &\n",
    "         (df2['Progress'] == '100') &\n",
    "         (df2['distribution'].isin(institutions)) &\n",
    "         (df2['len_unanswered'] < 5) &\n",
    "         (df2['Q5.5'].notnull()) &\n",
    "         (~df2['isTest'])]\n",
    "\n",
    "\n",
    "df2_filtered.to_csv('test.csv')\n",
    "\n",
    "## melt dataframe to turn questions into independent column\n",
    "df2_melt = df2_filtered.melt(id_vars=['distribution', 'IPAddress', 'ResponseId', 'Q5.5', 'Q5.6', 'Q5.7'], value_vars=['Q2.2', 'Q2.3', 'Q2.4', 'Q2.5',\n",
    "       'Q2.6', 'Q2.7', 'Q2.8', 'Q2.9', 'Q2.10', 'Q2.11', 'Q2.12', 'Q2.13',\n",
    "       'Q3.2', 'Q3.3', 'Q3.4', 'Q3.5', 'Q3.6', 'Q3.7', 'Q3.8', 'Q3.9', 'Q3.10',\n",
    "       'Q3.11', 'Q4.2', 'Q4.3', 'Q4.4', 'Q4.5', 'Q4.6', 'Q4.7', 'Q4.8', 'Q4.9',\n",
    "       'Q4.10', 'Q6.1'], var_name='question_id', value_name='response')\n",
    "\n",
    "df2_melt\n"
   ]
  },
  {
   "cell_type": "code",
   "execution_count": null,
   "metadata": {},
   "outputs": [
    {
     "data": {
      "text/html": [
       "<div>\n",
       "<style scoped>\n",
       "    .dataframe tbody tr th:only-of-type {\n",
       "        vertical-align: middle;\n",
       "    }\n",
       "\n",
       "    .dataframe tbody tr th {\n",
       "        vertical-align: top;\n",
       "    }\n",
       "\n",
       "    .dataframe thead th {\n",
       "        text-align: right;\n",
       "    }\n",
       "</style>\n",
       "<table border=\"1\" class=\"dataframe\">\n",
       "  <thead>\n",
       "    <tr style=\"text-align: right;\">\n",
       "      <th></th>\n",
       "      <th>distribution</th>\n",
       "      <th>IPAddress</th>\n",
       "      <th>ResponseId</th>\n",
       "      <th>Q5.5_x</th>\n",
       "      <th>Q5.6_x</th>\n",
       "      <th>Q5.7</th>\n",
       "      <th>question_id</th>\n",
       "      <th>response_x</th>\n",
       "      <th>Q5.5_y</th>\n",
       "      <th>Q5.6_y</th>\n",
       "      <th>response_y</th>\n",
       "    </tr>\n",
       "  </thead>\n",
       "  <tbody>\n",
       "    <tr>\n",
       "      <th>0</th>\n",
       "      <td>ucsf</td>\n",
       "      <td>128.218.42.33</td>\n",
       "      <td>R_1dMlSI0KXyxsTZn</td>\n",
       "      <td>Abdominal Wall/Hernia Surgery,Acute Care Surge...</td>\n",
       "      <td>NaN</td>\n",
       "      <td>16</td>\n",
       "      <td>Q2.2</td>\n",
       "      <td>Extremely critical</td>\n",
       "      <td>13,1,2</td>\n",
       "      <td>NaN</td>\n",
       "      <td>5</td>\n",
       "    </tr>\n",
       "    <tr>\n",
       "      <th>1</th>\n",
       "      <td>ucsf</td>\n",
       "      <td>64.54.15.149</td>\n",
       "      <td>R_7QYh6bTyOmOQo3D</td>\n",
       "      <td>Pediatric Surgery</td>\n",
       "      <td>NaN</td>\n",
       "      <td>1</td>\n",
       "      <td>Q2.2</td>\n",
       "      <td>Quite critical</td>\n",
       "      <td>11</td>\n",
       "      <td>NaN</td>\n",
       "      <td>4</td>\n",
       "    </tr>\n",
       "    <tr>\n",
       "      <th>2</th>\n",
       "      <td>ucsf</td>\n",
       "      <td>71.202.126.93</td>\n",
       "      <td>R_6tYa59Tv4zOhQgp</td>\n",
       "      <td>Acute Care Surgery/Emergency General Surgery,T...</td>\n",
       "      <td>NaN</td>\n",
       "      <td>NaN</td>\n",
       "      <td>Q2.2</td>\n",
       "      <td>Extremely critical</td>\n",
       "      <td>1,14</td>\n",
       "      <td>NaN</td>\n",
       "      <td>5</td>\n",
       "    </tr>\n",
       "    <tr>\n",
       "      <th>3</th>\n",
       "      <td>ucsf</td>\n",
       "      <td>72.110.116.35</td>\n",
       "      <td>R_25RsYOfgaO79uts</td>\n",
       "      <td>Breast Surgery</td>\n",
       "      <td>NaN</td>\n",
       "      <td>15</td>\n",
       "      <td>Q2.2</td>\n",
       "      <td>Extremely critical</td>\n",
       "      <td>3</td>\n",
       "      <td>NaN</td>\n",
       "      <td>5</td>\n",
       "    </tr>\n",
       "    <tr>\n",
       "      <th>4</th>\n",
       "      <td>ucsf</td>\n",
       "      <td>128.218.42.21</td>\n",
       "      <td>R_22qNtCIlTv6yOWH</td>\n",
       "      <td>Vascular Surgery</td>\n",
       "      <td>NaN</td>\n",
       "      <td>1</td>\n",
       "      <td>Q2.2</td>\n",
       "      <td>Extremely critical</td>\n",
       "      <td>8</td>\n",
       "      <td>NaN</td>\n",
       "      <td>5</td>\n",
       "    </tr>\n",
       "    <tr>\n",
       "      <th>...</th>\n",
       "      <td>...</td>\n",
       "      <td>...</td>\n",
       "      <td>...</td>\n",
       "      <td>...</td>\n",
       "      <td>...</td>\n",
       "      <td>...</td>\n",
       "      <td>...</td>\n",
       "      <td>...</td>\n",
       "      <td>...</td>\n",
       "      <td>...</td>\n",
       "      <td>...</td>\n",
       "    </tr>\n",
       "    <tr>\n",
       "      <th>7995</th>\n",
       "      <td>lehigh</td>\n",
       "      <td>167.12.22.201</td>\n",
       "      <td>R_2UWpCS5RBPaA3Iv</td>\n",
       "      <td>Acute Care Surgery/Emergency General Surgery,P...</td>\n",
       "      <td>NaN</td>\n",
       "      <td>22</td>\n",
       "      <td>Q6.1</td>\n",
       "      <td></td>\n",
       "      <td>1,11,16</td>\n",
       "      <td>NaN</td>\n",
       "      <td></td>\n",
       "    </tr>\n",
       "    <tr>\n",
       "      <th>7996</th>\n",
       "      <td>lehigh</td>\n",
       "      <td>167.12.22.201</td>\n",
       "      <td>R_2ZK4wuIarxnJyB9</td>\n",
       "      <td>Abdominal Wall/Hernia Surgery,Acute Care Surge...</td>\n",
       "      <td>NaN</td>\n",
       "      <td>12</td>\n",
       "      <td>Q6.1</td>\n",
       "      <td></td>\n",
       "      <td>13,1,4,14</td>\n",
       "      <td>NaN</td>\n",
       "      <td></td>\n",
       "    </tr>\n",
       "    <tr>\n",
       "      <th>7997</th>\n",
       "      <td>northwestern</td>\n",
       "      <td>172.59.187.168</td>\n",
       "      <td>R_3g11P1lUjVkrlvn</td>\n",
       "      <td>Thoracic Surgery</td>\n",
       "      <td>NaN</td>\n",
       "      <td>2.5</td>\n",
       "      <td>Q6.1</td>\n",
       "      <td></td>\n",
       "      <td>9</td>\n",
       "      <td>NaN</td>\n",
       "      <td></td>\n",
       "    </tr>\n",
       "    <tr>\n",
       "      <th>7998</th>\n",
       "      <td>northwestern</td>\n",
       "      <td>24.1.124.59</td>\n",
       "      <td>R_qCakSsa3qVx6bYd</td>\n",
       "      <td>Abdominal Wall/Hernia Surgery,Acute Care Surge...</td>\n",
       "      <td>Program Director (or Assistant Program Director)</td>\n",
       "      <td>4</td>\n",
       "      <td>Q6.1</td>\n",
       "      <td></td>\n",
       "      <td>13,1,4,6,8,14</td>\n",
       "      <td>2</td>\n",
       "      <td></td>\n",
       "    </tr>\n",
       "    <tr>\n",
       "      <th>7999</th>\n",
       "      <td>northwestern</td>\n",
       "      <td>155.190.17.4</td>\n",
       "      <td>R_7NUyXyZ1p76BYad</td>\n",
       "      <td>Abdominal Wall/Hernia Surgery,Acute Care Surge...</td>\n",
       "      <td>Department Chair</td>\n",
       "      <td>23</td>\n",
       "      <td>Q6.1</td>\n",
       "      <td></td>\n",
       "      <td>13,1,14</td>\n",
       "      <td>1</td>\n",
       "      <td></td>\n",
       "    </tr>\n",
       "  </tbody>\n",
       "</table>\n",
       "<p>8000 rows × 11 columns</p>\n",
       "</div>"
      ],
      "text/plain": [
       "      distribution       IPAddress         ResponseId  \\\n",
       "0             ucsf   128.218.42.33  R_1dMlSI0KXyxsTZn   \n",
       "1             ucsf    64.54.15.149  R_7QYh6bTyOmOQo3D   \n",
       "2             ucsf   71.202.126.93  R_6tYa59Tv4zOhQgp   \n",
       "3             ucsf   72.110.116.35  R_25RsYOfgaO79uts   \n",
       "4             ucsf   128.218.42.21  R_22qNtCIlTv6yOWH   \n",
       "...            ...             ...                ...   \n",
       "7995        lehigh   167.12.22.201  R_2UWpCS5RBPaA3Iv   \n",
       "7996        lehigh   167.12.22.201  R_2ZK4wuIarxnJyB9   \n",
       "7997  northwestern  172.59.187.168  R_3g11P1lUjVkrlvn   \n",
       "7998  northwestern     24.1.124.59  R_qCakSsa3qVx6bYd   \n",
       "7999  northwestern    155.190.17.4  R_7NUyXyZ1p76BYad   \n",
       "\n",
       "                                                 Q5.5_x  \\\n",
       "0     Abdominal Wall/Hernia Surgery,Acute Care Surge...   \n",
       "1                                     Pediatric Surgery   \n",
       "2     Acute Care Surgery/Emergency General Surgery,T...   \n",
       "3                                        Breast Surgery   \n",
       "4                                      Vascular Surgery   \n",
       "...                                                 ...   \n",
       "7995  Acute Care Surgery/Emergency General Surgery,P...   \n",
       "7996  Abdominal Wall/Hernia Surgery,Acute Care Surge...   \n",
       "7997                                   Thoracic Surgery   \n",
       "7998  Abdominal Wall/Hernia Surgery,Acute Care Surge...   \n",
       "7999  Abdominal Wall/Hernia Surgery,Acute Care Surge...   \n",
       "\n",
       "                                                Q5.6_x Q5.7 question_id  \\\n",
       "0                                                  NaN   16        Q2.2   \n",
       "1                                                  NaN    1        Q2.2   \n",
       "2                                                  NaN  NaN        Q2.2   \n",
       "3                                                  NaN   15        Q2.2   \n",
       "4                                                  NaN    1        Q2.2   \n",
       "...                                                ...  ...         ...   \n",
       "7995                                               NaN   22        Q6.1   \n",
       "7996                                               NaN   12        Q6.1   \n",
       "7997                                               NaN  2.5        Q6.1   \n",
       "7998  Program Director (or Assistant Program Director)    4        Q6.1   \n",
       "7999                                  Department Chair   23        Q6.1   \n",
       "\n",
       "              response_x         Q5.5_y Q5.6_y response_y  \n",
       "0     Extremely critical         13,1,2    NaN          5  \n",
       "1         Quite critical             11    NaN          4  \n",
       "2     Extremely critical           1,14    NaN          5  \n",
       "3     Extremely critical              3    NaN          5  \n",
       "4     Extremely critical              8    NaN          5  \n",
       "...                  ...            ...    ...        ...  \n",
       "7995                            1,11,16    NaN             \n",
       "7996                          13,1,4,14    NaN             \n",
       "7997                                  9    NaN             \n",
       "7998                      13,1,4,6,8,14      2             \n",
       "7999                            13,1,14      1             \n",
       "\n",
       "[8000 rows x 11 columns]"
      ]
     },
     "execution_count": 542,
     "metadata": {},
     "output_type": "execute_result"
    }
   ],
   "source": [
    "df_merge = df1_melt.merge(df2_melt, on=['distribution', 'IPAddress', 'ResponseId', 'question_id', 'Q5.7'])\n",
    "df_merge"
   ]
  },
  {
   "cell_type": "code",
   "execution_count": null,
   "metadata": {},
   "outputs": [
    {
     "data": {
      "text/html": [
       "<div>\n",
       "<style scoped>\n",
       "    .dataframe tbody tr th:only-of-type {\n",
       "        vertical-align: middle;\n",
       "    }\n",
       "\n",
       "    .dataframe tbody tr th {\n",
       "        vertical-align: top;\n",
       "    }\n",
       "\n",
       "    .dataframe thead th {\n",
       "        text-align: right;\n",
       "    }\n",
       "</style>\n",
       "<table border=\"1\" class=\"dataframe\">\n",
       "  <thead>\n",
       "    <tr style=\"text-align: right;\">\n",
       "      <th></th>\n",
       "      <th>institution</th>\n",
       "      <th>ip_address</th>\n",
       "      <th>response_id</th>\n",
       "      <th>specialty</th>\n",
       "      <th>leadership</th>\n",
       "      <th>years_in_practice</th>\n",
       "      <th>question_id</th>\n",
       "      <th>text_response</th>\n",
       "      <th>Q5.5_y</th>\n",
       "      <th>Q5.6_y</th>\n",
       "      <th>num_response</th>\n",
       "      <th>question_text</th>\n",
       "      <th>question_category</th>\n",
       "      <th>question_keyword</th>\n",
       "      <th>us_region</th>\n",
       "      <th>acs_trauma_region</th>\n",
       "      <th>sample_size</th>\n",
       "    </tr>\n",
       "  </thead>\n",
       "  <tbody>\n",
       "    <tr>\n",
       "      <th>0</th>\n",
       "      <td>ucsf</td>\n",
       "      <td>128.218.42.33</td>\n",
       "      <td>R_1dMlSI0KXyxsTZn</td>\n",
       "      <td>Abdominal Wall/Hernia Surgery,Acute Care Surge...</td>\n",
       "      <td>NaN</td>\n",
       "      <td>16</td>\n",
       "      <td>Q2.2</td>\n",
       "      <td>Extremely critical</td>\n",
       "      <td>13,1,2</td>\n",
       "      <td>NaN</td>\n",
       "      <td>5</td>\n",
       "      <td>How critical is the problem of operating room ...</td>\n",
       "      <td>attitude</td>\n",
       "      <td>criticality</td>\n",
       "      <td>West</td>\n",
       "      <td>9</td>\n",
       "      <td>123</td>\n",
       "    </tr>\n",
       "    <tr>\n",
       "      <th>1</th>\n",
       "      <td>ucsf</td>\n",
       "      <td>64.54.15.149</td>\n",
       "      <td>R_7QYh6bTyOmOQo3D</td>\n",
       "      <td>Pediatric Surgery</td>\n",
       "      <td>NaN</td>\n",
       "      <td>1</td>\n",
       "      <td>Q2.2</td>\n",
       "      <td>Quite critical</td>\n",
       "      <td>11</td>\n",
       "      <td>NaN</td>\n",
       "      <td>4</td>\n",
       "      <td>How critical is the problem of operating room ...</td>\n",
       "      <td>attitude</td>\n",
       "      <td>criticality</td>\n",
       "      <td>West</td>\n",
       "      <td>9</td>\n",
       "      <td>123</td>\n",
       "    </tr>\n",
       "    <tr>\n",
       "      <th>2</th>\n",
       "      <td>ucsf</td>\n",
       "      <td>71.202.126.93</td>\n",
       "      <td>R_6tYa59Tv4zOhQgp</td>\n",
       "      <td>Acute Care Surgery/Emergency General Surgery,T...</td>\n",
       "      <td>NaN</td>\n",
       "      <td>NaN</td>\n",
       "      <td>Q2.2</td>\n",
       "      <td>Extremely critical</td>\n",
       "      <td>1,14</td>\n",
       "      <td>NaN</td>\n",
       "      <td>5</td>\n",
       "      <td>How critical is the problem of operating room ...</td>\n",
       "      <td>attitude</td>\n",
       "      <td>criticality</td>\n",
       "      <td>West</td>\n",
       "      <td>9</td>\n",
       "      <td>123</td>\n",
       "    </tr>\n",
       "    <tr>\n",
       "      <th>3</th>\n",
       "      <td>ucsf</td>\n",
       "      <td>72.110.116.35</td>\n",
       "      <td>R_25RsYOfgaO79uts</td>\n",
       "      <td>Breast Surgery</td>\n",
       "      <td>NaN</td>\n",
       "      <td>15</td>\n",
       "      <td>Q2.2</td>\n",
       "      <td>Extremely critical</td>\n",
       "      <td>3</td>\n",
       "      <td>NaN</td>\n",
       "      <td>5</td>\n",
       "      <td>How critical is the problem of operating room ...</td>\n",
       "      <td>attitude</td>\n",
       "      <td>criticality</td>\n",
       "      <td>West</td>\n",
       "      <td>9</td>\n",
       "      <td>123</td>\n",
       "    </tr>\n",
       "    <tr>\n",
       "      <th>4</th>\n",
       "      <td>ucsf</td>\n",
       "      <td>128.218.42.21</td>\n",
       "      <td>R_22qNtCIlTv6yOWH</td>\n",
       "      <td>Vascular Surgery</td>\n",
       "      <td>NaN</td>\n",
       "      <td>1</td>\n",
       "      <td>Q2.2</td>\n",
       "      <td>Extremely critical</td>\n",
       "      <td>8</td>\n",
       "      <td>NaN</td>\n",
       "      <td>5</td>\n",
       "      <td>How critical is the problem of operating room ...</td>\n",
       "      <td>attitude</td>\n",
       "      <td>criticality</td>\n",
       "      <td>West</td>\n",
       "      <td>9</td>\n",
       "      <td>123</td>\n",
       "    </tr>\n",
       "    <tr>\n",
       "      <th>...</th>\n",
       "      <td>...</td>\n",
       "      <td>...</td>\n",
       "      <td>...</td>\n",
       "      <td>...</td>\n",
       "      <td>...</td>\n",
       "      <td>...</td>\n",
       "      <td>...</td>\n",
       "      <td>...</td>\n",
       "      <td>...</td>\n",
       "      <td>...</td>\n",
       "      <td>...</td>\n",
       "      <td>...</td>\n",
       "      <td>...</td>\n",
       "      <td>...</td>\n",
       "      <td>...</td>\n",
       "      <td>...</td>\n",
       "      <td>...</td>\n",
       "    </tr>\n",
       "    <tr>\n",
       "      <th>7995</th>\n",
       "      <td>virginiamason</td>\n",
       "      <td>204.147.223.49</td>\n",
       "      <td>R_6x6nyNWPgiwoo2B</td>\n",
       "      <td>Abdominal Wall/Hernia Surgery,Hepatopancreatic...</td>\n",
       "      <td>Program Director (or Assistant Program Director)</td>\n",
       "      <td>32</td>\n",
       "      <td>Q6.1</td>\n",
       "      <td>biggest road block to implementing sustainable...</td>\n",
       "      <td>13,6,7</td>\n",
       "      <td>2</td>\n",
       "      <td>biggest road block to implementing sustainable...</td>\n",
       "      <td>comments</td>\n",
       "      <td>comments</td>\n",
       "      <td>comments</td>\n",
       "      <td>West</td>\n",
       "      <td>10</td>\n",
       "      <td>24</td>\n",
       "    </tr>\n",
       "    <tr>\n",
       "      <th>7996</th>\n",
       "      <td>virginiamason</td>\n",
       "      <td>204.147.223.49</td>\n",
       "      <td>R_3NHQ5DNvN0vBPDY</td>\n",
       "      <td>Abdominal Wall/Hernia Surgery</td>\n",
       "      <td>NaN</td>\n",
       "      <td>3</td>\n",
       "      <td>Q6.1</td>\n",
       "      <td>Gave a grand rounds on sustainability in the o...</td>\n",
       "      <td>13</td>\n",
       "      <td>NaN</td>\n",
       "      <td>Gave a grand rounds on sustainability in the o...</td>\n",
       "      <td>comments</td>\n",
       "      <td>comments</td>\n",
       "      <td>comments</td>\n",
       "      <td>West</td>\n",
       "      <td>10</td>\n",
       "      <td>24</td>\n",
       "    </tr>\n",
       "    <tr>\n",
       "      <th>7997</th>\n",
       "      <td>virginiamason</td>\n",
       "      <td>204.147.223.49</td>\n",
       "      <td>R_3n3ihzImRtyUSlA</td>\n",
       "      <td>Abdominal Wall/Hernia Surgery,Acute Care Surge...</td>\n",
       "      <td>NaN</td>\n",
       "      <td>10</td>\n",
       "      <td>Q6.1</td>\n",
       "      <td></td>\n",
       "      <td>13,1,6,8,12,10</td>\n",
       "      <td>NaN</td>\n",
       "      <td></td>\n",
       "      <td>comments</td>\n",
       "      <td>comments</td>\n",
       "      <td>comments</td>\n",
       "      <td>West</td>\n",
       "      <td>10</td>\n",
       "      <td>24</td>\n",
       "    </tr>\n",
       "    <tr>\n",
       "      <th>7998</th>\n",
       "      <td>virginiamason</td>\n",
       "      <td>72.138.161.139</td>\n",
       "      <td>R_3256iXRAW6T68YV</td>\n",
       "      <td>Plastics Surgery</td>\n",
       "      <td>NaN</td>\n",
       "      <td>15</td>\n",
       "      <td>Q6.1</td>\n",
       "      <td></td>\n",
       "      <td>16</td>\n",
       "      <td>NaN</td>\n",
       "      <td></td>\n",
       "      <td>comments</td>\n",
       "      <td>comments</td>\n",
       "      <td>comments</td>\n",
       "      <td>West</td>\n",
       "      <td>10</td>\n",
       "      <td>24</td>\n",
       "    </tr>\n",
       "    <tr>\n",
       "      <th>7999</th>\n",
       "      <td>virginiamason</td>\n",
       "      <td>204.147.223.49</td>\n",
       "      <td>R_OkFgYjnWV7vLdmx</td>\n",
       "      <td>Colon and Rectal Surgery</td>\n",
       "      <td>NaN</td>\n",
       "      <td>28</td>\n",
       "      <td>Q6.1</td>\n",
       "      <td></td>\n",
       "      <td>4</td>\n",
       "      <td>NaN</td>\n",
       "      <td></td>\n",
       "      <td>comments</td>\n",
       "      <td>comments</td>\n",
       "      <td>comments</td>\n",
       "      <td>West</td>\n",
       "      <td>10</td>\n",
       "      <td>24</td>\n",
       "    </tr>\n",
       "  </tbody>\n",
       "</table>\n",
       "<p>8000 rows × 17 columns</p>\n",
       "</div>"
      ],
      "text/plain": [
       "        institution      ip_address        response_id  \\\n",
       "0              ucsf   128.218.42.33  R_1dMlSI0KXyxsTZn   \n",
       "1              ucsf    64.54.15.149  R_7QYh6bTyOmOQo3D   \n",
       "2              ucsf   71.202.126.93  R_6tYa59Tv4zOhQgp   \n",
       "3              ucsf   72.110.116.35  R_25RsYOfgaO79uts   \n",
       "4              ucsf   128.218.42.21  R_22qNtCIlTv6yOWH   \n",
       "...             ...             ...                ...   \n",
       "7995  virginiamason  204.147.223.49  R_6x6nyNWPgiwoo2B   \n",
       "7996  virginiamason  204.147.223.49  R_3NHQ5DNvN0vBPDY   \n",
       "7997  virginiamason  204.147.223.49  R_3n3ihzImRtyUSlA   \n",
       "7998  virginiamason  72.138.161.139  R_3256iXRAW6T68YV   \n",
       "7999  virginiamason  204.147.223.49  R_OkFgYjnWV7vLdmx   \n",
       "\n",
       "                                              specialty  \\\n",
       "0     Abdominal Wall/Hernia Surgery,Acute Care Surge...   \n",
       "1                                     Pediatric Surgery   \n",
       "2     Acute Care Surgery/Emergency General Surgery,T...   \n",
       "3                                        Breast Surgery   \n",
       "4                                      Vascular Surgery   \n",
       "...                                                 ...   \n",
       "7995  Abdominal Wall/Hernia Surgery,Hepatopancreatic...   \n",
       "7996                      Abdominal Wall/Hernia Surgery   \n",
       "7997  Abdominal Wall/Hernia Surgery,Acute Care Surge...   \n",
       "7998                                   Plastics Surgery   \n",
       "7999                           Colon and Rectal Surgery   \n",
       "\n",
       "                                            leadership years_in_practice  \\\n",
       "0                                                  NaN                16   \n",
       "1                                                  NaN                 1   \n",
       "2                                                  NaN               NaN   \n",
       "3                                                  NaN                15   \n",
       "4                                                  NaN                 1   \n",
       "...                                                ...               ...   \n",
       "7995  Program Director (or Assistant Program Director)                32   \n",
       "7996                                               NaN                 3   \n",
       "7997                                               NaN                10   \n",
       "7998                                               NaN                15   \n",
       "7999                                               NaN                28   \n",
       "\n",
       "     question_id                                      text_response  \\\n",
       "0           Q2.2                                 Extremely critical   \n",
       "1           Q2.2                                     Quite critical   \n",
       "2           Q2.2                                 Extremely critical   \n",
       "3           Q2.2                                 Extremely critical   \n",
       "4           Q2.2                                 Extremely critical   \n",
       "...          ...                                                ...   \n",
       "7995        Q6.1  biggest road block to implementing sustainable...   \n",
       "7996        Q6.1  Gave a grand rounds on sustainability in the o...   \n",
       "7997        Q6.1                                                      \n",
       "7998        Q6.1                                                      \n",
       "7999        Q6.1                                                      \n",
       "\n",
       "              Q5.5_y Q5.6_y  \\\n",
       "0             13,1,2    NaN   \n",
       "1                 11    NaN   \n",
       "2               1,14    NaN   \n",
       "3                  3    NaN   \n",
       "4                  8    NaN   \n",
       "...              ...    ...   \n",
       "7995          13,6,7      2   \n",
       "7996              13    NaN   \n",
       "7997  13,1,6,8,12,10    NaN   \n",
       "7998              16    NaN   \n",
       "7999               4    NaN   \n",
       "\n",
       "                                           num_response  \\\n",
       "0                                                     5   \n",
       "1                                                     4   \n",
       "2                                                     5   \n",
       "3                                                     5   \n",
       "4                                                     5   \n",
       "...                                                 ...   \n",
       "7995  biggest road block to implementing sustainable...   \n",
       "7996  Gave a grand rounds on sustainability in the o...   \n",
       "7997                                                      \n",
       "7998                                                      \n",
       "7999                                                      \n",
       "\n",
       "                                          question_text question_category  \\\n",
       "0     How critical is the problem of operating room ...          attitude   \n",
       "1     How critical is the problem of operating room ...          attitude   \n",
       "2     How critical is the problem of operating room ...          attitude   \n",
       "3     How critical is the problem of operating room ...          attitude   \n",
       "4     How critical is the problem of operating room ...          attitude   \n",
       "...                                                 ...               ...   \n",
       "7995                                           comments          comments   \n",
       "7996                                           comments          comments   \n",
       "7997                                           comments          comments   \n",
       "7998                                           comments          comments   \n",
       "7999                                           comments          comments   \n",
       "\n",
       "     question_keyword us_region  acs_trauma_region  sample_size  \n",
       "0         criticality      West                  9          123  \n",
       "1         criticality      West                  9          123  \n",
       "2         criticality      West                  9          123  \n",
       "3         criticality      West                  9          123  \n",
       "4         criticality      West                  9          123  \n",
       "...               ...       ...                ...          ...  \n",
       "7995         comments      West                 10           24  \n",
       "7996         comments      West                 10           24  \n",
       "7997         comments      West                 10           24  \n",
       "7998         comments      West                 10           24  \n",
       "7999         comments      West                 10           24  \n",
       "\n",
       "[8000 rows x 17 columns]"
      ]
     },
     "execution_count": 543,
     "metadata": {},
     "output_type": "execute_result"
    }
   ],
   "source": [
    "df_reorg = df_merge.merge(df_questions, on='question_id').merge(df_institutions, on='distribution')\n",
    "\n",
    "\n",
    "col_dict = {\n",
    "    'distribution' : 'institution',\n",
    "    'IPAddress' : 'ip_address',\n",
    "    'ResponseId' : 'response_id',\n",
    "    'Q5.5_x' : 'specialty',\n",
    "    'Q5.6_x' : 'leadership',\n",
    "    'Q5.7' : 'years_in_practice',\n",
    "    'Q6.1' : 'comments',\n",
    "    'response_x' : 'text_response',\n",
    "    'response_y' : 'num_response'\n",
    "}\n",
    "\n",
    "df_reorg.rename(columns=col_dict, inplace=True)\n",
    "df_reorg\n"
   ]
  },
  {
   "cell_type": "code",
   "execution_count": null,
   "metadata": {},
   "outputs": [],
   "source": [
    "\n",
    "df_clean = df_reorg[['response_id', 'institution', 'us_region', 'acs_trauma_region', 'specialty', 'years_in_practice', 'leadership', 'question_id', 'question_text', 'question_category', 'question_keyword', 'num_response', 'text_response']]\n"
   ]
  },
  {
   "cell_type": "markdown",
   "metadata": {},
   "source": [
    "### Clean Dataframe\n",
    "\n",
    "Now we have a clean dataframe"
   ]
  },
  {
   "cell_type": "code",
   "execution_count": null,
   "metadata": {},
   "outputs": [
    {
     "data": {
      "text/html": [
       "<div>\n",
       "<style scoped>\n",
       "    .dataframe tbody tr th:only-of-type {\n",
       "        vertical-align: middle;\n",
       "    }\n",
       "\n",
       "    .dataframe tbody tr th {\n",
       "        vertical-align: top;\n",
       "    }\n",
       "\n",
       "    .dataframe thead th {\n",
       "        text-align: right;\n",
       "    }\n",
       "</style>\n",
       "<table border=\"1\" class=\"dataframe\">\n",
       "  <thead>\n",
       "    <tr style=\"text-align: right;\">\n",
       "      <th></th>\n",
       "      <th>question_id</th>\n",
       "      <th>question_text</th>\n",
       "      <th>question_category</th>\n",
       "      <th>question_keyword</th>\n",
       "      <th>text_response</th>\n",
       "      <th>num_response</th>\n",
       "      <th>count</th>\n",
       "    </tr>\n",
       "  </thead>\n",
       "  <tbody>\n",
       "    <tr>\n",
       "      <th>17</th>\n",
       "      <td>Q2.2</td>\n",
       "      <td>How critical is the problem of operating room ...</td>\n",
       "      <td>attitude</td>\n",
       "      <td>criticality</td>\n",
       "      <td>Not at all critical</td>\n",
       "      <td>1</td>\n",
       "      <td>3</td>\n",
       "    </tr>\n",
       "    <tr>\n",
       "      <th>19</th>\n",
       "      <td>Q2.2</td>\n",
       "      <td>How critical is the problem of operating room ...</td>\n",
       "      <td>attitude</td>\n",
       "      <td>criticality</td>\n",
       "      <td>Slightly critical</td>\n",
       "      <td>2</td>\n",
       "      <td>24</td>\n",
       "    </tr>\n",
       "    <tr>\n",
       "      <th>16</th>\n",
       "      <td>Q2.2</td>\n",
       "      <td>How critical is the problem of operating room ...</td>\n",
       "      <td>attitude</td>\n",
       "      <td>criticality</td>\n",
       "      <td>Moderately critical</td>\n",
       "      <td>3</td>\n",
       "      <td>67</td>\n",
       "    </tr>\n",
       "    <tr>\n",
       "      <th>18</th>\n",
       "      <td>Q2.2</td>\n",
       "      <td>How critical is the problem of operating room ...</td>\n",
       "      <td>attitude</td>\n",
       "      <td>criticality</td>\n",
       "      <td>Quite critical</td>\n",
       "      <td>4</td>\n",
       "      <td>73</td>\n",
       "    </tr>\n",
       "    <tr>\n",
       "      <th>15</th>\n",
       "      <td>Q2.2</td>\n",
       "      <td>How critical is the problem of operating room ...</td>\n",
       "      <td>attitude</td>\n",
       "      <td>criticality</td>\n",
       "      <td>Extremely critical</td>\n",
       "      <td>5</td>\n",
       "      <td>83</td>\n",
       "    </tr>\n",
       "    <tr>\n",
       "      <th>...</th>\n",
       "      <td>...</td>\n",
       "      <td>...</td>\n",
       "      <td>...</td>\n",
       "      <td>...</td>\n",
       "      <td>...</td>\n",
       "      <td>...</td>\n",
       "      <td>...</td>\n",
       "    </tr>\n",
       "    <tr>\n",
       "      <th>113</th>\n",
       "      <td>Q3.9</td>\n",
       "      <td>How willing are you transition completely from...</td>\n",
       "      <td>willingness</td>\n",
       "      <td>alcohol</td>\n",
       "      <td>Moderately willing</td>\n",
       "      <td>3</td>\n",
       "      <td>28</td>\n",
       "    </tr>\n",
       "    <tr>\n",
       "      <th>115</th>\n",
       "      <td>Q3.9</td>\n",
       "      <td>How willing are you transition completely from...</td>\n",
       "      <td>willingness</td>\n",
       "      <td>alcohol</td>\n",
       "      <td>Quite willing</td>\n",
       "      <td>4</td>\n",
       "      <td>29</td>\n",
       "    </tr>\n",
       "    <tr>\n",
       "      <th>110</th>\n",
       "      <td>Q3.9</td>\n",
       "      <td>How willing are you transition completely from...</td>\n",
       "      <td>willingness</td>\n",
       "      <td>alcohol</td>\n",
       "      <td>Extremely willing</td>\n",
       "      <td>5</td>\n",
       "      <td>37</td>\n",
       "    </tr>\n",
       "    <tr>\n",
       "      <th>111</th>\n",
       "      <td>Q3.9</td>\n",
       "      <td>How willing are you transition completely from...</td>\n",
       "      <td>willingness</td>\n",
       "      <td>alcohol</td>\n",
       "      <td>I am already doing this</td>\n",
       "      <td>7</td>\n",
       "      <td>110</td>\n",
       "    </tr>\n",
       "    <tr>\n",
       "      <th>112</th>\n",
       "      <td>Q3.9</td>\n",
       "      <td>How willing are you transition completely from...</td>\n",
       "      <td>willingness</td>\n",
       "      <td>alcohol</td>\n",
       "      <td>I am unable to do this</td>\n",
       "      <td>8</td>\n",
       "      <td>6</td>\n",
       "    </tr>\n",
       "  </tbody>\n",
       "</table>\n",
       "<p>211 rows × 7 columns</p>\n",
       "</div>"
      ],
      "text/plain": [
       "    question_id                                      question_text  \\\n",
       "17         Q2.2  How critical is the problem of operating room ...   \n",
       "19         Q2.2  How critical is the problem of operating room ...   \n",
       "16         Q2.2  How critical is the problem of operating room ...   \n",
       "18         Q2.2  How critical is the problem of operating room ...   \n",
       "15         Q2.2  How critical is the problem of operating room ...   \n",
       "..          ...                                                ...   \n",
       "113        Q3.9  How willing are you transition completely from...   \n",
       "115        Q3.9  How willing are you transition completely from...   \n",
       "110        Q3.9  How willing are you transition completely from...   \n",
       "111        Q3.9  How willing are you transition completely from...   \n",
       "112        Q3.9  How willing are you transition completely from...   \n",
       "\n",
       "    question_category question_keyword            text_response num_response  \\\n",
       "17           attitude      criticality      Not at all critical            1   \n",
       "19           attitude      criticality        Slightly critical            2   \n",
       "16           attitude      criticality      Moderately critical            3   \n",
       "18           attitude      criticality           Quite critical            4   \n",
       "15           attitude      criticality       Extremely critical            5   \n",
       "..                ...              ...                      ...          ...   \n",
       "113       willingness          alcohol       Moderately willing            3   \n",
       "115       willingness          alcohol            Quite willing            4   \n",
       "110       willingness          alcohol        Extremely willing            5   \n",
       "111       willingness          alcohol  I am already doing this            7   \n",
       "112       willingness          alcohol   I am unable to do this            8   \n",
       "\n",
       "     count  \n",
       "17       3  \n",
       "19      24  \n",
       "16      67  \n",
       "18      73  \n",
       "15      83  \n",
       "..     ...  \n",
       "113     28  \n",
       "115     29  \n",
       "110     37  \n",
       "111    110  \n",
       "112      6  \n",
       "\n",
       "[211 rows x 7 columns]"
      ]
     },
     "execution_count": 545,
     "metadata": {},
     "output_type": "execute_result"
    }
   ],
   "source": [
    "df_group = df_clean.groupby(['question_id', 'question_text', 'question_category', 'question_keyword', 'text_response', 'num_response']).agg(\n",
    "    count = ('response_id', 'nunique')\n",
    ")\n",
    "\n",
    "df_group.reset_index(inplace=True)\n",
    "df_group.sort_values(by=['question_category', 'question_id', 'question_text', 'question_keyword', 'num_response'], ascending=True, inplace=True)\n",
    "df_group"
   ]
  },
  {
   "cell_type": "code",
   "execution_count": null,
   "metadata": {},
   "outputs": [
    {
     "data": {
      "text/html": [
       "<div>\n",
       "<style scoped>\n",
       "    .dataframe tbody tr th:only-of-type {\n",
       "        vertical-align: middle;\n",
       "    }\n",
       "\n",
       "    .dataframe tbody tr th {\n",
       "        vertical-align: top;\n",
       "    }\n",
       "\n",
       "    .dataframe thead th {\n",
       "        text-align: right;\n",
       "    }\n",
       "</style>\n",
       "<table border=\"1\" class=\"dataframe\">\n",
       "  <thead>\n",
       "    <tr style=\"text-align: right;\">\n",
       "      <th></th>\n",
       "      <th>question_id</th>\n",
       "      <th>question_text</th>\n",
       "      <th>question_category</th>\n",
       "      <th>question_keyword</th>\n",
       "      <th>text_response</th>\n",
       "      <th>num_response</th>\n",
       "      <th>count</th>\n",
       "      <th>sum</th>\n",
       "      <th>pct</th>\n",
       "    </tr>\n",
       "  </thead>\n",
       "  <tbody>\n",
       "    <tr>\n",
       "      <th>0</th>\n",
       "      <td>Q2.2</td>\n",
       "      <td>How critical is the problem of operating room ...</td>\n",
       "      <td>attitude</td>\n",
       "      <td>criticality</td>\n",
       "      <td>Not at all critical</td>\n",
       "      <td>1</td>\n",
       "      <td>3</td>\n",
       "      <td>250</td>\n",
       "      <td>1.2</td>\n",
       "    </tr>\n",
       "    <tr>\n",
       "      <th>1</th>\n",
       "      <td>Q2.2</td>\n",
       "      <td>How critical is the problem of operating room ...</td>\n",
       "      <td>attitude</td>\n",
       "      <td>criticality</td>\n",
       "      <td>Slightly critical</td>\n",
       "      <td>2</td>\n",
       "      <td>24</td>\n",
       "      <td>250</td>\n",
       "      <td>9.6</td>\n",
       "    </tr>\n",
       "    <tr>\n",
       "      <th>2</th>\n",
       "      <td>Q2.2</td>\n",
       "      <td>How critical is the problem of operating room ...</td>\n",
       "      <td>attitude</td>\n",
       "      <td>criticality</td>\n",
       "      <td>Moderately critical</td>\n",
       "      <td>3</td>\n",
       "      <td>67</td>\n",
       "      <td>250</td>\n",
       "      <td>26.8</td>\n",
       "    </tr>\n",
       "    <tr>\n",
       "      <th>3</th>\n",
       "      <td>Q2.2</td>\n",
       "      <td>How critical is the problem of operating room ...</td>\n",
       "      <td>attitude</td>\n",
       "      <td>criticality</td>\n",
       "      <td>Quite critical</td>\n",
       "      <td>4</td>\n",
       "      <td>73</td>\n",
       "      <td>250</td>\n",
       "      <td>29.2</td>\n",
       "    </tr>\n",
       "    <tr>\n",
       "      <th>4</th>\n",
       "      <td>Q2.2</td>\n",
       "      <td>How critical is the problem of operating room ...</td>\n",
       "      <td>attitude</td>\n",
       "      <td>criticality</td>\n",
       "      <td>Extremely critical</td>\n",
       "      <td>5</td>\n",
       "      <td>83</td>\n",
       "      <td>250</td>\n",
       "      <td>33.2</td>\n",
       "    </tr>\n",
       "    <tr>\n",
       "      <th>...</th>\n",
       "      <td>...</td>\n",
       "      <td>...</td>\n",
       "      <td>...</td>\n",
       "      <td>...</td>\n",
       "      <td>...</td>\n",
       "      <td>...</td>\n",
       "      <td>...</td>\n",
       "      <td>...</td>\n",
       "      <td>...</td>\n",
       "    </tr>\n",
       "    <tr>\n",
       "      <th>157</th>\n",
       "      <td>Q3.9</td>\n",
       "      <td>How willing are you transition completely from...</td>\n",
       "      <td>willingness</td>\n",
       "      <td>alcohol</td>\n",
       "      <td>Moderately willing</td>\n",
       "      <td>3</td>\n",
       "      <td>28</td>\n",
       "      <td>250</td>\n",
       "      <td>11.2</td>\n",
       "    </tr>\n",
       "    <tr>\n",
       "      <th>158</th>\n",
       "      <td>Q3.9</td>\n",
       "      <td>How willing are you transition completely from...</td>\n",
       "      <td>willingness</td>\n",
       "      <td>alcohol</td>\n",
       "      <td>Quite willing</td>\n",
       "      <td>4</td>\n",
       "      <td>29</td>\n",
       "      <td>250</td>\n",
       "      <td>11.6</td>\n",
       "    </tr>\n",
       "    <tr>\n",
       "      <th>159</th>\n",
       "      <td>Q3.9</td>\n",
       "      <td>How willing are you transition completely from...</td>\n",
       "      <td>willingness</td>\n",
       "      <td>alcohol</td>\n",
       "      <td>Extremely willing</td>\n",
       "      <td>5</td>\n",
       "      <td>37</td>\n",
       "      <td>250</td>\n",
       "      <td>14.8</td>\n",
       "    </tr>\n",
       "    <tr>\n",
       "      <th>160</th>\n",
       "      <td>Q3.9</td>\n",
       "      <td>How willing are you transition completely from...</td>\n",
       "      <td>willingness</td>\n",
       "      <td>alcohol</td>\n",
       "      <td>I am already doing this</td>\n",
       "      <td>7</td>\n",
       "      <td>110</td>\n",
       "      <td>250</td>\n",
       "      <td>44.0</td>\n",
       "    </tr>\n",
       "    <tr>\n",
       "      <th>161</th>\n",
       "      <td>Q3.9</td>\n",
       "      <td>How willing are you transition completely from...</td>\n",
       "      <td>willingness</td>\n",
       "      <td>alcohol</td>\n",
       "      <td>I am unable to do this</td>\n",
       "      <td>8</td>\n",
       "      <td>6</td>\n",
       "      <td>250</td>\n",
       "      <td>2.4</td>\n",
       "    </tr>\n",
       "  </tbody>\n",
       "</table>\n",
       "<p>162 rows × 9 columns</p>\n",
       "</div>"
      ],
      "text/plain": [
       "    question_id                                      question_text  \\\n",
       "0          Q2.2  How critical is the problem of operating room ...   \n",
       "1          Q2.2  How critical is the problem of operating room ...   \n",
       "2          Q2.2  How critical is the problem of operating room ...   \n",
       "3          Q2.2  How critical is the problem of operating room ...   \n",
       "4          Q2.2  How critical is the problem of operating room ...   \n",
       "..          ...                                                ...   \n",
       "157        Q3.9  How willing are you transition completely from...   \n",
       "158        Q3.9  How willing are you transition completely from...   \n",
       "159        Q3.9  How willing are you transition completely from...   \n",
       "160        Q3.9  How willing are you transition completely from...   \n",
       "161        Q3.9  How willing are you transition completely from...   \n",
       "\n",
       "    question_category question_keyword            text_response  num_response  \\\n",
       "0            attitude      criticality      Not at all critical             1   \n",
       "1            attitude      criticality        Slightly critical             2   \n",
       "2            attitude      criticality      Moderately critical             3   \n",
       "3            attitude      criticality           Quite critical             4   \n",
       "4            attitude      criticality       Extremely critical             5   \n",
       "..                ...              ...                      ...           ...   \n",
       "157       willingness          alcohol       Moderately willing             3   \n",
       "158       willingness          alcohol            Quite willing             4   \n",
       "159       willingness          alcohol        Extremely willing             5   \n",
       "160       willingness          alcohol  I am already doing this             7   \n",
       "161       willingness          alcohol   I am unable to do this             8   \n",
       "\n",
       "     count  sum   pct  \n",
       "0        3  250   1.2  \n",
       "1       24  250   9.6  \n",
       "2       67  250  26.8  \n",
       "3       73  250  29.2  \n",
       "4       83  250  33.2  \n",
       "..     ...  ...   ...  \n",
       "157     28  250  11.2  \n",
       "158     29  250  11.6  \n",
       "159     37  250  14.8  \n",
       "160    110  250  44.0  \n",
       "161      6  250   2.4  \n",
       "\n",
       "[162 rows x 9 columns]"
      ]
     },
     "execution_count": 546,
     "metadata": {},
     "output_type": "execute_result"
    }
   ],
   "source": [
    "df_group2 = df_group[~(df_group['question_id']=='Q6.1')]\n",
    "df_group3 = df_group2.groupby(['question_id', 'question_text', 'question_category', 'question_keyword']).agg(\n",
    "    sum = ('count', 'sum')\n",
    ")\n",
    "df_group3.reset_index(inplace=True)\n",
    "df_group4 = df_group2.merge(df_group3, on=['question_id', 'question_text', 'question_category', 'question_keyword'])\n",
    "df_group4['pct'] = df_group4['count']/df_group4['sum']*100\n",
    "df_group4['num_response'] = df_group4['num_response'].astype(int)\n",
    "\n",
    "df_group4"
   ]
  },
  {
   "cell_type": "markdown",
   "metadata": {},
   "source": []
  },
  {
   "cell_type": "code",
   "execution_count": null,
   "metadata": {},
   "outputs": [],
   "source": [
    "df_choice_filtered.to_csv('data2.csv')"
   ]
  },
  {
   "cell_type": "code",
   "execution_count": null,
   "metadata": {},
   "outputs": [
    {
     "data": {
      "application/vnd.plotly.v1+json": {
       "config": {
        "plotlyServerURL": "https://plot.ly"
       },
       "data": [
        {
         "alignmentgroup": "True",
         "hovertemplate": "question_text=How critical is the problem of operating room waste?<br>text_response=%{x}<br>count=%{y}<br>text=%{text}<extra></extra>",
         "legendgroup": "",
         "marker": {
          "color": "#636efa",
          "pattern": {
           "shape": ""
          }
         },
         "name": "",
         "offsetgroup": "",
         "orientation": "v",
         "showlegend": false,
         "text": [
          "1%",
          "10%",
          "27%",
          "29%",
          "33%"
         ],
         "textposition": "auto",
         "type": "bar",
         "x": [
          "Not at all critical",
          "Slightly critical",
          "Moderately critical",
          "Quite critical",
          "Extremely critical"
         ],
         "xaxis": "x",
         "y": [
          3,
          24,
          67,
          73,
          83
         ],
         "yaxis": "y"
        },
        {
         "alignmentgroup": "True",
         "hovertemplate": "question_text=How motivated are you in improving the sustainability of your surgical practice?<br>text_response=%{x}<br>count=%{y}<br>text=%{text}<extra></extra>",
         "legendgroup": "",
         "marker": {
          "color": "#636efa",
          "pattern": {
           "shape": ""
          }
         },
         "name": "",
         "offsetgroup": "",
         "orientation": "v",
         "showlegend": false,
         "text": [
          "2%",
          "11%",
          "23%",
          "34%",
          "30%"
         ],
         "textposition": "auto",
         "type": "bar",
         "x": [
          "Not at all motivated",
          "Slightly motivated",
          "Moderately motivated",
          "Quite motivated",
          "Extremely motivated"
         ],
         "xaxis": "x2",
         "y": [
          5,
          27,
          57,
          85,
          76
         ],
         "yaxis": "y2"
        },
        {
         "alignmentgroup": "True",
         "hovertemplate": "question_text=How much of a priority should operating room sustainability be for your institution?<br>text_response=%{x}<br>count=%{y}<br>text=%{text}<extra></extra>",
         "legendgroup": "",
         "marker": {
          "color": "#636efa",
          "pattern": {
           "shape": ""
          }
         },
         "name": "",
         "offsetgroup": "",
         "orientation": "v",
         "showlegend": false,
         "text": [
          "1%",
          "6%",
          "32%",
          "45%",
          "16%"
         ],
         "textposition": "auto",
         "type": "bar",
         "x": [
          "Not at all a priority",
          "Low priority",
          "Moderate priority",
          "Quite a high priority",
          "Top priority"
         ],
         "xaxis": "x3",
         "y": [
          3,
          14,
          80,
          113,
          40
         ],
         "yaxis": "y3"
        }
       ],
       "layout": {
        "annotations": [
         {
          "font": {},
          "showarrow": false,
          "text": "Critical is the problem of operating room waste?",
          "x": 0.15999999999999998,
          "xanchor": "center",
          "xref": "paper",
          "y": 1,
          "yanchor": "bottom",
          "yref": "paper"
         },
         {
          "font": {},
          "showarrow": false,
          "text": "Motivated are you in improving the sustainability of your surgical practice?",
          "x": 0.49999999999999994,
          "xanchor": "center",
          "xref": "paper",
          "y": 1,
          "yanchor": "bottom",
          "yref": "paper"
         },
         {
          "font": {},
          "showarrow": false,
          "text": "Much of a priority should operating room sustainability be for your institution?",
          "x": 0.8399999999999999,
          "xanchor": "center",
          "xref": "paper",
          "y": 1,
          "yanchor": "bottom",
          "yref": "paper"
         }
        ],
        "barmode": "relative",
        "font": {
         "family": "Inter",
         "size": 14
        },
        "height": 800,
        "legend": {
         "tracegroupgap": 0
        },
        "margin": {
         "t": 60
        },
        "template": {
         "data": {
          "bar": [
           {
            "error_x": {
             "color": "#2a3f5f"
            },
            "error_y": {
             "color": "#2a3f5f"
            },
            "marker": {
             "line": {
              "color": "#E5ECF6",
              "width": 0.5
             },
             "pattern": {
              "fillmode": "overlay",
              "size": 10,
              "solidity": 0.2
             }
            },
            "type": "bar"
           }
          ],
          "barpolar": [
           {
            "marker": {
             "line": {
              "color": "#E5ECF6",
              "width": 0.5
             },
             "pattern": {
              "fillmode": "overlay",
              "size": 10,
              "solidity": 0.2
             }
            },
            "type": "barpolar"
           }
          ],
          "carpet": [
           {
            "aaxis": {
             "endlinecolor": "#2a3f5f",
             "gridcolor": "white",
             "linecolor": "white",
             "minorgridcolor": "white",
             "startlinecolor": "#2a3f5f"
            },
            "baxis": {
             "endlinecolor": "#2a3f5f",
             "gridcolor": "white",
             "linecolor": "white",
             "minorgridcolor": "white",
             "startlinecolor": "#2a3f5f"
            },
            "type": "carpet"
           }
          ],
          "choropleth": [
           {
            "colorbar": {
             "outlinewidth": 0,
             "ticks": ""
            },
            "type": "choropleth"
           }
          ],
          "contour": [
           {
            "colorbar": {
             "outlinewidth": 0,
             "ticks": ""
            },
            "colorscale": [
             [
              0,
              "#0d0887"
             ],
             [
              0.1111111111111111,
              "#46039f"
             ],
             [
              0.2222222222222222,
              "#7201a8"
             ],
             [
              0.3333333333333333,
              "#9c179e"
             ],
             [
              0.4444444444444444,
              "#bd3786"
             ],
             [
              0.5555555555555556,
              "#d8576b"
             ],
             [
              0.6666666666666666,
              "#ed7953"
             ],
             [
              0.7777777777777778,
              "#fb9f3a"
             ],
             [
              0.8888888888888888,
              "#fdca26"
             ],
             [
              1,
              "#f0f921"
             ]
            ],
            "type": "contour"
           }
          ],
          "contourcarpet": [
           {
            "colorbar": {
             "outlinewidth": 0,
             "ticks": ""
            },
            "type": "contourcarpet"
           }
          ],
          "heatmap": [
           {
            "colorbar": {
             "outlinewidth": 0,
             "ticks": ""
            },
            "colorscale": [
             [
              0,
              "#0d0887"
             ],
             [
              0.1111111111111111,
              "#46039f"
             ],
             [
              0.2222222222222222,
              "#7201a8"
             ],
             [
              0.3333333333333333,
              "#9c179e"
             ],
             [
              0.4444444444444444,
              "#bd3786"
             ],
             [
              0.5555555555555556,
              "#d8576b"
             ],
             [
              0.6666666666666666,
              "#ed7953"
             ],
             [
              0.7777777777777778,
              "#fb9f3a"
             ],
             [
              0.8888888888888888,
              "#fdca26"
             ],
             [
              1,
              "#f0f921"
             ]
            ],
            "type": "heatmap"
           }
          ],
          "heatmapgl": [
           {
            "colorbar": {
             "outlinewidth": 0,
             "ticks": ""
            },
            "colorscale": [
             [
              0,
              "#0d0887"
             ],
             [
              0.1111111111111111,
              "#46039f"
             ],
             [
              0.2222222222222222,
              "#7201a8"
             ],
             [
              0.3333333333333333,
              "#9c179e"
             ],
             [
              0.4444444444444444,
              "#bd3786"
             ],
             [
              0.5555555555555556,
              "#d8576b"
             ],
             [
              0.6666666666666666,
              "#ed7953"
             ],
             [
              0.7777777777777778,
              "#fb9f3a"
             ],
             [
              0.8888888888888888,
              "#fdca26"
             ],
             [
              1,
              "#f0f921"
             ]
            ],
            "type": "heatmapgl"
           }
          ],
          "histogram": [
           {
            "marker": {
             "pattern": {
              "fillmode": "overlay",
              "size": 10,
              "solidity": 0.2
             }
            },
            "type": "histogram"
           }
          ],
          "histogram2d": [
           {
            "colorbar": {
             "outlinewidth": 0,
             "ticks": ""
            },
            "colorscale": [
             [
              0,
              "#0d0887"
             ],
             [
              0.1111111111111111,
              "#46039f"
             ],
             [
              0.2222222222222222,
              "#7201a8"
             ],
             [
              0.3333333333333333,
              "#9c179e"
             ],
             [
              0.4444444444444444,
              "#bd3786"
             ],
             [
              0.5555555555555556,
              "#d8576b"
             ],
             [
              0.6666666666666666,
              "#ed7953"
             ],
             [
              0.7777777777777778,
              "#fb9f3a"
             ],
             [
              0.8888888888888888,
              "#fdca26"
             ],
             [
              1,
              "#f0f921"
             ]
            ],
            "type": "histogram2d"
           }
          ],
          "histogram2dcontour": [
           {
            "colorbar": {
             "outlinewidth": 0,
             "ticks": ""
            },
            "colorscale": [
             [
              0,
              "#0d0887"
             ],
             [
              0.1111111111111111,
              "#46039f"
             ],
             [
              0.2222222222222222,
              "#7201a8"
             ],
             [
              0.3333333333333333,
              "#9c179e"
             ],
             [
              0.4444444444444444,
              "#bd3786"
             ],
             [
              0.5555555555555556,
              "#d8576b"
             ],
             [
              0.6666666666666666,
              "#ed7953"
             ],
             [
              0.7777777777777778,
              "#fb9f3a"
             ],
             [
              0.8888888888888888,
              "#fdca26"
             ],
             [
              1,
              "#f0f921"
             ]
            ],
            "type": "histogram2dcontour"
           }
          ],
          "mesh3d": [
           {
            "colorbar": {
             "outlinewidth": 0,
             "ticks": ""
            },
            "type": "mesh3d"
           }
          ],
          "parcoords": [
           {
            "line": {
             "colorbar": {
              "outlinewidth": 0,
              "ticks": ""
             }
            },
            "type": "parcoords"
           }
          ],
          "pie": [
           {
            "automargin": true,
            "type": "pie"
           }
          ],
          "scatter": [
           {
            "fillpattern": {
             "fillmode": "overlay",
             "size": 10,
             "solidity": 0.2
            },
            "type": "scatter"
           }
          ],
          "scatter3d": [
           {
            "line": {
             "colorbar": {
              "outlinewidth": 0,
              "ticks": ""
             }
            },
            "marker": {
             "colorbar": {
              "outlinewidth": 0,
              "ticks": ""
             }
            },
            "type": "scatter3d"
           }
          ],
          "scattercarpet": [
           {
            "marker": {
             "colorbar": {
              "outlinewidth": 0,
              "ticks": ""
             }
            },
            "type": "scattercarpet"
           }
          ],
          "scattergeo": [
           {
            "marker": {
             "colorbar": {
              "outlinewidth": 0,
              "ticks": ""
             }
            },
            "type": "scattergeo"
           }
          ],
          "scattergl": [
           {
            "marker": {
             "colorbar": {
              "outlinewidth": 0,
              "ticks": ""
             }
            },
            "type": "scattergl"
           }
          ],
          "scattermapbox": [
           {
            "marker": {
             "colorbar": {
              "outlinewidth": 0,
              "ticks": ""
             }
            },
            "type": "scattermapbox"
           }
          ],
          "scatterpolar": [
           {
            "marker": {
             "colorbar": {
              "outlinewidth": 0,
              "ticks": ""
             }
            },
            "type": "scatterpolar"
           }
          ],
          "scatterpolargl": [
           {
            "marker": {
             "colorbar": {
              "outlinewidth": 0,
              "ticks": ""
             }
            },
            "type": "scatterpolargl"
           }
          ],
          "scatterternary": [
           {
            "marker": {
             "colorbar": {
              "outlinewidth": 0,
              "ticks": ""
             }
            },
            "type": "scatterternary"
           }
          ],
          "surface": [
           {
            "colorbar": {
             "outlinewidth": 0,
             "ticks": ""
            },
            "colorscale": [
             [
              0,
              "#0d0887"
             ],
             [
              0.1111111111111111,
              "#46039f"
             ],
             [
              0.2222222222222222,
              "#7201a8"
             ],
             [
              0.3333333333333333,
              "#9c179e"
             ],
             [
              0.4444444444444444,
              "#bd3786"
             ],
             [
              0.5555555555555556,
              "#d8576b"
             ],
             [
              0.6666666666666666,
              "#ed7953"
             ],
             [
              0.7777777777777778,
              "#fb9f3a"
             ],
             [
              0.8888888888888888,
              "#fdca26"
             ],
             [
              1,
              "#f0f921"
             ]
            ],
            "type": "surface"
           }
          ],
          "table": [
           {
            "cells": {
             "fill": {
              "color": "#EBF0F8"
             },
             "line": {
              "color": "white"
             }
            },
            "header": {
             "fill": {
              "color": "#C8D4E3"
             },
             "line": {
              "color": "white"
             }
            },
            "type": "table"
           }
          ]
         },
         "layout": {
          "annotationdefaults": {
           "arrowcolor": "#2a3f5f",
           "arrowhead": 0,
           "arrowwidth": 1
          },
          "autotypenumbers": "strict",
          "coloraxis": {
           "colorbar": {
            "outlinewidth": 0,
            "ticks": ""
           }
          },
          "colorscale": {
           "diverging": [
            [
             0,
             "#8e0152"
            ],
            [
             0.1,
             "#c51b7d"
            ],
            [
             0.2,
             "#de77ae"
            ],
            [
             0.3,
             "#f1b6da"
            ],
            [
             0.4,
             "#fde0ef"
            ],
            [
             0.5,
             "#f7f7f7"
            ],
            [
             0.6,
             "#e6f5d0"
            ],
            [
             0.7,
             "#b8e186"
            ],
            [
             0.8,
             "#7fbc41"
            ],
            [
             0.9,
             "#4d9221"
            ],
            [
             1,
             "#276419"
            ]
           ],
           "sequential": [
            [
             0,
             "#0d0887"
            ],
            [
             0.1111111111111111,
             "#46039f"
            ],
            [
             0.2222222222222222,
             "#7201a8"
            ],
            [
             0.3333333333333333,
             "#9c179e"
            ],
            [
             0.4444444444444444,
             "#bd3786"
            ],
            [
             0.5555555555555556,
             "#d8576b"
            ],
            [
             0.6666666666666666,
             "#ed7953"
            ],
            [
             0.7777777777777778,
             "#fb9f3a"
            ],
            [
             0.8888888888888888,
             "#fdca26"
            ],
            [
             1,
             "#f0f921"
            ]
           ],
           "sequentialminus": [
            [
             0,
             "#0d0887"
            ],
            [
             0.1111111111111111,
             "#46039f"
            ],
            [
             0.2222222222222222,
             "#7201a8"
            ],
            [
             0.3333333333333333,
             "#9c179e"
            ],
            [
             0.4444444444444444,
             "#bd3786"
            ],
            [
             0.5555555555555556,
             "#d8576b"
            ],
            [
             0.6666666666666666,
             "#ed7953"
            ],
            [
             0.7777777777777778,
             "#fb9f3a"
            ],
            [
             0.8888888888888888,
             "#fdca26"
            ],
            [
             1,
             "#f0f921"
            ]
           ]
          },
          "colorway": [
           "#636efa",
           "#EF553B",
           "#00cc96",
           "#ab63fa",
           "#FFA15A",
           "#19d3f3",
           "#FF6692",
           "#B6E880",
           "#FF97FF",
           "#FECB52"
          ],
          "font": {
           "color": "#2a3f5f"
          },
          "geo": {
           "bgcolor": "white",
           "lakecolor": "white",
           "landcolor": "#E5ECF6",
           "showlakes": true,
           "showland": true,
           "subunitcolor": "white"
          },
          "hoverlabel": {
           "align": "left"
          },
          "hovermode": "closest",
          "mapbox": {
           "style": "light"
          },
          "paper_bgcolor": "white",
          "plot_bgcolor": "#E5ECF6",
          "polar": {
           "angularaxis": {
            "gridcolor": "white",
            "linecolor": "white",
            "ticks": ""
           },
           "bgcolor": "#E5ECF6",
           "radialaxis": {
            "gridcolor": "white",
            "linecolor": "white",
            "ticks": ""
           }
          },
          "scene": {
           "xaxis": {
            "backgroundcolor": "#E5ECF6",
            "gridcolor": "white",
            "gridwidth": 2,
            "linecolor": "white",
            "showbackground": true,
            "ticks": "",
            "zerolinecolor": "white"
           },
           "yaxis": {
            "backgroundcolor": "#E5ECF6",
            "gridcolor": "white",
            "gridwidth": 2,
            "linecolor": "white",
            "showbackground": true,
            "ticks": "",
            "zerolinecolor": "white"
           },
           "zaxis": {
            "backgroundcolor": "#E5ECF6",
            "gridcolor": "white",
            "gridwidth": 2,
            "linecolor": "white",
            "showbackground": true,
            "ticks": "",
            "zerolinecolor": "white"
           }
          },
          "shapedefaults": {
           "line": {
            "color": "#2a3f5f"
           }
          },
          "ternary": {
           "aaxis": {
            "gridcolor": "white",
            "linecolor": "white",
            "ticks": ""
           },
           "baxis": {
            "gridcolor": "white",
            "linecolor": "white",
            "ticks": ""
           },
           "bgcolor": "#E5ECF6",
           "caxis": {
            "gridcolor": "white",
            "linecolor": "white",
            "ticks": ""
           }
          },
          "title": {
           "x": 0.05
          },
          "xaxis": {
           "automargin": true,
           "gridcolor": "white",
           "linecolor": "white",
           "ticks": "",
           "title": {
            "standoff": 15
           },
           "zerolinecolor": "white",
           "zerolinewidth": 2
          },
          "yaxis": {
           "automargin": true,
           "gridcolor": "white",
           "linecolor": "white",
           "ticks": "",
           "title": {
            "standoff": 15
           },
           "zerolinecolor": "white",
           "zerolinewidth": 2
          }
         }
        },
        "width": 1200,
        "xaxis": {
         "anchor": "y",
         "domain": [
          0,
          0.31999999999999995
         ],
         "showticklabels": true,
         "title": {}
        },
        "xaxis2": {
         "anchor": "y2",
         "domain": [
          0.33999999999999997,
          0.6599999999999999
         ],
         "showticklabels": true,
         "title": {
          "text": "text_response"
         }
        },
        "xaxis3": {
         "anchor": "y3",
         "domain": [
          0.6799999999999999,
          0.9999999999999999
         ],
         "showticklabels": true,
         "title": {
          "text": "text_response"
         }
        },
        "yaxis": {
         "anchor": "x",
         "domain": [
          0,
          1
         ],
         "title": {}
        },
        "yaxis2": {
         "anchor": "x2",
         "domain": [
          0,
          1
         ],
         "matches": "y",
         "showticklabels": false
        },
        "yaxis3": {
         "anchor": "x3",
         "domain": [
          0,
          1
         ],
         "matches": "y",
         "showticklabels": false
        }
       }
      }
     },
     "metadata": {},
     "output_type": "display_data"
    },
    {
     "data": {
      "application/vnd.plotly.v1+json": {
       "config": {
        "plotlyServerURL": "https://plot.ly"
       },
       "data": [
        {
         "alignmentgroup": "True",
         "hovertemplate": "question_text=How often does the surgical staff open too many items prior to surgery?<br>text_response=%{x}<br>count=%{y}<br>text=%{text}<extra></extra>",
         "legendgroup": "",
         "marker": {
          "color": "#636efa",
          "pattern": {
           "shape": ""
          }
         },
         "name": "",
         "offsetgroup": "",
         "orientation": "v",
         "showlegend": false,
         "text": [
          "2%",
          "12%",
          "22%",
          "43%",
          "22%"
         ],
         "textposition": "auto",
         "type": "bar",
         "x": [
          "Almost never",
          "Once in a while",
          "Sometimes",
          "Often",
          "Almost always"
         ],
         "xaxis": "x",
         "y": [
          5,
          29,
          55,
          107,
          54
         ],
         "yaxis": "y"
        },
        {
         "alignmentgroup": "True",
         "hovertemplate": "question_text=Is it true that administrative roadblocks thwart your ability to make sustainable changes?<br>text_response=%{x}<br>count=%{y}<br>text=%{text}<extra></extra>",
         "legendgroup": "",
         "marker": {
          "color": "#636efa",
          "pattern": {
           "shape": ""
          }
         },
         "name": "",
         "offsetgroup": "",
         "orientation": "v",
         "showlegend": false,
         "text": [
          "8%",
          "21%",
          "28%",
          "22%",
          "20%"
         ],
         "textposition": "auto",
         "type": "bar",
         "x": [
          "Not at all true",
          "Slightly true",
          "Moderately true",
          "Quite true",
          "Extremely true"
         ],
         "xaxis": "x2",
         "y": [
          21,
          53,
          71,
          54,
          51
         ],
         "yaxis": "y2"
        },
        {
         "alignmentgroup": "True",
         "hovertemplate": "question_text=Are you confident that individual changes you make can have an impact on climate change?<br>text_response=%{x}<br>count=%{y}<br>text=%{text}<extra></extra>",
         "legendgroup": "",
         "marker": {
          "color": "#636efa",
          "pattern": {
           "shape": ""
          }
         },
         "name": "",
         "offsetgroup": "",
         "orientation": "v",
         "showlegend": false,
         "text": [
          "20%",
          "22%",
          "27%",
          "19%",
          "12%"
         ],
         "textposition": "auto",
         "type": "bar",
         "x": [
          "Not at all confident",
          "Slightly confident",
          "Moderately confident",
          "Quite confident",
          "Extremely true"
         ],
         "xaxis": "x3",
         "y": [
          50,
          56,
          67,
          47,
          30
         ],
         "yaxis": "y3"
        }
       ],
       "layout": {
        "annotations": [
         {
          "font": {},
          "showarrow": false,
          "text": "Ften does the surgical staff open too many items prior to surgery?",
          "x": 0.15999999999999998,
          "xanchor": "center",
          "xref": "paper",
          "y": 1,
          "yanchor": "bottom",
          "yref": "paper"
         },
         {
          "font": {},
          "showarrow": false,
          "text": "Is it true that administrative roadblocks thwart your ability to make sustainable changes?",
          "x": 0.49999999999999994,
          "xanchor": "center",
          "xref": "paper",
          "y": 1,
          "yanchor": "bottom",
          "yref": "paper"
         },
         {
          "font": {},
          "showarrow": false,
          "text": "Are you confident that individual changes you make can have an impact on climate change?",
          "x": 0.8399999999999999,
          "xanchor": "center",
          "xref": "paper",
          "y": 1,
          "yanchor": "bottom",
          "yref": "paper"
         }
        ],
        "barmode": "relative",
        "font": {
         "family": "Inter",
         "size": 14
        },
        "height": 800,
        "legend": {
         "tracegroupgap": 0
        },
        "margin": {
         "t": 60
        },
        "template": {
         "data": {
          "bar": [
           {
            "error_x": {
             "color": "#2a3f5f"
            },
            "error_y": {
             "color": "#2a3f5f"
            },
            "marker": {
             "line": {
              "color": "#E5ECF6",
              "width": 0.5
             },
             "pattern": {
              "fillmode": "overlay",
              "size": 10,
              "solidity": 0.2
             }
            },
            "type": "bar"
           }
          ],
          "barpolar": [
           {
            "marker": {
             "line": {
              "color": "#E5ECF6",
              "width": 0.5
             },
             "pattern": {
              "fillmode": "overlay",
              "size": 10,
              "solidity": 0.2
             }
            },
            "type": "barpolar"
           }
          ],
          "carpet": [
           {
            "aaxis": {
             "endlinecolor": "#2a3f5f",
             "gridcolor": "white",
             "linecolor": "white",
             "minorgridcolor": "white",
             "startlinecolor": "#2a3f5f"
            },
            "baxis": {
             "endlinecolor": "#2a3f5f",
             "gridcolor": "white",
             "linecolor": "white",
             "minorgridcolor": "white",
             "startlinecolor": "#2a3f5f"
            },
            "type": "carpet"
           }
          ],
          "choropleth": [
           {
            "colorbar": {
             "outlinewidth": 0,
             "ticks": ""
            },
            "type": "choropleth"
           }
          ],
          "contour": [
           {
            "colorbar": {
             "outlinewidth": 0,
             "ticks": ""
            },
            "colorscale": [
             [
              0,
              "#0d0887"
             ],
             [
              0.1111111111111111,
              "#46039f"
             ],
             [
              0.2222222222222222,
              "#7201a8"
             ],
             [
              0.3333333333333333,
              "#9c179e"
             ],
             [
              0.4444444444444444,
              "#bd3786"
             ],
             [
              0.5555555555555556,
              "#d8576b"
             ],
             [
              0.6666666666666666,
              "#ed7953"
             ],
             [
              0.7777777777777778,
              "#fb9f3a"
             ],
             [
              0.8888888888888888,
              "#fdca26"
             ],
             [
              1,
              "#f0f921"
             ]
            ],
            "type": "contour"
           }
          ],
          "contourcarpet": [
           {
            "colorbar": {
             "outlinewidth": 0,
             "ticks": ""
            },
            "type": "contourcarpet"
           }
          ],
          "heatmap": [
           {
            "colorbar": {
             "outlinewidth": 0,
             "ticks": ""
            },
            "colorscale": [
             [
              0,
              "#0d0887"
             ],
             [
              0.1111111111111111,
              "#46039f"
             ],
             [
              0.2222222222222222,
              "#7201a8"
             ],
             [
              0.3333333333333333,
              "#9c179e"
             ],
             [
              0.4444444444444444,
              "#bd3786"
             ],
             [
              0.5555555555555556,
              "#d8576b"
             ],
             [
              0.6666666666666666,
              "#ed7953"
             ],
             [
              0.7777777777777778,
              "#fb9f3a"
             ],
             [
              0.8888888888888888,
              "#fdca26"
             ],
             [
              1,
              "#f0f921"
             ]
            ],
            "type": "heatmap"
           }
          ],
          "heatmapgl": [
           {
            "colorbar": {
             "outlinewidth": 0,
             "ticks": ""
            },
            "colorscale": [
             [
              0,
              "#0d0887"
             ],
             [
              0.1111111111111111,
              "#46039f"
             ],
             [
              0.2222222222222222,
              "#7201a8"
             ],
             [
              0.3333333333333333,
              "#9c179e"
             ],
             [
              0.4444444444444444,
              "#bd3786"
             ],
             [
              0.5555555555555556,
              "#d8576b"
             ],
             [
              0.6666666666666666,
              "#ed7953"
             ],
             [
              0.7777777777777778,
              "#fb9f3a"
             ],
             [
              0.8888888888888888,
              "#fdca26"
             ],
             [
              1,
              "#f0f921"
             ]
            ],
            "type": "heatmapgl"
           }
          ],
          "histogram": [
           {
            "marker": {
             "pattern": {
              "fillmode": "overlay",
              "size": 10,
              "solidity": 0.2
             }
            },
            "type": "histogram"
           }
          ],
          "histogram2d": [
           {
            "colorbar": {
             "outlinewidth": 0,
             "ticks": ""
            },
            "colorscale": [
             [
              0,
              "#0d0887"
             ],
             [
              0.1111111111111111,
              "#46039f"
             ],
             [
              0.2222222222222222,
              "#7201a8"
             ],
             [
              0.3333333333333333,
              "#9c179e"
             ],
             [
              0.4444444444444444,
              "#bd3786"
             ],
             [
              0.5555555555555556,
              "#d8576b"
             ],
             [
              0.6666666666666666,
              "#ed7953"
             ],
             [
              0.7777777777777778,
              "#fb9f3a"
             ],
             [
              0.8888888888888888,
              "#fdca26"
             ],
             [
              1,
              "#f0f921"
             ]
            ],
            "type": "histogram2d"
           }
          ],
          "histogram2dcontour": [
           {
            "colorbar": {
             "outlinewidth": 0,
             "ticks": ""
            },
            "colorscale": [
             [
              0,
              "#0d0887"
             ],
             [
              0.1111111111111111,
              "#46039f"
             ],
             [
              0.2222222222222222,
              "#7201a8"
             ],
             [
              0.3333333333333333,
              "#9c179e"
             ],
             [
              0.4444444444444444,
              "#bd3786"
             ],
             [
              0.5555555555555556,
              "#d8576b"
             ],
             [
              0.6666666666666666,
              "#ed7953"
             ],
             [
              0.7777777777777778,
              "#fb9f3a"
             ],
             [
              0.8888888888888888,
              "#fdca26"
             ],
             [
              1,
              "#f0f921"
             ]
            ],
            "type": "histogram2dcontour"
           }
          ],
          "mesh3d": [
           {
            "colorbar": {
             "outlinewidth": 0,
             "ticks": ""
            },
            "type": "mesh3d"
           }
          ],
          "parcoords": [
           {
            "line": {
             "colorbar": {
              "outlinewidth": 0,
              "ticks": ""
             }
            },
            "type": "parcoords"
           }
          ],
          "pie": [
           {
            "automargin": true,
            "type": "pie"
           }
          ],
          "scatter": [
           {
            "fillpattern": {
             "fillmode": "overlay",
             "size": 10,
             "solidity": 0.2
            },
            "type": "scatter"
           }
          ],
          "scatter3d": [
           {
            "line": {
             "colorbar": {
              "outlinewidth": 0,
              "ticks": ""
             }
            },
            "marker": {
             "colorbar": {
              "outlinewidth": 0,
              "ticks": ""
             }
            },
            "type": "scatter3d"
           }
          ],
          "scattercarpet": [
           {
            "marker": {
             "colorbar": {
              "outlinewidth": 0,
              "ticks": ""
             }
            },
            "type": "scattercarpet"
           }
          ],
          "scattergeo": [
           {
            "marker": {
             "colorbar": {
              "outlinewidth": 0,
              "ticks": ""
             }
            },
            "type": "scattergeo"
           }
          ],
          "scattergl": [
           {
            "marker": {
             "colorbar": {
              "outlinewidth": 0,
              "ticks": ""
             }
            },
            "type": "scattergl"
           }
          ],
          "scattermapbox": [
           {
            "marker": {
             "colorbar": {
              "outlinewidth": 0,
              "ticks": ""
             }
            },
            "type": "scattermapbox"
           }
          ],
          "scatterpolar": [
           {
            "marker": {
             "colorbar": {
              "outlinewidth": 0,
              "ticks": ""
             }
            },
            "type": "scatterpolar"
           }
          ],
          "scatterpolargl": [
           {
            "marker": {
             "colorbar": {
              "outlinewidth": 0,
              "ticks": ""
             }
            },
            "type": "scatterpolargl"
           }
          ],
          "scatterternary": [
           {
            "marker": {
             "colorbar": {
              "outlinewidth": 0,
              "ticks": ""
             }
            },
            "type": "scatterternary"
           }
          ],
          "surface": [
           {
            "colorbar": {
             "outlinewidth": 0,
             "ticks": ""
            },
            "colorscale": [
             [
              0,
              "#0d0887"
             ],
             [
              0.1111111111111111,
              "#46039f"
             ],
             [
              0.2222222222222222,
              "#7201a8"
             ],
             [
              0.3333333333333333,
              "#9c179e"
             ],
             [
              0.4444444444444444,
              "#bd3786"
             ],
             [
              0.5555555555555556,
              "#d8576b"
             ],
             [
              0.6666666666666666,
              "#ed7953"
             ],
             [
              0.7777777777777778,
              "#fb9f3a"
             ],
             [
              0.8888888888888888,
              "#fdca26"
             ],
             [
              1,
              "#f0f921"
             ]
            ],
            "type": "surface"
           }
          ],
          "table": [
           {
            "cells": {
             "fill": {
              "color": "#EBF0F8"
             },
             "line": {
              "color": "white"
             }
            },
            "header": {
             "fill": {
              "color": "#C8D4E3"
             },
             "line": {
              "color": "white"
             }
            },
            "type": "table"
           }
          ]
         },
         "layout": {
          "annotationdefaults": {
           "arrowcolor": "#2a3f5f",
           "arrowhead": 0,
           "arrowwidth": 1
          },
          "autotypenumbers": "strict",
          "coloraxis": {
           "colorbar": {
            "outlinewidth": 0,
            "ticks": ""
           }
          },
          "colorscale": {
           "diverging": [
            [
             0,
             "#8e0152"
            ],
            [
             0.1,
             "#c51b7d"
            ],
            [
             0.2,
             "#de77ae"
            ],
            [
             0.3,
             "#f1b6da"
            ],
            [
             0.4,
             "#fde0ef"
            ],
            [
             0.5,
             "#f7f7f7"
            ],
            [
             0.6,
             "#e6f5d0"
            ],
            [
             0.7,
             "#b8e186"
            ],
            [
             0.8,
             "#7fbc41"
            ],
            [
             0.9,
             "#4d9221"
            ],
            [
             1,
             "#276419"
            ]
           ],
           "sequential": [
            [
             0,
             "#0d0887"
            ],
            [
             0.1111111111111111,
             "#46039f"
            ],
            [
             0.2222222222222222,
             "#7201a8"
            ],
            [
             0.3333333333333333,
             "#9c179e"
            ],
            [
             0.4444444444444444,
             "#bd3786"
            ],
            [
             0.5555555555555556,
             "#d8576b"
            ],
            [
             0.6666666666666666,
             "#ed7953"
            ],
            [
             0.7777777777777778,
             "#fb9f3a"
            ],
            [
             0.8888888888888888,
             "#fdca26"
            ],
            [
             1,
             "#f0f921"
            ]
           ],
           "sequentialminus": [
            [
             0,
             "#0d0887"
            ],
            [
             0.1111111111111111,
             "#46039f"
            ],
            [
             0.2222222222222222,
             "#7201a8"
            ],
            [
             0.3333333333333333,
             "#9c179e"
            ],
            [
             0.4444444444444444,
             "#bd3786"
            ],
            [
             0.5555555555555556,
             "#d8576b"
            ],
            [
             0.6666666666666666,
             "#ed7953"
            ],
            [
             0.7777777777777778,
             "#fb9f3a"
            ],
            [
             0.8888888888888888,
             "#fdca26"
            ],
            [
             1,
             "#f0f921"
            ]
           ]
          },
          "colorway": [
           "#636efa",
           "#EF553B",
           "#00cc96",
           "#ab63fa",
           "#FFA15A",
           "#19d3f3",
           "#FF6692",
           "#B6E880",
           "#FF97FF",
           "#FECB52"
          ],
          "font": {
           "color": "#2a3f5f"
          },
          "geo": {
           "bgcolor": "white",
           "lakecolor": "white",
           "landcolor": "#E5ECF6",
           "showlakes": true,
           "showland": true,
           "subunitcolor": "white"
          },
          "hoverlabel": {
           "align": "left"
          },
          "hovermode": "closest",
          "mapbox": {
           "style": "light"
          },
          "paper_bgcolor": "white",
          "plot_bgcolor": "#E5ECF6",
          "polar": {
           "angularaxis": {
            "gridcolor": "white",
            "linecolor": "white",
            "ticks": ""
           },
           "bgcolor": "#E5ECF6",
           "radialaxis": {
            "gridcolor": "white",
            "linecolor": "white",
            "ticks": ""
           }
          },
          "scene": {
           "xaxis": {
            "backgroundcolor": "#E5ECF6",
            "gridcolor": "white",
            "gridwidth": 2,
            "linecolor": "white",
            "showbackground": true,
            "ticks": "",
            "zerolinecolor": "white"
           },
           "yaxis": {
            "backgroundcolor": "#E5ECF6",
            "gridcolor": "white",
            "gridwidth": 2,
            "linecolor": "white",
            "showbackground": true,
            "ticks": "",
            "zerolinecolor": "white"
           },
           "zaxis": {
            "backgroundcolor": "#E5ECF6",
            "gridcolor": "white",
            "gridwidth": 2,
            "linecolor": "white",
            "showbackground": true,
            "ticks": "",
            "zerolinecolor": "white"
           }
          },
          "shapedefaults": {
           "line": {
            "color": "#2a3f5f"
           }
          },
          "ternary": {
           "aaxis": {
            "gridcolor": "white",
            "linecolor": "white",
            "ticks": ""
           },
           "baxis": {
            "gridcolor": "white",
            "linecolor": "white",
            "ticks": ""
           },
           "bgcolor": "#E5ECF6",
           "caxis": {
            "gridcolor": "white",
            "linecolor": "white",
            "ticks": ""
           }
          },
          "title": {
           "x": 0.05
          },
          "xaxis": {
           "automargin": true,
           "gridcolor": "white",
           "linecolor": "white",
           "ticks": "",
           "title": {
            "standoff": 15
           },
           "zerolinecolor": "white",
           "zerolinewidth": 2
          },
          "yaxis": {
           "automargin": true,
           "gridcolor": "white",
           "linecolor": "white",
           "ticks": "",
           "title": {
            "standoff": 15
           },
           "zerolinecolor": "white",
           "zerolinewidth": 2
          }
         }
        },
        "width": 1200,
        "xaxis": {
         "anchor": "y",
         "domain": [
          0,
          0.31999999999999995
         ],
         "showticklabels": true,
         "title": {}
        },
        "xaxis2": {
         "anchor": "y2",
         "domain": [
          0.33999999999999997,
          0.6599999999999999
         ],
         "showticklabels": true,
         "title": {
          "text": "text_response"
         }
        },
        "xaxis3": {
         "anchor": "y3",
         "domain": [
          0.6799999999999999,
          0.9999999999999999
         ],
         "showticklabels": true,
         "title": {
          "text": "text_response"
         }
        },
        "yaxis": {
         "anchor": "x",
         "domain": [
          0,
          1
         ],
         "title": {}
        },
        "yaxis2": {
         "anchor": "x2",
         "domain": [
          0,
          1
         ],
         "matches": "y",
         "showticklabels": false
        },
        "yaxis3": {
         "anchor": "x3",
         "domain": [
          0,
          1
         ],
         "matches": "y",
         "showticklabels": false
        }
       }
      }
     },
     "metadata": {},
     "output_type": "display_data"
    },
    {
     "data": {
      "application/vnd.plotly.v1+json": {
       "config": {
        "plotlyServerURL": "https://plot.ly"
       },
       "data": [
        {
         "alignmentgroup": "True",
         "hovertemplate": "question_text=How well do you understand the environmental impact of your operations?<br>text_response=%{x}<br>count=%{y}<br>text=%{text}<extra></extra>",
         "legendgroup": "",
         "marker": {
          "color": "#636efa",
          "pattern": {
           "shape": ""
          }
         },
         "name": "",
         "offsetgroup": "",
         "orientation": "v",
         "showlegend": false,
         "text": [
          "33%",
          "20%",
          "31%",
          "11%",
          "4%"
         ],
         "textposition": "auto",
         "type": "bar",
         "x": [
          "Not very well",
          "Slightly well",
          "Moderately well",
          "Quite well",
          "Extremely well"
         ],
         "xaxis": "x4",
         "y": [
          83,
          51,
          76,
          28,
          11
         ],
         "yaxis": "y4"
        },
        {
         "alignmentgroup": "True",
         "hovertemplate": "question_text=How much effort does your institution put into teaching you about operating room sustainability?<br>text_response=%{x}<br>count=%{y}<br>text=%{text}<extra></extra>",
         "legendgroup": "",
         "marker": {
          "color": "#636efa",
          "pattern": {
           "shape": ""
          }
         },
         "name": "",
         "offsetgroup": "",
         "orientation": "v",
         "showlegend": false,
         "text": [
          "66%",
          "26%",
          "6%",
          "2%"
         ],
         "textposition": "auto",
         "type": "bar",
         "x": [
          "Not at a lot of effort",
          "Slight effort",
          "Moderate effort",
          "Quite a bit of effort"
         ],
         "xaxis": "x5",
         "y": [
          165,
          65,
          15,
          5
         ],
         "yaxis": "y5"
        },
        {
         "alignmentgroup": "True",
         "hovertemplate": "question_text=How well does the surgical team understand operating room sustainability?<br>text_response=%{x}<br>count=%{y}<br>text=%{text}<extra></extra>",
         "legendgroup": "",
         "marker": {
          "color": "#636efa",
          "pattern": {
           "shape": ""
          }
         },
         "name": "",
         "offsetgroup": "",
         "orientation": "v",
         "showlegend": false,
         "text": [
          "58%",
          "32%",
          "8%",
          "1%",
          "1%"
         ],
         "textposition": "auto",
         "type": "bar",
         "x": [
          "Not very well",
          "Slightly well",
          "Moderately well",
          "Quite well",
          "Extremely well"
         ],
         "xaxis": "x6",
         "y": [
          144,
          81,
          20,
          3,
          2
         ],
         "yaxis": "y6"
        },
        {
         "alignmentgroup": "True",
         "hovertemplate": "question_text=Is it true that reusable items (such as ports) are just as safe as single use items?<br>text_response=%{x}<br>count=%{y}<br>text=%{text}<extra></extra>",
         "legendgroup": "",
         "marker": {
          "color": "#636efa",
          "pattern": {
           "shape": ""
          }
         },
         "name": "",
         "offsetgroup": "",
         "orientation": "v",
         "showlegend": false,
         "text": [
          "3%",
          "7%",
          "16%",
          "44%",
          "29%"
         ],
         "textposition": "auto",
         "type": "bar",
         "x": [
          "Not at all true",
          "Slightly true",
          "Moderately true",
          "Quite true",
          "Extremely true"
         ],
         "xaxis": "x",
         "y": [
          8,
          17,
          41,
          110,
          73
         ],
         "yaxis": "y"
        },
        {
         "alignmentgroup": "True",
         "hovertemplate": "question_text=Is it true that reprocessed instruments (such as a Ligasure) are just as safe as brand new (OEM) items?<br>text_response=%{x}<br>count=%{y}<br>text=%{text}<extra></extra>",
         "legendgroup": "",
         "marker": {
          "color": "#636efa",
          "pattern": {
           "shape": ""
          }
         },
         "name": "",
         "offsetgroup": "",
         "orientation": "v",
         "showlegend": false,
         "text": [
          "2%",
          "9%",
          "27%",
          "43%",
          "19%"
         ],
         "textposition": "auto",
         "type": "bar",
         "x": [
          "Not at all true",
          "Slightly true",
          "Moderately true",
          "Quite true",
          "Extremely true"
         ],
         "xaxis": "x2",
         "y": [
          6,
          22,
          68,
          106,
          47
         ],
         "yaxis": "y2"
        }
       ],
       "layout": {
        "annotations": [
         {
          "font": {},
          "showarrow": false,
          "text": "Is it true that reusable items (such as ports) are just as safe as single use items?",
          "x": 0.15999999999999998,
          "xanchor": "center",
          "xref": "paper",
          "y": 0.46499999999999997,
          "yanchor": "bottom",
          "yref": "paper"
         },
         {
          "font": {},
          "showarrow": false,
          "text": "Is it true that reprocessed instruments (such as a ligasure) are just as safe as brand new (oem) items?",
          "x": 0.49999999999999994,
          "xanchor": "center",
          "xref": "paper",
          "y": 0.46499999999999997,
          "yanchor": "bottom",
          "yref": "paper"
         },
         {
          "font": {},
          "showarrow": false,
          "text": "Do you understand the environmental impact of your operations?",
          "x": 0.15999999999999998,
          "xanchor": "center",
          "xref": "paper",
          "y": 0.9999999999999999,
          "yanchor": "bottom",
          "yref": "paper"
         },
         {
          "font": {},
          "showarrow": false,
          "text": "Much effort does your institution put into teaching you about operating room sustainability?",
          "x": 0.49999999999999994,
          "xanchor": "center",
          "xref": "paper",
          "y": 0.9999999999999999,
          "yanchor": "bottom",
          "yref": "paper"
         },
         {
          "font": {},
          "showarrow": false,
          "text": "Does the surgical team understand operating room sustainability?",
          "x": 0.8399999999999999,
          "xanchor": "center",
          "xref": "paper",
          "y": 0.9999999999999999,
          "yanchor": "bottom",
          "yref": "paper"
         }
        ],
        "barmode": "relative",
        "font": {
         "family": "Inter",
         "size": 14
        },
        "height": 800,
        "legend": {
         "tracegroupgap": 0
        },
        "margin": {
         "t": 60
        },
        "template": {
         "data": {
          "bar": [
           {
            "error_x": {
             "color": "#2a3f5f"
            },
            "error_y": {
             "color": "#2a3f5f"
            },
            "marker": {
             "line": {
              "color": "#E5ECF6",
              "width": 0.5
             },
             "pattern": {
              "fillmode": "overlay",
              "size": 10,
              "solidity": 0.2
             }
            },
            "type": "bar"
           }
          ],
          "barpolar": [
           {
            "marker": {
             "line": {
              "color": "#E5ECF6",
              "width": 0.5
             },
             "pattern": {
              "fillmode": "overlay",
              "size": 10,
              "solidity": 0.2
             }
            },
            "type": "barpolar"
           }
          ],
          "carpet": [
           {
            "aaxis": {
             "endlinecolor": "#2a3f5f",
             "gridcolor": "white",
             "linecolor": "white",
             "minorgridcolor": "white",
             "startlinecolor": "#2a3f5f"
            },
            "baxis": {
             "endlinecolor": "#2a3f5f",
             "gridcolor": "white",
             "linecolor": "white",
             "minorgridcolor": "white",
             "startlinecolor": "#2a3f5f"
            },
            "type": "carpet"
           }
          ],
          "choropleth": [
           {
            "colorbar": {
             "outlinewidth": 0,
             "ticks": ""
            },
            "type": "choropleth"
           }
          ],
          "contour": [
           {
            "colorbar": {
             "outlinewidth": 0,
             "ticks": ""
            },
            "colorscale": [
             [
              0,
              "#0d0887"
             ],
             [
              0.1111111111111111,
              "#46039f"
             ],
             [
              0.2222222222222222,
              "#7201a8"
             ],
             [
              0.3333333333333333,
              "#9c179e"
             ],
             [
              0.4444444444444444,
              "#bd3786"
             ],
             [
              0.5555555555555556,
              "#d8576b"
             ],
             [
              0.6666666666666666,
              "#ed7953"
             ],
             [
              0.7777777777777778,
              "#fb9f3a"
             ],
             [
              0.8888888888888888,
              "#fdca26"
             ],
             [
              1,
              "#f0f921"
             ]
            ],
            "type": "contour"
           }
          ],
          "contourcarpet": [
           {
            "colorbar": {
             "outlinewidth": 0,
             "ticks": ""
            },
            "type": "contourcarpet"
           }
          ],
          "heatmap": [
           {
            "colorbar": {
             "outlinewidth": 0,
             "ticks": ""
            },
            "colorscale": [
             [
              0,
              "#0d0887"
             ],
             [
              0.1111111111111111,
              "#46039f"
             ],
             [
              0.2222222222222222,
              "#7201a8"
             ],
             [
              0.3333333333333333,
              "#9c179e"
             ],
             [
              0.4444444444444444,
              "#bd3786"
             ],
             [
              0.5555555555555556,
              "#d8576b"
             ],
             [
              0.6666666666666666,
              "#ed7953"
             ],
             [
              0.7777777777777778,
              "#fb9f3a"
             ],
             [
              0.8888888888888888,
              "#fdca26"
             ],
             [
              1,
              "#f0f921"
             ]
            ],
            "type": "heatmap"
           }
          ],
          "heatmapgl": [
           {
            "colorbar": {
             "outlinewidth": 0,
             "ticks": ""
            },
            "colorscale": [
             [
              0,
              "#0d0887"
             ],
             [
              0.1111111111111111,
              "#46039f"
             ],
             [
              0.2222222222222222,
              "#7201a8"
             ],
             [
              0.3333333333333333,
              "#9c179e"
             ],
             [
              0.4444444444444444,
              "#bd3786"
             ],
             [
              0.5555555555555556,
              "#d8576b"
             ],
             [
              0.6666666666666666,
              "#ed7953"
             ],
             [
              0.7777777777777778,
              "#fb9f3a"
             ],
             [
              0.8888888888888888,
              "#fdca26"
             ],
             [
              1,
              "#f0f921"
             ]
            ],
            "type": "heatmapgl"
           }
          ],
          "histogram": [
           {
            "marker": {
             "pattern": {
              "fillmode": "overlay",
              "size": 10,
              "solidity": 0.2
             }
            },
            "type": "histogram"
           }
          ],
          "histogram2d": [
           {
            "colorbar": {
             "outlinewidth": 0,
             "ticks": ""
            },
            "colorscale": [
             [
              0,
              "#0d0887"
             ],
             [
              0.1111111111111111,
              "#46039f"
             ],
             [
              0.2222222222222222,
              "#7201a8"
             ],
             [
              0.3333333333333333,
              "#9c179e"
             ],
             [
              0.4444444444444444,
              "#bd3786"
             ],
             [
              0.5555555555555556,
              "#d8576b"
             ],
             [
              0.6666666666666666,
              "#ed7953"
             ],
             [
              0.7777777777777778,
              "#fb9f3a"
             ],
             [
              0.8888888888888888,
              "#fdca26"
             ],
             [
              1,
              "#f0f921"
             ]
            ],
            "type": "histogram2d"
           }
          ],
          "histogram2dcontour": [
           {
            "colorbar": {
             "outlinewidth": 0,
             "ticks": ""
            },
            "colorscale": [
             [
              0,
              "#0d0887"
             ],
             [
              0.1111111111111111,
              "#46039f"
             ],
             [
              0.2222222222222222,
              "#7201a8"
             ],
             [
              0.3333333333333333,
              "#9c179e"
             ],
             [
              0.4444444444444444,
              "#bd3786"
             ],
             [
              0.5555555555555556,
              "#d8576b"
             ],
             [
              0.6666666666666666,
              "#ed7953"
             ],
             [
              0.7777777777777778,
              "#fb9f3a"
             ],
             [
              0.8888888888888888,
              "#fdca26"
             ],
             [
              1,
              "#f0f921"
             ]
            ],
            "type": "histogram2dcontour"
           }
          ],
          "mesh3d": [
           {
            "colorbar": {
             "outlinewidth": 0,
             "ticks": ""
            },
            "type": "mesh3d"
           }
          ],
          "parcoords": [
           {
            "line": {
             "colorbar": {
              "outlinewidth": 0,
              "ticks": ""
             }
            },
            "type": "parcoords"
           }
          ],
          "pie": [
           {
            "automargin": true,
            "type": "pie"
           }
          ],
          "scatter": [
           {
            "fillpattern": {
             "fillmode": "overlay",
             "size": 10,
             "solidity": 0.2
            },
            "type": "scatter"
           }
          ],
          "scatter3d": [
           {
            "line": {
             "colorbar": {
              "outlinewidth": 0,
              "ticks": ""
             }
            },
            "marker": {
             "colorbar": {
              "outlinewidth": 0,
              "ticks": ""
             }
            },
            "type": "scatter3d"
           }
          ],
          "scattercarpet": [
           {
            "marker": {
             "colorbar": {
              "outlinewidth": 0,
              "ticks": ""
             }
            },
            "type": "scattercarpet"
           }
          ],
          "scattergeo": [
           {
            "marker": {
             "colorbar": {
              "outlinewidth": 0,
              "ticks": ""
             }
            },
            "type": "scattergeo"
           }
          ],
          "scattergl": [
           {
            "marker": {
             "colorbar": {
              "outlinewidth": 0,
              "ticks": ""
             }
            },
            "type": "scattergl"
           }
          ],
          "scattermapbox": [
           {
            "marker": {
             "colorbar": {
              "outlinewidth": 0,
              "ticks": ""
             }
            },
            "type": "scattermapbox"
           }
          ],
          "scatterpolar": [
           {
            "marker": {
             "colorbar": {
              "outlinewidth": 0,
              "ticks": ""
             }
            },
            "type": "scatterpolar"
           }
          ],
          "scatterpolargl": [
           {
            "marker": {
             "colorbar": {
              "outlinewidth": 0,
              "ticks": ""
             }
            },
            "type": "scatterpolargl"
           }
          ],
          "scatterternary": [
           {
            "marker": {
             "colorbar": {
              "outlinewidth": 0,
              "ticks": ""
             }
            },
            "type": "scatterternary"
           }
          ],
          "surface": [
           {
            "colorbar": {
             "outlinewidth": 0,
             "ticks": ""
            },
            "colorscale": [
             [
              0,
              "#0d0887"
             ],
             [
              0.1111111111111111,
              "#46039f"
             ],
             [
              0.2222222222222222,
              "#7201a8"
             ],
             [
              0.3333333333333333,
              "#9c179e"
             ],
             [
              0.4444444444444444,
              "#bd3786"
             ],
             [
              0.5555555555555556,
              "#d8576b"
             ],
             [
              0.6666666666666666,
              "#ed7953"
             ],
             [
              0.7777777777777778,
              "#fb9f3a"
             ],
             [
              0.8888888888888888,
              "#fdca26"
             ],
             [
              1,
              "#f0f921"
             ]
            ],
            "type": "surface"
           }
          ],
          "table": [
           {
            "cells": {
             "fill": {
              "color": "#EBF0F8"
             },
             "line": {
              "color": "white"
             }
            },
            "header": {
             "fill": {
              "color": "#C8D4E3"
             },
             "line": {
              "color": "white"
             }
            },
            "type": "table"
           }
          ]
         },
         "layout": {
          "annotationdefaults": {
           "arrowcolor": "#2a3f5f",
           "arrowhead": 0,
           "arrowwidth": 1
          },
          "autotypenumbers": "strict",
          "coloraxis": {
           "colorbar": {
            "outlinewidth": 0,
            "ticks": ""
           }
          },
          "colorscale": {
           "diverging": [
            [
             0,
             "#8e0152"
            ],
            [
             0.1,
             "#c51b7d"
            ],
            [
             0.2,
             "#de77ae"
            ],
            [
             0.3,
             "#f1b6da"
            ],
            [
             0.4,
             "#fde0ef"
            ],
            [
             0.5,
             "#f7f7f7"
            ],
            [
             0.6,
             "#e6f5d0"
            ],
            [
             0.7,
             "#b8e186"
            ],
            [
             0.8,
             "#7fbc41"
            ],
            [
             0.9,
             "#4d9221"
            ],
            [
             1,
             "#276419"
            ]
           ],
           "sequential": [
            [
             0,
             "#0d0887"
            ],
            [
             0.1111111111111111,
             "#46039f"
            ],
            [
             0.2222222222222222,
             "#7201a8"
            ],
            [
             0.3333333333333333,
             "#9c179e"
            ],
            [
             0.4444444444444444,
             "#bd3786"
            ],
            [
             0.5555555555555556,
             "#d8576b"
            ],
            [
             0.6666666666666666,
             "#ed7953"
            ],
            [
             0.7777777777777778,
             "#fb9f3a"
            ],
            [
             0.8888888888888888,
             "#fdca26"
            ],
            [
             1,
             "#f0f921"
            ]
           ],
           "sequentialminus": [
            [
             0,
             "#0d0887"
            ],
            [
             0.1111111111111111,
             "#46039f"
            ],
            [
             0.2222222222222222,
             "#7201a8"
            ],
            [
             0.3333333333333333,
             "#9c179e"
            ],
            [
             0.4444444444444444,
             "#bd3786"
            ],
            [
             0.5555555555555556,
             "#d8576b"
            ],
            [
             0.6666666666666666,
             "#ed7953"
            ],
            [
             0.7777777777777778,
             "#fb9f3a"
            ],
            [
             0.8888888888888888,
             "#fdca26"
            ],
            [
             1,
             "#f0f921"
            ]
           ]
          },
          "colorway": [
           "#636efa",
           "#EF553B",
           "#00cc96",
           "#ab63fa",
           "#FFA15A",
           "#19d3f3",
           "#FF6692",
           "#B6E880",
           "#FF97FF",
           "#FECB52"
          ],
          "font": {
           "color": "#2a3f5f"
          },
          "geo": {
           "bgcolor": "white",
           "lakecolor": "white",
           "landcolor": "#E5ECF6",
           "showlakes": true,
           "showland": true,
           "subunitcolor": "white"
          },
          "hoverlabel": {
           "align": "left"
          },
          "hovermode": "closest",
          "mapbox": {
           "style": "light"
          },
          "paper_bgcolor": "white",
          "plot_bgcolor": "#E5ECF6",
          "polar": {
           "angularaxis": {
            "gridcolor": "white",
            "linecolor": "white",
            "ticks": ""
           },
           "bgcolor": "#E5ECF6",
           "radialaxis": {
            "gridcolor": "white",
            "linecolor": "white",
            "ticks": ""
           }
          },
          "scene": {
           "xaxis": {
            "backgroundcolor": "#E5ECF6",
            "gridcolor": "white",
            "gridwidth": 2,
            "linecolor": "white",
            "showbackground": true,
            "ticks": "",
            "zerolinecolor": "white"
           },
           "yaxis": {
            "backgroundcolor": "#E5ECF6",
            "gridcolor": "white",
            "gridwidth": 2,
            "linecolor": "white",
            "showbackground": true,
            "ticks": "",
            "zerolinecolor": "white"
           },
           "zaxis": {
            "backgroundcolor": "#E5ECF6",
            "gridcolor": "white",
            "gridwidth": 2,
            "linecolor": "white",
            "showbackground": true,
            "ticks": "",
            "zerolinecolor": "white"
           }
          },
          "shapedefaults": {
           "line": {
            "color": "#2a3f5f"
           }
          },
          "ternary": {
           "aaxis": {
            "gridcolor": "white",
            "linecolor": "white",
            "ticks": ""
           },
           "baxis": {
            "gridcolor": "white",
            "linecolor": "white",
            "ticks": ""
           },
           "bgcolor": "#E5ECF6",
           "caxis": {
            "gridcolor": "white",
            "linecolor": "white",
            "ticks": ""
           }
          },
          "title": {
           "x": 0.05
          },
          "xaxis": {
           "automargin": true,
           "gridcolor": "white",
           "linecolor": "white",
           "ticks": "",
           "title": {
            "standoff": 15
           },
           "zerolinecolor": "white",
           "zerolinewidth": 2
          },
          "yaxis": {
           "automargin": true,
           "gridcolor": "white",
           "linecolor": "white",
           "ticks": "",
           "title": {
            "standoff": 15
           },
           "zerolinecolor": "white",
           "zerolinewidth": 2
          }
         }
        },
        "width": 1200,
        "xaxis": {
         "anchor": "y",
         "domain": [
          0,
          0.31999999999999995
         ],
         "showticklabels": true,
         "title": {}
        },
        "xaxis2": {
         "anchor": "y2",
         "domain": [
          0.33999999999999997,
          0.6599999999999999
         ],
         "showticklabels": true,
         "title": {
          "text": "text_response"
         }
        },
        "xaxis3": {
         "anchor": "y3",
         "domain": [
          0.6799999999999999,
          0.9999999999999999
         ],
         "showticklabels": true,
         "title": {
          "text": "text_response"
         }
        },
        "xaxis4": {
         "anchor": "y4",
         "domain": [
          0,
          0.31999999999999995
         ],
         "showticklabels": true
        },
        "xaxis5": {
         "anchor": "y5",
         "domain": [
          0.33999999999999997,
          0.6599999999999999
         ],
         "showticklabels": true
        },
        "xaxis6": {
         "anchor": "y6",
         "domain": [
          0.6799999999999999,
          0.9999999999999999
         ],
         "showticklabels": true
        },
        "yaxis": {
         "anchor": "x",
         "domain": [
          0,
          0.46499999999999997
         ],
         "title": {}
        },
        "yaxis2": {
         "anchor": "x2",
         "domain": [
          0,
          0.46499999999999997
         ],
         "matches": "y",
         "showticklabels": false
        },
        "yaxis3": {
         "anchor": "x3",
         "domain": [
          0,
          0.46499999999999997
         ],
         "matches": "y",
         "showticklabels": false
        },
        "yaxis4": {
         "anchor": "x4",
         "domain": [
          0.5349999999999999,
          0.9999999999999999
         ],
         "matches": "y",
         "title": {
          "text": "count"
         }
        },
        "yaxis5": {
         "anchor": "x5",
         "domain": [
          0.5349999999999999,
          0.9999999999999999
         ],
         "matches": "y",
         "showticklabels": false
        },
        "yaxis6": {
         "anchor": "x6",
         "domain": [
          0.5349999999999999,
          0.9999999999999999
         ],
         "matches": "y",
         "showticklabels": false
        }
       }
      }
     },
     "metadata": {},
     "output_type": "display_data"
    },
    {
     "data": {
      "application/vnd.plotly.v1+json": {
       "config": {
        "plotlyServerURL": "https://plot.ly"
       },
       "data": [
        {
         "alignmentgroup": "True",
         "hovertemplate": "question_text=How motivated would you be in improving the sustainability of your practice if you receive national recognition?<br>text_response=%{x}<br>count=%{y}<br>text=%{text}<extra></extra>",
         "legendgroup": "",
         "marker": {
          "color": "#636efa",
          "pattern": {
           "shape": ""
          }
         },
         "name": "",
         "offsetgroup": "",
         "orientation": "v",
         "showlegend": false,
         "text": [
          "25%",
          "19%",
          "24%",
          "17%",
          "16%"
         ],
         "textposition": "auto",
         "type": "bar",
         "x": [
          "Not at all motivated",
          "Slightly motivated",
          "Moderately motivated",
          "Quite motivated",
          "Extremely motivated"
         ],
         "xaxis": "x7",
         "y": [
          62,
          48,
          59,
          42,
          39
         ],
         "yaxis": "y7"
        },
        {
         "alignmentgroup": "True",
         "hovertemplate": "question_text=How motivated would you be in improving the sustainability of your practice if you personally received a cash incentive?<br>text_response=%{x}<br>count=%{y}<br>text=%{text}<extra></extra>",
         "legendgroup": "",
         "marker": {
          "color": "#636efa",
          "pattern": {
           "shape": ""
          }
         },
         "name": "",
         "offsetgroup": "",
         "orientation": "v",
         "showlegend": false,
         "text": [
          "9%",
          "14%",
          "16%",
          "22%",
          "39%"
         ],
         "textposition": "auto",
         "type": "bar",
         "x": [
          "Not at all motivated",
          "Slightly motivated",
          "Moderately motivated",
          "Quite motivated",
          "Extremely motivated"
         ],
         "xaxis": "x8",
         "y": [
          22,
          36,
          39,
          55,
          98
         ],
         "yaxis": "y8"
        },
        {
         "alignmentgroup": "True",
         "hovertemplate": "question_text=How motivated would you be in improving the sustainability of your practice if your division received a cash incentive?<br>text_response=%{x}<br>count=%{y}<br>text=%{text}<extra></extra>",
         "legendgroup": "",
         "marker": {
          "color": "#636efa",
          "pattern": {
           "shape": ""
          }
         },
         "name": "",
         "offsetgroup": "",
         "orientation": "v",
         "showlegend": false,
         "text": [
          "8%",
          "16%",
          "25%",
          "22%",
          "28%"
         ],
         "textposition": "auto",
         "type": "bar",
         "x": [
          "Not at all motivated",
          "Slightly motivated",
          "Moderately motivated",
          "Quite motivated",
          "Extremely motivated"
         ],
         "xaxis": "x9",
         "y": [
          21,
          41,
          63,
          56,
          69
         ],
         "yaxis": "y9"
        },
        {
         "alignmentgroup": "True",
         "hovertemplate": "question_text=How motivated would you be in improving the sustainability of your practice if you receive a percentage of the cost savings?<br>text_response=%{x}<br>count=%{y}<br>text=%{text}<extra></extra>",
         "legendgroup": "",
         "marker": {
          "color": "#636efa",
          "pattern": {
           "shape": ""
          }
         },
         "name": "",
         "offsetgroup": "",
         "orientation": "v",
         "showlegend": false,
         "text": [
          "6%",
          "8%",
          "18%",
          "26%",
          "42%"
         ],
         "textposition": "auto",
         "type": "bar",
         "x": [
          "Not at all motivated",
          "Slightly motivated",
          "Moderately motivated",
          "Quite motivated",
          "Extremely motivated"
         ],
         "xaxis": "x4",
         "y": [
          15,
          20,
          45,
          66,
          104
         ],
         "yaxis": "y4"
        },
        {
         "alignmentgroup": "True",
         "hovertemplate": "question_text=How motivated would you be in improving the sustainability of your practice if your division receives additional research funding?<br>text_response=%{x}<br>count=%{y}<br>text=%{text}<extra></extra>",
         "legendgroup": "",
         "marker": {
          "color": "#636efa",
          "pattern": {
           "shape": ""
          }
         },
         "name": "",
         "offsetgroup": "",
         "orientation": "v",
         "showlegend": false,
         "text": [
          "12%",
          "13%",
          "25%",
          "25%",
          "26%"
         ],
         "textposition": "auto",
         "type": "bar",
         "x": [
          "Not at all motivated",
          "Slightly motivated",
          "Moderately motivated",
          "Quite motivated",
          "Extremely motivated"
         ],
         "xaxis": "x5",
         "y": [
          29,
          32,
          62,
          62,
          64
         ],
         "yaxis": "y5"
        },
        {
         "alignmentgroup": "True",
         "hovertemplate": "question_text=How motivated would you be in improving the sustainability of your practice if you receive a perk (such as free professional membership)?<br>text_response=%{x}<br>count=%{y}<br>text=%{text}<extra></extra>",
         "legendgroup": "",
         "marker": {
          "color": "#636efa",
          "pattern": {
           "shape": ""
          }
         },
         "name": "",
         "offsetgroup": "",
         "orientation": "v",
         "showlegend": false,
         "text": [
          "18%",
          "17%",
          "22%",
          "20%",
          "23%"
         ],
         "textposition": "auto",
         "type": "bar",
         "x": [
          "Not at all motivated",
          "Slightly motivated",
          "Moderately motivated",
          "Quite motivated",
          "Extremely motivated"
         ],
         "xaxis": "x6",
         "y": [
          44,
          43,
          56,
          50,
          57
         ],
         "yaxis": "y6"
        },
        {
         "alignmentgroup": "True",
         "hovertemplate": "question_text=How motivated would you be in improving the sustainability of your practice if your division receives a perk (such as a pizza party)?<br>text_response=%{x}<br>count=%{y}<br>text=%{text}<extra></extra>",
         "legendgroup": "",
         "marker": {
          "color": "#636efa",
          "pattern": {
           "shape": ""
          }
         },
         "name": "",
         "offsetgroup": "",
         "orientation": "v",
         "showlegend": false,
         "text": [
          "41%",
          "27%",
          "16%",
          "7%",
          "10%"
         ],
         "textposition": "auto",
         "type": "bar",
         "x": [
          "Not at all motivated",
          "Slightly motivated",
          "Moderately motivated",
          "Quite motivated",
          "Extremely motivated"
         ],
         "xaxis": "x",
         "y": [
          102,
          67,
          39,
          18,
          24
         ],
         "yaxis": "y"
        },
        {
         "alignmentgroup": "True",
         "hovertemplate": "question_text=How motivated would you be in improving the sustainability of your practice if you receive personal recognition from your department?<br>text_response=%{x}<br>count=%{y}<br>text=%{text}<extra></extra>",
         "legendgroup": "",
         "marker": {
          "color": "#636efa",
          "pattern": {
           "shape": ""
          }
         },
         "name": "",
         "offsetgroup": "",
         "orientation": "v",
         "showlegend": false,
         "text": [
          "32%",
          "22%",
          "23%",
          "14%",
          "9%"
         ],
         "textposition": "auto",
         "type": "bar",
         "x": [
          "Not at all motivated",
          "Slightly motivated",
          "Moderately motivated",
          "Quite motivated",
          "Extremely motivated"
         ],
         "xaxis": "x2",
         "y": [
          81,
          55,
          58,
          34,
          22
         ],
         "yaxis": "y2"
        },
        {
         "alignmentgroup": "True",
         "hovertemplate": "question_text=How motivated would you be in improving the sustainability of your practice if your division/group receives recognition from your department?<br>text_response=%{x}<br>count=%{y}<br>text=%{text}<extra></extra>",
         "legendgroup": "",
         "marker": {
          "color": "#636efa",
          "pattern": {
           "shape": ""
          }
         },
         "name": "",
         "offsetgroup": "",
         "orientation": "v",
         "showlegend": false,
         "text": [
          "25%",
          "24%",
          "23%",
          "15%",
          "13%"
         ],
         "textposition": "auto",
         "type": "bar",
         "x": [
          "Not at all motivated",
          "Slightly motivated",
          "Moderately motivated",
          "Quite motivated",
          "Extremely motivated"
         ],
         "xaxis": "x3",
         "y": [
          62,
          60,
          57,
          38,
          33
         ],
         "yaxis": "y3"
        }
       ],
       "layout": {
        "annotations": [
         {
          "font": {},
          "showarrow": false,
          "text": "Motivated would you be in improving the sustainability of your practice if your division receives a perk (such as a pizza party)?",
          "x": 0.15999999999999998,
          "xanchor": "center",
          "xref": "paper",
          "y": 0.2866666666666666,
          "yanchor": "bottom",
          "yref": "paper"
         },
         {
          "font": {},
          "showarrow": false,
          "text": "Motivated would you be in improving the sustainability of your practice if you receive personal recognition from your department?",
          "x": 0.49999999999999994,
          "xanchor": "center",
          "xref": "paper",
          "y": 0.2866666666666666,
          "yanchor": "bottom",
          "yref": "paper"
         },
         {
          "font": {},
          "showarrow": false,
          "text": "Motivated would you be in improving the sustainability of your practice if your division/group receives recognition from your department?",
          "x": 0.8399999999999999,
          "xanchor": "center",
          "xref": "paper",
          "y": 0.2866666666666666,
          "yanchor": "bottom",
          "yref": "paper"
         },
         {
          "font": {},
          "showarrow": false,
          "text": "Motivated would you be in improving the sustainability of your practice if you receive a percentage of the cost savings?",
          "x": 0.15999999999999998,
          "xanchor": "center",
          "xref": "paper",
          "y": 0.6433333333333333,
          "yanchor": "bottom",
          "yref": "paper"
         },
         {
          "font": {},
          "showarrow": false,
          "text": "Motivated would you be in improving the sustainability of your practice if your division receives additional research funding?",
          "x": 0.49999999999999994,
          "xanchor": "center",
          "xref": "paper",
          "y": 0.6433333333333333,
          "yanchor": "bottom",
          "yref": "paper"
         },
         {
          "font": {},
          "showarrow": false,
          "text": "Motivated would you be in improving the sustainability of your practice if you receive a perk (such as free professional membership)?",
          "x": 0.8399999999999999,
          "xanchor": "center",
          "xref": "paper",
          "y": 0.6433333333333333,
          "yanchor": "bottom",
          "yref": "paper"
         },
         {
          "font": {},
          "showarrow": false,
          "text": "Motivated would you be in improving the sustainability of your practice if you receive national recognition?",
          "x": 0.15999999999999998,
          "xanchor": "center",
          "xref": "paper",
          "y": 0.9999999999999999,
          "yanchor": "bottom",
          "yref": "paper"
         },
         {
          "font": {},
          "showarrow": false,
          "text": "Motivated would you be in improving the sustainability of your practice if you personally received a cash incentive?",
          "x": 0.49999999999999994,
          "xanchor": "center",
          "xref": "paper",
          "y": 0.9999999999999999,
          "yanchor": "bottom",
          "yref": "paper"
         },
         {
          "font": {},
          "showarrow": false,
          "text": "Motivated would you be in improving the sustainability of your practice if your division received a cash incentive?",
          "x": 0.8399999999999999,
          "xanchor": "center",
          "xref": "paper",
          "y": 0.9999999999999999,
          "yanchor": "bottom",
          "yref": "paper"
         }
        ],
        "barmode": "relative",
        "font": {
         "family": "Inter",
         "size": 14
        },
        "height": 800,
        "legend": {
         "tracegroupgap": 0
        },
        "margin": {
         "t": 60
        },
        "template": {
         "data": {
          "bar": [
           {
            "error_x": {
             "color": "#2a3f5f"
            },
            "error_y": {
             "color": "#2a3f5f"
            },
            "marker": {
             "line": {
              "color": "#E5ECF6",
              "width": 0.5
             },
             "pattern": {
              "fillmode": "overlay",
              "size": 10,
              "solidity": 0.2
             }
            },
            "type": "bar"
           }
          ],
          "barpolar": [
           {
            "marker": {
             "line": {
              "color": "#E5ECF6",
              "width": 0.5
             },
             "pattern": {
              "fillmode": "overlay",
              "size": 10,
              "solidity": 0.2
             }
            },
            "type": "barpolar"
           }
          ],
          "carpet": [
           {
            "aaxis": {
             "endlinecolor": "#2a3f5f",
             "gridcolor": "white",
             "linecolor": "white",
             "minorgridcolor": "white",
             "startlinecolor": "#2a3f5f"
            },
            "baxis": {
             "endlinecolor": "#2a3f5f",
             "gridcolor": "white",
             "linecolor": "white",
             "minorgridcolor": "white",
             "startlinecolor": "#2a3f5f"
            },
            "type": "carpet"
           }
          ],
          "choropleth": [
           {
            "colorbar": {
             "outlinewidth": 0,
             "ticks": ""
            },
            "type": "choropleth"
           }
          ],
          "contour": [
           {
            "colorbar": {
             "outlinewidth": 0,
             "ticks": ""
            },
            "colorscale": [
             [
              0,
              "#0d0887"
             ],
             [
              0.1111111111111111,
              "#46039f"
             ],
             [
              0.2222222222222222,
              "#7201a8"
             ],
             [
              0.3333333333333333,
              "#9c179e"
             ],
             [
              0.4444444444444444,
              "#bd3786"
             ],
             [
              0.5555555555555556,
              "#d8576b"
             ],
             [
              0.6666666666666666,
              "#ed7953"
             ],
             [
              0.7777777777777778,
              "#fb9f3a"
             ],
             [
              0.8888888888888888,
              "#fdca26"
             ],
             [
              1,
              "#f0f921"
             ]
            ],
            "type": "contour"
           }
          ],
          "contourcarpet": [
           {
            "colorbar": {
             "outlinewidth": 0,
             "ticks": ""
            },
            "type": "contourcarpet"
           }
          ],
          "heatmap": [
           {
            "colorbar": {
             "outlinewidth": 0,
             "ticks": ""
            },
            "colorscale": [
             [
              0,
              "#0d0887"
             ],
             [
              0.1111111111111111,
              "#46039f"
             ],
             [
              0.2222222222222222,
              "#7201a8"
             ],
             [
              0.3333333333333333,
              "#9c179e"
             ],
             [
              0.4444444444444444,
              "#bd3786"
             ],
             [
              0.5555555555555556,
              "#d8576b"
             ],
             [
              0.6666666666666666,
              "#ed7953"
             ],
             [
              0.7777777777777778,
              "#fb9f3a"
             ],
             [
              0.8888888888888888,
              "#fdca26"
             ],
             [
              1,
              "#f0f921"
             ]
            ],
            "type": "heatmap"
           }
          ],
          "heatmapgl": [
           {
            "colorbar": {
             "outlinewidth": 0,
             "ticks": ""
            },
            "colorscale": [
             [
              0,
              "#0d0887"
             ],
             [
              0.1111111111111111,
              "#46039f"
             ],
             [
              0.2222222222222222,
              "#7201a8"
             ],
             [
              0.3333333333333333,
              "#9c179e"
             ],
             [
              0.4444444444444444,
              "#bd3786"
             ],
             [
              0.5555555555555556,
              "#d8576b"
             ],
             [
              0.6666666666666666,
              "#ed7953"
             ],
             [
              0.7777777777777778,
              "#fb9f3a"
             ],
             [
              0.8888888888888888,
              "#fdca26"
             ],
             [
              1,
              "#f0f921"
             ]
            ],
            "type": "heatmapgl"
           }
          ],
          "histogram": [
           {
            "marker": {
             "pattern": {
              "fillmode": "overlay",
              "size": 10,
              "solidity": 0.2
             }
            },
            "type": "histogram"
           }
          ],
          "histogram2d": [
           {
            "colorbar": {
             "outlinewidth": 0,
             "ticks": ""
            },
            "colorscale": [
             [
              0,
              "#0d0887"
             ],
             [
              0.1111111111111111,
              "#46039f"
             ],
             [
              0.2222222222222222,
              "#7201a8"
             ],
             [
              0.3333333333333333,
              "#9c179e"
             ],
             [
              0.4444444444444444,
              "#bd3786"
             ],
             [
              0.5555555555555556,
              "#d8576b"
             ],
             [
              0.6666666666666666,
              "#ed7953"
             ],
             [
              0.7777777777777778,
              "#fb9f3a"
             ],
             [
              0.8888888888888888,
              "#fdca26"
             ],
             [
              1,
              "#f0f921"
             ]
            ],
            "type": "histogram2d"
           }
          ],
          "histogram2dcontour": [
           {
            "colorbar": {
             "outlinewidth": 0,
             "ticks": ""
            },
            "colorscale": [
             [
              0,
              "#0d0887"
             ],
             [
              0.1111111111111111,
              "#46039f"
             ],
             [
              0.2222222222222222,
              "#7201a8"
             ],
             [
              0.3333333333333333,
              "#9c179e"
             ],
             [
              0.4444444444444444,
              "#bd3786"
             ],
             [
              0.5555555555555556,
              "#d8576b"
             ],
             [
              0.6666666666666666,
              "#ed7953"
             ],
             [
              0.7777777777777778,
              "#fb9f3a"
             ],
             [
              0.8888888888888888,
              "#fdca26"
             ],
             [
              1,
              "#f0f921"
             ]
            ],
            "type": "histogram2dcontour"
           }
          ],
          "mesh3d": [
           {
            "colorbar": {
             "outlinewidth": 0,
             "ticks": ""
            },
            "type": "mesh3d"
           }
          ],
          "parcoords": [
           {
            "line": {
             "colorbar": {
              "outlinewidth": 0,
              "ticks": ""
             }
            },
            "type": "parcoords"
           }
          ],
          "pie": [
           {
            "automargin": true,
            "type": "pie"
           }
          ],
          "scatter": [
           {
            "fillpattern": {
             "fillmode": "overlay",
             "size": 10,
             "solidity": 0.2
            },
            "type": "scatter"
           }
          ],
          "scatter3d": [
           {
            "line": {
             "colorbar": {
              "outlinewidth": 0,
              "ticks": ""
             }
            },
            "marker": {
             "colorbar": {
              "outlinewidth": 0,
              "ticks": ""
             }
            },
            "type": "scatter3d"
           }
          ],
          "scattercarpet": [
           {
            "marker": {
             "colorbar": {
              "outlinewidth": 0,
              "ticks": ""
             }
            },
            "type": "scattercarpet"
           }
          ],
          "scattergeo": [
           {
            "marker": {
             "colorbar": {
              "outlinewidth": 0,
              "ticks": ""
             }
            },
            "type": "scattergeo"
           }
          ],
          "scattergl": [
           {
            "marker": {
             "colorbar": {
              "outlinewidth": 0,
              "ticks": ""
             }
            },
            "type": "scattergl"
           }
          ],
          "scattermapbox": [
           {
            "marker": {
             "colorbar": {
              "outlinewidth": 0,
              "ticks": ""
             }
            },
            "type": "scattermapbox"
           }
          ],
          "scatterpolar": [
           {
            "marker": {
             "colorbar": {
              "outlinewidth": 0,
              "ticks": ""
             }
            },
            "type": "scatterpolar"
           }
          ],
          "scatterpolargl": [
           {
            "marker": {
             "colorbar": {
              "outlinewidth": 0,
              "ticks": ""
             }
            },
            "type": "scatterpolargl"
           }
          ],
          "scatterternary": [
           {
            "marker": {
             "colorbar": {
              "outlinewidth": 0,
              "ticks": ""
             }
            },
            "type": "scatterternary"
           }
          ],
          "surface": [
           {
            "colorbar": {
             "outlinewidth": 0,
             "ticks": ""
            },
            "colorscale": [
             [
              0,
              "#0d0887"
             ],
             [
              0.1111111111111111,
              "#46039f"
             ],
             [
              0.2222222222222222,
              "#7201a8"
             ],
             [
              0.3333333333333333,
              "#9c179e"
             ],
             [
              0.4444444444444444,
              "#bd3786"
             ],
             [
              0.5555555555555556,
              "#d8576b"
             ],
             [
              0.6666666666666666,
              "#ed7953"
             ],
             [
              0.7777777777777778,
              "#fb9f3a"
             ],
             [
              0.8888888888888888,
              "#fdca26"
             ],
             [
              1,
              "#f0f921"
             ]
            ],
            "type": "surface"
           }
          ],
          "table": [
           {
            "cells": {
             "fill": {
              "color": "#EBF0F8"
             },
             "line": {
              "color": "white"
             }
            },
            "header": {
             "fill": {
              "color": "#C8D4E3"
             },
             "line": {
              "color": "white"
             }
            },
            "type": "table"
           }
          ]
         },
         "layout": {
          "annotationdefaults": {
           "arrowcolor": "#2a3f5f",
           "arrowhead": 0,
           "arrowwidth": 1
          },
          "autotypenumbers": "strict",
          "coloraxis": {
           "colorbar": {
            "outlinewidth": 0,
            "ticks": ""
           }
          },
          "colorscale": {
           "diverging": [
            [
             0,
             "#8e0152"
            ],
            [
             0.1,
             "#c51b7d"
            ],
            [
             0.2,
             "#de77ae"
            ],
            [
             0.3,
             "#f1b6da"
            ],
            [
             0.4,
             "#fde0ef"
            ],
            [
             0.5,
             "#f7f7f7"
            ],
            [
             0.6,
             "#e6f5d0"
            ],
            [
             0.7,
             "#b8e186"
            ],
            [
             0.8,
             "#7fbc41"
            ],
            [
             0.9,
             "#4d9221"
            ],
            [
             1,
             "#276419"
            ]
           ],
           "sequential": [
            [
             0,
             "#0d0887"
            ],
            [
             0.1111111111111111,
             "#46039f"
            ],
            [
             0.2222222222222222,
             "#7201a8"
            ],
            [
             0.3333333333333333,
             "#9c179e"
            ],
            [
             0.4444444444444444,
             "#bd3786"
            ],
            [
             0.5555555555555556,
             "#d8576b"
            ],
            [
             0.6666666666666666,
             "#ed7953"
            ],
            [
             0.7777777777777778,
             "#fb9f3a"
            ],
            [
             0.8888888888888888,
             "#fdca26"
            ],
            [
             1,
             "#f0f921"
            ]
           ],
           "sequentialminus": [
            [
             0,
             "#0d0887"
            ],
            [
             0.1111111111111111,
             "#46039f"
            ],
            [
             0.2222222222222222,
             "#7201a8"
            ],
            [
             0.3333333333333333,
             "#9c179e"
            ],
            [
             0.4444444444444444,
             "#bd3786"
            ],
            [
             0.5555555555555556,
             "#d8576b"
            ],
            [
             0.6666666666666666,
             "#ed7953"
            ],
            [
             0.7777777777777778,
             "#fb9f3a"
            ],
            [
             0.8888888888888888,
             "#fdca26"
            ],
            [
             1,
             "#f0f921"
            ]
           ]
          },
          "colorway": [
           "#636efa",
           "#EF553B",
           "#00cc96",
           "#ab63fa",
           "#FFA15A",
           "#19d3f3",
           "#FF6692",
           "#B6E880",
           "#FF97FF",
           "#FECB52"
          ],
          "font": {
           "color": "#2a3f5f"
          },
          "geo": {
           "bgcolor": "white",
           "lakecolor": "white",
           "landcolor": "#E5ECF6",
           "showlakes": true,
           "showland": true,
           "subunitcolor": "white"
          },
          "hoverlabel": {
           "align": "left"
          },
          "hovermode": "closest",
          "mapbox": {
           "style": "light"
          },
          "paper_bgcolor": "white",
          "plot_bgcolor": "#E5ECF6",
          "polar": {
           "angularaxis": {
            "gridcolor": "white",
            "linecolor": "white",
            "ticks": ""
           },
           "bgcolor": "#E5ECF6",
           "radialaxis": {
            "gridcolor": "white",
            "linecolor": "white",
            "ticks": ""
           }
          },
          "scene": {
           "xaxis": {
            "backgroundcolor": "#E5ECF6",
            "gridcolor": "white",
            "gridwidth": 2,
            "linecolor": "white",
            "showbackground": true,
            "ticks": "",
            "zerolinecolor": "white"
           },
           "yaxis": {
            "backgroundcolor": "#E5ECF6",
            "gridcolor": "white",
            "gridwidth": 2,
            "linecolor": "white",
            "showbackground": true,
            "ticks": "",
            "zerolinecolor": "white"
           },
           "zaxis": {
            "backgroundcolor": "#E5ECF6",
            "gridcolor": "white",
            "gridwidth": 2,
            "linecolor": "white",
            "showbackground": true,
            "ticks": "",
            "zerolinecolor": "white"
           }
          },
          "shapedefaults": {
           "line": {
            "color": "#2a3f5f"
           }
          },
          "ternary": {
           "aaxis": {
            "gridcolor": "white",
            "linecolor": "white",
            "ticks": ""
           },
           "baxis": {
            "gridcolor": "white",
            "linecolor": "white",
            "ticks": ""
           },
           "bgcolor": "#E5ECF6",
           "caxis": {
            "gridcolor": "white",
            "linecolor": "white",
            "ticks": ""
           }
          },
          "title": {
           "x": 0.05
          },
          "xaxis": {
           "automargin": true,
           "gridcolor": "white",
           "linecolor": "white",
           "ticks": "",
           "title": {
            "standoff": 15
           },
           "zerolinecolor": "white",
           "zerolinewidth": 2
          },
          "yaxis": {
           "automargin": true,
           "gridcolor": "white",
           "linecolor": "white",
           "ticks": "",
           "title": {
            "standoff": 15
           },
           "zerolinecolor": "white",
           "zerolinewidth": 2
          }
         }
        },
        "width": 1200,
        "xaxis": {
         "anchor": "y",
         "domain": [
          0,
          0.31999999999999995
         ],
         "showticklabels": true,
         "title": {}
        },
        "xaxis2": {
         "anchor": "y2",
         "domain": [
          0.33999999999999997,
          0.6599999999999999
         ],
         "showticklabels": true,
         "title": {
          "text": "text_response"
         }
        },
        "xaxis3": {
         "anchor": "y3",
         "domain": [
          0.6799999999999999,
          0.9999999999999999
         ],
         "showticklabels": true,
         "title": {
          "text": "text_response"
         }
        },
        "xaxis4": {
         "anchor": "y4",
         "domain": [
          0,
          0.31999999999999995
         ],
         "showticklabels": true
        },
        "xaxis5": {
         "anchor": "y5",
         "domain": [
          0.33999999999999997,
          0.6599999999999999
         ],
         "showticklabels": true
        },
        "xaxis6": {
         "anchor": "y6",
         "domain": [
          0.6799999999999999,
          0.9999999999999999
         ],
         "showticklabels": true
        },
        "xaxis7": {
         "anchor": "y7",
         "domain": [
          0,
          0.31999999999999995
         ],
         "showticklabels": true
        },
        "xaxis8": {
         "anchor": "y8",
         "domain": [
          0.33999999999999997,
          0.6599999999999999
         ],
         "showticklabels": true
        },
        "xaxis9": {
         "anchor": "y9",
         "domain": [
          0.6799999999999999,
          0.9999999999999999
         ],
         "showticklabels": true
        },
        "yaxis": {
         "anchor": "x",
         "domain": [
          0,
          0.2866666666666666
         ],
         "title": {}
        },
        "yaxis2": {
         "anchor": "x2",
         "domain": [
          0,
          0.2866666666666666
         ],
         "matches": "y",
         "showticklabels": false
        },
        "yaxis3": {
         "anchor": "x3",
         "domain": [
          0,
          0.2866666666666666
         ],
         "matches": "y",
         "showticklabels": false
        },
        "yaxis4": {
         "anchor": "x4",
         "domain": [
          0.35666666666666663,
          0.6433333333333333
         ],
         "matches": "y",
         "title": {
          "text": "count"
         }
        },
        "yaxis5": {
         "anchor": "x5",
         "domain": [
          0.35666666666666663,
          0.6433333333333333
         ],
         "matches": "y",
         "showticklabels": false
        },
        "yaxis6": {
         "anchor": "x6",
         "domain": [
          0.35666666666666663,
          0.6433333333333333
         ],
         "matches": "y",
         "showticklabels": false
        },
        "yaxis7": {
         "anchor": "x7",
         "domain": [
          0.7133333333333333,
          0.9999999999999999
         ],
         "matches": "y",
         "title": {
          "text": "count"
         }
        },
        "yaxis8": {
         "anchor": "x8",
         "domain": [
          0.7133333333333333,
          0.9999999999999999
         ],
         "matches": "y",
         "showticklabels": false
        },
        "yaxis9": {
         "anchor": "x9",
         "domain": [
          0.7133333333333333,
          0.9999999999999999
         ],
         "matches": "y",
         "showticklabels": false
        }
       }
      }
     },
     "metadata": {},
     "output_type": "display_data"
    },
    {
     "data": {
      "application/vnd.plotly.v1+json": {
       "config": {
        "plotlyServerURL": "https://plot.ly"
       },
       "data": [
        {
         "alignmentgroup": "True",
         "hovertemplate": "question_text=How willing are you to reduce the default length of stay for elective patients who are recovering appropriately?<br>text_response=%{x}<br>count=%{y}<br>text=%{text}<extra></extra>",
         "legendgroup": "",
         "marker": {
          "color": "#636efa",
          "pattern": {
           "shape": ""
          }
         },
         "name": "",
         "offsetgroup": "",
         "orientation": "v",
         "showlegend": false,
         "text": [
          "1%",
          "5%",
          "6%",
          "11%",
          "24%",
          "52%",
          "1%"
         ],
         "textposition": "auto",
         "type": "bar",
         "x": [
          "Not at all willing",
          "Slightly willing",
          "Moderately willing",
          "Quite willing",
          "Extremely willing",
          "I am already doing this",
          "I am unable to do this"
         ],
         "xaxis": "x10",
         "y": [
          2,
          12,
          15,
          28,
          61,
          130,
          2
         ],
         "yaxis": "y10"
        },
        {
         "alignmentgroup": "True",
         "hovertemplate": "question_text=How willing are you to see the majority of routine post-operative patients via telemedicine?<br>text_response=%{x}<br>count=%{y}<br>text=%{text}<extra></extra>",
         "legendgroup": "",
         "marker": {
          "color": "#636efa",
          "pattern": {
           "shape": ""
          }
         },
         "name": "",
         "offsetgroup": "",
         "orientation": "v",
         "showlegend": false,
         "text": [
          "8%",
          "10%",
          "14%",
          "14%",
          "23%",
          "30%",
          "1%"
         ],
         "textposition": "auto",
         "type": "bar",
         "x": [
          "Not at all willing",
          "Slightly willing",
          "Moderately willing",
          "Quite willing",
          "Extremely willing",
          "I am already doing this",
          "I am unable to do this"
         ],
         "xaxis": "x11",
         "y": [
          21,
          24,
          35,
          35,
          57,
          76,
          2
         ],
         "yaxis": "y11"
        },
        {
         "alignmentgroup": "True",
         "hovertemplate": "question_text=How willing are you to switch from a single use instrument (such as a port) to a reusable instrument?<br>text_response=%{x}<br>count=%{y}<br>text=%{text}<extra></extra>",
         "legendgroup": "",
         "marker": {
          "color": "#636efa",
          "pattern": {
           "shape": ""
          }
         },
         "name": "",
         "offsetgroup": "",
         "orientation": "v",
         "showlegend": false,
         "text": [
          "1%",
          "5%",
          "17%",
          "28%",
          "32%",
          "17%"
         ],
         "textposition": "auto",
         "type": "bar",
         "x": [
          "Not at all willing",
          "Slightly willing",
          "Moderately willing",
          "Quite willing",
          "Extremely willing",
          "I am already doing this"
         ],
         "xaxis": "x12",
         "y": [
          3,
          12,
          42,
          70,
          80,
          43
         ],
         "yaxis": "y12"
        },
        {
         "alignmentgroup": "True",
         "hovertemplate": "question_text=How willing are you to switch from a brand new (OEM) instrument (such as a Ligasure) to a reprocessed instrument?<br>text_response=%{x}<br>count=%{y}<br>text=%{text}<extra></extra>",
         "legendgroup": "",
         "marker": {
          "color": "#636efa",
          "pattern": {
           "shape": ""
          }
         },
         "name": "",
         "offsetgroup": "",
         "orientation": "v",
         "showlegend": false,
         "text": [
          "3%",
          "7%",
          "16%",
          "26%",
          "36%",
          "13%"
         ],
         "textposition": "auto",
         "type": "bar",
         "x": [
          "Not at all willing",
          "Slightly willing",
          "Moderately willing",
          "Quite willing",
          "Extremely willing",
          "I am already doing this"
         ],
         "xaxis": "x7",
         "y": [
          7,
          17,
          40,
          64,
          90,
          32
         ],
         "yaxis": "y7"
        },
        {
         "alignmentgroup": "True",
         "hovertemplate": "question_text=How willing are you to switch from a single use surgical gown to a reusable cloth surgical gown?<br>text_response=%{x}<br>count=%{y}<br>text=%{text}<extra></extra>",
         "legendgroup": "",
         "marker": {
          "color": "#636efa",
          "pattern": {
           "shape": ""
          }
         },
         "name": "",
         "offsetgroup": "",
         "orientation": "v",
         "showlegend": false,
         "text": [
          "9%",
          "7%",
          "13%",
          "20%",
          "47%",
          "4%"
         ],
         "textposition": "auto",
         "type": "bar",
         "x": [
          "Not at all willing",
          "Slightly willing",
          "Moderately willing",
          "Quite willing",
          "Extremely willing",
          "I am already doing this"
         ],
         "xaxis": "x8",
         "y": [
          22,
          18,
          32,
          50,
          117,
          11
         ],
         "yaxis": "y8"
        },
        {
         "alignmentgroup": "True",
         "hovertemplate": "question_text=How willing are you to switch from a single use surgical towels to a reusable surgical towels?<br>text_response=%{x}<br>count=%{y}<br>text=%{text}<extra></extra>",
         "legendgroup": "",
         "marker": {
          "color": "#636efa",
          "pattern": {
           "shape": ""
          }
         },
         "name": "",
         "offsetgroup": "",
         "orientation": "v",
         "showlegend": false,
         "text": [
          "4%",
          "6%",
          "10%",
          "20%",
          "51%",
          "10%"
         ],
         "textposition": "auto",
         "type": "bar",
         "x": [
          "Not at all willing",
          "Slightly willing",
          "Moderately willing",
          "Quite willing",
          "Extremely willing",
          "I am already doing this"
         ],
         "xaxis": "x9",
         "y": [
          9,
          14,
          25,
          49,
          128,
          25
         ],
         "yaxis": "y9"
        },
        {
         "alignmentgroup": "True",
         "hovertemplate": "question_text=How willing are you to reduce items on preference cards following periodic preference card review?<br>text_response=%{x}<br>count=%{y}<br>text=%{text}<extra></extra>",
         "legendgroup": "",
         "marker": {
          "color": "#636efa",
          "pattern": {
           "shape": ""
          }
         },
         "name": "",
         "offsetgroup": "",
         "orientation": "v",
         "showlegend": false,
         "text": [
          "1%",
          "1%",
          "6%",
          "24%",
          "52%",
          "16%"
         ],
         "textposition": "auto",
         "type": "bar",
         "x": [
          "Not at all willing",
          "Slightly willing",
          "Moderately willing",
          "Quite willing",
          "Extremely willing",
          "I am already doing this"
         ],
         "xaxis": "x4",
         "y": [
          3,
          2,
          15,
          60,
          131,
          39
         ],
         "yaxis": "y4"
        },
        {
         "alignmentgroup": "True",
         "hovertemplate": "question_text=How willing are you to reduce items on preference cards based on colleagues usage patterns?<br>text_response=%{x}<br>count=%{y}<br>text=%{text}<extra></extra>",
         "legendgroup": "",
         "marker": {
          "color": "#636efa",
          "pattern": {
           "shape": ""
          }
         },
         "name": "",
         "offsetgroup": "",
         "orientation": "v",
         "showlegend": false,
         "text": [
          "6%",
          "10%",
          "22%",
          "25%",
          "28%",
          "10%"
         ],
         "textposition": "auto",
         "type": "bar",
         "x": [
          "Not at all willing",
          "Slightly willing",
          "Moderately willing",
          "Quite willing",
          "Extremely willing",
          "I am already doing this"
         ],
         "xaxis": "x5",
         "y": [
          16,
          25,
          54,
          62,
          69,
          24
         ],
         "yaxis": "y5"
        },
        {
         "alignmentgroup": "True",
         "hovertemplate": "question_text=How willing are you to participate in a program where the cost and carbon footprint for each surgeon performing a particular operation is displayed?<br>text_response=%{x}<br>count=%{y}<br>text=%{text}<extra></extra>",
         "legendgroup": "",
         "marker": {
          "color": "#636efa",
          "pattern": {
           "shape": ""
          }
         },
         "name": "",
         "offsetgroup": "",
         "orientation": "v",
         "showlegend": false,
         "text": [
          "6%",
          "9%",
          "13%",
          "22%",
          "46%",
          "4%"
         ],
         "textposition": "auto",
         "type": "bar",
         "x": [
          "Not at all willing",
          "Slightly willing",
          "Moderately willing",
          "Quite willing",
          "Extremely willing",
          "I am already doing this"
         ],
         "xaxis": "x6",
         "y": [
          16,
          23,
          32,
          56,
          114,
          9
         ],
         "yaxis": "y6"
        },
        {
         "alignmentgroup": "True",
         "hovertemplate": "question_text=How willing are you transition completely from water-based to alcohol-based scrub?<br>text_response=%{x}<br>count=%{y}<br>text=%{text}<extra></extra>",
         "legendgroup": "",
         "marker": {
          "color": "#636efa",
          "pattern": {
           "shape": ""
          }
         },
         "name": "",
         "offsetgroup": "",
         "orientation": "v",
         "showlegend": false,
         "text": [
          "9%",
          "7%",
          "11%",
          "12%",
          "15%",
          "44%",
          "2%"
         ],
         "textposition": "auto",
         "type": "bar",
         "x": [
          "Not at all willing",
          "Slightly willing",
          "Moderately willing",
          "Quite willing",
          "Extremely willing",
          "I am already doing this",
          "I am unable to do this"
         ],
         "xaxis": "x",
         "y": [
          23,
          17,
          28,
          29,
          37,
          110,
          6
         ],
         "yaxis": "y"
        }
       ],
       "layout": {
        "annotations": [
         {
          "font": {},
          "showarrow": false,
          "text": "Sition completely from water-based to alcohol-based scrub?",
          "x": 0.15999999999999998,
          "xanchor": "center",
          "xref": "paper",
          "y": 0.1975,
          "yanchor": "bottom",
          "yref": "paper"
         },
         {
          "font": {},
          "showarrow": false,
          "text": "Duce items on preference cards following periodic preference card review?",
          "x": 0.15999999999999998,
          "xanchor": "center",
          "xref": "paper",
          "y": 0.465,
          "yanchor": "bottom",
          "yref": "paper"
         },
         {
          "font": {},
          "showarrow": false,
          "text": "Duce items on preference cards based on colleagues usage patterns?",
          "x": 0.49999999999999994,
          "xanchor": "center",
          "xref": "paper",
          "y": 0.465,
          "yanchor": "bottom",
          "yref": "paper"
         },
         {
          "font": {},
          "showarrow": false,
          "text": "Participate in a program where the cost and carbon footprint for each surgeon performing a particular operation is displayed?",
          "x": 0.8399999999999999,
          "xanchor": "center",
          "xref": "paper",
          "y": 0.465,
          "yanchor": "bottom",
          "yref": "paper"
         },
         {
          "font": {},
          "showarrow": false,
          "text": "Switch from a brand new (oem) instrument (such as a ligasure) to a reprocessed instrument?",
          "x": 0.15999999999999998,
          "xanchor": "center",
          "xref": "paper",
          "y": 0.7325,
          "yanchor": "bottom",
          "yref": "paper"
         },
         {
          "font": {},
          "showarrow": false,
          "text": "Switch from a single use surgical gown to a reusable cloth surgical gown?",
          "x": 0.49999999999999994,
          "xanchor": "center",
          "xref": "paper",
          "y": 0.7325,
          "yanchor": "bottom",
          "yref": "paper"
         },
         {
          "font": {},
          "showarrow": false,
          "text": "Switch from a single use surgical towels to a reusable surgical towels?",
          "x": 0.8399999999999999,
          "xanchor": "center",
          "xref": "paper",
          "y": 0.7325,
          "yanchor": "bottom",
          "yref": "paper"
         },
         {
          "font": {},
          "showarrow": false,
          "text": "Duce the default length of stay for elective patients who are recovering appropriately?",
          "x": 0.15999999999999998,
          "xanchor": "center",
          "xref": "paper",
          "y": 1,
          "yanchor": "bottom",
          "yref": "paper"
         },
         {
          "font": {},
          "showarrow": false,
          "text": "See the majority of routine post-operative patients via telemedicine?",
          "x": 0.49999999999999994,
          "xanchor": "center",
          "xref": "paper",
          "y": 1,
          "yanchor": "bottom",
          "yref": "paper"
         },
         {
          "font": {},
          "showarrow": false,
          "text": "Switch from a single use instrument (such as a port) to a reusable instrument?",
          "x": 0.8399999999999999,
          "xanchor": "center",
          "xref": "paper",
          "y": 1,
          "yanchor": "bottom",
          "yref": "paper"
         }
        ],
        "barmode": "relative",
        "font": {
         "family": "Inter",
         "size": 14
        },
        "height": 800,
        "legend": {
         "tracegroupgap": 0
        },
        "margin": {
         "t": 60
        },
        "template": {
         "data": {
          "bar": [
           {
            "error_x": {
             "color": "#2a3f5f"
            },
            "error_y": {
             "color": "#2a3f5f"
            },
            "marker": {
             "line": {
              "color": "#E5ECF6",
              "width": 0.5
             },
             "pattern": {
              "fillmode": "overlay",
              "size": 10,
              "solidity": 0.2
             }
            },
            "type": "bar"
           }
          ],
          "barpolar": [
           {
            "marker": {
             "line": {
              "color": "#E5ECF6",
              "width": 0.5
             },
             "pattern": {
              "fillmode": "overlay",
              "size": 10,
              "solidity": 0.2
             }
            },
            "type": "barpolar"
           }
          ],
          "carpet": [
           {
            "aaxis": {
             "endlinecolor": "#2a3f5f",
             "gridcolor": "white",
             "linecolor": "white",
             "minorgridcolor": "white",
             "startlinecolor": "#2a3f5f"
            },
            "baxis": {
             "endlinecolor": "#2a3f5f",
             "gridcolor": "white",
             "linecolor": "white",
             "minorgridcolor": "white",
             "startlinecolor": "#2a3f5f"
            },
            "type": "carpet"
           }
          ],
          "choropleth": [
           {
            "colorbar": {
             "outlinewidth": 0,
             "ticks": ""
            },
            "type": "choropleth"
           }
          ],
          "contour": [
           {
            "colorbar": {
             "outlinewidth": 0,
             "ticks": ""
            },
            "colorscale": [
             [
              0,
              "#0d0887"
             ],
             [
              0.1111111111111111,
              "#46039f"
             ],
             [
              0.2222222222222222,
              "#7201a8"
             ],
             [
              0.3333333333333333,
              "#9c179e"
             ],
             [
              0.4444444444444444,
              "#bd3786"
             ],
             [
              0.5555555555555556,
              "#d8576b"
             ],
             [
              0.6666666666666666,
              "#ed7953"
             ],
             [
              0.7777777777777778,
              "#fb9f3a"
             ],
             [
              0.8888888888888888,
              "#fdca26"
             ],
             [
              1,
              "#f0f921"
             ]
            ],
            "type": "contour"
           }
          ],
          "contourcarpet": [
           {
            "colorbar": {
             "outlinewidth": 0,
             "ticks": ""
            },
            "type": "contourcarpet"
           }
          ],
          "heatmap": [
           {
            "colorbar": {
             "outlinewidth": 0,
             "ticks": ""
            },
            "colorscale": [
             [
              0,
              "#0d0887"
             ],
             [
              0.1111111111111111,
              "#46039f"
             ],
             [
              0.2222222222222222,
              "#7201a8"
             ],
             [
              0.3333333333333333,
              "#9c179e"
             ],
             [
              0.4444444444444444,
              "#bd3786"
             ],
             [
              0.5555555555555556,
              "#d8576b"
             ],
             [
              0.6666666666666666,
              "#ed7953"
             ],
             [
              0.7777777777777778,
              "#fb9f3a"
             ],
             [
              0.8888888888888888,
              "#fdca26"
             ],
             [
              1,
              "#f0f921"
             ]
            ],
            "type": "heatmap"
           }
          ],
          "heatmapgl": [
           {
            "colorbar": {
             "outlinewidth": 0,
             "ticks": ""
            },
            "colorscale": [
             [
              0,
              "#0d0887"
             ],
             [
              0.1111111111111111,
              "#46039f"
             ],
             [
              0.2222222222222222,
              "#7201a8"
             ],
             [
              0.3333333333333333,
              "#9c179e"
             ],
             [
              0.4444444444444444,
              "#bd3786"
             ],
             [
              0.5555555555555556,
              "#d8576b"
             ],
             [
              0.6666666666666666,
              "#ed7953"
             ],
             [
              0.7777777777777778,
              "#fb9f3a"
             ],
             [
              0.8888888888888888,
              "#fdca26"
             ],
             [
              1,
              "#f0f921"
             ]
            ],
            "type": "heatmapgl"
           }
          ],
          "histogram": [
           {
            "marker": {
             "pattern": {
              "fillmode": "overlay",
              "size": 10,
              "solidity": 0.2
             }
            },
            "type": "histogram"
           }
          ],
          "histogram2d": [
           {
            "colorbar": {
             "outlinewidth": 0,
             "ticks": ""
            },
            "colorscale": [
             [
              0,
              "#0d0887"
             ],
             [
              0.1111111111111111,
              "#46039f"
             ],
             [
              0.2222222222222222,
              "#7201a8"
             ],
             [
              0.3333333333333333,
              "#9c179e"
             ],
             [
              0.4444444444444444,
              "#bd3786"
             ],
             [
              0.5555555555555556,
              "#d8576b"
             ],
             [
              0.6666666666666666,
              "#ed7953"
             ],
             [
              0.7777777777777778,
              "#fb9f3a"
             ],
             [
              0.8888888888888888,
              "#fdca26"
             ],
             [
              1,
              "#f0f921"
             ]
            ],
            "type": "histogram2d"
           }
          ],
          "histogram2dcontour": [
           {
            "colorbar": {
             "outlinewidth": 0,
             "ticks": ""
            },
            "colorscale": [
             [
              0,
              "#0d0887"
             ],
             [
              0.1111111111111111,
              "#46039f"
             ],
             [
              0.2222222222222222,
              "#7201a8"
             ],
             [
              0.3333333333333333,
              "#9c179e"
             ],
             [
              0.4444444444444444,
              "#bd3786"
             ],
             [
              0.5555555555555556,
              "#d8576b"
             ],
             [
              0.6666666666666666,
              "#ed7953"
             ],
             [
              0.7777777777777778,
              "#fb9f3a"
             ],
             [
              0.8888888888888888,
              "#fdca26"
             ],
             [
              1,
              "#f0f921"
             ]
            ],
            "type": "histogram2dcontour"
           }
          ],
          "mesh3d": [
           {
            "colorbar": {
             "outlinewidth": 0,
             "ticks": ""
            },
            "type": "mesh3d"
           }
          ],
          "parcoords": [
           {
            "line": {
             "colorbar": {
              "outlinewidth": 0,
              "ticks": ""
             }
            },
            "type": "parcoords"
           }
          ],
          "pie": [
           {
            "automargin": true,
            "type": "pie"
           }
          ],
          "scatter": [
           {
            "fillpattern": {
             "fillmode": "overlay",
             "size": 10,
             "solidity": 0.2
            },
            "type": "scatter"
           }
          ],
          "scatter3d": [
           {
            "line": {
             "colorbar": {
              "outlinewidth": 0,
              "ticks": ""
             }
            },
            "marker": {
             "colorbar": {
              "outlinewidth": 0,
              "ticks": ""
             }
            },
            "type": "scatter3d"
           }
          ],
          "scattercarpet": [
           {
            "marker": {
             "colorbar": {
              "outlinewidth": 0,
              "ticks": ""
             }
            },
            "type": "scattercarpet"
           }
          ],
          "scattergeo": [
           {
            "marker": {
             "colorbar": {
              "outlinewidth": 0,
              "ticks": ""
             }
            },
            "type": "scattergeo"
           }
          ],
          "scattergl": [
           {
            "marker": {
             "colorbar": {
              "outlinewidth": 0,
              "ticks": ""
             }
            },
            "type": "scattergl"
           }
          ],
          "scattermapbox": [
           {
            "marker": {
             "colorbar": {
              "outlinewidth": 0,
              "ticks": ""
             }
            },
            "type": "scattermapbox"
           }
          ],
          "scatterpolar": [
           {
            "marker": {
             "colorbar": {
              "outlinewidth": 0,
              "ticks": ""
             }
            },
            "type": "scatterpolar"
           }
          ],
          "scatterpolargl": [
           {
            "marker": {
             "colorbar": {
              "outlinewidth": 0,
              "ticks": ""
             }
            },
            "type": "scatterpolargl"
           }
          ],
          "scatterternary": [
           {
            "marker": {
             "colorbar": {
              "outlinewidth": 0,
              "ticks": ""
             }
            },
            "type": "scatterternary"
           }
          ],
          "surface": [
           {
            "colorbar": {
             "outlinewidth": 0,
             "ticks": ""
            },
            "colorscale": [
             [
              0,
              "#0d0887"
             ],
             [
              0.1111111111111111,
              "#46039f"
             ],
             [
              0.2222222222222222,
              "#7201a8"
             ],
             [
              0.3333333333333333,
              "#9c179e"
             ],
             [
              0.4444444444444444,
              "#bd3786"
             ],
             [
              0.5555555555555556,
              "#d8576b"
             ],
             [
              0.6666666666666666,
              "#ed7953"
             ],
             [
              0.7777777777777778,
              "#fb9f3a"
             ],
             [
              0.8888888888888888,
              "#fdca26"
             ],
             [
              1,
              "#f0f921"
             ]
            ],
            "type": "surface"
           }
          ],
          "table": [
           {
            "cells": {
             "fill": {
              "color": "#EBF0F8"
             },
             "line": {
              "color": "white"
             }
            },
            "header": {
             "fill": {
              "color": "#C8D4E3"
             },
             "line": {
              "color": "white"
             }
            },
            "type": "table"
           }
          ]
         },
         "layout": {
          "annotationdefaults": {
           "arrowcolor": "#2a3f5f",
           "arrowhead": 0,
           "arrowwidth": 1
          },
          "autotypenumbers": "strict",
          "coloraxis": {
           "colorbar": {
            "outlinewidth": 0,
            "ticks": ""
           }
          },
          "colorscale": {
           "diverging": [
            [
             0,
             "#8e0152"
            ],
            [
             0.1,
             "#c51b7d"
            ],
            [
             0.2,
             "#de77ae"
            ],
            [
             0.3,
             "#f1b6da"
            ],
            [
             0.4,
             "#fde0ef"
            ],
            [
             0.5,
             "#f7f7f7"
            ],
            [
             0.6,
             "#e6f5d0"
            ],
            [
             0.7,
             "#b8e186"
            ],
            [
             0.8,
             "#7fbc41"
            ],
            [
             0.9,
             "#4d9221"
            ],
            [
             1,
             "#276419"
            ]
           ],
           "sequential": [
            [
             0,
             "#0d0887"
            ],
            [
             0.1111111111111111,
             "#46039f"
            ],
            [
             0.2222222222222222,
             "#7201a8"
            ],
            [
             0.3333333333333333,
             "#9c179e"
            ],
            [
             0.4444444444444444,
             "#bd3786"
            ],
            [
             0.5555555555555556,
             "#d8576b"
            ],
            [
             0.6666666666666666,
             "#ed7953"
            ],
            [
             0.7777777777777778,
             "#fb9f3a"
            ],
            [
             0.8888888888888888,
             "#fdca26"
            ],
            [
             1,
             "#f0f921"
            ]
           ],
           "sequentialminus": [
            [
             0,
             "#0d0887"
            ],
            [
             0.1111111111111111,
             "#46039f"
            ],
            [
             0.2222222222222222,
             "#7201a8"
            ],
            [
             0.3333333333333333,
             "#9c179e"
            ],
            [
             0.4444444444444444,
             "#bd3786"
            ],
            [
             0.5555555555555556,
             "#d8576b"
            ],
            [
             0.6666666666666666,
             "#ed7953"
            ],
            [
             0.7777777777777778,
             "#fb9f3a"
            ],
            [
             0.8888888888888888,
             "#fdca26"
            ],
            [
             1,
             "#f0f921"
            ]
           ]
          },
          "colorway": [
           "#636efa",
           "#EF553B",
           "#00cc96",
           "#ab63fa",
           "#FFA15A",
           "#19d3f3",
           "#FF6692",
           "#B6E880",
           "#FF97FF",
           "#FECB52"
          ],
          "font": {
           "color": "#2a3f5f"
          },
          "geo": {
           "bgcolor": "white",
           "lakecolor": "white",
           "landcolor": "#E5ECF6",
           "showlakes": true,
           "showland": true,
           "subunitcolor": "white"
          },
          "hoverlabel": {
           "align": "left"
          },
          "hovermode": "closest",
          "mapbox": {
           "style": "light"
          },
          "paper_bgcolor": "white",
          "plot_bgcolor": "#E5ECF6",
          "polar": {
           "angularaxis": {
            "gridcolor": "white",
            "linecolor": "white",
            "ticks": ""
           },
           "bgcolor": "#E5ECF6",
           "radialaxis": {
            "gridcolor": "white",
            "linecolor": "white",
            "ticks": ""
           }
          },
          "scene": {
           "xaxis": {
            "backgroundcolor": "#E5ECF6",
            "gridcolor": "white",
            "gridwidth": 2,
            "linecolor": "white",
            "showbackground": true,
            "ticks": "",
            "zerolinecolor": "white"
           },
           "yaxis": {
            "backgroundcolor": "#E5ECF6",
            "gridcolor": "white",
            "gridwidth": 2,
            "linecolor": "white",
            "showbackground": true,
            "ticks": "",
            "zerolinecolor": "white"
           },
           "zaxis": {
            "backgroundcolor": "#E5ECF6",
            "gridcolor": "white",
            "gridwidth": 2,
            "linecolor": "white",
            "showbackground": true,
            "ticks": "",
            "zerolinecolor": "white"
           }
          },
          "shapedefaults": {
           "line": {
            "color": "#2a3f5f"
           }
          },
          "ternary": {
           "aaxis": {
            "gridcolor": "white",
            "linecolor": "white",
            "ticks": ""
           },
           "baxis": {
            "gridcolor": "white",
            "linecolor": "white",
            "ticks": ""
           },
           "bgcolor": "#E5ECF6",
           "caxis": {
            "gridcolor": "white",
            "linecolor": "white",
            "ticks": ""
           }
          },
          "title": {
           "x": 0.05
          },
          "xaxis": {
           "automargin": true,
           "gridcolor": "white",
           "linecolor": "white",
           "ticks": "",
           "title": {
            "standoff": 15
           },
           "zerolinecolor": "white",
           "zerolinewidth": 2
          },
          "yaxis": {
           "automargin": true,
           "gridcolor": "white",
           "linecolor": "white",
           "ticks": "",
           "title": {
            "standoff": 15
           },
           "zerolinecolor": "white",
           "zerolinewidth": 2
          }
         }
        },
        "width": 1200,
        "xaxis": {
         "anchor": "y",
         "domain": [
          0,
          0.31999999999999995
         ],
         "showticklabels": true,
         "title": {}
        },
        "xaxis10": {
         "anchor": "y10",
         "domain": [
          0,
          0.31999999999999995
         ],
         "showticklabels": true
        },
        "xaxis11": {
         "anchor": "y11",
         "domain": [
          0.33999999999999997,
          0.6599999999999999
         ],
         "showticklabels": true
        },
        "xaxis12": {
         "anchor": "y12",
         "domain": [
          0.6799999999999999,
          0.9999999999999999
         ],
         "showticklabels": true
        },
        "xaxis2": {
         "anchor": "y2",
         "domain": [
          0.33999999999999997,
          0.6599999999999999
         ],
         "showticklabels": true,
         "title": {
          "text": "text_response"
         }
        },
        "xaxis3": {
         "anchor": "y3",
         "domain": [
          0.6799999999999999,
          0.9999999999999999
         ],
         "showticklabels": true,
         "title": {
          "text": "text_response"
         }
        },
        "xaxis4": {
         "anchor": "y4",
         "domain": [
          0,
          0.31999999999999995
         ],
         "showticklabels": true
        },
        "xaxis5": {
         "anchor": "y5",
         "domain": [
          0.33999999999999997,
          0.6599999999999999
         ],
         "showticklabels": true
        },
        "xaxis6": {
         "anchor": "y6",
         "domain": [
          0.6799999999999999,
          0.9999999999999999
         ],
         "showticklabels": true
        },
        "xaxis7": {
         "anchor": "y7",
         "domain": [
          0,
          0.31999999999999995
         ],
         "showticklabels": true
        },
        "xaxis8": {
         "anchor": "y8",
         "domain": [
          0.33999999999999997,
          0.6599999999999999
         ],
         "showticklabels": true
        },
        "xaxis9": {
         "anchor": "y9",
         "domain": [
          0.6799999999999999,
          0.9999999999999999
         ],
         "showticklabels": true
        },
        "yaxis": {
         "anchor": "x",
         "domain": [
          0,
          0.1975
         ],
         "title": {}
        },
        "yaxis10": {
         "anchor": "x10",
         "domain": [
          0.8025,
          1
         ],
         "matches": "y",
         "title": {
          "text": "count"
         }
        },
        "yaxis11": {
         "anchor": "x11",
         "domain": [
          0.8025,
          1
         ],
         "matches": "y",
         "showticklabels": false
        },
        "yaxis12": {
         "anchor": "x12",
         "domain": [
          0.8025,
          1
         ],
         "matches": "y",
         "showticklabels": false
        },
        "yaxis2": {
         "anchor": "x2",
         "domain": [
          0,
          0.1975
         ],
         "matches": "y",
         "showticklabels": false
        },
        "yaxis3": {
         "anchor": "x3",
         "domain": [
          0,
          0.1975
         ],
         "matches": "y",
         "showticklabels": false
        },
        "yaxis4": {
         "anchor": "x4",
         "domain": [
          0.2675,
          0.465
         ],
         "matches": "y",
         "title": {
          "text": "count"
         }
        },
        "yaxis5": {
         "anchor": "x5",
         "domain": [
          0.2675,
          0.465
         ],
         "matches": "y",
         "showticklabels": false
        },
        "yaxis6": {
         "anchor": "x6",
         "domain": [
          0.2675,
          0.465
         ],
         "matches": "y",
         "showticklabels": false
        },
        "yaxis7": {
         "anchor": "x7",
         "domain": [
          0.535,
          0.7325
         ],
         "matches": "y",
         "title": {
          "text": "count"
         }
        },
        "yaxis8": {
         "anchor": "x8",
         "domain": [
          0.535,
          0.7325
         ],
         "matches": "y",
         "showticklabels": false
        },
        "yaxis9": {
         "anchor": "x9",
         "domain": [
          0.535,
          0.7325
         ],
         "matches": "y",
         "showticklabels": false
        }
       }
      }
     },
     "metadata": {},
     "output_type": "display_data"
    }
   ],
   "source": [
    "\n",
    "for category in df_group2['question_category'].unique():\n",
    "# for category in ['willingness']:\n",
    "    \n",
    "    df_temp = df_group4[df_group4['question_category']==category]\n",
    "    # df_temp['question_id'] = df_temp['question_id'].str.replace('Q3.', '').astype(int)\n",
    "    # df_temp.sort_values(by=['question_id'], ascending=True, inplace=True)\n",
    "\n",
    "    fig = px.bar(\n",
    "        df_temp,\n",
    "        x='text_response',\n",
    "        y='count',\n",
    "        facet_col='question_text',\n",
    "        facet_col_wrap=3,\n",
    "        text=[f'{int(round(i, 0))}%' for i in df_temp['pct']],\n",
    "    \n",
    "    )\n",
    "\n",
    "    fig.update_xaxes(\n",
    "        showticklabels=True,\n",
    "        matches=None,\n",
    "        # tickangle=0,\n",
    "        # tickvals=[1,2,3,4,5,6,7,8],\n",
    "        # ticktext=['NW', 'SW', 'MW', 'QW', 'EW', '', 'AL', 'UN']\n",
    "    )\n",
    "\n",
    "    fig.for_each_annotation(lambda a: a.update(text=a.text.split(\"=\")[-1].strip('How willing are you to').capitalize()))\n",
    "    fig.update_layout(\n",
    "        height=800,\n",
    "        width=1200,\n",
    "        font_family='Inter',\n",
    "        font_size=14,\n",
    "        yaxis_title=None,\n",
    "        xaxis_title=None,\n",
    "    )\n",
    "    fig.show()\n",
    "\n",
    "    fig.write_image('fig_' + category + '.svg')\n"
   ]
  },
  {
   "cell_type": "code",
   "execution_count": null,
   "metadata": {},
   "outputs": [
    {
     "data": {
      "application/vnd.plotly.v1+json": {
       "config": {
        "plotlyServerURL": "https://plot.ly"
       },
       "data": [
        {
         "alignmentgroup": "True",
         "hovertemplate": "question_text=How willing are you to reduce the default length of stay for elective patients who are recovering appropriately?<br>text_response=%{x}<br>count=%{y}<br>text=%{text}<extra></extra>",
         "legendgroup": "",
         "marker": {
          "color": "#636efa",
          "pattern": {
           "shape": ""
          }
         },
         "name": "",
         "offsetgroup": "",
         "orientation": "v",
         "showlegend": false,
         "text": [
          "1%",
          "5%",
          "6%",
          "11%",
          "24%",
          "52%",
          "1%"
         ],
         "textposition": "auto",
         "type": "bar",
         "x": [
          "Not at all willing",
          "Slightly willing",
          "Moderately willing",
          "Quite willing",
          "Extremely willing",
          "I am already doing this",
          "I am unable to do this"
         ],
         "xaxis": "x10",
         "y": [
          2,
          12,
          15,
          28,
          61,
          130,
          2
         ],
         "yaxis": "y10"
        },
        {
         "alignmentgroup": "True",
         "hovertemplate": "question_text=How willing are you to see the majority of routine post-operative patients via telemedicine?<br>text_response=%{x}<br>count=%{y}<br>text=%{text}<extra></extra>",
         "legendgroup": "",
         "marker": {
          "color": "#636efa",
          "pattern": {
           "shape": ""
          }
         },
         "name": "",
         "offsetgroup": "",
         "orientation": "v",
         "showlegend": false,
         "text": [
          "8%",
          "10%",
          "14%",
          "14%",
          "23%",
          "30%",
          "1%"
         ],
         "textposition": "auto",
         "type": "bar",
         "x": [
          "Not at all willing",
          "Slightly willing",
          "Moderately willing",
          "Quite willing",
          "Extremely willing",
          "I am already doing this",
          "I am unable to do this"
         ],
         "xaxis": "x11",
         "y": [
          21,
          24,
          35,
          35,
          57,
          76,
          2
         ],
         "yaxis": "y11"
        },
        {
         "alignmentgroup": "True",
         "hovertemplate": "question_text=How willing are you to switch from a single use instrument (such as a port) to a reusable instrument?<br>text_response=%{x}<br>count=%{y}<br>text=%{text}<extra></extra>",
         "legendgroup": "",
         "marker": {
          "color": "#636efa",
          "pattern": {
           "shape": ""
          }
         },
         "name": "",
         "offsetgroup": "",
         "orientation": "v",
         "showlegend": false,
         "text": [
          "1%",
          "5%",
          "17%",
          "28%",
          "32%",
          "17%"
         ],
         "textposition": "auto",
         "type": "bar",
         "x": [
          "Not at all willing",
          "Slightly willing",
          "Moderately willing",
          "Quite willing",
          "Extremely willing",
          "I am already doing this"
         ],
         "xaxis": "x12",
         "y": [
          3,
          12,
          42,
          70,
          80,
          43
         ],
         "yaxis": "y12"
        },
        {
         "alignmentgroup": "True",
         "hovertemplate": "question_text=How willing are you to switch from a brand new (OEM) instrument (such as a Ligasure) to a reprocessed instrument?<br>text_response=%{x}<br>count=%{y}<br>text=%{text}<extra></extra>",
         "legendgroup": "",
         "marker": {
          "color": "#636efa",
          "pattern": {
           "shape": ""
          }
         },
         "name": "",
         "offsetgroup": "",
         "orientation": "v",
         "showlegend": false,
         "text": [
          "3%",
          "7%",
          "16%",
          "26%",
          "36%",
          "13%"
         ],
         "textposition": "auto",
         "type": "bar",
         "x": [
          "Not at all willing",
          "Slightly willing",
          "Moderately willing",
          "Quite willing",
          "Extremely willing",
          "I am already doing this"
         ],
         "xaxis": "x7",
         "y": [
          7,
          17,
          40,
          64,
          90,
          32
         ],
         "yaxis": "y7"
        },
        {
         "alignmentgroup": "True",
         "hovertemplate": "question_text=How willing are you to switch from a single use surgical gown to a reusable cloth surgical gown?<br>text_response=%{x}<br>count=%{y}<br>text=%{text}<extra></extra>",
         "legendgroup": "",
         "marker": {
          "color": "#636efa",
          "pattern": {
           "shape": ""
          }
         },
         "name": "",
         "offsetgroup": "",
         "orientation": "v",
         "showlegend": false,
         "text": [
          "9%",
          "7%",
          "13%",
          "20%",
          "47%",
          "4%"
         ],
         "textposition": "auto",
         "type": "bar",
         "x": [
          "Not at all willing",
          "Slightly willing",
          "Moderately willing",
          "Quite willing",
          "Extremely willing",
          "I am already doing this"
         ],
         "xaxis": "x8",
         "y": [
          22,
          18,
          32,
          50,
          117,
          11
         ],
         "yaxis": "y8"
        },
        {
         "alignmentgroup": "True",
         "hovertemplate": "question_text=How willing are you to switch from a single use surgical towels to a reusable surgical towels?<br>text_response=%{x}<br>count=%{y}<br>text=%{text}<extra></extra>",
         "legendgroup": "",
         "marker": {
          "color": "#636efa",
          "pattern": {
           "shape": ""
          }
         },
         "name": "",
         "offsetgroup": "",
         "orientation": "v",
         "showlegend": false,
         "text": [
          "4%",
          "6%",
          "10%",
          "20%",
          "51%",
          "10%"
         ],
         "textposition": "auto",
         "type": "bar",
         "x": [
          "Not at all willing",
          "Slightly willing",
          "Moderately willing",
          "Quite willing",
          "Extremely willing",
          "I am already doing this"
         ],
         "xaxis": "x9",
         "y": [
          9,
          14,
          25,
          49,
          128,
          25
         ],
         "yaxis": "y9"
        },
        {
         "alignmentgroup": "True",
         "hovertemplate": "question_text=How willing are you to reduce items on preference cards following periodic preference card review?<br>text_response=%{x}<br>count=%{y}<br>text=%{text}<extra></extra>",
         "legendgroup": "",
         "marker": {
          "color": "#636efa",
          "pattern": {
           "shape": ""
          }
         },
         "name": "",
         "offsetgroup": "",
         "orientation": "v",
         "showlegend": false,
         "text": [
          "1%",
          "1%",
          "6%",
          "24%",
          "52%",
          "16%"
         ],
         "textposition": "auto",
         "type": "bar",
         "x": [
          "Not at all willing",
          "Slightly willing",
          "Moderately willing",
          "Quite willing",
          "Extremely willing",
          "I am already doing this"
         ],
         "xaxis": "x4",
         "y": [
          3,
          2,
          15,
          60,
          131,
          39
         ],
         "yaxis": "y4"
        },
        {
         "alignmentgroup": "True",
         "hovertemplate": "question_text=How willing are you to reduce items on preference cards based on colleagues usage patterns?<br>text_response=%{x}<br>count=%{y}<br>text=%{text}<extra></extra>",
         "legendgroup": "",
         "marker": {
          "color": "#636efa",
          "pattern": {
           "shape": ""
          }
         },
         "name": "",
         "offsetgroup": "",
         "orientation": "v",
         "showlegend": false,
         "text": [
          "6%",
          "10%",
          "22%",
          "25%",
          "28%",
          "10%"
         ],
         "textposition": "auto",
         "type": "bar",
         "x": [
          "Not at all willing",
          "Slightly willing",
          "Moderately willing",
          "Quite willing",
          "Extremely willing",
          "I am already doing this"
         ],
         "xaxis": "x5",
         "y": [
          16,
          25,
          54,
          62,
          69,
          24
         ],
         "yaxis": "y5"
        },
        {
         "alignmentgroup": "True",
         "hovertemplate": "question_text=How willing are you to participate in a program where the cost and carbon footprint for each surgeon performing a particular operation is displayed?<br>text_response=%{x}<br>count=%{y}<br>text=%{text}<extra></extra>",
         "legendgroup": "",
         "marker": {
          "color": "#636efa",
          "pattern": {
           "shape": ""
          }
         },
         "name": "",
         "offsetgroup": "",
         "orientation": "v",
         "showlegend": false,
         "text": [
          "6%",
          "9%",
          "13%",
          "22%",
          "46%",
          "4%"
         ],
         "textposition": "auto",
         "type": "bar",
         "x": [
          "Not at all willing",
          "Slightly willing",
          "Moderately willing",
          "Quite willing",
          "Extremely willing",
          "I am already doing this"
         ],
         "xaxis": "x6",
         "y": [
          16,
          23,
          32,
          56,
          114,
          9
         ],
         "yaxis": "y6"
        },
        {
         "alignmentgroup": "True",
         "hovertemplate": "question_text=How willing are you transition completely from water-based to alcohol-based scrub?<br>text_response=%{x}<br>count=%{y}<br>text=%{text}<extra></extra>",
         "legendgroup": "",
         "marker": {
          "color": "#636efa",
          "pattern": {
           "shape": ""
          }
         },
         "name": "",
         "offsetgroup": "",
         "orientation": "v",
         "showlegend": false,
         "text": [
          "9%",
          "7%",
          "11%",
          "12%",
          "15%",
          "44%",
          "2%"
         ],
         "textposition": "auto",
         "type": "bar",
         "x": [
          "Not at all willing",
          "Slightly willing",
          "Moderately willing",
          "Quite willing",
          "Extremely willing",
          "I am already doing this",
          "I am unable to do this"
         ],
         "xaxis": "x",
         "y": [
          23,
          17,
          28,
          29,
          37,
          110,
          6
         ],
         "yaxis": "y"
        }
       ],
       "layout": {
        "annotations": [
         {
          "font": {},
          "showarrow": false,
          "text": "Sition completely from water-based to alcohol-based scrub?",
          "x": 0.15999999999999998,
          "xanchor": "center",
          "xref": "paper",
          "y": 0.1975,
          "yanchor": "bottom",
          "yref": "paper"
         },
         {
          "font": {},
          "showarrow": false,
          "text": "Duce items on preference cards following periodic preference card review?",
          "x": 0.15999999999999998,
          "xanchor": "center",
          "xref": "paper",
          "y": 0.465,
          "yanchor": "bottom",
          "yref": "paper"
         },
         {
          "font": {},
          "showarrow": false,
          "text": "Duce items on preference cards based on colleagues usage patterns?",
          "x": 0.49999999999999994,
          "xanchor": "center",
          "xref": "paper",
          "y": 0.465,
          "yanchor": "bottom",
          "yref": "paper"
         },
         {
          "font": {},
          "showarrow": false,
          "text": "Participate in a program where the cost and carbon footprint for each surgeon performing a particular operation is displayed?",
          "x": 0.8399999999999999,
          "xanchor": "center",
          "xref": "paper",
          "y": 0.465,
          "yanchor": "bottom",
          "yref": "paper"
         },
         {
          "font": {},
          "showarrow": false,
          "text": "Switch from a brand new (oem) instrument (such as a ligasure) to a reprocessed instrument?",
          "x": 0.15999999999999998,
          "xanchor": "center",
          "xref": "paper",
          "y": 0.7325,
          "yanchor": "bottom",
          "yref": "paper"
         },
         {
          "font": {},
          "showarrow": false,
          "text": "Switch from a single use surgical gown to a reusable cloth surgical gown?",
          "x": 0.49999999999999994,
          "xanchor": "center",
          "xref": "paper",
          "y": 0.7325,
          "yanchor": "bottom",
          "yref": "paper"
         },
         {
          "font": {},
          "showarrow": false,
          "text": "Switch from a single use surgical towels to a reusable surgical towels?",
          "x": 0.8399999999999999,
          "xanchor": "center",
          "xref": "paper",
          "y": 0.7325,
          "yanchor": "bottom",
          "yref": "paper"
         },
         {
          "font": {},
          "showarrow": false,
          "text": "Duce the default length of stay for elective patients who are recovering appropriately?",
          "x": 0.15999999999999998,
          "xanchor": "center",
          "xref": "paper",
          "y": 1,
          "yanchor": "bottom",
          "yref": "paper"
         },
         {
          "font": {},
          "showarrow": false,
          "text": "See the majority of routine post-operative patients via telemedicine?",
          "x": 0.49999999999999994,
          "xanchor": "center",
          "xref": "paper",
          "y": 1,
          "yanchor": "bottom",
          "yref": "paper"
         },
         {
          "font": {},
          "showarrow": false,
          "text": "Switch from a single use instrument (such as a port) to a reusable instrument?",
          "x": 0.8399999999999999,
          "xanchor": "center",
          "xref": "paper",
          "y": 1,
          "yanchor": "bottom",
          "yref": "paper"
         }
        ],
        "barmode": "relative",
        "font": {
         "family": "Inter",
         "size": 14
        },
        "height": 1600,
        "legend": {
         "tracegroupgap": 0
        },
        "margin": {
         "t": 60
        },
        "template": {
         "data": {
          "bar": [
           {
            "error_x": {
             "color": "#2a3f5f"
            },
            "error_y": {
             "color": "#2a3f5f"
            },
            "marker": {
             "line": {
              "color": "#E5ECF6",
              "width": 0.5
             },
             "pattern": {
              "fillmode": "overlay",
              "size": 10,
              "solidity": 0.2
             }
            },
            "type": "bar"
           }
          ],
          "barpolar": [
           {
            "marker": {
             "line": {
              "color": "#E5ECF6",
              "width": 0.5
             },
             "pattern": {
              "fillmode": "overlay",
              "size": 10,
              "solidity": 0.2
             }
            },
            "type": "barpolar"
           }
          ],
          "carpet": [
           {
            "aaxis": {
             "endlinecolor": "#2a3f5f",
             "gridcolor": "white",
             "linecolor": "white",
             "minorgridcolor": "white",
             "startlinecolor": "#2a3f5f"
            },
            "baxis": {
             "endlinecolor": "#2a3f5f",
             "gridcolor": "white",
             "linecolor": "white",
             "minorgridcolor": "white",
             "startlinecolor": "#2a3f5f"
            },
            "type": "carpet"
           }
          ],
          "choropleth": [
           {
            "colorbar": {
             "outlinewidth": 0,
             "ticks": ""
            },
            "type": "choropleth"
           }
          ],
          "contour": [
           {
            "colorbar": {
             "outlinewidth": 0,
             "ticks": ""
            },
            "colorscale": [
             [
              0,
              "#0d0887"
             ],
             [
              0.1111111111111111,
              "#46039f"
             ],
             [
              0.2222222222222222,
              "#7201a8"
             ],
             [
              0.3333333333333333,
              "#9c179e"
             ],
             [
              0.4444444444444444,
              "#bd3786"
             ],
             [
              0.5555555555555556,
              "#d8576b"
             ],
             [
              0.6666666666666666,
              "#ed7953"
             ],
             [
              0.7777777777777778,
              "#fb9f3a"
             ],
             [
              0.8888888888888888,
              "#fdca26"
             ],
             [
              1,
              "#f0f921"
             ]
            ],
            "type": "contour"
           }
          ],
          "contourcarpet": [
           {
            "colorbar": {
             "outlinewidth": 0,
             "ticks": ""
            },
            "type": "contourcarpet"
           }
          ],
          "heatmap": [
           {
            "colorbar": {
             "outlinewidth": 0,
             "ticks": ""
            },
            "colorscale": [
             [
              0,
              "#0d0887"
             ],
             [
              0.1111111111111111,
              "#46039f"
             ],
             [
              0.2222222222222222,
              "#7201a8"
             ],
             [
              0.3333333333333333,
              "#9c179e"
             ],
             [
              0.4444444444444444,
              "#bd3786"
             ],
             [
              0.5555555555555556,
              "#d8576b"
             ],
             [
              0.6666666666666666,
              "#ed7953"
             ],
             [
              0.7777777777777778,
              "#fb9f3a"
             ],
             [
              0.8888888888888888,
              "#fdca26"
             ],
             [
              1,
              "#f0f921"
             ]
            ],
            "type": "heatmap"
           }
          ],
          "heatmapgl": [
           {
            "colorbar": {
             "outlinewidth": 0,
             "ticks": ""
            },
            "colorscale": [
             [
              0,
              "#0d0887"
             ],
             [
              0.1111111111111111,
              "#46039f"
             ],
             [
              0.2222222222222222,
              "#7201a8"
             ],
             [
              0.3333333333333333,
              "#9c179e"
             ],
             [
              0.4444444444444444,
              "#bd3786"
             ],
             [
              0.5555555555555556,
              "#d8576b"
             ],
             [
              0.6666666666666666,
              "#ed7953"
             ],
             [
              0.7777777777777778,
              "#fb9f3a"
             ],
             [
              0.8888888888888888,
              "#fdca26"
             ],
             [
              1,
              "#f0f921"
             ]
            ],
            "type": "heatmapgl"
           }
          ],
          "histogram": [
           {
            "marker": {
             "pattern": {
              "fillmode": "overlay",
              "size": 10,
              "solidity": 0.2
             }
            },
            "type": "histogram"
           }
          ],
          "histogram2d": [
           {
            "colorbar": {
             "outlinewidth": 0,
             "ticks": ""
            },
            "colorscale": [
             [
              0,
              "#0d0887"
             ],
             [
              0.1111111111111111,
              "#46039f"
             ],
             [
              0.2222222222222222,
              "#7201a8"
             ],
             [
              0.3333333333333333,
              "#9c179e"
             ],
             [
              0.4444444444444444,
              "#bd3786"
             ],
             [
              0.5555555555555556,
              "#d8576b"
             ],
             [
              0.6666666666666666,
              "#ed7953"
             ],
             [
              0.7777777777777778,
              "#fb9f3a"
             ],
             [
              0.8888888888888888,
              "#fdca26"
             ],
             [
              1,
              "#f0f921"
             ]
            ],
            "type": "histogram2d"
           }
          ],
          "histogram2dcontour": [
           {
            "colorbar": {
             "outlinewidth": 0,
             "ticks": ""
            },
            "colorscale": [
             [
              0,
              "#0d0887"
             ],
             [
              0.1111111111111111,
              "#46039f"
             ],
             [
              0.2222222222222222,
              "#7201a8"
             ],
             [
              0.3333333333333333,
              "#9c179e"
             ],
             [
              0.4444444444444444,
              "#bd3786"
             ],
             [
              0.5555555555555556,
              "#d8576b"
             ],
             [
              0.6666666666666666,
              "#ed7953"
             ],
             [
              0.7777777777777778,
              "#fb9f3a"
             ],
             [
              0.8888888888888888,
              "#fdca26"
             ],
             [
              1,
              "#f0f921"
             ]
            ],
            "type": "histogram2dcontour"
           }
          ],
          "mesh3d": [
           {
            "colorbar": {
             "outlinewidth": 0,
             "ticks": ""
            },
            "type": "mesh3d"
           }
          ],
          "parcoords": [
           {
            "line": {
             "colorbar": {
              "outlinewidth": 0,
              "ticks": ""
             }
            },
            "type": "parcoords"
           }
          ],
          "pie": [
           {
            "automargin": true,
            "type": "pie"
           }
          ],
          "scatter": [
           {
            "fillpattern": {
             "fillmode": "overlay",
             "size": 10,
             "solidity": 0.2
            },
            "type": "scatter"
           }
          ],
          "scatter3d": [
           {
            "line": {
             "colorbar": {
              "outlinewidth": 0,
              "ticks": ""
             }
            },
            "marker": {
             "colorbar": {
              "outlinewidth": 0,
              "ticks": ""
             }
            },
            "type": "scatter3d"
           }
          ],
          "scattercarpet": [
           {
            "marker": {
             "colorbar": {
              "outlinewidth": 0,
              "ticks": ""
             }
            },
            "type": "scattercarpet"
           }
          ],
          "scattergeo": [
           {
            "marker": {
             "colorbar": {
              "outlinewidth": 0,
              "ticks": ""
             }
            },
            "type": "scattergeo"
           }
          ],
          "scattergl": [
           {
            "marker": {
             "colorbar": {
              "outlinewidth": 0,
              "ticks": ""
             }
            },
            "type": "scattergl"
           }
          ],
          "scattermapbox": [
           {
            "marker": {
             "colorbar": {
              "outlinewidth": 0,
              "ticks": ""
             }
            },
            "type": "scattermapbox"
           }
          ],
          "scatterpolar": [
           {
            "marker": {
             "colorbar": {
              "outlinewidth": 0,
              "ticks": ""
             }
            },
            "type": "scatterpolar"
           }
          ],
          "scatterpolargl": [
           {
            "marker": {
             "colorbar": {
              "outlinewidth": 0,
              "ticks": ""
             }
            },
            "type": "scatterpolargl"
           }
          ],
          "scatterternary": [
           {
            "marker": {
             "colorbar": {
              "outlinewidth": 0,
              "ticks": ""
             }
            },
            "type": "scatterternary"
           }
          ],
          "surface": [
           {
            "colorbar": {
             "outlinewidth": 0,
             "ticks": ""
            },
            "colorscale": [
             [
              0,
              "#0d0887"
             ],
             [
              0.1111111111111111,
              "#46039f"
             ],
             [
              0.2222222222222222,
              "#7201a8"
             ],
             [
              0.3333333333333333,
              "#9c179e"
             ],
             [
              0.4444444444444444,
              "#bd3786"
             ],
             [
              0.5555555555555556,
              "#d8576b"
             ],
             [
              0.6666666666666666,
              "#ed7953"
             ],
             [
              0.7777777777777778,
              "#fb9f3a"
             ],
             [
              0.8888888888888888,
              "#fdca26"
             ],
             [
              1,
              "#f0f921"
             ]
            ],
            "type": "surface"
           }
          ],
          "table": [
           {
            "cells": {
             "fill": {
              "color": "#EBF0F8"
             },
             "line": {
              "color": "white"
             }
            },
            "header": {
             "fill": {
              "color": "#C8D4E3"
             },
             "line": {
              "color": "white"
             }
            },
            "type": "table"
           }
          ]
         },
         "layout": {
          "annotationdefaults": {
           "arrowcolor": "#2a3f5f",
           "arrowhead": 0,
           "arrowwidth": 1
          },
          "autotypenumbers": "strict",
          "coloraxis": {
           "colorbar": {
            "outlinewidth": 0,
            "ticks": ""
           }
          },
          "colorscale": {
           "diverging": [
            [
             0,
             "#8e0152"
            ],
            [
             0.1,
             "#c51b7d"
            ],
            [
             0.2,
             "#de77ae"
            ],
            [
             0.3,
             "#f1b6da"
            ],
            [
             0.4,
             "#fde0ef"
            ],
            [
             0.5,
             "#f7f7f7"
            ],
            [
             0.6,
             "#e6f5d0"
            ],
            [
             0.7,
             "#b8e186"
            ],
            [
             0.8,
             "#7fbc41"
            ],
            [
             0.9,
             "#4d9221"
            ],
            [
             1,
             "#276419"
            ]
           ],
           "sequential": [
            [
             0,
             "#0d0887"
            ],
            [
             0.1111111111111111,
             "#46039f"
            ],
            [
             0.2222222222222222,
             "#7201a8"
            ],
            [
             0.3333333333333333,
             "#9c179e"
            ],
            [
             0.4444444444444444,
             "#bd3786"
            ],
            [
             0.5555555555555556,
             "#d8576b"
            ],
            [
             0.6666666666666666,
             "#ed7953"
            ],
            [
             0.7777777777777778,
             "#fb9f3a"
            ],
            [
             0.8888888888888888,
             "#fdca26"
            ],
            [
             1,
             "#f0f921"
            ]
           ],
           "sequentialminus": [
            [
             0,
             "#0d0887"
            ],
            [
             0.1111111111111111,
             "#46039f"
            ],
            [
             0.2222222222222222,
             "#7201a8"
            ],
            [
             0.3333333333333333,
             "#9c179e"
            ],
            [
             0.4444444444444444,
             "#bd3786"
            ],
            [
             0.5555555555555556,
             "#d8576b"
            ],
            [
             0.6666666666666666,
             "#ed7953"
            ],
            [
             0.7777777777777778,
             "#fb9f3a"
            ],
            [
             0.8888888888888888,
             "#fdca26"
            ],
            [
             1,
             "#f0f921"
            ]
           ]
          },
          "colorway": [
           "#636efa",
           "#EF553B",
           "#00cc96",
           "#ab63fa",
           "#FFA15A",
           "#19d3f3",
           "#FF6692",
           "#B6E880",
           "#FF97FF",
           "#FECB52"
          ],
          "font": {
           "color": "#2a3f5f"
          },
          "geo": {
           "bgcolor": "white",
           "lakecolor": "white",
           "landcolor": "#E5ECF6",
           "showlakes": true,
           "showland": true,
           "subunitcolor": "white"
          },
          "hoverlabel": {
           "align": "left"
          },
          "hovermode": "closest",
          "mapbox": {
           "style": "light"
          },
          "paper_bgcolor": "white",
          "plot_bgcolor": "#E5ECF6",
          "polar": {
           "angularaxis": {
            "gridcolor": "white",
            "linecolor": "white",
            "ticks": ""
           },
           "bgcolor": "#E5ECF6",
           "radialaxis": {
            "gridcolor": "white",
            "linecolor": "white",
            "ticks": ""
           }
          },
          "scene": {
           "xaxis": {
            "backgroundcolor": "#E5ECF6",
            "gridcolor": "white",
            "gridwidth": 2,
            "linecolor": "white",
            "showbackground": true,
            "ticks": "",
            "zerolinecolor": "white"
           },
           "yaxis": {
            "backgroundcolor": "#E5ECF6",
            "gridcolor": "white",
            "gridwidth": 2,
            "linecolor": "white",
            "showbackground": true,
            "ticks": "",
            "zerolinecolor": "white"
           },
           "zaxis": {
            "backgroundcolor": "#E5ECF6",
            "gridcolor": "white",
            "gridwidth": 2,
            "linecolor": "white",
            "showbackground": true,
            "ticks": "",
            "zerolinecolor": "white"
           }
          },
          "shapedefaults": {
           "line": {
            "color": "#2a3f5f"
           }
          },
          "ternary": {
           "aaxis": {
            "gridcolor": "white",
            "linecolor": "white",
            "ticks": ""
           },
           "baxis": {
            "gridcolor": "white",
            "linecolor": "white",
            "ticks": ""
           },
           "bgcolor": "#E5ECF6",
           "caxis": {
            "gridcolor": "white",
            "linecolor": "white",
            "ticks": ""
           }
          },
          "title": {
           "x": 0.05
          },
          "xaxis": {
           "automargin": true,
           "gridcolor": "white",
           "linecolor": "white",
           "ticks": "",
           "title": {
            "standoff": 15
           },
           "zerolinecolor": "white",
           "zerolinewidth": 2
          },
          "yaxis": {
           "automargin": true,
           "gridcolor": "white",
           "linecolor": "white",
           "ticks": "",
           "title": {
            "standoff": 15
           },
           "zerolinecolor": "white",
           "zerolinewidth": 2
          }
         }
        },
        "width": 1200,
        "xaxis": {
         "anchor": "y",
         "domain": [
          0,
          0.31999999999999995
         ],
         "showticklabels": true,
         "title": {}
        },
        "xaxis10": {
         "anchor": "y10",
         "domain": [
          0,
          0.31999999999999995
         ],
         "showticklabels": true
        },
        "xaxis11": {
         "anchor": "y11",
         "domain": [
          0.33999999999999997,
          0.6599999999999999
         ],
         "showticklabels": true
        },
        "xaxis12": {
         "anchor": "y12",
         "domain": [
          0.6799999999999999,
          0.9999999999999999
         ],
         "showticklabels": true
        },
        "xaxis2": {
         "anchor": "y2",
         "domain": [
          0.33999999999999997,
          0.6599999999999999
         ],
         "showticklabels": true,
         "title": {
          "text": "text_response"
         }
        },
        "xaxis3": {
         "anchor": "y3",
         "domain": [
          0.6799999999999999,
          0.9999999999999999
         ],
         "showticklabels": true,
         "title": {
          "text": "text_response"
         }
        },
        "xaxis4": {
         "anchor": "y4",
         "domain": [
          0,
          0.31999999999999995
         ],
         "showticklabels": true
        },
        "xaxis5": {
         "anchor": "y5",
         "domain": [
          0.33999999999999997,
          0.6599999999999999
         ],
         "showticklabels": true
        },
        "xaxis6": {
         "anchor": "y6",
         "domain": [
          0.6799999999999999,
          0.9999999999999999
         ],
         "showticklabels": true
        },
        "xaxis7": {
         "anchor": "y7",
         "domain": [
          0,
          0.31999999999999995
         ],
         "showticklabels": true
        },
        "xaxis8": {
         "anchor": "y8",
         "domain": [
          0.33999999999999997,
          0.6599999999999999
         ],
         "showticklabels": true
        },
        "xaxis9": {
         "anchor": "y9",
         "domain": [
          0.6799999999999999,
          0.9999999999999999
         ],
         "showticklabels": true
        },
        "yaxis": {
         "anchor": "x",
         "domain": [
          0,
          0.1975
         ],
         "title": {}
        },
        "yaxis10": {
         "anchor": "x10",
         "domain": [
          0.8025,
          1
         ],
         "matches": "y",
         "title": {
          "text": "count"
         }
        },
        "yaxis11": {
         "anchor": "x11",
         "domain": [
          0.8025,
          1
         ],
         "matches": "y",
         "showticklabels": false
        },
        "yaxis12": {
         "anchor": "x12",
         "domain": [
          0.8025,
          1
         ],
         "matches": "y",
         "showticklabels": false
        },
        "yaxis2": {
         "anchor": "x2",
         "domain": [
          0,
          0.1975
         ],
         "matches": "y",
         "showticklabels": false
        },
        "yaxis3": {
         "anchor": "x3",
         "domain": [
          0,
          0.1975
         ],
         "matches": "y",
         "showticklabels": false
        },
        "yaxis4": {
         "anchor": "x4",
         "domain": [
          0.2675,
          0.465
         ],
         "matches": "y",
         "title": {
          "text": "count"
         }
        },
        "yaxis5": {
         "anchor": "x5",
         "domain": [
          0.2675,
          0.465
         ],
         "matches": "y",
         "showticklabels": false
        },
        "yaxis6": {
         "anchor": "x6",
         "domain": [
          0.2675,
          0.465
         ],
         "matches": "y",
         "showticklabels": false
        },
        "yaxis7": {
         "anchor": "x7",
         "domain": [
          0.535,
          0.7325
         ],
         "matches": "y",
         "title": {
          "text": "count"
         }
        },
        "yaxis8": {
         "anchor": "x8",
         "domain": [
          0.535,
          0.7325
         ],
         "matches": "y",
         "showticklabels": false
        },
        "yaxis9": {
         "anchor": "x9",
         "domain": [
          0.535,
          0.7325
         ],
         "matches": "y",
         "showticklabels": false
        }
       }
      }
     },
     "metadata": {},
     "output_type": "display_data"
    }
   ],
   "source": [
    "\n",
    "for category in ['incentive']:\n",
    "# for category in ['willingness']:\n",
    "    \n",
    "    # df_temp = df_group4[df_group4['question_category']==category]\n",
    "    # df_temp['question_keyword'] = df_temp['question_keyword'].str.split(pat='_')\n",
    "    # # df_temp['new'] = df_temp['question_category'][0]\n",
    "    # print(df_temp['question_keyword'])\n",
    "\n",
    "    fig = px.bar(\n",
    "        df_temp,\n",
    "        x='text_response',\n",
    "        y='count',\n",
    "        facet_col='question_text',\n",
    "        facet_col_wrap=3,\n",
    "        text=[f'{int(round(i, 0))}%' for i in df_temp['pct']],\n",
    "    \n",
    "    )\n",
    "\n",
    "    fig.update_xaxes(\n",
    "        showticklabels=True,\n",
    "        matches=None,\n",
    "        # tickangle=0,\n",
    "        # tickvals=[1,2,3,4,5,6,7,8],\n",
    "        # ticktext=['NW', 'SW', 'MW', 'QW', 'EW', '', 'AL', 'UN']\n",
    "    )\n",
    "\n",
    "    fig.for_each_annotation(lambda a: a.update(text=a.text.split(\"=\")[-1].strip('How willing are you to').capitalize()))\n",
    "    fig.update_layout(\n",
    "        height=1600,\n",
    "        width=1200,\n",
    "        font_family='Inter',\n",
    "        font_size=14,\n",
    "        yaxis_title=None,\n",
    "        xaxis_title=None,\n",
    "    )\n",
    "    fig.show()\n",
    "\n",
    "    fig.write_image('fig_' + category + '.svg')\n"
   ]
  },
  {
   "cell_type": "code",
   "execution_count": null,
   "metadata": {},
   "outputs": [],
   "source": [
    "## concatenate df_numbers_filtered['likert_cols'] and df_choice_filtered['demo_cols'] and merge on survey_info_response_id and demographic_distribution\n",
    "\n",
    "df_new = pd.merge(df_numbers_filtered[likert_cols], df_choice_filtered[demo_cols], on = 'survey_info_response_id')\n",
    "\n",
    "## Replace 7 to 5 and 8 to 1 in df_new\n",
    "\n",
    "df_new = df_new.replace(8, 1)\n",
    "df_new = df_new.replace(7, 5)\n",
    "\n",
    "df_new.to_csv('survey_gpt_analysis.csv')"
   ]
  }
 ],
 "metadata": {
  "kernelspec": {
   "display_name": "Python 3",
   "language": "python",
   "name": "python3"
  },
  "language_info": {
   "codemirror_mode": {
    "name": "ipython",
    "version": 3
   },
   "file_extension": ".py",
   "mimetype": "text/x-python",
   "name": "python",
   "nbconvert_exporter": "python",
   "pygments_lexer": "ipython3",
   "version": "3.10.5"
  },
  "orig_nbformat": 4
 },
 "nbformat": 4,
 "nbformat_minor": 2
}
